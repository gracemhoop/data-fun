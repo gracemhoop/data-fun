{
 "cells": [
  {
   "cell_type": "code",
   "execution_count": 0,
   "metadata": {
    "application/vnd.databricks.v1+cell": {
     "cellMetadata": {
      "byteLimit": 2048000,
      "rowLimit": 10000
     },
     "inputWidgets": {},
     "nuid": "c8319ec8-0f71-4e2c-8250-f77525b28f71",
     "showTitle": false,
     "title": ""
    }
   },
   "outputs": [
    {
     "output_type": "stream",
     "name": "stdout",
     "output_type": "stream",
     "text": [
      "Spark session is active.\nSpark context is active.\n"
     ]
    }
   ],
   "source": [
    "import pandas as pd\n",
    "\n",
    "# Verify active spark session\n",
    "if 'spark' in globals():\n",
    "    print(\"Spark session is active.\")\n",
    "else:\n",
    "    print(\"Spark session is not active.\")\n",
    "\n",
    "# Verify active spark context\n",
    "if 'sc' in globals():\n",
    "    print(\"Spark context is active.\")\n",
    "else:\n",
    "    print(\"Spark context is not active.\")\n",
    "\n",
    "# Search the catalog for schema within it and for tables that have 837 or 835 in the title\n",
    "if 'spark' in globals():\n",
    "    try:\n",
    "        # Catalog\n",
    "        catalog_name = \"prd_data_platform\"\n",
    "\n",
    "        # All schemas in the catalog\n",
    "        schemas = spark.sql(f\"SHOW SCHEMAS IN {catalog_name}\").collect()\n",
    "\n",
    "        # Initialize empty list to store results from iteration\n",
    "        result = []\n",
    "\n",
    "        # Iterate through the schemas\n",
    "        # namespace, databaseName, and tableName are from Spark, not user defined\n",
    "        for schema in schemas:\n",
    "            schema_name = schema['namespace'] if 'namespace' in schema else schema['databaseName']\n",
    "            \n",
    "            # Get all tables in the schema\n",
    "            try:\n",
    "                tables = spark.sql(f\"SHOW TABLES IN {catalog_name}.{schema_name}\").collect()\n",
    "\n",
    "                # Check for tables containing '835' or '837' in their names by using the output\n",
    "                # from the tables SQL query above and iterating through the names\n",
    "                for table in tables:\n",
    "                    table_name = table['tableName']\n",
    "                    # Add the results to the empty result list and continue to do so\n",
    "                    # as matches are found \n",
    "                    if '835' in table_name or '837' in table_name:\n",
    "                        result.append((schema_name, table_name))\n",
    "\n",
    "            # Debugging\n",
    "            except Exception as e:\n",
    "                print(f\"Error processing schema {schema_name}: {e}\")\n",
    "\n",
    "        # Create pandas df which will be used later to join tables\n",
    "        if result:\n",
    "            df = pd.DataFrame(result, columns=['Schema', 'Table'])\n",
    "            # display(df)\n",
    "        else:\n",
    "            print(\"No tables containing '835' or '837' found in any schema.\")\n",
    "\n",
    "    # Debugging\n",
    "    except Exception as e:\n",
    "        print(f\"An error occurred: {e}\")\n",
    "\n",
    "# If the above condition is not met then the spark session is not active and this message will \n",
    "# be the output\n",
    "else:\n",
    "    print(\"Spark session is not active. Please ensure you are running this in a Databricks notebook with an active Spark session.\")"
   ]
  },
  {
   "cell_type": "code",
   "execution_count": 0,
   "metadata": {
    "application/vnd.databricks.v1+cell": {
     "cellMetadata": {
      "byteLimit": 2048000,
      "rowLimit": 10000
     },
     "inputWidgets": {},
     "nuid": "aa39f0e8-e3ef-4941-b47b-7c0e8ebe7952",
     "showTitle": false,
     "title": ""
    }
   },
   "outputs": [
    {
     "output_type": "stream",
     "name": "stdout",
     "output_type": "stream",
     "text": [
      "Data has been successfully split and tables have been created in Databricks.\nNew columns identifying table type has been successfully added to the ingested and standardized tables\n"
     ]
    },
    {
     "output_type": "stream",
     "name": "stderr",
     "output_type": "stream",
     "text": [
      "/root/.ipykernel/859/command-4164437518403309-2268576387:29: SettingWithCopyWarning: \nA value is trying to be set on a copy of a slice from a DataFrame.\nTry using .loc[row_indexer,col_indexer] = value instead\n\nSee the caveats in the documentation: https://pandas.pydata.org/pandas-docs/stable/user_guide/indexing.html#returning-a-view-versus-a-copy\n  ingested_df['Table Type Ingested'] = ingested_df['Table'].apply(determine_value)\n/root/.ipykernel/859/command-4164437518403309-2268576387:30: SettingWithCopyWarning: \nA value is trying to be set on a copy of a slice from a DataFrame.\nTry using .loc[row_indexer,col_indexer] = value instead\n\nSee the caveats in the documentation: https://pandas.pydata.org/pandas-docs/stable/user_guide/indexing.html#returning-a-view-versus-a-copy\n  ingested_df['Base Schema'] = ingested_df['Schema'].str.split('__').str[0]\n/root/.ipykernel/859/command-4164437518403309-2268576387:36: SettingWithCopyWarning: \nA value is trying to be set on a copy of a slice from a DataFrame.\nTry using .loc[row_indexer,col_indexer] = value instead\n\nSee the caveats in the documentation: https://pandas.pydata.org/pandas-docs/stable/user_guide/indexing.html#returning-a-view-versus-a-copy\n  standardized_df['Table Type Standardized'] = standardized_df['Table'].apply(determine_value)\n"
     ]
    },
    {
     "output_type": "display_data",
     "data": {
      "text/html": [
       "<style scoped>\n",
       "  .table-result-container {\n",
       "    max-height: 300px;\n",
       "    overflow: auto;\n",
       "  }\n",
       "  table, th, td {\n",
       "    border: 1px solid black;\n",
       "    border-collapse: collapse;\n",
       "  }\n",
       "  th, td {\n",
       "    padding: 5px;\n",
       "  }\n",
       "  th {\n",
       "    text-align: left;\n",
       "  }\n",
       "</style><div class='table-result-container'><table class='table-result'><thead style='background-color: white'><tr><th>Schema</th><th>Table</th><th>Table Type Standardized</th></tr></thead><tbody><tr><td>allina_health_siaw__claims__standardized</td><td>837__claims_account_crosswalk__history</td><td>837</td></tr><tr><td>allina_health_siaw__claims__standardized</td><td>837__claims_billing_provider__history</td><td>837</td></tr><tr><td>allina_health_siaw__claims__standardized</td><td>837__claims_claim__history</td><td>837</td></tr><tr><td>allina_health_siaw__claims__standardized</td><td>837__claims_meta_data__history</td><td>837</td></tr><tr><td>allina_health_siaw__claims__standardized</td><td>837__claims_physician__history</td><td>837</td></tr><tr><td>allina_health_siaw__claims__standardized</td><td>837__claims_service_line__history</td><td>837</td></tr><tr><td>allina_health_siaw__claims__standardized</td><td>837__claims_subscriber__history</td><td>837</td></tr><tr><td>allina_health_siaw__claims__standardized</td><td>claims_account_crosswalk_837__history</td><td>837</td></tr><tr><td>allina_health_siaw__claims__standardized</td><td>claims_billing_provider_837__history</td><td>837</td></tr><tr><td>allina_health_siaw__claims__standardized</td><td>claims_claim_837__history</td><td>837</td></tr><tr><td>allina_health_siaw__claims__standardized</td><td>claims_meta_data_837__history</td><td>837</td></tr><tr><td>allina_health_siaw__claims__standardized</td><td>claims_physician_837__history</td><td>837</td></tr><tr><td>allina_health_siaw__claims__standardized</td><td>claims_service_line_837__history</td><td>837</td></tr><tr><td>allina_health_siaw__claims__standardized</td><td>claims_subscriber_837__history</td><td>837</td></tr><tr><td>allina_health_siaw__claims__standardized</td><td>vw_837__claims_billing_provider__history</td><td>837</td></tr><tr><td>allina_health_siaw__claims__standardized</td><td>vw_837__claims_billing_provider__latest</td><td>837</td></tr><tr><td>allina_health_siaw__claims__standardized</td><td>vw_837__claims_claim__history</td><td>837</td></tr><tr><td>allina_health_siaw__claims__standardized</td><td>vw_837__claims_claim__latest</td><td>837</td></tr><tr><td>allina_health_siaw__claims__standardized</td><td>vw_837__claims_meta_data__history</td><td>837</td></tr><tr><td>allina_health_siaw__claims__standardized</td><td>vw_837__claims_meta_data__latest</td><td>837</td></tr><tr><td>allina_health_siaw__claims__standardized</td><td>vw_837__claims_physician__history</td><td>837</td></tr><tr><td>allina_health_siaw__claims__standardized</td><td>vw_837__claims_physician__latest</td><td>837</td></tr><tr><td>allina_health_siaw__claims__standardized</td><td>vw_837__claims_service_line__history</td><td>837</td></tr><tr><td>allina_health_siaw__claims__standardized</td><td>vw_837__claims_service_line__latest</td><td>837</td></tr><tr><td>allina_health_siaw__claims__standardized</td><td>vw_837__claims_subscriber__history</td><td>837</td></tr><tr><td>allina_health_siaw__claims__standardized</td><td>vw_837__claims_subscriber__latest</td><td>837</td></tr><tr><td>allina_health_siaw__claims__standardized</td><td>vw_claims_billing_provider_837__history</td><td>837</td></tr><tr><td>allina_health_siaw__claims__standardized</td><td>vw_claims_billing_provider_837__latest</td><td>837</td></tr><tr><td>allina_health_siaw__claims__standardized</td><td>vw_claims_claim_837__history</td><td>837</td></tr><tr><td>allina_health_siaw__claims__standardized</td><td>vw_claims_claim_837__latest</td><td>837</td></tr><tr><td>allina_health_siaw__claims__standardized</td><td>vw_claims_meta_data_837__history</td><td>837</td></tr><tr><td>allina_health_siaw__claims__standardized</td><td>vw_claims_meta_data_837__latest</td><td>837</td></tr><tr><td>allina_health_siaw__claims__standardized</td><td>vw_claims_physician_837__history</td><td>837</td></tr><tr><td>allina_health_siaw__claims__standardized</td><td>vw_claims_physician_837__latest</td><td>837</td></tr><tr><td>allina_health_siaw__claims__standardized</td><td>vw_claims_service_line_837__history</td><td>837</td></tr><tr><td>allina_health_siaw__claims__standardized</td><td>vw_claims_service_line_837__latest</td><td>837</td></tr><tr><td>allina_health_siaw__claims__standardized</td><td>vw_claims_subscriber_837__history</td><td>837</td></tr><tr><td>allina_health_siaw__claims__standardized</td><td>vw_claims_subscriber_837__latest</td><td>837</td></tr><tr><td>ascension_health_riaw__claims__standardized</td><td>835__claims_account_crosswalk__history</td><td>835</td></tr><tr><td>ascension_health_riaw__claims__standardized</td><td>835__claims_advice_billing_provider__history</td><td>835</td></tr><tr><td>ascension_health_riaw__claims__standardized</td><td>835__claims_advice_claim_line_adjustment__history</td><td>835</td></tr><tr><td>ascension_health_riaw__claims__standardized</td><td>835__claims_advice_meta_data__history</td><td>835</td></tr><tr><td>ascension_health_riaw__claims__standardized</td><td>835__claims_advice_payment__history</td><td>835</td></tr><tr><td>ascension_health_riaw__claims__standardized</td><td>835__claims_advice_payment_overview__history</td><td>835</td></tr><tr><td>ascension_health_riaw__claims__standardized</td><td>835__claims_advice_subscriber__history</td><td>835</td></tr><tr><td>ascension_health_riaw__claims__standardized</td><td>837__claims_account_crosswalk__history</td><td>837</td></tr><tr><td>ascension_health_riaw__claims__standardized</td><td>837__claims_billing_provider__history</td><td>837</td></tr><tr><td>ascension_health_riaw__claims__standardized</td><td>837__claims_claim__history</td><td>837</td></tr><tr><td>ascension_health_riaw__claims__standardized</td><td>837__claims_meta_data__history</td><td>837</td></tr><tr><td>ascension_health_riaw__claims__standardized</td><td>837__claims_physician__history</td><td>837</td></tr><tr><td>ascension_health_riaw__claims__standardized</td><td>837__claims_service_line__history</td><td>837</td></tr><tr><td>ascension_health_riaw__claims__standardized</td><td>837__claims_subscriber__history</td><td>837</td></tr><tr><td>ascension_health_riaw__claims__standardized</td><td>claims_account_crosswalk_837__history</td><td>837</td></tr><tr><td>ascension_health_riaw__claims__standardized</td><td>claims_billing_provider_837__history</td><td>837</td></tr><tr><td>ascension_health_riaw__claims__standardized</td><td>claims_claim_837__history</td><td>837</td></tr><tr><td>ascension_health_riaw__claims__standardized</td><td>claims_meta_data_837__history</td><td>837</td></tr><tr><td>ascension_health_riaw__claims__standardized</td><td>claims_physician_837__history</td><td>837</td></tr><tr><td>ascension_health_riaw__claims__standardized</td><td>claims_service_line_837__history</td><td>837</td></tr><tr><td>ascension_health_riaw__claims__standardized</td><td>claims_subscriber_837__history</td><td>837</td></tr><tr><td>ascension_health_riaw__claims__standardized</td><td>vw_837__claims_billing_provider__history</td><td>837</td></tr><tr><td>ascension_health_riaw__claims__standardized</td><td>vw_837__claims_billing_provider__latest</td><td>837</td></tr><tr><td>ascension_health_riaw__claims__standardized</td><td>vw_837__claims_claim__history</td><td>837</td></tr><tr><td>ascension_health_riaw__claims__standardized</td><td>vw_837__claims_claim__latest</td><td>837</td></tr><tr><td>ascension_health_riaw__claims__standardized</td><td>vw_837__claims_meta_data__history</td><td>837</td></tr><tr><td>ascension_health_riaw__claims__standardized</td><td>vw_837__claims_meta_data__latest</td><td>837</td></tr><tr><td>ascension_health_riaw__claims__standardized</td><td>vw_837__claims_physician__history</td><td>837</td></tr><tr><td>ascension_health_riaw__claims__standardized</td><td>vw_837__claims_physician__latest</td><td>837</td></tr><tr><td>ascension_health_riaw__claims__standardized</td><td>vw_837__claims_service_line__history</td><td>837</td></tr><tr><td>ascension_health_riaw__claims__standardized</td><td>vw_837__claims_service_line__latest</td><td>837</td></tr><tr><td>ascension_health_riaw__claims__standardized</td><td>vw_837__claims_subscriber__history</td><td>837</td></tr><tr><td>ascension_health_riaw__claims__standardized</td><td>vw_837__claims_subscriber__latest</td><td>837</td></tr><tr><td>ascension_health_riaw__claims__standardized</td><td>vw_claims_billing_provider_837__history</td><td>837</td></tr><tr><td>ascension_health_riaw__claims__standardized</td><td>vw_claims_billing_provider_837__latest</td><td>837</td></tr><tr><td>ascension_health_riaw__claims__standardized</td><td>vw_claims_claim_837__history</td><td>837</td></tr><tr><td>ascension_health_riaw__claims__standardized</td><td>vw_claims_claim_837__latest</td><td>837</td></tr><tr><td>ascension_health_riaw__claims__standardized</td><td>vw_claims_meta_data_837__history</td><td>837</td></tr><tr><td>ascension_health_riaw__claims__standardized</td><td>vw_claims_meta_data_837__latest</td><td>837</td></tr><tr><td>ascension_health_riaw__claims__standardized</td><td>vw_claims_physician_837__history</td><td>837</td></tr><tr><td>ascension_health_riaw__claims__standardized</td><td>vw_claims_physician_837__latest</td><td>837</td></tr><tr><td>ascension_health_riaw__claims__standardized</td><td>vw_claims_service_line_837__history</td><td>837</td></tr><tr><td>ascension_health_riaw__claims__standardized</td><td>vw_claims_service_line_837__latest</td><td>837</td></tr><tr><td>ascension_health_riaw__claims__standardized</td><td>vw_claims_subscriber_837__history</td><td>837</td></tr><tr><td>ascension_health_riaw__claims__standardized</td><td>vw_claims_subscriber_837__latest</td><td>837</td></tr><tr><td>aspirus_system_qiag__claims__standardized</td><td>837__claims_account_crosswalk__history</td><td>837</td></tr><tr><td>aspirus_system_qiag__claims__standardized</td><td>837__claims_billing_provider__history</td><td>837</td></tr><tr><td>aspirus_system_qiag__claims__standardized</td><td>837__claims_claim__history</td><td>837</td></tr><tr><td>aspirus_system_qiag__claims__standardized</td><td>837__claims_meta_data__history</td><td>837</td></tr><tr><td>aspirus_system_qiag__claims__standardized</td><td>837__claims_physician__history</td><td>837</td></tr><tr><td>aspirus_system_qiag__claims__standardized</td><td>837__claims_service_line__history</td><td>837</td></tr><tr><td>aspirus_system_qiag__claims__standardized</td><td>837__claims_subscriber__history</td><td>837</td></tr><tr><td>aspirus_system_qiag__claims__standardized</td><td>claims_account_crosswalk_837__history</td><td>837</td></tr><tr><td>aspirus_system_qiag__claims__standardized</td><td>claims_billing_provider_837__history</td><td>837</td></tr><tr><td>aspirus_system_qiag__claims__standardized</td><td>claims_claim_837__history</td><td>837</td></tr><tr><td>aspirus_system_qiag__claims__standardized</td><td>claims_meta_data_837__history</td><td>837</td></tr><tr><td>aspirus_system_qiag__claims__standardized</td><td>claims_physician_837__history</td><td>837</td></tr><tr><td>aspirus_system_qiag__claims__standardized</td><td>claims_service_line_837__history</td><td>837</td></tr><tr><td>aspirus_system_qiag__claims__standardized</td><td>claims_subscriber_837__history</td><td>837</td></tr><tr><td>aspirus_system_qiag__claims__standardized</td><td>vw_837__claims_billing_provider__history</td><td>837</td></tr><tr><td>aspirus_system_qiag__claims__standardized</td><td>vw_837__claims_billing_provider__latest</td><td>837</td></tr><tr><td>aspirus_system_qiag__claims__standardized</td><td>vw_837__claims_claim__history</td><td>837</td></tr><tr><td>aspirus_system_qiag__claims__standardized</td><td>vw_837__claims_claim__latest</td><td>837</td></tr><tr><td>aspirus_system_qiag__claims__standardized</td><td>vw_837__claims_meta_data__history</td><td>837</td></tr><tr><td>aspirus_system_qiag__claims__standardized</td><td>vw_837__claims_meta_data__latest</td><td>837</td></tr><tr><td>aspirus_system_qiag__claims__standardized</td><td>vw_837__claims_physician__history</td><td>837</td></tr><tr><td>aspirus_system_qiag__claims__standardized</td><td>vw_837__claims_physician__latest</td><td>837</td></tr><tr><td>aspirus_system_qiag__claims__standardized</td><td>vw_837__claims_service_line__history</td><td>837</td></tr><tr><td>aspirus_system_qiag__claims__standardized</td><td>vw_837__claims_service_line__latest</td><td>837</td></tr><tr><td>aspirus_system_qiag__claims__standardized</td><td>vw_837__claims_subscriber__history</td><td>837</td></tr><tr><td>aspirus_system_qiag__claims__standardized</td><td>vw_837__claims_subscriber__latest</td><td>837</td></tr><tr><td>aspirus_system_qiag__claims__standardized</td><td>vw_claims_billing_provider_837__history</td><td>837</td></tr><tr><td>aspirus_system_qiag__claims__standardized</td><td>vw_claims_billing_provider_837__latest</td><td>837</td></tr><tr><td>aspirus_system_qiag__claims__standardized</td><td>vw_claims_claim_837__history</td><td>837</td></tr><tr><td>aspirus_system_qiag__claims__standardized</td><td>vw_claims_claim_837__latest</td><td>837</td></tr><tr><td>aspirus_system_qiag__claims__standardized</td><td>vw_claims_meta_data_837__history</td><td>837</td></tr><tr><td>aspirus_system_qiag__claims__standardized</td><td>vw_claims_meta_data_837__latest</td><td>837</td></tr><tr><td>aspirus_system_qiag__claims__standardized</td><td>vw_claims_physician_837__history</td><td>837</td></tr><tr><td>aspirus_system_qiag__claims__standardized</td><td>vw_claims_physician_837__latest</td><td>837</td></tr><tr><td>aspirus_system_qiag__claims__standardized</td><td>vw_claims_service_line_837__history</td><td>837</td></tr><tr><td>aspirus_system_qiag__claims__standardized</td><td>vw_claims_service_line_837__latest</td><td>837</td></tr><tr><td>aspirus_system_qiag__claims__standardized</td><td>vw_claims_subscriber_837__history</td><td>837</td></tr><tr><td>aspirus_system_qiag__claims__standardized</td><td>vw_claims_subscriber_837__latest</td><td>837</td></tr><tr><td>avera_health_qiag__claims__standardized</td><td>837__claims_account_crosswalk__history</td><td>837</td></tr><tr><td>avera_health_qiag__claims__standardized</td><td>837__claims_billing_provider__history</td><td>837</td></tr><tr><td>avera_health_qiag__claims__standardized</td><td>837__claims_claim__history</td><td>837</td></tr><tr><td>avera_health_qiag__claims__standardized</td><td>837__claims_meta_data__history</td><td>837</td></tr><tr><td>avera_health_qiag__claims__standardized</td><td>837__claims_physician__history</td><td>837</td></tr><tr><td>avera_health_qiag__claims__standardized</td><td>837__claims_service_line__history</td><td>837</td></tr><tr><td>avera_health_qiag__claims__standardized</td><td>837__claims_subscriber__history</td><td>837</td></tr><tr><td>avera_health_qiag__claims__standardized</td><td>vw_837__claims_billing_provider__history</td><td>837</td></tr><tr><td>avera_health_qiag__claims__standardized</td><td>vw_837__claims_billing_provider__latest</td><td>837</td></tr><tr><td>avera_health_qiag__claims__standardized</td><td>vw_837__claims_claim__history</td><td>837</td></tr><tr><td>avera_health_qiag__claims__standardized</td><td>vw_837__claims_claim__latest</td><td>837</td></tr><tr><td>avera_health_qiag__claims__standardized</td><td>vw_837__claims_meta_data__history</td><td>837</td></tr><tr><td>avera_health_qiag__claims__standardized</td><td>vw_837__claims_meta_data__latest</td><td>837</td></tr><tr><td>avera_health_qiag__claims__standardized</td><td>vw_837__claims_physician__history</td><td>837</td></tr><tr><td>avera_health_qiag__claims__standardized</td><td>vw_837__claims_physician__latest</td><td>837</td></tr><tr><td>avera_health_qiag__claims__standardized</td><td>vw_837__claims_service_line__history</td><td>837</td></tr><tr><td>avera_health_qiag__claims__standardized</td><td>vw_837__claims_service_line__latest</td><td>837</td></tr><tr><td>avera_health_qiag__claims__standardized</td><td>vw_837__claims_subscriber__history</td><td>837</td></tr><tr><td>avera_health_qiag__claims__standardized</td><td>vw_837__claims_subscriber__latest</td><td>837</td></tr><tr><td>banner_health_riag__claims__standardized</td><td>837__claims_account_crosswalk__history</td><td>837</td></tr><tr><td>banner_health_riag__claims__standardized</td><td>837__claims_account_crosswalk__latest</td><td>837</td></tr><tr><td>banner_health_riag__claims__standardized</td><td>837__claims_billing_provider__history</td><td>837</td></tr><tr><td>banner_health_riag__claims__standardized</td><td>837__claims_billing_provider__latest</td><td>837</td></tr><tr><td>banner_health_riag__claims__standardized</td><td>837__claims_claim__history</td><td>837</td></tr><tr><td>banner_health_riag__claims__standardized</td><td>837__claims_claim__latest</td><td>837</td></tr><tr><td>banner_health_riag__claims__standardized</td><td>837__claims_meta_data__history</td><td>837</td></tr><tr><td>banner_health_riag__claims__standardized</td><td>837__claims_meta_data__latest</td><td>837</td></tr><tr><td>banner_health_riag__claims__standardized</td><td>837__claims_physician__history</td><td>837</td></tr><tr><td>banner_health_riag__claims__standardized</td><td>837__claims_physician__latest</td><td>837</td></tr><tr><td>banner_health_riag__claims__standardized</td><td>837__claims_service_line__history</td><td>837</td></tr><tr><td>banner_health_riag__claims__standardized</td><td>837__claims_service_line__latest</td><td>837</td></tr><tr><td>banner_health_riag__claims__standardized</td><td>837__claims_subscriber__history</td><td>837</td></tr><tr><td>banner_health_riag__claims__standardized</td><td>837__claims_subscriber__latest</td><td>837</td></tr><tr><td>banner_health_riag__claims__standardized</td><td>claims_account_crosswalk_837__history</td><td>837</td></tr><tr><td>banner_health_riag__claims__standardized</td><td>claims_billing_provider_837__history</td><td>837</td></tr><tr><td>banner_health_riag__claims__standardized</td><td>claims_claim_837__history</td><td>837</td></tr><tr><td>banner_health_riag__claims__standardized</td><td>claims_meta_data_837__history</td><td>837</td></tr><tr><td>banner_health_riag__claims__standardized</td><td>claims_physician_837__history</td><td>837</td></tr><tr><td>banner_health_riag__claims__standardized</td><td>claims_service_line_837__history</td><td>837</td></tr><tr><td>banner_health_riag__claims__standardized</td><td>claims_subscriber_837__history</td><td>837</td></tr><tr><td>banner_health_riag__claims__standardized</td><td>vw_837__claims_billing_provider__history</td><td>837</td></tr><tr><td>banner_health_riag__claims__standardized</td><td>vw_837__claims_billing_provider__latest</td><td>837</td></tr><tr><td>banner_health_riag__claims__standardized</td><td>vw_837__claims_claim__history</td><td>837</td></tr><tr><td>banner_health_riag__claims__standardized</td><td>vw_837__claims_claim__latest</td><td>837</td></tr><tr><td>banner_health_riag__claims__standardized</td><td>vw_837__claims_meta_data__history</td><td>837</td></tr><tr><td>banner_health_riag__claims__standardized</td><td>vw_837__claims_meta_data__latest</td><td>837</td></tr><tr><td>banner_health_riag__claims__standardized</td><td>vw_837__claims_physician__history</td><td>837</td></tr><tr><td>banner_health_riag__claims__standardized</td><td>vw_837__claims_physician__latest</td><td>837</td></tr><tr><td>banner_health_riag__claims__standardized</td><td>vw_837__claims_service_line__history</td><td>837</td></tr><tr><td>banner_health_riag__claims__standardized</td><td>vw_837__claims_service_line__latest</td><td>837</td></tr><tr><td>banner_health_riag__claims__standardized</td><td>vw_837__claims_subscriber__history</td><td>837</td></tr><tr><td>banner_health_riag__claims__standardized</td><td>vw_837__claims_subscriber__latest</td><td>837</td></tr><tr><td>banner_health_riag__claims__standardized</td><td>vw_claims_billing_provider_837__history</td><td>837</td></tr><tr><td>banner_health_riag__claims__standardized</td><td>vw_claims_billing_provider_837__latest</td><td>837</td></tr><tr><td>banner_health_riag__claims__standardized</td><td>vw_claims_claim_837__history</td><td>837</td></tr><tr><td>banner_health_riag__claims__standardized</td><td>vw_claims_claim_837__latest</td><td>837</td></tr><tr><td>banner_health_riag__claims__standardized</td><td>vw_claims_meta_data_837__history</td><td>837</td></tr><tr><td>banner_health_riag__claims__standardized</td><td>vw_claims_meta_data_837__latest</td><td>837</td></tr><tr><td>banner_health_riag__claims__standardized</td><td>vw_claims_physician_837__history</td><td>837</td></tr><tr><td>banner_health_riag__claims__standardized</td><td>vw_claims_physician_837__latest</td><td>837</td></tr><tr><td>banner_health_riag__claims__standardized</td><td>vw_claims_service_line_837__history</td><td>837</td></tr><tr><td>banner_health_riag__claims__standardized</td><td>vw_claims_service_line_837__latest</td><td>837</td></tr><tr><td>banner_health_riag__claims__standardized</td><td>vw_claims_subscriber_837__history</td><td>837</td></tr><tr><td>banner_health_riag__claims__standardized</td><td>vw_claims_subscriber_837__latest</td><td>837</td></tr><tr><td>baptist_health_giaw__claims__standardized</td><td>837__claims_account_crosswalk__history</td><td>837</td></tr><tr><td>baptist_health_giaw__claims__standardized</td><td>837__claims_account_crosswalk__latest</td><td>837</td></tr><tr><td>baptist_health_giaw__claims__standardized</td><td>837__claims_billing_provider__history</td><td>837</td></tr><tr><td>baptist_health_giaw__claims__standardized</td><td>837__claims_billing_provider__latest</td><td>837</td></tr><tr><td>baptist_health_giaw__claims__standardized</td><td>837__claims_claim__history</td><td>837</td></tr><tr><td>baptist_health_giaw__claims__standardized</td><td>837__claims_claim__latest</td><td>837</td></tr><tr><td>baptist_health_giaw__claims__standardized</td><td>837__claims_meta_data__history</td><td>837</td></tr><tr><td>baptist_health_giaw__claims__standardized</td><td>837__claims_meta_data__latest</td><td>837</td></tr><tr><td>baptist_health_giaw__claims__standardized</td><td>837__claims_physician__history</td><td>837</td></tr><tr><td>baptist_health_giaw__claims__standardized</td><td>837__claims_physician__latest</td><td>837</td></tr><tr><td>baptist_health_giaw__claims__standardized</td><td>837__claims_service_line__history</td><td>837</td></tr><tr><td>baptist_health_giaw__claims__standardized</td><td>837__claims_service_line__latest</td><td>837</td></tr><tr><td>baptist_health_giaw__claims__standardized</td><td>837__claims_subscriber__history</td><td>837</td></tr><tr><td>baptist_health_giaw__claims__standardized</td><td>837__claims_subscriber__latest</td><td>837</td></tr><tr><td>baptist_health_giaw__claims__standardized</td><td>claims_account_crosswalk_837__history</td><td>837</td></tr><tr><td>baptist_health_giaw__claims__standardized</td><td>claims_billing_provider_837__history</td><td>837</td></tr><tr><td>baptist_health_giaw__claims__standardized</td><td>claims_claim_837__history</td><td>837</td></tr><tr><td>baptist_health_giaw__claims__standardized</td><td>claims_meta_data_837__history</td><td>837</td></tr><tr><td>baptist_health_giaw__claims__standardized</td><td>claims_physician_837__history</td><td>837</td></tr><tr><td>baptist_health_giaw__claims__standardized</td><td>claims_service_line_837__history</td><td>837</td></tr><tr><td>baptist_health_giaw__claims__standardized</td><td>claims_subscriber_837__history</td><td>837</td></tr><tr><td>baptist_health_giaw__claims__standardized</td><td>vw_837__claims_billing_provider__history</td><td>837</td></tr><tr><td>baptist_health_giaw__claims__standardized</td><td>vw_837__claims_billing_provider__latest</td><td>837</td></tr><tr><td>baptist_health_giaw__claims__standardized</td><td>vw_837__claims_claim__history</td><td>837</td></tr><tr><td>baptist_health_giaw__claims__standardized</td><td>vw_837__claims_claim__latest</td><td>837</td></tr><tr><td>baptist_health_giaw__claims__standardized</td><td>vw_837__claims_meta_data__history</td><td>837</td></tr><tr><td>baptist_health_giaw__claims__standardized</td><td>vw_837__claims_meta_data__latest</td><td>837</td></tr><tr><td>baptist_health_giaw__claims__standardized</td><td>vw_837__claims_physician__history</td><td>837</td></tr><tr><td>baptist_health_giaw__claims__standardized</td><td>vw_837__claims_physician__latest</td><td>837</td></tr><tr><td>baptist_health_giaw__claims__standardized</td><td>vw_837__claims_service_line__history</td><td>837</td></tr><tr><td>baptist_health_giaw__claims__standardized</td><td>vw_837__claims_service_line__latest</td><td>837</td></tr><tr><td>baptist_health_giaw__claims__standardized</td><td>vw_837__claims_subscriber__history</td><td>837</td></tr><tr><td>baptist_health_giaw__claims__standardized</td><td>vw_837__claims_subscriber__latest</td><td>837</td></tr><tr><td>baptist_health_giaw__claims__standardized</td><td>vw_claims_billing_provider_837__history</td><td>837</td></tr><tr><td>baptist_health_giaw__claims__standardized</td><td>vw_claims_billing_provider_837__latest</td><td>837</td></tr><tr><td>baptist_health_giaw__claims__standardized</td><td>vw_claims_claim_837__history</td><td>837</td></tr><tr><td>baptist_health_giaw__claims__standardized</td><td>vw_claims_claim_837__latest</td><td>837</td></tr><tr><td>baptist_health_giaw__claims__standardized</td><td>vw_claims_meta_data_837__history</td><td>837</td></tr><tr><td>baptist_health_giaw__claims__standardized</td><td>vw_claims_meta_data_837__latest</td><td>837</td></tr><tr><td>baptist_health_giaw__claims__standardized</td><td>vw_claims_physician_837__history</td><td>837</td></tr><tr><td>baptist_health_giaw__claims__standardized</td><td>vw_claims_physician_837__latest</td><td>837</td></tr><tr><td>baptist_health_giaw__claims__standardized</td><td>vw_claims_service_line_837__history</td><td>837</td></tr><tr><td>baptist_health_giaw__claims__standardized</td><td>vw_claims_service_line_837__latest</td><td>837</td></tr><tr><td>baptist_health_giaw__claims__standardized</td><td>vw_claims_subscriber_837__history</td><td>837</td></tr><tr><td>baptist_health_giaw__claims__standardized</td><td>vw_claims_subscriber_837__latest</td><td>837</td></tr><tr><td>baylor_scott_white_health_uiag__claims__standardized</td><td>837__claims_account_crosswalk__history</td><td>837</td></tr><tr><td>baylor_scott_white_health_uiag__claims__standardized</td><td>837__claims_billing_provider__history</td><td>837</td></tr><tr><td>baylor_scott_white_health_uiag__claims__standardized</td><td>837__claims_claim__history</td><td>837</td></tr><tr><td>baylor_scott_white_health_uiag__claims__standardized</td><td>837__claims_meta_data__history</td><td>837</td></tr><tr><td>baylor_scott_white_health_uiag__claims__standardized</td><td>837__claims_physician__history</td><td>837</td></tr><tr><td>baylor_scott_white_health_uiag__claims__standardized</td><td>837__claims_service_line__history</td><td>837</td></tr><tr><td>baylor_scott_white_health_uiag__claims__standardized</td><td>837__claims_subscriber__history</td><td>837</td></tr><tr><td>baylor_scott_white_health_uiag__claims__standardized</td><td>claims_account_crosswalk_837__history</td><td>837</td></tr><tr><td>baylor_scott_white_health_uiag__claims__standardized</td><td>claims_billing_provider_837__history</td><td>837</td></tr><tr><td>baylor_scott_white_health_uiag__claims__standardized</td><td>claims_claim_837__history</td><td>837</td></tr><tr><td>baylor_scott_white_health_uiag__claims__standardized</td><td>claims_meta_data_837__history</td><td>837</td></tr><tr><td>baylor_scott_white_health_uiag__claims__standardized</td><td>claims_physician_837__history</td><td>837</td></tr><tr><td>baylor_scott_white_health_uiag__claims__standardized</td><td>claims_service_line_837__history</td><td>837</td></tr><tr><td>baylor_scott_white_health_uiag__claims__standardized</td><td>claims_subscriber_837__history</td><td>837</td></tr><tr><td>baylor_scott_white_health_uiag__claims__standardized</td><td>vw_837__claims_billing_provider__history</td><td>837</td></tr><tr><td>baylor_scott_white_health_uiag__claims__standardized</td><td>vw_837__claims_billing_provider__latest</td><td>837</td></tr><tr><td>baylor_scott_white_health_uiag__claims__standardized</td><td>vw_837__claims_claim__history</td><td>837</td></tr><tr><td>baylor_scott_white_health_uiag__claims__standardized</td><td>vw_837__claims_claim__latest</td><td>837</td></tr><tr><td>baylor_scott_white_health_uiag__claims__standardized</td><td>vw_837__claims_meta_data__history</td><td>837</td></tr><tr><td>baylor_scott_white_health_uiag__claims__standardized</td><td>vw_837__claims_meta_data__latest</td><td>837</td></tr><tr><td>baylor_scott_white_health_uiag__claims__standardized</td><td>vw_837__claims_physician__history</td><td>837</td></tr><tr><td>baylor_scott_white_health_uiag__claims__standardized</td><td>vw_837__claims_physician__latest</td><td>837</td></tr><tr><td>baylor_scott_white_health_uiag__claims__standardized</td><td>vw_837__claims_service_line__history</td><td>837</td></tr><tr><td>baylor_scott_white_health_uiag__claims__standardized</td><td>vw_837__claims_service_line__latest</td><td>837</td></tr><tr><td>baylor_scott_white_health_uiag__claims__standardized</td><td>vw_837__claims_subscriber__history</td><td>837</td></tr><tr><td>baylor_scott_white_health_uiag__claims__standardized</td><td>vw_837__claims_subscriber__latest</td><td>837</td></tr><tr><td>baylor_scott_white_health_uiag__claims__standardized</td><td>vw_claims_billing_provider_837__history</td><td>837</td></tr><tr><td>baylor_scott_white_health_uiag__claims__standardized</td><td>vw_claims_billing_provider_837__latest</td><td>837</td></tr><tr><td>baylor_scott_white_health_uiag__claims__standardized</td><td>vw_claims_claim_837__history</td><td>837</td></tr><tr><td>baylor_scott_white_health_uiag__claims__standardized</td><td>vw_claims_claim_837__latest</td><td>837</td></tr><tr><td>baylor_scott_white_health_uiag__claims__standardized</td><td>vw_claims_meta_data_837__history</td><td>837</td></tr><tr><td>baylor_scott_white_health_uiag__claims__standardized</td><td>vw_claims_meta_data_837__latest</td><td>837</td></tr><tr><td>baylor_scott_white_health_uiag__claims__standardized</td><td>vw_claims_physician_837__history</td><td>837</td></tr><tr><td>baylor_scott_white_health_uiag__claims__standardized</td><td>vw_claims_physician_837__latest</td><td>837</td></tr><tr><td>baylor_scott_white_health_uiag__claims__standardized</td><td>vw_claims_service_line_837__history</td><td>837</td></tr><tr><td>baylor_scott_white_health_uiag__claims__standardized</td><td>vw_claims_service_line_837__latest</td><td>837</td></tr><tr><td>baylor_scott_white_health_uiag__claims__standardized</td><td>vw_claims_subscriber_837__history</td><td>837</td></tr><tr><td>baylor_scott_white_health_uiag__claims__standardized</td><td>vw_claims_subscriber_837__latest</td><td>837</td></tr><tr><td>blanchard_valley_health_system_nqat__claims__standardized</td><td>837__claims_account_crosswalk__history</td><td>837</td></tr><tr><td>blanchard_valley_health_system_nqat__claims__standardized</td><td>837__claims_billing_provider__history</td><td>837</td></tr><tr><td>blanchard_valley_health_system_nqat__claims__standardized</td><td>837__claims_claim__history</td><td>837</td></tr><tr><td>blanchard_valley_health_system_nqat__claims__standardized</td><td>837__claims_meta_data__history</td><td>837</td></tr><tr><td>blanchard_valley_health_system_nqat__claims__standardized</td><td>837__claims_physician__history</td><td>837</td></tr><tr><td>blanchard_valley_health_system_nqat__claims__standardized</td><td>837__claims_service_line__history</td><td>837</td></tr><tr><td>blanchard_valley_health_system_nqat__claims__standardized</td><td>837__claims_subscriber__history</td><td>837</td></tr><tr><td>blanchard_valley_health_system_nqat__claims__standardized</td><td>claims_account_crosswalk_837__history</td><td>837</td></tr><tr><td>blanchard_valley_health_system_nqat__claims__standardized</td><td>claims_billing_provider_837__history</td><td>837</td></tr><tr><td>blanchard_valley_health_system_nqat__claims__standardized</td><td>claims_claim_837__history</td><td>837</td></tr><tr><td>blanchard_valley_health_system_nqat__claims__standardized</td><td>claims_meta_data_837__history</td><td>837</td></tr><tr><td>blanchard_valley_health_system_nqat__claims__standardized</td><td>claims_physician_837__history</td><td>837</td></tr><tr><td>blanchard_valley_health_system_nqat__claims__standardized</td><td>claims_service_line_837__history</td><td>837</td></tr><tr><td>blanchard_valley_health_system_nqat__claims__standardized</td><td>claims_subscriber_837__history</td><td>837</td></tr><tr><td>blanchard_valley_health_system_nqat__claims__standardized</td><td>vw_837__claims_billing_provider__history</td><td>837</td></tr><tr><td>blanchard_valley_health_system_nqat__claims__standardized</td><td>vw_837__claims_billing_provider__latest</td><td>837</td></tr><tr><td>blanchard_valley_health_system_nqat__claims__standardized</td><td>vw_837__claims_claim__history</td><td>837</td></tr><tr><td>blanchard_valley_health_system_nqat__claims__standardized</td><td>vw_837__claims_claim__latest</td><td>837</td></tr><tr><td>blanchard_valley_health_system_nqat__claims__standardized</td><td>vw_837__claims_meta_data__history</td><td>837</td></tr><tr><td>blanchard_valley_health_system_nqat__claims__standardized</td><td>vw_837__claims_meta_data__latest</td><td>837</td></tr><tr><td>blanchard_valley_health_system_nqat__claims__standardized</td><td>vw_837__claims_physician__history</td><td>837</td></tr><tr><td>blanchard_valley_health_system_nqat__claims__standardized</td><td>vw_837__claims_physician__latest</td><td>837</td></tr><tr><td>blanchard_valley_health_system_nqat__claims__standardized</td><td>vw_837__claims_service_line__history</td><td>837</td></tr><tr><td>blanchard_valley_health_system_nqat__claims__standardized</td><td>vw_837__claims_service_line__latest</td><td>837</td></tr><tr><td>blanchard_valley_health_system_nqat__claims__standardized</td><td>vw_837__claims_subscriber__history</td><td>837</td></tr><tr><td>blanchard_valley_health_system_nqat__claims__standardized</td><td>vw_837__claims_subscriber__latest</td><td>837</td></tr><tr><td>blanchard_valley_health_system_nqat__claims__standardized</td><td>vw_claims_billing_provider_837__history</td><td>837</td></tr><tr><td>blanchard_valley_health_system_nqat__claims__standardized</td><td>vw_claims_billing_provider_837__latest</td><td>837</td></tr><tr><td>blanchard_valley_health_system_nqat__claims__standardized</td><td>vw_claims_claim_837__history</td><td>837</td></tr><tr><td>blanchard_valley_health_system_nqat__claims__standardized</td><td>vw_claims_claim_837__latest</td><td>837</td></tr><tr><td>blanchard_valley_health_system_nqat__claims__standardized</td><td>vw_claims_meta_data_837__history</td><td>837</td></tr><tr><td>blanchard_valley_health_system_nqat__claims__standardized</td><td>vw_claims_meta_data_837__latest</td><td>837</td></tr><tr><td>blanchard_valley_health_system_nqat__claims__standardized</td><td>vw_claims_physician_837__history</td><td>837</td></tr><tr><td>blanchard_valley_health_system_nqat__claims__standardized</td><td>vw_claims_physician_837__latest</td><td>837</td></tr><tr><td>blanchard_valley_health_system_nqat__claims__standardized</td><td>vw_claims_service_line_837__history</td><td>837</td></tr><tr><td>blanchard_valley_health_system_nqat__claims__standardized</td><td>vw_claims_service_line_837__latest</td><td>837</td></tr><tr><td>blanchard_valley_health_system_nqat__claims__standardized</td><td>vw_claims_subscriber_837__history</td><td>837</td></tr><tr><td>blanchard_valley_health_system_nqat__claims__standardized</td><td>vw_claims_subscriber_837__latest</td><td>837</td></tr><tr><td>centra_health_wiag__claims__standardized</td><td>837__claims_account_crosswalk__history</td><td>837</td></tr><tr><td>centra_health_wiag__claims__standardized</td><td>837__claims_billing_provider__history</td><td>837</td></tr><tr><td>centra_health_wiag__claims__standardized</td><td>837__claims_claim__history</td><td>837</td></tr><tr><td>centra_health_wiag__claims__standardized</td><td>837__claims_meta_data__history</td><td>837</td></tr><tr><td>centra_health_wiag__claims__standardized</td><td>837__claims_physician__history</td><td>837</td></tr><tr><td>centra_health_wiag__claims__standardized</td><td>837__claims_service_line__history</td><td>837</td></tr><tr><td>centra_health_wiag__claims__standardized</td><td>837__claims_subscriber__history</td><td>837</td></tr><tr><td>centra_health_wiag__claims__standardized</td><td>claims_account_crosswalk_837__history</td><td>837</td></tr><tr><td>centra_health_wiag__claims__standardized</td><td>claims_billing_provider_837__history</td><td>837</td></tr><tr><td>centra_health_wiag__claims__standardized</td><td>claims_claim_837__history</td><td>837</td></tr><tr><td>centra_health_wiag__claims__standardized</td><td>claims_meta_data_837__history</td><td>837</td></tr><tr><td>centra_health_wiag__claims__standardized</td><td>claims_physician_837__history</td><td>837</td></tr><tr><td>centra_health_wiag__claims__standardized</td><td>claims_service_line_837__history</td><td>837</td></tr><tr><td>centra_health_wiag__claims__standardized</td><td>claims_subscriber_837__history</td><td>837</td></tr><tr><td>centra_health_wiag__claims__standardized</td><td>vw_837__claims_billing_provider__history</td><td>837</td></tr><tr><td>centra_health_wiag__claims__standardized</td><td>vw_837__claims_billing_provider__latest</td><td>837</td></tr><tr><td>centra_health_wiag__claims__standardized</td><td>vw_837__claims_claim__history</td><td>837</td></tr><tr><td>centra_health_wiag__claims__standardized</td><td>vw_837__claims_claim__latest</td><td>837</td></tr><tr><td>centra_health_wiag__claims__standardized</td><td>vw_837__claims_meta_data__history</td><td>837</td></tr><tr><td>centra_health_wiag__claims__standardized</td><td>vw_837__claims_meta_data__latest</td><td>837</td></tr><tr><td>centra_health_wiag__claims__standardized</td><td>vw_837__claims_physician__history</td><td>837</td></tr><tr><td>centra_health_wiag__claims__standardized</td><td>vw_837__claims_physician__latest</td><td>837</td></tr><tr><td>centra_health_wiag__claims__standardized</td><td>vw_837__claims_service_line__history</td><td>837</td></tr><tr><td>centra_health_wiag__claims__standardized</td><td>vw_837__claims_service_line__latest</td><td>837</td></tr><tr><td>centra_health_wiag__claims__standardized</td><td>vw_837__claims_subscriber__history</td><td>837</td></tr><tr><td>centra_health_wiag__claims__standardized</td><td>vw_837__claims_subscriber__latest</td><td>837</td></tr><tr><td>centra_health_wiag__claims__standardized</td><td>vw_claims_billing_provider_837__history</td><td>837</td></tr><tr><td>centra_health_wiag__claims__standardized</td><td>vw_claims_billing_provider_837__latest</td><td>837</td></tr><tr><td>centra_health_wiag__claims__standardized</td><td>vw_claims_claim_837__history</td><td>837</td></tr><tr><td>centra_health_wiag__claims__standardized</td><td>vw_claims_claim_837__latest</td><td>837</td></tr><tr><td>centra_health_wiag__claims__standardized</td><td>vw_claims_meta_data_837__history</td><td>837</td></tr><tr><td>centra_health_wiag__claims__standardized</td><td>vw_claims_meta_data_837__latest</td><td>837</td></tr><tr><td>centra_health_wiag__claims__standardized</td><td>vw_claims_physician_837__history</td><td>837</td></tr><tr><td>centra_health_wiag__claims__standardized</td><td>vw_claims_physician_837__latest</td><td>837</td></tr><tr><td>centra_health_wiag__claims__standardized</td><td>vw_claims_service_line_837__history</td><td>837</td></tr><tr><td>centra_health_wiag__claims__standardized</td><td>vw_claims_service_line_837__latest</td><td>837</td></tr><tr><td>centra_health_wiag__claims__standardized</td><td>vw_claims_subscriber_837__history</td><td>837</td></tr><tr><td>centra_health_wiag__claims__standardized</td><td>vw_claims_subscriber_837__latest</td><td>837</td></tr><tr><td>christus_health_diax__claims__standardized</td><td>837__claims_account_crosswalk__history</td><td>837</td></tr><tr><td>christus_health_diax__claims__standardized</td><td>837__claims_billing_provider__history</td><td>837</td></tr><tr><td>christus_health_diax__claims__standardized</td><td>837__claims_claim__history</td><td>837</td></tr><tr><td>christus_health_diax__claims__standardized</td><td>837__claims_meta_data__history</td><td>837</td></tr><tr><td>christus_health_diax__claims__standardized</td><td>837__claims_physician__history</td><td>837</td></tr><tr><td>christus_health_diax__claims__standardized</td><td>837__claims_service_line__history</td><td>837</td></tr><tr><td>christus_health_diax__claims__standardized</td><td>837__claims_subscriber__history</td><td>837</td></tr><tr><td>christus_health_diax__claims__standardized</td><td>vw_837__claims_billing_provider__history</td><td>837</td></tr><tr><td>christus_health_diax__claims__standardized</td><td>vw_837__claims_billing_provider__latest</td><td>837</td></tr><tr><td>christus_health_diax__claims__standardized</td><td>vw_837__claims_claim__history</td><td>837</td></tr><tr><td>christus_health_diax__claims__standardized</td><td>vw_837__claims_claim__latest</td><td>837</td></tr><tr><td>christus_health_diax__claims__standardized</td><td>vw_837__claims_meta_data__history</td><td>837</td></tr><tr><td>christus_health_diax__claims__standardized</td><td>vw_837__claims_meta_data__latest</td><td>837</td></tr><tr><td>christus_health_diax__claims__standardized</td><td>vw_837__claims_physician__history</td><td>837</td></tr><tr><td>christus_health_diax__claims__standardized</td><td>vw_837__claims_physician__latest</td><td>837</td></tr><tr><td>christus_health_diax__claims__standardized</td><td>vw_837__claims_service_line__history</td><td>837</td></tr><tr><td>christus_health_diax__claims__standardized</td><td>vw_837__claims_service_line__latest</td><td>837</td></tr><tr><td>christus_health_diax__claims__standardized</td><td>vw_837__claims_subscriber__history</td><td>837</td></tr><tr><td>christus_health_diax__claims__standardized</td><td>vw_837__claims_subscriber__latest</td><td>837</td></tr><tr><td>commonspirit_health1_abcd__claims__standardized</td><td>837__claims_account_crosswalk__history</td><td>837</td></tr><tr><td>commonspirit_health1_abcd__claims__standardized</td><td>837__claims_billing_provider__history</td><td>837</td></tr><tr><td>commonspirit_health1_abcd__claims__standardized</td><td>837__claims_claim__history</td><td>837</td></tr><tr><td>commonspirit_health1_abcd__claims__standardized</td><td>837__claims_meta_data__history</td><td>837</td></tr><tr><td>commonspirit_health1_abcd__claims__standardized</td><td>837__claims_physician__history</td><td>837</td></tr><tr><td>commonspirit_health1_abcd__claims__standardized</td><td>837__claims_service_line__history</td><td>837</td></tr><tr><td>commonspirit_health1_abcd__claims__standardized</td><td>837__claims_subscriber__history</td><td>837</td></tr><tr><td>commonspirit_health1_abcd__claims__standardized</td><td>vw_837__claims_billing_provider__history</td><td>837</td></tr><tr><td>commonspirit_health1_abcd__claims__standardized</td><td>vw_837__claims_billing_provider__latest</td><td>837</td></tr><tr><td>commonspirit_health1_abcd__claims__standardized</td><td>vw_837__claims_claim__history</td><td>837</td></tr><tr><td>commonspirit_health1_abcd__claims__standardized</td><td>vw_837__claims_claim__latest</td><td>837</td></tr><tr><td>commonspirit_health1_abcd__claims__standardized</td><td>vw_837__claims_meta_data__history</td><td>837</td></tr><tr><td>commonspirit_health1_abcd__claims__standardized</td><td>vw_837__claims_meta_data__latest</td><td>837</td></tr><tr><td>commonspirit_health1_abcd__claims__standardized</td><td>vw_837__claims_physician__history</td><td>837</td></tr><tr><td>commonspirit_health1_abcd__claims__standardized</td><td>vw_837__claims_physician__latest</td><td>837</td></tr><tr><td>commonspirit_health1_abcd__claims__standardized</td><td>vw_837__claims_service_line__history</td><td>837</td></tr><tr><td>commonspirit_health1_abcd__claims__standardized</td><td>vw_837__claims_service_line__latest</td><td>837</td></tr><tr><td>commonspirit_health1_abcd__claims__standardized</td><td>vw_837__claims_subscriber__history</td><td>837</td></tr><tr><td>commonspirit_health1_abcd__claims__standardized</td><td>vw_837__claims_subscriber__latest</td><td>837</td></tr><tr><td>commonspirit_health_bqa0__claims__standardized</td><td>837__claims_account_crosswalk__history</td><td>837</td></tr><tr><td>commonspirit_health_bqa0__claims__standardized</td><td>837__claims_billing_provider__history</td><td>837</td></tr><tr><td>commonspirit_health_bqa0__claims__standardized</td><td>837__claims_claim__history</td><td>837</td></tr><tr><td>commonspirit_health_bqa0__claims__standardized</td><td>837__claims_meta_data__history</td><td>837</td></tr><tr><td>commonspirit_health_bqa0__claims__standardized</td><td>837__claims_physician__history</td><td>837</td></tr><tr><td>commonspirit_health_bqa0__claims__standardized</td><td>837__claims_service_line__history</td><td>837</td></tr><tr><td>commonspirit_health_bqa0__claims__standardized</td><td>837__claims_subscriber__history</td><td>837</td></tr><tr><td>commonspirit_health_bqa0__claims__standardized</td><td>vw_837__claims_billing_provider__history</td><td>837</td></tr><tr><td>commonspirit_health_bqa0__claims__standardized</td><td>vw_837__claims_billing_provider__latest</td><td>837</td></tr><tr><td>commonspirit_health_bqa0__claims__standardized</td><td>vw_837__claims_claim__history</td><td>837</td></tr><tr><td>commonspirit_health_bqa0__claims__standardized</td><td>vw_837__claims_claim__latest</td><td>837</td></tr><tr><td>commonspirit_health_bqa0__claims__standardized</td><td>vw_837__claims_meta_data__history</td><td>837</td></tr><tr><td>commonspirit_health_bqa0__claims__standardized</td><td>vw_837__claims_meta_data__latest</td><td>837</td></tr><tr><td>commonspirit_health_bqa0__claims__standardized</td><td>vw_837__claims_physician__history</td><td>837</td></tr><tr><td>commonspirit_health_bqa0__claims__standardized</td><td>vw_837__claims_physician__latest</td><td>837</td></tr><tr><td>commonspirit_health_bqa0__claims__standardized</td><td>vw_837__claims_service_line__history</td><td>837</td></tr><tr><td>commonspirit_health_bqa0__claims__standardized</td><td>vw_837__claims_service_line__latest</td><td>837</td></tr><tr><td>commonspirit_health_bqa0__claims__standardized</td><td>vw_837__claims_subscriber__history</td><td>837</td></tr><tr><td>commonspirit_health_bqa0__claims__standardized</td><td>vw_837__claims_subscriber__latest</td><td>837</td></tr><tr><td>community_hospital_of_the_monterey_peninsula_uia5__claims__standardized</td><td>837__claims_account_crosswalk__history</td><td>837</td></tr><tr><td>community_hospital_of_the_monterey_peninsula_uia5__claims__standardized</td><td>837__claims_billing_provider__history</td><td>837</td></tr><tr><td>community_hospital_of_the_monterey_peninsula_uia5__claims__standardized</td><td>837__claims_claim__history</td><td>837</td></tr><tr><td>community_hospital_of_the_monterey_peninsula_uia5__claims__standardized</td><td>837__claims_meta_data__history</td><td>837</td></tr><tr><td>community_hospital_of_the_monterey_peninsula_uia5__claims__standardized</td><td>837__claims_physician__history</td><td>837</td></tr><tr><td>community_hospital_of_the_monterey_peninsula_uia5__claims__standardized</td><td>837__claims_service_line__history</td><td>837</td></tr><tr><td>community_hospital_of_the_monterey_peninsula_uia5__claims__standardized</td><td>837__claims_subscriber__history</td><td>837</td></tr><tr><td>community_hospital_of_the_monterey_peninsula_uia5__claims__standardized</td><td>vw_837__claims_billing_provider__history</td><td>837</td></tr><tr><td>community_hospital_of_the_monterey_peninsula_uia5__claims__standardized</td><td>vw_837__claims_billing_provider__latest</td><td>837</td></tr><tr><td>community_hospital_of_the_monterey_peninsula_uia5__claims__standardized</td><td>vw_837__claims_claim__history</td><td>837</td></tr><tr><td>community_hospital_of_the_monterey_peninsula_uia5__claims__standardized</td><td>vw_837__claims_claim__latest</td><td>837</td></tr><tr><td>community_hospital_of_the_monterey_peninsula_uia5__claims__standardized</td><td>vw_837__claims_meta_data__history</td><td>837</td></tr><tr><td>community_hospital_of_the_monterey_peninsula_uia5__claims__standardized</td><td>vw_837__claims_meta_data__latest</td><td>837</td></tr><tr><td>community_hospital_of_the_monterey_peninsula_uia5__claims__standardized</td><td>vw_837__claims_physician__history</td><td>837</td></tr><tr><td>community_hospital_of_the_monterey_peninsula_uia5__claims__standardized</td><td>vw_837__claims_physician__latest</td><td>837</td></tr><tr><td>community_hospital_of_the_monterey_peninsula_uia5__claims__standardized</td><td>vw_837__claims_service_line__history</td><td>837</td></tr><tr><td>community_hospital_of_the_monterey_peninsula_uia5__claims__standardized</td><td>vw_837__claims_service_line__latest</td><td>837</td></tr><tr><td>community_hospital_of_the_monterey_peninsula_uia5__claims__standardized</td><td>vw_837__claims_subscriber__history</td><td>837</td></tr><tr><td>community_hospital_of_the_monterey_peninsula_uia5__claims__standardized</td><td>vw_837__claims_subscriber__latest</td><td>837</td></tr><tr><td>cooper_university_hospital_fiah__claims__standardized</td><td>837__claims_account_crosswalk__history</td><td>837</td></tr><tr><td>cooper_university_hospital_fiah__claims__standardized</td><td>837__claims_account_crosswalk__latest</td><td>837</td></tr><tr><td>cooper_university_hospital_fiah__claims__standardized</td><td>837__claims_billing_provider__history</td><td>837</td></tr><tr><td>cooper_university_hospital_fiah__claims__standardized</td><td>837__claims_billing_provider__latest</td><td>837</td></tr><tr><td>cooper_university_hospital_fiah__claims__standardized</td><td>837__claims_claim__history</td><td>837</td></tr><tr><td>cooper_university_hospital_fiah__claims__standardized</td><td>837__claims_claim__latest</td><td>837</td></tr><tr><td>cooper_university_hospital_fiah__claims__standardized</td><td>837__claims_meta_data__history</td><td>837</td></tr><tr><td>cooper_university_hospital_fiah__claims__standardized</td><td>837__claims_meta_data__latest</td><td>837</td></tr><tr><td>cooper_university_hospital_fiah__claims__standardized</td><td>837__claims_physician__history</td><td>837</td></tr><tr><td>cooper_university_hospital_fiah__claims__standardized</td><td>837__claims_physician__latest</td><td>837</td></tr><tr><td>cooper_university_hospital_fiah__claims__standardized</td><td>837__claims_service_line__history</td><td>837</td></tr><tr><td>cooper_university_hospital_fiah__claims__standardized</td><td>837__claims_service_line__latest</td><td>837</td></tr><tr><td>cooper_university_hospital_fiah__claims__standardized</td><td>837__claims_subscriber__history</td><td>837</td></tr><tr><td>cooper_university_hospital_fiah__claims__standardized</td><td>837__claims_subscriber__latest</td><td>837</td></tr><tr><td>cooper_university_hospital_fiah__claims__standardized</td><td>claims_account_crosswalk_837__history</td><td>837</td></tr><tr><td>cooper_university_hospital_fiah__claims__standardized</td><td>claims_billing_provider_837__history</td><td>837</td></tr><tr><td>cooper_university_hospital_fiah__claims__standardized</td><td>claims_claim_837__history</td><td>837</td></tr><tr><td>cooper_university_hospital_fiah__claims__standardized</td><td>claims_meta_data_837__history</td><td>837</td></tr><tr><td>cooper_university_hospital_fiah__claims__standardized</td><td>claims_physician_837__history</td><td>837</td></tr><tr><td>cooper_university_hospital_fiah__claims__standardized</td><td>claims_service_line_837__history</td><td>837</td></tr><tr><td>cooper_university_hospital_fiah__claims__standardized</td><td>claims_subscriber_837__history</td><td>837</td></tr><tr><td>cooper_university_hospital_fiah__claims__standardized</td><td>vw_837__claims_billing_provider__history</td><td>837</td></tr><tr><td>cooper_university_hospital_fiah__claims__standardized</td><td>vw_837__claims_billing_provider__latest</td><td>837</td></tr><tr><td>cooper_university_hospital_fiah__claims__standardized</td><td>vw_837__claims_claim__history</td><td>837</td></tr><tr><td>cooper_university_hospital_fiah__claims__standardized</td><td>vw_837__claims_claim__latest</td><td>837</td></tr><tr><td>cooper_university_hospital_fiah__claims__standardized</td><td>vw_837__claims_meta_data__history</td><td>837</td></tr><tr><td>cooper_university_hospital_fiah__claims__standardized</td><td>vw_837__claims_meta_data__latest</td><td>837</td></tr><tr><td>cooper_university_hospital_fiah__claims__standardized</td><td>vw_837__claims_physician__history</td><td>837</td></tr><tr><td>cooper_university_hospital_fiah__claims__standardized</td><td>vw_837__claims_physician__latest</td><td>837</td></tr><tr><td>cooper_university_hospital_fiah__claims__standardized</td><td>vw_837__claims_service_line__history</td><td>837</td></tr><tr><td>cooper_university_hospital_fiah__claims__standardized</td><td>vw_837__claims_service_line__latest</td><td>837</td></tr><tr><td>cooper_university_hospital_fiah__claims__standardized</td><td>vw_837__claims_subscriber__history</td><td>837</td></tr><tr><td>cooper_university_hospital_fiah__claims__standardized</td><td>vw_837__claims_subscriber__latest</td><td>837</td></tr><tr><td>cooper_university_hospital_fiah__claims__standardized</td><td>vw_claims_billing_provider_837__history</td><td>837</td></tr><tr><td>cooper_university_hospital_fiah__claims__standardized</td><td>vw_claims_billing_provider_837__latest</td><td>837</td></tr><tr><td>cooper_university_hospital_fiah__claims__standardized</td><td>vw_claims_claim_837__history</td><td>837</td></tr><tr><td>cooper_university_hospital_fiah__claims__standardized</td><td>vw_claims_claim_837__latest</td><td>837</td></tr><tr><td>cooper_university_hospital_fiah__claims__standardized</td><td>vw_claims_meta_data_837__history</td><td>837</td></tr><tr><td>cooper_university_hospital_fiah__claims__standardized</td><td>vw_claims_meta_data_837__latest</td><td>837</td></tr><tr><td>cooper_university_hospital_fiah__claims__standardized</td><td>vw_claims_physician_837__history</td><td>837</td></tr><tr><td>cooper_university_hospital_fiah__claims__standardized</td><td>vw_claims_physician_837__latest</td><td>837</td></tr><tr><td>cooper_university_hospital_fiah__claims__standardized</td><td>vw_claims_service_line_837__history</td><td>837</td></tr><tr><td>cooper_university_hospital_fiah__claims__standardized</td><td>vw_claims_service_line_837__latest</td><td>837</td></tr><tr><td>cooper_university_hospital_fiah__claims__standardized</td><td>vw_claims_subscriber_837__history</td><td>837</td></tr><tr><td>cooper_university_hospital_fiah__claims__standardized</td><td>vw_claims_subscriber_837__latest</td><td>837</td></tr><tr><td>coxhealth_xiaw__claims__standardized</td><td>837__claims_account_crosswalk__history</td><td>837</td></tr><tr><td>coxhealth_xiaw__claims__standardized</td><td>837__claims_billing_provider__history</td><td>837</td></tr><tr><td>coxhealth_xiaw__claims__standardized</td><td>837__claims_claim__history</td><td>837</td></tr><tr><td>coxhealth_xiaw__claims__standardized</td><td>837__claims_meta_data__history</td><td>837</td></tr><tr><td>coxhealth_xiaw__claims__standardized</td><td>837__claims_physician__history</td><td>837</td></tr><tr><td>coxhealth_xiaw__claims__standardized</td><td>837__claims_service_line__history</td><td>837</td></tr><tr><td>coxhealth_xiaw__claims__standardized</td><td>837__claims_subscriber__history</td><td>837</td></tr><tr><td>coxhealth_xiaw__claims__standardized</td><td>vw_837__claims_billing_provider__history</td><td>837</td></tr><tr><td>coxhealth_xiaw__claims__standardized</td><td>vw_837__claims_billing_provider__latest</td><td>837</td></tr><tr><td>coxhealth_xiaw__claims__standardized</td><td>vw_837__claims_claim__history</td><td>837</td></tr><tr><td>coxhealth_xiaw__claims__standardized</td><td>vw_837__claims_claim__latest</td><td>837</td></tr><tr><td>coxhealth_xiaw__claims__standardized</td><td>vw_837__claims_meta_data__history</td><td>837</td></tr><tr><td>coxhealth_xiaw__claims__standardized</td><td>vw_837__claims_meta_data__latest</td><td>837</td></tr><tr><td>coxhealth_xiaw__claims__standardized</td><td>vw_837__claims_physician__history</td><td>837</td></tr><tr><td>coxhealth_xiaw__claims__standardized</td><td>vw_837__claims_physician__latest</td><td>837</td></tr><tr><td>coxhealth_xiaw__claims__standardized</td><td>vw_837__claims_service_line__history</td><td>837</td></tr><tr><td>coxhealth_xiaw__claims__standardized</td><td>vw_837__claims_service_line__latest</td><td>837</td></tr><tr><td>coxhealth_xiaw__claims__standardized</td><td>vw_837__claims_subscriber__history</td><td>837</td></tr><tr><td>coxhealth_xiaw__claims__standardized</td><td>vw_837__claims_subscriber__latest</td><td>837</td></tr><tr><td>duke_health_xiaw__claims__standardized</td><td>837__claims_account_crosswalk__history</td><td>837</td></tr><tr><td>duke_health_xiaw__claims__standardized</td><td>837__claims_billing_provider__history</td><td>837</td></tr><tr><td>duke_health_xiaw__claims__standardized</td><td>837__claims_claim__history</td><td>837</td></tr><tr><td>duke_health_xiaw__claims__standardized</td><td>837__claims_meta_data__history</td><td>837</td></tr><tr><td>duke_health_xiaw__claims__standardized</td><td>837__claims_physician__history</td><td>837</td></tr><tr><td>duke_health_xiaw__claims__standardized</td><td>837__claims_service_line__history</td><td>837</td></tr><tr><td>duke_health_xiaw__claims__standardized</td><td>837__claims_subscriber__history</td><td>837</td></tr><tr><td>duke_health_xiaw__claims__standardized</td><td>vw_837__claims_billing_provider__history</td><td>837</td></tr><tr><td>duke_health_xiaw__claims__standardized</td><td>vw_837__claims_billing_provider__latest</td><td>837</td></tr><tr><td>duke_health_xiaw__claims__standardized</td><td>vw_837__claims_claim__history</td><td>837</td></tr><tr><td>duke_health_xiaw__claims__standardized</td><td>vw_837__claims_claim__latest</td><td>837</td></tr><tr><td>duke_health_xiaw__claims__standardized</td><td>vw_837__claims_meta_data__history</td><td>837</td></tr><tr><td>duke_health_xiaw__claims__standardized</td><td>vw_837__claims_meta_data__latest</td><td>837</td></tr><tr><td>duke_health_xiaw__claims__standardized</td><td>vw_837__claims_physician__history</td><td>837</td></tr><tr><td>duke_health_xiaw__claims__standardized</td><td>vw_837__claims_physician__latest</td><td>837</td></tr><tr><td>duke_health_xiaw__claims__standardized</td><td>vw_837__claims_service_line__history</td><td>837</td></tr><tr><td>duke_health_xiaw__claims__standardized</td><td>vw_837__claims_service_line__latest</td><td>837</td></tr><tr><td>duke_health_xiaw__claims__standardized</td><td>vw_837__claims_subscriber__history</td><td>837</td></tr><tr><td>duke_health_xiaw__claims__standardized</td><td>vw_837__claims_subscriber__latest</td><td>837</td></tr><tr><td>emory_healthcare_fiaw__claims__standardized</td><td>835__claims_account_crosswalk__history</td><td>835</td></tr><tr><td>emory_healthcare_fiaw__claims__standardized</td><td>835__claims_advice_billing_provider__history</td><td>835</td></tr><tr><td>emory_healthcare_fiaw__claims__standardized</td><td>835__claims_advice_claim_line_adjustment__history</td><td>835</td></tr><tr><td>emory_healthcare_fiaw__claims__standardized</td><td>835__claims_advice_meta_data__history</td><td>835</td></tr><tr><td>emory_healthcare_fiaw__claims__standardized</td><td>835__claims_advice_payment__history</td><td>835</td></tr><tr><td>emory_healthcare_fiaw__claims__standardized</td><td>835__claims_advice_payment_overview__history</td><td>835</td></tr><tr><td>emory_healthcare_fiaw__claims__standardized</td><td>835__claims_advice_subscriber__history</td><td>835</td></tr><tr><td>emory_healthcare_fiaw__claims__standardized</td><td>837__claims_account_crosswalk__history</td><td>837</td></tr><tr><td>emory_healthcare_fiaw__claims__standardized</td><td>837__claims_account_crosswalk__latest</td><td>837</td></tr><tr><td>emory_healthcare_fiaw__claims__standardized</td><td>837__claims_billing_provider__history</td><td>837</td></tr><tr><td>emory_healthcare_fiaw__claims__standardized</td><td>837__claims_billing_provider__latest</td><td>837</td></tr><tr><td>emory_healthcare_fiaw__claims__standardized</td><td>837__claims_claim__history</td><td>837</td></tr><tr><td>emory_healthcare_fiaw__claims__standardized</td><td>837__claims_claim__latest</td><td>837</td></tr><tr><td>emory_healthcare_fiaw__claims__standardized</td><td>837__claims_meta_data__history</td><td>837</td></tr><tr><td>emory_healthcare_fiaw__claims__standardized</td><td>837__claims_meta_data__latest</td><td>837</td></tr><tr><td>emory_healthcare_fiaw__claims__standardized</td><td>837__claims_physician__history</td><td>837</td></tr><tr><td>emory_healthcare_fiaw__claims__standardized</td><td>837__claims_physician__latest</td><td>837</td></tr><tr><td>emory_healthcare_fiaw__claims__standardized</td><td>837__claims_service_line__history</td><td>837</td></tr><tr><td>emory_healthcare_fiaw__claims__standardized</td><td>837__claims_service_line__latest</td><td>837</td></tr><tr><td>emory_healthcare_fiaw__claims__standardized</td><td>837__claims_subscriber__history</td><td>837</td></tr><tr><td>emory_healthcare_fiaw__claims__standardized</td><td>837__claims_subscriber__latest</td><td>837</td></tr><tr><td>emory_healthcare_fiaw__claims__standardized</td><td>claims_account_crosswalk_837__history</td><td>837</td></tr><tr><td>emory_healthcare_fiaw__claims__standardized</td><td>claims_billing_provider_837__history</td><td>837</td></tr><tr><td>emory_healthcare_fiaw__claims__standardized</td><td>claims_claim_837__history</td><td>837</td></tr><tr><td>emory_healthcare_fiaw__claims__standardized</td><td>claims_meta_data_837__history</td><td>837</td></tr><tr><td>emory_healthcare_fiaw__claims__standardized</td><td>claims_physician_837__history</td><td>837</td></tr><tr><td>emory_healthcare_fiaw__claims__standardized</td><td>claims_service_line_837__history</td><td>837</td></tr><tr><td>emory_healthcare_fiaw__claims__standardized</td><td>claims_subscriber_837__history</td><td>837</td></tr><tr><td>emory_healthcare_fiaw__claims__standardized</td><td>vw_837__claims_billing_provider__history</td><td>837</td></tr><tr><td>emory_healthcare_fiaw__claims__standardized</td><td>vw_837__claims_billing_provider__latest</td><td>837</td></tr><tr><td>emory_healthcare_fiaw__claims__standardized</td><td>vw_837__claims_claim__history</td><td>837</td></tr><tr><td>emory_healthcare_fiaw__claims__standardized</td><td>vw_837__claims_claim__latest</td><td>837</td></tr><tr><td>emory_healthcare_fiaw__claims__standardized</td><td>vw_837__claims_meta_data__history</td><td>837</td></tr><tr><td>emory_healthcare_fiaw__claims__standardized</td><td>vw_837__claims_meta_data__latest</td><td>837</td></tr><tr><td>emory_healthcare_fiaw__claims__standardized</td><td>vw_837__claims_physician__history</td><td>837</td></tr><tr><td>emory_healthcare_fiaw__claims__standardized</td><td>vw_837__claims_physician__latest</td><td>837</td></tr><tr><td>emory_healthcare_fiaw__claims__standardized</td><td>vw_837__claims_service_line__history</td><td>837</td></tr><tr><td>emory_healthcare_fiaw__claims__standardized</td><td>vw_837__claims_service_line__latest</td><td>837</td></tr><tr><td>emory_healthcare_fiaw__claims__standardized</td><td>vw_837__claims_subscriber__history</td><td>837</td></tr><tr><td>emory_healthcare_fiaw__claims__standardized</td><td>vw_837__claims_subscriber__latest</td><td>837</td></tr><tr><td>emory_healthcare_fiaw__claims__standardized</td><td>vw_claims_billing_provider_837__history</td><td>837</td></tr><tr><td>emory_healthcare_fiaw__claims__standardized</td><td>vw_claims_billing_provider_837__latest</td><td>837</td></tr><tr><td>emory_healthcare_fiaw__claims__standardized</td><td>vw_claims_claim_837__history</td><td>837</td></tr><tr><td>emory_healthcare_fiaw__claims__standardized</td><td>vw_claims_claim_837__latest</td><td>837</td></tr><tr><td>emory_healthcare_fiaw__claims__standardized</td><td>vw_claims_meta_data_837__history</td><td>837</td></tr><tr><td>emory_healthcare_fiaw__claims__standardized</td><td>vw_claims_meta_data_837__latest</td><td>837</td></tr><tr><td>emory_healthcare_fiaw__claims__standardized</td><td>vw_claims_physician_837__history</td><td>837</td></tr><tr><td>emory_healthcare_fiaw__claims__standardized</td><td>vw_claims_physician_837__latest</td><td>837</td></tr><tr><td>emory_healthcare_fiaw__claims__standardized</td><td>vw_claims_service_line_837__history</td><td>837</td></tr><tr><td>emory_healthcare_fiaw__claims__standardized</td><td>vw_claims_service_line_837__latest</td><td>837</td></tr><tr><td>emory_healthcare_fiaw__claims__standardized</td><td>vw_claims_subscriber_837__history</td><td>837</td></tr><tr><td>emory_healthcare_fiaw__claims__standardized</td><td>vw_claims_subscriber_837__latest</td><td>837</td></tr><tr><td>garnet_health_oiaw__claims__standardized</td><td>837__claims_account_crosswalk__history</td><td>837</td></tr><tr><td>garnet_health_oiaw__claims__standardized</td><td>837__claims_billing_provider__history</td><td>837</td></tr><tr><td>garnet_health_oiaw__claims__standardized</td><td>837__claims_claim__history</td><td>837</td></tr><tr><td>garnet_health_oiaw__claims__standardized</td><td>837__claims_meta_data__history</td><td>837</td></tr><tr><td>garnet_health_oiaw__claims__standardized</td><td>837__claims_physician__history</td><td>837</td></tr><tr><td>garnet_health_oiaw__claims__standardized</td><td>837__claims_service_line__history</td><td>837</td></tr><tr><td>garnet_health_oiaw__claims__standardized</td><td>837__claims_subscriber__history</td><td>837</td></tr><tr><td>garnet_health_oiaw__claims__standardized</td><td>vw_837__claims_billing_provider__history</td><td>837</td></tr><tr><td>garnet_health_oiaw__claims__standardized</td><td>vw_837__claims_billing_provider__latest</td><td>837</td></tr><tr><td>garnet_health_oiaw__claims__standardized</td><td>vw_837__claims_claim__history</td><td>837</td></tr><tr><td>garnet_health_oiaw__claims__standardized</td><td>vw_837__claims_claim__latest</td><td>837</td></tr><tr><td>garnet_health_oiaw__claims__standardized</td><td>vw_837__claims_meta_data__history</td><td>837</td></tr><tr><td>garnet_health_oiaw__claims__standardized</td><td>vw_837__claims_meta_data__latest</td><td>837</td></tr><tr><td>garnet_health_oiaw__claims__standardized</td><td>vw_837__claims_physician__history</td><td>837</td></tr><tr><td>garnet_health_oiaw__claims__standardized</td><td>vw_837__claims_physician__latest</td><td>837</td></tr><tr><td>garnet_health_oiaw__claims__standardized</td><td>vw_837__claims_service_line__history</td><td>837</td></tr><tr><td>garnet_health_oiaw__claims__standardized</td><td>vw_837__claims_service_line__latest</td><td>837</td></tr><tr><td>garnet_health_oiaw__claims__standardized</td><td>vw_837__claims_subscriber__history</td><td>837</td></tr><tr><td>garnet_health_oiaw__claims__standardized</td><td>vw_837__claims_subscriber__latest</td><td>837</td></tr><tr><td>intermountain_healthcare_tiag__claims__standardized</td><td>835__claims_account_crosswalk__history</td><td>835</td></tr><tr><td>intermountain_healthcare_tiag__claims__standardized</td><td>835__claims_advice_billing_provider__history</td><td>835</td></tr><tr><td>intermountain_healthcare_tiag__claims__standardized</td><td>835__claims_advice_claim_line_adjustment__history</td><td>835</td></tr><tr><td>intermountain_healthcare_tiag__claims__standardized</td><td>835__claims_advice_meta_data__history</td><td>835</td></tr><tr><td>intermountain_healthcare_tiag__claims__standardized</td><td>835__claims_advice_payment__history</td><td>835</td></tr><tr><td>intermountain_healthcare_tiag__claims__standardized</td><td>835__claims_advice_payment_overview__history</td><td>835</td></tr><tr><td>intermountain_healthcare_tiag__claims__standardized</td><td>835__claims_advice_subscriber__history</td><td>835</td></tr><tr><td>intermountain_healthcare_tiag__claims__standardized</td><td>837__claims_account_crosswalk__history</td><td>837</td></tr><tr><td>intermountain_healthcare_tiag__claims__standardized</td><td>837__claims_billing_provider__history</td><td>837</td></tr><tr><td>intermountain_healthcare_tiag__claims__standardized</td><td>837__claims_claim__history</td><td>837</td></tr><tr><td>intermountain_healthcare_tiag__claims__standardized</td><td>837__claims_meta_data__history</td><td>837</td></tr><tr><td>intermountain_healthcare_tiag__claims__standardized</td><td>837__claims_physician__history</td><td>837</td></tr><tr><td>intermountain_healthcare_tiag__claims__standardized</td><td>837__claims_service_line__history</td><td>837</td></tr><tr><td>intermountain_healthcare_tiag__claims__standardized</td><td>837__claims_subscriber__history</td><td>837</td></tr><tr><td>intermountain_healthcare_tiag__claims__standardized</td><td>claims_account_crosswalk_837__history</td><td>837</td></tr><tr><td>intermountain_healthcare_tiag__claims__standardized</td><td>claims_billing_provider_837__history</td><td>837</td></tr><tr><td>intermountain_healthcare_tiag__claims__standardized</td><td>claims_claim_837__history</td><td>837</td></tr><tr><td>intermountain_healthcare_tiag__claims__standardized</td><td>claims_meta_data_837__history</td><td>837</td></tr><tr><td>intermountain_healthcare_tiag__claims__standardized</td><td>claims_physician_837__history</td><td>837</td></tr><tr><td>intermountain_healthcare_tiag__claims__standardized</td><td>claims_service_line_837__history</td><td>837</td></tr><tr><td>intermountain_healthcare_tiag__claims__standardized</td><td>claims_subscriber_837__history</td><td>837</td></tr><tr><td>intermountain_healthcare_tiag__claims__standardized</td><td>vw_837__claims_billing_provider__history</td><td>837</td></tr><tr><td>intermountain_healthcare_tiag__claims__standardized</td><td>vw_837__claims_billing_provider__latest</td><td>837</td></tr><tr><td>intermountain_healthcare_tiag__claims__standardized</td><td>vw_837__claims_claim__history</td><td>837</td></tr><tr><td>intermountain_healthcare_tiag__claims__standardized</td><td>vw_837__claims_claim__latest</td><td>837</td></tr><tr><td>intermountain_healthcare_tiag__claims__standardized</td><td>vw_837__claims_meta_data__history</td><td>837</td></tr><tr><td>intermountain_healthcare_tiag__claims__standardized</td><td>vw_837__claims_meta_data__latest</td><td>837</td></tr><tr><td>intermountain_healthcare_tiag__claims__standardized</td><td>vw_837__claims_physician__history</td><td>837</td></tr><tr><td>intermountain_healthcare_tiag__claims__standardized</td><td>vw_837__claims_physician__latest</td><td>837</td></tr><tr><td>intermountain_healthcare_tiag__claims__standardized</td><td>vw_837__claims_service_line__history</td><td>837</td></tr><tr><td>intermountain_healthcare_tiag__claims__standardized</td><td>vw_837__claims_service_line__latest</td><td>837</td></tr><tr><td>intermountain_healthcare_tiag__claims__standardized</td><td>vw_837__claims_subscriber__history</td><td>837</td></tr><tr><td>intermountain_healthcare_tiag__claims__standardized</td><td>vw_837__claims_subscriber__latest</td><td>837</td></tr><tr><td>intermountain_healthcare_tiag__claims__standardized</td><td>vw_claims_billing_provider_837__history</td><td>837</td></tr><tr><td>intermountain_healthcare_tiag__claims__standardized</td><td>vw_claims_billing_provider_837__latest</td><td>837</td></tr><tr><td>intermountain_healthcare_tiag__claims__standardized</td><td>vw_claims_claim_837__history</td><td>837</td></tr><tr><td>intermountain_healthcare_tiag__claims__standardized</td><td>vw_claims_claim_837__latest</td><td>837</td></tr><tr><td>intermountain_healthcare_tiag__claims__standardized</td><td>vw_claims_meta_data_837__history</td><td>837</td></tr><tr><td>intermountain_healthcare_tiag__claims__standardized</td><td>vw_claims_meta_data_837__latest</td><td>837</td></tr><tr><td>intermountain_healthcare_tiag__claims__standardized</td><td>vw_claims_physician_837__history</td><td>837</td></tr><tr><td>intermountain_healthcare_tiag__claims__standardized</td><td>vw_claims_physician_837__latest</td><td>837</td></tr><tr><td>intermountain_healthcare_tiag__claims__standardized</td><td>vw_claims_service_line_837__history</td><td>837</td></tr><tr><td>intermountain_healthcare_tiag__claims__standardized</td><td>vw_claims_service_line_837__latest</td><td>837</td></tr><tr><td>intermountain_healthcare_tiag__claims__standardized</td><td>vw_claims_subscriber_837__history</td><td>837</td></tr><tr><td>intermountain_healthcare_tiag__claims__standardized</td><td>vw_claims_subscriber_837__latest</td><td>837</td></tr><tr><td>lifepoint_health_6iag__claims__standardized</td><td>835__claims_account_crosswalk__history</td><td>835</td></tr><tr><td>lifepoint_health_6iag__claims__standardized</td><td>835__claims_advice_billing_provider__history</td><td>835</td></tr><tr><td>lifepoint_health_6iag__claims__standardized</td><td>835__claims_advice_claim_line_adjustment__history</td><td>835</td></tr><tr><td>lifepoint_health_6iag__claims__standardized</td><td>835__claims_advice_meta_data__history</td><td>835</td></tr><tr><td>lifepoint_health_6iag__claims__standardized</td><td>835__claims_advice_payment__history</td><td>835</td></tr><tr><td>lifepoint_health_6iag__claims__standardized</td><td>835__claims_advice_payment_overview__history</td><td>835</td></tr><tr><td>lifepoint_health_6iag__claims__standardized</td><td>835__claims_advice_subscriber__history</td><td>835</td></tr><tr><td>lifepoint_health_6iag__claims__standardized</td><td>837__claims_account_crosswalk__history</td><td>837</td></tr><tr><td>lifepoint_health_6iag__claims__standardized</td><td>837__claims_billing_provider__history</td><td>837</td></tr><tr><td>lifepoint_health_6iag__claims__standardized</td><td>837__claims_claim__history</td><td>837</td></tr><tr><td>lifepoint_health_6iag__claims__standardized</td><td>837__claims_meta_data__history</td><td>837</td></tr><tr><td>lifepoint_health_6iag__claims__standardized</td><td>837__claims_physician__history</td><td>837</td></tr><tr><td>lifepoint_health_6iag__claims__standardized</td><td>837__claims_service_line__history</td><td>837</td></tr><tr><td>lifepoint_health_6iag__claims__standardized</td><td>837__claims_subscriber__history</td><td>837</td></tr><tr><td>lifepoint_health_6iag__claims__standardized</td><td>vw_837__claims_billing_provider__history</td><td>837</td></tr><tr><td>lifepoint_health_6iag__claims__standardized</td><td>vw_837__claims_billing_provider__latest</td><td>837</td></tr><tr><td>lifepoint_health_6iag__claims__standardized</td><td>vw_837__claims_claim__history</td><td>837</td></tr><tr><td>lifepoint_health_6iag__claims__standardized</td><td>vw_837__claims_claim__latest</td><td>837</td></tr><tr><td>lifepoint_health_6iag__claims__standardized</td><td>vw_837__claims_meta_data__history</td><td>837</td></tr><tr><td>lifepoint_health_6iag__claims__standardized</td><td>vw_837__claims_meta_data__latest</td><td>837</td></tr><tr><td>lifepoint_health_6iag__claims__standardized</td><td>vw_837__claims_physician__history</td><td>837</td></tr><tr><td>lifepoint_health_6iag__claims__standardized</td><td>vw_837__claims_physician__latest</td><td>837</td></tr><tr><td>lifepoint_health_6iag__claims__standardized</td><td>vw_837__claims_service_line__history</td><td>837</td></tr><tr><td>lifepoint_health_6iag__claims__standardized</td><td>vw_837__claims_service_line__latest</td><td>837</td></tr><tr><td>lifepoint_health_6iag__claims__standardized</td><td>vw_837__claims_subscriber__history</td><td>837</td></tr><tr><td>lifepoint_health_6iag__claims__standardized</td><td>vw_837__claims_subscriber__latest</td><td>837</td></tr><tr><td>loma_linda_university_health_9iag__claims__standardized</td><td>835__claims_account_crosswalk__history</td><td>835</td></tr><tr><td>loma_linda_university_health_9iag__claims__standardized</td><td>835__claims_advice_billing_provider__history</td><td>835</td></tr><tr><td>loma_linda_university_health_9iag__claims__standardized</td><td>835__claims_advice_claim_line_adjustment__history</td><td>835</td></tr><tr><td>loma_linda_university_health_9iag__claims__standardized</td><td>835__claims_advice_meta_data__history</td><td>835</td></tr><tr><td>loma_linda_university_health_9iag__claims__standardized</td><td>835__claims_advice_payment__history</td><td>835</td></tr><tr><td>loma_linda_university_health_9iag__claims__standardized</td><td>835__claims_advice_payment_overview__history</td><td>835</td></tr><tr><td>loma_linda_university_health_9iag__claims__standardized</td><td>835__claims_advice_subscriber__history</td><td>835</td></tr><tr><td>loma_linda_university_health_9iag__claims__standardized</td><td>837__claims_account_crosswalk__history</td><td>837</td></tr><tr><td>loma_linda_university_health_9iag__claims__standardized</td><td>837__claims_billing_provider__history</td><td>837</td></tr><tr><td>loma_linda_university_health_9iag__claims__standardized</td><td>837__claims_claim__history</td><td>837</td></tr><tr><td>loma_linda_university_health_9iag__claims__standardized</td><td>837__claims_meta_data__history</td><td>837</td></tr><tr><td>loma_linda_university_health_9iag__claims__standardized</td><td>837__claims_physician__history</td><td>837</td></tr><tr><td>loma_linda_university_health_9iag__claims__standardized</td><td>837__claims_service_line__history</td><td>837</td></tr><tr><td>loma_linda_university_health_9iag__claims__standardized</td><td>837__claims_subscriber__history</td><td>837</td></tr><tr><td>loma_linda_university_health_9iag__claims__standardized</td><td>vw_837__claims_billing_provider__history</td><td>837</td></tr><tr><td>loma_linda_university_health_9iag__claims__standardized</td><td>vw_837__claims_billing_provider__latest</td><td>837</td></tr><tr><td>loma_linda_university_health_9iag__claims__standardized</td><td>vw_837__claims_claim__history</td><td>837</td></tr><tr><td>loma_linda_university_health_9iag__claims__standardized</td><td>vw_837__claims_claim__latest</td><td>837</td></tr><tr><td>loma_linda_university_health_9iag__claims__standardized</td><td>vw_837__claims_meta_data__history</td><td>837</td></tr><tr><td>loma_linda_university_health_9iag__claims__standardized</td><td>vw_837__claims_meta_data__latest</td><td>837</td></tr><tr><td>loma_linda_university_health_9iag__claims__standardized</td><td>vw_837__claims_physician__history</td><td>837</td></tr><tr><td>loma_linda_university_health_9iag__claims__standardized</td><td>vw_837__claims_physician__latest</td><td>837</td></tr><tr><td>loma_linda_university_health_9iag__claims__standardized</td><td>vw_837__claims_service_line__history</td><td>837</td></tr><tr><td>loma_linda_university_health_9iag__claims__standardized</td><td>vw_837__claims_service_line__latest</td><td>837</td></tr><tr><td>loma_linda_university_health_9iag__claims__standardized</td><td>vw_837__claims_subscriber__history</td><td>837</td></tr><tr><td>loma_linda_university_health_9iag__claims__standardized</td><td>vw_837__claims_subscriber__latest</td><td>837</td></tr><tr><td>mainegeneral_health_sqad__claims__standardized</td><td>837__claims_account_crosswalk__history</td><td>837</td></tr><tr><td>mainegeneral_health_sqad__claims__standardized</td><td>837__claims_billing_provider__history</td><td>837</td></tr><tr><td>mainegeneral_health_sqad__claims__standardized</td><td>837__claims_claim__history</td><td>837</td></tr><tr><td>mainegeneral_health_sqad__claims__standardized</td><td>837__claims_meta_data__history</td><td>837</td></tr><tr><td>mainegeneral_health_sqad__claims__standardized</td><td>837__claims_physician__history</td><td>837</td></tr><tr><td>mainegeneral_health_sqad__claims__standardized</td><td>837__claims_service_line__history</td><td>837</td></tr><tr><td>mainegeneral_health_sqad__claims__standardized</td><td>837__claims_subscriber__history</td><td>837</td></tr><tr><td>mainegeneral_health_sqad__claims__standardized</td><td>claims_account_crosswalk_837__history</td><td>837</td></tr><tr><td>mainegeneral_health_sqad__claims__standardized</td><td>claims_billing_provider_837__history</td><td>837</td></tr><tr><td>mainegeneral_health_sqad__claims__standardized</td><td>claims_claim_837__history</td><td>837</td></tr><tr><td>mainegeneral_health_sqad__claims__standardized</td><td>claims_meta_data_837__history</td><td>837</td></tr><tr><td>mainegeneral_health_sqad__claims__standardized</td><td>claims_physician_837__history</td><td>837</td></tr><tr><td>mainegeneral_health_sqad__claims__standardized</td><td>claims_service_line_837__history</td><td>837</td></tr><tr><td>mainegeneral_health_sqad__claims__standardized</td><td>claims_subscriber_837__history</td><td>837</td></tr><tr><td>mainegeneral_health_sqad__claims__standardized</td><td>vw_837__claims_billing_provider__history</td><td>837</td></tr><tr><td>mainegeneral_health_sqad__claims__standardized</td><td>vw_837__claims_billing_provider__latest</td><td>837</td></tr><tr><td>mainegeneral_health_sqad__claims__standardized</td><td>vw_837__claims_claim__history</td><td>837</td></tr><tr><td>mainegeneral_health_sqad__claims__standardized</td><td>vw_837__claims_claim__latest</td><td>837</td></tr><tr><td>mainegeneral_health_sqad__claims__standardized</td><td>vw_837__claims_meta_data__history</td><td>837</td></tr><tr><td>mainegeneral_health_sqad__claims__standardized</td><td>vw_837__claims_meta_data__latest</td><td>837</td></tr><tr><td>mainegeneral_health_sqad__claims__standardized</td><td>vw_837__claims_physician__history</td><td>837</td></tr><tr><td>mainegeneral_health_sqad__claims__standardized</td><td>vw_837__claims_physician__latest</td><td>837</td></tr><tr><td>mainegeneral_health_sqad__claims__standardized</td><td>vw_837__claims_service_line__history</td><td>837</td></tr><tr><td>mainegeneral_health_sqad__claims__standardized</td><td>vw_837__claims_service_line__latest</td><td>837</td></tr><tr><td>mainegeneral_health_sqad__claims__standardized</td><td>vw_837__claims_subscriber__history</td><td>837</td></tr><tr><td>mainegeneral_health_sqad__claims__standardized</td><td>vw_837__claims_subscriber__latest</td><td>837</td></tr><tr><td>mainegeneral_health_sqad__claims__standardized</td><td>vw_claims_billing_provider_837__history</td><td>837</td></tr><tr><td>mainegeneral_health_sqad__claims__standardized</td><td>vw_claims_billing_provider_837__latest</td><td>837</td></tr><tr><td>mainegeneral_health_sqad__claims__standardized</td><td>vw_claims_claim_837__history</td><td>837</td></tr><tr><td>mainegeneral_health_sqad__claims__standardized</td><td>vw_claims_claim_837__latest</td><td>837</td></tr><tr><td>mainegeneral_health_sqad__claims__standardized</td><td>vw_claims_meta_data_837__history</td><td>837</td></tr><tr><td>mainegeneral_health_sqad__claims__standardized</td><td>vw_claims_meta_data_837__latest</td><td>837</td></tr><tr><td>mainegeneral_health_sqad__claims__standardized</td><td>vw_claims_physician_837__history</td><td>837</td></tr><tr><td>mainegeneral_health_sqad__claims__standardized</td><td>vw_claims_physician_837__latest</td><td>837</td></tr><tr><td>mainegeneral_health_sqad__claims__standardized</td><td>vw_claims_service_line_837__history</td><td>837</td></tr><tr><td>mainegeneral_health_sqad__claims__standardized</td><td>vw_claims_service_line_837__latest</td><td>837</td></tr><tr><td>mainegeneral_health_sqad__claims__standardized</td><td>vw_claims_subscriber_837__history</td><td>837</td></tr><tr><td>mainegeneral_health_sqad__claims__standardized</td><td>vw_claims_subscriber_837__latest</td><td>837</td></tr><tr><td>mclaren_health_care_corporation_9iag__claims__standardized</td><td>835__claims_account_crosswalk__history</td><td>835</td></tr><tr><td>mclaren_health_care_corporation_9iag__claims__standardized</td><td>835__claims_advice_billing_provider__history</td><td>835</td></tr><tr><td>mclaren_health_care_corporation_9iag__claims__standardized</td><td>835__claims_advice_claim_line_adjustment__history</td><td>835</td></tr><tr><td>mclaren_health_care_corporation_9iag__claims__standardized</td><td>835__claims_advice_meta_data__history</td><td>835</td></tr><tr><td>mclaren_health_care_corporation_9iag__claims__standardized</td><td>835__claims_advice_payment__history</td><td>835</td></tr><tr><td>mclaren_health_care_corporation_9iag__claims__standardized</td><td>835__claims_advice_payment_overview__history</td><td>835</td></tr><tr><td>mclaren_health_care_corporation_9iag__claims__standardized</td><td>835__claims_advice_subscriber__history</td><td>835</td></tr><tr><td>mclaren_health_care_corporation_9iag__claims__standardized</td><td>837__claims_account_crosswalk__history</td><td>837</td></tr><tr><td>mclaren_health_care_corporation_9iag__claims__standardized</td><td>837__claims_billing_provider__history</td><td>837</td></tr><tr><td>mclaren_health_care_corporation_9iag__claims__standardized</td><td>837__claims_claim__history</td><td>837</td></tr><tr><td>mclaren_health_care_corporation_9iag__claims__standardized</td><td>837__claims_meta_data__history</td><td>837</td></tr><tr><td>mclaren_health_care_corporation_9iag__claims__standardized</td><td>837__claims_physician__history</td><td>837</td></tr><tr><td>mclaren_health_care_corporation_9iag__claims__standardized</td><td>837__claims_service_line__history</td><td>837</td></tr><tr><td>mclaren_health_care_corporation_9iag__claims__standardized</td><td>837__claims_subscriber__history</td><td>837</td></tr><tr><td>mclaren_health_care_corporation_9iag__claims__standardized</td><td>vw_837__claims_billing_provider__history</td><td>837</td></tr><tr><td>mclaren_health_care_corporation_9iag__claims__standardized</td><td>vw_837__claims_billing_provider__latest</td><td>837</td></tr><tr><td>mclaren_health_care_corporation_9iag__claims__standardized</td><td>vw_837__claims_claim__history</td><td>837</td></tr><tr><td>mclaren_health_care_corporation_9iag__claims__standardized</td><td>vw_837__claims_claim__latest</td><td>837</td></tr><tr><td>mclaren_health_care_corporation_9iag__claims__standardized</td><td>vw_837__claims_meta_data__history</td><td>837</td></tr><tr><td>mclaren_health_care_corporation_9iag__claims__standardized</td><td>vw_837__claims_meta_data__latest</td><td>837</td></tr><tr><td>mclaren_health_care_corporation_9iag__claims__standardized</td><td>vw_837__claims_physician__history</td><td>837</td></tr><tr><td>mclaren_health_care_corporation_9iag__claims__standardized</td><td>vw_837__claims_physician__latest</td><td>837</td></tr><tr><td>mclaren_health_care_corporation_9iag__claims__standardized</td><td>vw_837__claims_service_line__history</td><td>837</td></tr><tr><td>mclaren_health_care_corporation_9iag__claims__standardized</td><td>vw_837__claims_service_line__latest</td><td>837</td></tr><tr><td>mclaren_health_care_corporation_9iag__claims__standardized</td><td>vw_837__claims_subscriber__history</td><td>837</td></tr><tr><td>mclaren_health_care_corporation_9iag__claims__standardized</td><td>vw_837__claims_subscriber__latest</td><td>837</td></tr><tr><td>mercy_9qal__claims__standardized</td><td>837__claims_account_crosswalk__history</td><td>837</td></tr><tr><td>mercy_9qal__claims__standardized</td><td>837__claims_billing_provider__history</td><td>837</td></tr><tr><td>mercy_9qal__claims__standardized</td><td>837__claims_claim__history</td><td>837</td></tr><tr><td>mercy_9qal__claims__standardized</td><td>837__claims_meta_data__history</td><td>837</td></tr><tr><td>mercy_9qal__claims__standardized</td><td>837__claims_physician__history</td><td>837</td></tr><tr><td>mercy_9qal__claims__standardized</td><td>837__claims_service_line__history</td><td>837</td></tr><tr><td>mercy_9qal__claims__standardized</td><td>837__claims_subscriber__history</td><td>837</td></tr><tr><td>mercy_9qal__claims__standardized</td><td>vw_837__claims_billing_provider__history</td><td>837</td></tr><tr><td>mercy_9qal__claims__standardized</td><td>vw_837__claims_billing_provider__latest</td><td>837</td></tr><tr><td>mercy_9qal__claims__standardized</td><td>vw_837__claims_claim__history</td><td>837</td></tr><tr><td>mercy_9qal__claims__standardized</td><td>vw_837__claims_claim__latest</td><td>837</td></tr><tr><td>mercy_9qal__claims__standardized</td><td>vw_837__claims_meta_data__history</td><td>837</td></tr><tr><td>mercy_9qal__claims__standardized</td><td>vw_837__claims_meta_data__latest</td><td>837</td></tr><tr><td>mercy_9qal__claims__standardized</td><td>vw_837__claims_physician__history</td><td>837</td></tr><tr><td>mercy_9qal__claims__standardized</td><td>vw_837__claims_physician__latest</td><td>837</td></tr><tr><td>mercy_9qal__claims__standardized</td><td>vw_837__claims_service_line__history</td><td>837</td></tr><tr><td>mercy_9qal__claims__standardized</td><td>vw_837__claims_service_line__latest</td><td>837</td></tr><tr><td>mercy_9qal__claims__standardized</td><td>vw_837__claims_subscriber__history</td><td>837</td></tr><tr><td>mercy_9qal__claims__standardized</td><td>vw_837__claims_subscriber__latest</td><td>837</td></tr><tr><td>montefiore_health_system_xiag__claims__standardized</td><td>837__claims_account_crosswalk__history</td><td>837</td></tr><tr><td>montefiore_health_system_xiag__claims__standardized</td><td>837__claims_billing_provider__history</td><td>837</td></tr><tr><td>montefiore_health_system_xiag__claims__standardized</td><td>837__claims_claim__history</td><td>837</td></tr><tr><td>montefiore_health_system_xiag__claims__standardized</td><td>837__claims_meta_data__history</td><td>837</td></tr><tr><td>montefiore_health_system_xiag__claims__standardized</td><td>837__claims_physician__history</td><td>837</td></tr><tr><td>montefiore_health_system_xiag__claims__standardized</td><td>837__claims_service_line__history</td><td>837</td></tr><tr><td>montefiore_health_system_xiag__claims__standardized</td><td>837__claims_subscriber__history</td><td>837</td></tr><tr><td>montefiore_health_system_xiag__claims__standardized</td><td>claims_account_crosswalk_837__history</td><td>837</td></tr><tr><td>montefiore_health_system_xiag__claims__standardized</td><td>claims_billing_provider_837__history</td><td>837</td></tr><tr><td>montefiore_health_system_xiag__claims__standardized</td><td>claims_claim_837__history</td><td>837</td></tr><tr><td>montefiore_health_system_xiag__claims__standardized</td><td>claims_meta_data_837__history</td><td>837</td></tr><tr><td>montefiore_health_system_xiag__claims__standardized</td><td>claims_physician_837__history</td><td>837</td></tr><tr><td>montefiore_health_system_xiag__claims__standardized</td><td>claims_service_line_837__history</td><td>837</td></tr><tr><td>montefiore_health_system_xiag__claims__standardized</td><td>claims_subscriber_837__history</td><td>837</td></tr><tr><td>montefiore_health_system_xiag__claims__standardized</td><td>vw_837__claims_billing_provider__history</td><td>837</td></tr><tr><td>montefiore_health_system_xiag__claims__standardized</td><td>vw_837__claims_billing_provider__latest</td><td>837</td></tr><tr><td>montefiore_health_system_xiag__claims__standardized</td><td>vw_837__claims_claim__history</td><td>837</td></tr><tr><td>montefiore_health_system_xiag__claims__standardized</td><td>vw_837__claims_claim__latest</td><td>837</td></tr><tr><td>montefiore_health_system_xiag__claims__standardized</td><td>vw_837__claims_meta_data__history</td><td>837</td></tr><tr><td>montefiore_health_system_xiag__claims__standardized</td><td>vw_837__claims_meta_data__latest</td><td>837</td></tr><tr><td>montefiore_health_system_xiag__claims__standardized</td><td>vw_837__claims_physician__history</td><td>837</td></tr><tr><td>montefiore_health_system_xiag__claims__standardized</td><td>vw_837__claims_physician__latest</td><td>837</td></tr><tr><td>montefiore_health_system_xiag__claims__standardized</td><td>vw_837__claims_service_line__history</td><td>837</td></tr><tr><td>montefiore_health_system_xiag__claims__standardized</td><td>vw_837__claims_service_line__latest</td><td>837</td></tr><tr><td>montefiore_health_system_xiag__claims__standardized</td><td>vw_837__claims_subscriber__history</td><td>837</td></tr><tr><td>montefiore_health_system_xiag__claims__standardized</td><td>vw_837__claims_subscriber__latest</td><td>837</td></tr><tr><td>montefiore_health_system_xiag__claims__standardized</td><td>vw_claims_billing_provider_837__history</td><td>837</td></tr><tr><td>montefiore_health_system_xiag__claims__standardized</td><td>vw_claims_billing_provider_837__latest</td><td>837</td></tr><tr><td>montefiore_health_system_xiag__claims__standardized</td><td>vw_claims_claim_837__history</td><td>837</td></tr><tr><td>montefiore_health_system_xiag__claims__standardized</td><td>vw_claims_claim_837__latest</td><td>837</td></tr><tr><td>montefiore_health_system_xiag__claims__standardized</td><td>vw_claims_meta_data_837__history</td><td>837</td></tr><tr><td>montefiore_health_system_xiag__claims__standardized</td><td>vw_claims_meta_data_837__latest</td><td>837</td></tr><tr><td>montefiore_health_system_xiag__claims__standardized</td><td>vw_claims_physician_837__history</td><td>837</td></tr><tr><td>montefiore_health_system_xiag__claims__standardized</td><td>vw_claims_physician_837__latest</td><td>837</td></tr><tr><td>montefiore_health_system_xiag__claims__standardized</td><td>vw_claims_service_line_837__history</td><td>837</td></tr><tr><td>montefiore_health_system_xiag__claims__standardized</td><td>vw_claims_service_line_837__latest</td><td>837</td></tr><tr><td>montefiore_health_system_xiag__claims__standardized</td><td>vw_claims_subscriber_837__history</td><td>837</td></tr><tr><td>montefiore_health_system_xiag__claims__standardized</td><td>vw_claims_subscriber_837__latest</td><td>837</td></tr><tr><td>nuvance_health_cqam__claims__standardized</td><td>837__claims_account_crosswalk__history</td><td>837</td></tr><tr><td>nuvance_health_cqam__claims__standardized</td><td>837__claims_billing_provider__history</td><td>837</td></tr><tr><td>nuvance_health_cqam__claims__standardized</td><td>837__claims_claim__history</td><td>837</td></tr><tr><td>nuvance_health_cqam__claims__standardized</td><td>837__claims_meta_data__history</td><td>837</td></tr><tr><td>nuvance_health_cqam__claims__standardized</td><td>837__claims_physician__history</td><td>837</td></tr><tr><td>nuvance_health_cqam__claims__standardized</td><td>837__claims_service_line__history</td><td>837</td></tr><tr><td>nuvance_health_cqam__claims__standardized</td><td>837__claims_subscriber__history</td><td>837</td></tr><tr><td>nuvance_health_cqam__claims__standardized</td><td>vw_837__claims_billing_provider__history</td><td>837</td></tr><tr><td>nuvance_health_cqam__claims__standardized</td><td>vw_837__claims_billing_provider__latest</td><td>837</td></tr><tr><td>nuvance_health_cqam__claims__standardized</td><td>vw_837__claims_claim__history</td><td>837</td></tr><tr><td>nuvance_health_cqam__claims__standardized</td><td>vw_837__claims_claim__latest</td><td>837</td></tr><tr><td>nuvance_health_cqam__claims__standardized</td><td>vw_837__claims_meta_data__history</td><td>837</td></tr><tr><td>nuvance_health_cqam__claims__standardized</td><td>vw_837__claims_meta_data__latest</td><td>837</td></tr><tr><td>nuvance_health_cqam__claims__standardized</td><td>vw_837__claims_physician__history</td><td>837</td></tr><tr><td>nuvance_health_cqam__claims__standardized</td><td>vw_837__claims_physician__latest</td><td>837</td></tr><tr><td>nuvance_health_cqam__claims__standardized</td><td>vw_837__claims_service_line__history</td><td>837</td></tr><tr><td>nuvance_health_cqam__claims__standardized</td><td>vw_837__claims_service_line__latest</td><td>837</td></tr><tr><td>nuvance_health_cqam__claims__standardized</td><td>vw_837__claims_subscriber__history</td><td>837</td></tr><tr><td>nuvance_health_cqam__claims__standardized</td><td>vw_837__claims_subscriber__latest</td><td>837</td></tr><tr><td>ohsu_partners_miah__claims__standardized</td><td>837__claims_account_crosswalk__history</td><td>837</td></tr><tr><td>ohsu_partners_miah__claims__standardized</td><td>837__claims_account_crosswalk__latest</td><td>837</td></tr><tr><td>ohsu_partners_miah__claims__standardized</td><td>837__claims_billing_provider__history</td><td>837</td></tr><tr><td>ohsu_partners_miah__claims__standardized</td><td>837__claims_billing_provider__latest</td><td>837</td></tr><tr><td>ohsu_partners_miah__claims__standardized</td><td>837__claims_claim__history</td><td>837</td></tr><tr><td>ohsu_partners_miah__claims__standardized</td><td>837__claims_claim__latest</td><td>837</td></tr><tr><td>ohsu_partners_miah__claims__standardized</td><td>837__claims_meta_data__history</td><td>837</td></tr><tr><td>ohsu_partners_miah__claims__standardized</td><td>837__claims_meta_data__latest</td><td>837</td></tr><tr><td>ohsu_partners_miah__claims__standardized</td><td>837__claims_physician__history</td><td>837</td></tr><tr><td>ohsu_partners_miah__claims__standardized</td><td>837__claims_physician__latest</td><td>837</td></tr><tr><td>ohsu_partners_miah__claims__standardized</td><td>837__claims_service_line__history</td><td>837</td></tr><tr><td>ohsu_partners_miah__claims__standardized</td><td>837__claims_service_line__latest</td><td>837</td></tr><tr><td>ohsu_partners_miah__claims__standardized</td><td>837__claims_subscriber__history</td><td>837</td></tr><tr><td>ohsu_partners_miah__claims__standardized</td><td>837__claims_subscriber__latest</td><td>837</td></tr><tr><td>ohsu_partners_miah__claims__standardized</td><td>claims_account_crosswalk_837__history</td><td>837</td></tr><tr><td>ohsu_partners_miah__claims__standardized</td><td>claims_billing_provider_837__history</td><td>837</td></tr><tr><td>ohsu_partners_miah__claims__standardized</td><td>claims_claim_837__history</td><td>837</td></tr><tr><td>ohsu_partners_miah__claims__standardized</td><td>claims_meta_data_837__history</td><td>837</td></tr><tr><td>ohsu_partners_miah__claims__standardized</td><td>claims_physician_837__history</td><td>837</td></tr><tr><td>ohsu_partners_miah__claims__standardized</td><td>claims_service_line_837__history</td><td>837</td></tr><tr><td>ohsu_partners_miah__claims__standardized</td><td>claims_subscriber_837__history</td><td>837</td></tr><tr><td>ohsu_partners_miah__claims__standardized</td><td>vw_837__claims_billing_provider__history</td><td>837</td></tr><tr><td>ohsu_partners_miah__claims__standardized</td><td>vw_837__claims_billing_provider__latest</td><td>837</td></tr><tr><td>ohsu_partners_miah__claims__standardized</td><td>vw_837__claims_claim__history</td><td>837</td></tr><tr><td>ohsu_partners_miah__claims__standardized</td><td>vw_837__claims_claim__latest</td><td>837</td></tr><tr><td>ohsu_partners_miah__claims__standardized</td><td>vw_837__claims_meta_data__history</td><td>837</td></tr><tr><td>ohsu_partners_miah__claims__standardized</td><td>vw_837__claims_meta_data__latest</td><td>837</td></tr><tr><td>ohsu_partners_miah__claims__standardized</td><td>vw_837__claims_physician__history</td><td>837</td></tr><tr><td>ohsu_partners_miah__claims__standardized</td><td>vw_837__claims_physician__latest</td><td>837</td></tr><tr><td>ohsu_partners_miah__claims__standardized</td><td>vw_837__claims_service_line__history</td><td>837</td></tr><tr><td>ohsu_partners_miah__claims__standardized</td><td>vw_837__claims_service_line__latest</td><td>837</td></tr><tr><td>ohsu_partners_miah__claims__standardized</td><td>vw_837__claims_subscriber__history</td><td>837</td></tr><tr><td>ohsu_partners_miah__claims__standardized</td><td>vw_837__claims_subscriber__latest</td><td>837</td></tr><tr><td>ohsu_partners_miah__claims__standardized</td><td>vw_claims_billing_provider_837__history</td><td>837</td></tr><tr><td>ohsu_partners_miah__claims__standardized</td><td>vw_claims_billing_provider_837__latest</td><td>837</td></tr><tr><td>ohsu_partners_miah__claims__standardized</td><td>vw_claims_claim_837__history</td><td>837</td></tr><tr><td>ohsu_partners_miah__claims__standardized</td><td>vw_claims_claim_837__latest</td><td>837</td></tr><tr><td>ohsu_partners_miah__claims__standardized</td><td>vw_claims_meta_data_837__history</td><td>837</td></tr><tr><td>ohsu_partners_miah__claims__standardized</td><td>vw_claims_meta_data_837__latest</td><td>837</td></tr><tr><td>ohsu_partners_miah__claims__standardized</td><td>vw_claims_physician_837__history</td><td>837</td></tr><tr><td>ohsu_partners_miah__claims__standardized</td><td>vw_claims_physician_837__latest</td><td>837</td></tr><tr><td>ohsu_partners_miah__claims__standardized</td><td>vw_claims_service_line_837__history</td><td>837</td></tr><tr><td>ohsu_partners_miah__claims__standardized</td><td>vw_claims_service_line_837__latest</td><td>837</td></tr><tr><td>ohsu_partners_miah__claims__standardized</td><td>vw_claims_subscriber_837__history</td><td>837</td></tr><tr><td>ohsu_partners_miah__claims__standardized</td><td>vw_claims_subscriber_837__latest</td><td>837</td></tr><tr><td>pih_health_vqat__claims__standardized</td><td>837__claims_account_crosswalk__history</td><td>837</td></tr><tr><td>pih_health_vqat__claims__standardized</td><td>837__claims_billing_provider__history</td><td>837</td></tr><tr><td>pih_health_vqat__claims__standardized</td><td>837__claims_claim__history</td><td>837</td></tr><tr><td>pih_health_vqat__claims__standardized</td><td>837__claims_meta_data__history</td><td>837</td></tr><tr><td>pih_health_vqat__claims__standardized</td><td>837__claims_physician__history</td><td>837</td></tr><tr><td>pih_health_vqat__claims__standardized</td><td>837__claims_service_line__history</td><td>837</td></tr><tr><td>pih_health_vqat__claims__standardized</td><td>837__claims_subscriber__history</td><td>837</td></tr><tr><td>pih_health_vqat__claims__standardized</td><td>claims_account_crosswalk_837__history</td><td>837</td></tr><tr><td>pih_health_vqat__claims__standardized</td><td>claims_billing_provider_837__history</td><td>837</td></tr><tr><td>pih_health_vqat__claims__standardized</td><td>claims_claim_837__history</td><td>837</td></tr><tr><td>pih_health_vqat__claims__standardized</td><td>claims_meta_data_837__history</td><td>837</td></tr><tr><td>pih_health_vqat__claims__standardized</td><td>claims_physician_837__history</td><td>837</td></tr><tr><td>pih_health_vqat__claims__standardized</td><td>claims_service_line_837__history</td><td>837</td></tr><tr><td>pih_health_vqat__claims__standardized</td><td>claims_subscriber_837__history</td><td>837</td></tr><tr><td>pih_health_vqat__claims__standardized</td><td>vw_837__claims_billing_provider__history</td><td>837</td></tr><tr><td>pih_health_vqat__claims__standardized</td><td>vw_837__claims_billing_provider__latest</td><td>837</td></tr><tr><td>pih_health_vqat__claims__standardized</td><td>vw_837__claims_claim__history</td><td>837</td></tr><tr><td>pih_health_vqat__claims__standardized</td><td>vw_837__claims_claim__latest</td><td>837</td></tr><tr><td>pih_health_vqat__claims__standardized</td><td>vw_837__claims_meta_data__history</td><td>837</td></tr><tr><td>pih_health_vqat__claims__standardized</td><td>vw_837__claims_meta_data__latest</td><td>837</td></tr><tr><td>pih_health_vqat__claims__standardized</td><td>vw_837__claims_physician__history</td><td>837</td></tr><tr><td>pih_health_vqat__claims__standardized</td><td>vw_837__claims_physician__latest</td><td>837</td></tr><tr><td>pih_health_vqat__claims__standardized</td><td>vw_837__claims_service_line__history</td><td>837</td></tr><tr><td>pih_health_vqat__claims__standardized</td><td>vw_837__claims_service_line__latest</td><td>837</td></tr><tr><td>pih_health_vqat__claims__standardized</td><td>vw_837__claims_subscriber__history</td><td>837</td></tr><tr><td>pih_health_vqat__claims__standardized</td><td>vw_837__claims_subscriber__latest</td><td>837</td></tr><tr><td>pih_health_vqat__claims__standardized</td><td>vw_claims_billing_provider_837__history</td><td>837</td></tr><tr><td>pih_health_vqat__claims__standardized</td><td>vw_claims_billing_provider_837__latest</td><td>837</td></tr><tr><td>pih_health_vqat__claims__standardized</td><td>vw_claims_claim_837__history</td><td>837</td></tr><tr><td>pih_health_vqat__claims__standardized</td><td>vw_claims_claim_837__latest</td><td>837</td></tr><tr><td>pih_health_vqat__claims__standardized</td><td>vw_claims_meta_data_837__history</td><td>837</td></tr><tr><td>pih_health_vqat__claims__standardized</td><td>vw_claims_meta_data_837__latest</td><td>837</td></tr><tr><td>pih_health_vqat__claims__standardized</td><td>vw_claims_physician_837__history</td><td>837</td></tr><tr><td>pih_health_vqat__claims__standardized</td><td>vw_claims_physician_837__latest</td><td>837</td></tr><tr><td>pih_health_vqat__claims__standardized</td><td>vw_claims_service_line_837__history</td><td>837</td></tr><tr><td>pih_health_vqat__claims__standardized</td><td>vw_claims_service_line_837__latest</td><td>837</td></tr><tr><td>pih_health_vqat__claims__standardized</td><td>vw_claims_subscriber_837__history</td><td>837</td></tr><tr><td>pih_health_vqat__claims__standardized</td><td>vw_claims_subscriber_837__latest</td><td>837</td></tr><tr><td>providence_st_joseph_health_viaw__claims__standardized</td><td>835__claims_account_crosswalk__history</td><td>835</td></tr><tr><td>providence_st_joseph_health_viaw__claims__standardized</td><td>835__claims_advice_billing_provider__history</td><td>835</td></tr><tr><td>providence_st_joseph_health_viaw__claims__standardized</td><td>835__claims_advice_claim_line_adjustment__history</td><td>835</td></tr><tr><td>providence_st_joseph_health_viaw__claims__standardized</td><td>835__claims_advice_meta_data__history</td><td>835</td></tr><tr><td>providence_st_joseph_health_viaw__claims__standardized</td><td>835__claims_advice_payment__history</td><td>835</td></tr><tr><td>providence_st_joseph_health_viaw__claims__standardized</td><td>835__claims_advice_payment_overview__history</td><td>835</td></tr><tr><td>providence_st_joseph_health_viaw__claims__standardized</td><td>835__claims_advice_subscriber__history</td><td>835</td></tr><tr><td>providence_st_joseph_health_viaw__claims__standardized</td><td>837__claims_account_crosswalk__history</td><td>837</td></tr><tr><td>providence_st_joseph_health_viaw__claims__standardized</td><td>837__claims_billing_provider__history</td><td>837</td></tr><tr><td>providence_st_joseph_health_viaw__claims__standardized</td><td>837__claims_claim__history</td><td>837</td></tr><tr><td>providence_st_joseph_health_viaw__claims__standardized</td><td>837__claims_meta_data__history</td><td>837</td></tr><tr><td>providence_st_joseph_health_viaw__claims__standardized</td><td>837__claims_physician__history</td><td>837</td></tr><tr><td>providence_st_joseph_health_viaw__claims__standardized</td><td>837__claims_service_line__history</td><td>837</td></tr><tr><td>providence_st_joseph_health_viaw__claims__standardized</td><td>837__claims_subscriber__history</td><td>837</td></tr><tr><td>providence_st_joseph_health_viaw__claims__standardized</td><td>claims_account_crosswalk_837__history</td><td>837</td></tr><tr><td>providence_st_joseph_health_viaw__claims__standardized</td><td>claims_billing_provider_837__history</td><td>837</td></tr><tr><td>providence_st_joseph_health_viaw__claims__standardized</td><td>claims_claim_837__history</td><td>837</td></tr><tr><td>providence_st_joseph_health_viaw__claims__standardized</td><td>claims_meta_data_837__history</td><td>837</td></tr><tr><td>providence_st_joseph_health_viaw__claims__standardized</td><td>claims_physician_837__history</td><td>837</td></tr><tr><td>providence_st_joseph_health_viaw__claims__standardized</td><td>claims_service_line_837__history</td><td>837</td></tr><tr><td>providence_st_joseph_health_viaw__claims__standardized</td><td>claims_subscriber_837__history</td><td>837</td></tr><tr><td>providence_st_joseph_health_viaw__claims__standardized</td><td>vw_837__claims_billing_provider__history</td><td>837</td></tr><tr><td>providence_st_joseph_health_viaw__claims__standardized</td><td>vw_837__claims_billing_provider__latest</td><td>837</td></tr><tr><td>providence_st_joseph_health_viaw__claims__standardized</td><td>vw_837__claims_claim__history</td><td>837</td></tr><tr><td>providence_st_joseph_health_viaw__claims__standardized</td><td>vw_837__claims_claim__latest</td><td>837</td></tr><tr><td>providence_st_joseph_health_viaw__claims__standardized</td><td>vw_837__claims_meta_data__history</td><td>837</td></tr><tr><td>providence_st_joseph_health_viaw__claims__standardized</td><td>vw_837__claims_meta_data__latest</td><td>837</td></tr><tr><td>providence_st_joseph_health_viaw__claims__standardized</td><td>vw_837__claims_physician__history</td><td>837</td></tr><tr><td>providence_st_joseph_health_viaw__claims__standardized</td><td>vw_837__claims_physician__latest</td><td>837</td></tr><tr><td>providence_st_joseph_health_viaw__claims__standardized</td><td>vw_837__claims_service_line__history</td><td>837</td></tr><tr><td>providence_st_joseph_health_viaw__claims__standardized</td><td>vw_837__claims_service_line__latest</td><td>837</td></tr><tr><td>providence_st_joseph_health_viaw__claims__standardized</td><td>vw_837__claims_subscriber__history</td><td>837</td></tr><tr><td>providence_st_joseph_health_viaw__claims__standardized</td><td>vw_837__claims_subscriber__latest</td><td>837</td></tr><tr><td>providence_st_joseph_health_viaw__claims__standardized</td><td>vw_claims_billing_provider_837__history</td><td>837</td></tr><tr><td>providence_st_joseph_health_viaw__claims__standardized</td><td>vw_claims_billing_provider_837__latest</td><td>837</td></tr><tr><td>providence_st_joseph_health_viaw__claims__standardized</td><td>vw_claims_claim_837__history</td><td>837</td></tr><tr><td>providence_st_joseph_health_viaw__claims__standardized</td><td>vw_claims_claim_837__latest</td><td>837</td></tr><tr><td>providence_st_joseph_health_viaw__claims__standardized</td><td>vw_claims_meta_data_837__history</td><td>837</td></tr><tr><td>providence_st_joseph_health_viaw__claims__standardized</td><td>vw_claims_meta_data_837__latest</td><td>837</td></tr><tr><td>providence_st_joseph_health_viaw__claims__standardized</td><td>vw_claims_physician_837__history</td><td>837</td></tr><tr><td>providence_st_joseph_health_viaw__claims__standardized</td><td>vw_claims_physician_837__latest</td><td>837</td></tr><tr><td>providence_st_joseph_health_viaw__claims__standardized</td><td>vw_claims_service_line_837__history</td><td>837</td></tr><tr><td>providence_st_joseph_health_viaw__claims__standardized</td><td>vw_claims_service_line_837__latest</td><td>837</td></tr><tr><td>providence_st_joseph_health_viaw__claims__standardized</td><td>vw_claims_subscriber_837__history</td><td>837</td></tr><tr><td>providence_st_joseph_health_viaw__claims__standardized</td><td>vw_claims_subscriber_837__latest</td><td>837</td></tr><tr><td>ridgeview_medical_center_health_system_tqal__claims__standardized</td><td>837__claims_account_crosswalk__history</td><td>837</td></tr><tr><td>ridgeview_medical_center_health_system_tqal__claims__standardized</td><td>837__claims_billing_provider__history</td><td>837</td></tr><tr><td>ridgeview_medical_center_health_system_tqal__claims__standardized</td><td>837__claims_claim__history</td><td>837</td></tr><tr><td>ridgeview_medical_center_health_system_tqal__claims__standardized</td><td>837__claims_meta_data__history</td><td>837</td></tr><tr><td>ridgeview_medical_center_health_system_tqal__claims__standardized</td><td>837__claims_physician__history</td><td>837</td></tr><tr><td>ridgeview_medical_center_health_system_tqal__claims__standardized</td><td>837__claims_service_line__history</td><td>837</td></tr><tr><td>ridgeview_medical_center_health_system_tqal__claims__standardized</td><td>837__claims_subscriber__history</td><td>837</td></tr><tr><td>ridgeview_medical_center_health_system_tqal__claims__standardized</td><td>vw_837__claims_billing_provider__history</td><td>837</td></tr><tr><td>ridgeview_medical_center_health_system_tqal__claims__standardized</td><td>vw_837__claims_billing_provider__latest</td><td>837</td></tr><tr><td>ridgeview_medical_center_health_system_tqal__claims__standardized</td><td>vw_837__claims_claim__history</td><td>837</td></tr><tr><td>ridgeview_medical_center_health_system_tqal__claims__standardized</td><td>vw_837__claims_claim__latest</td><td>837</td></tr><tr><td>ridgeview_medical_center_health_system_tqal__claims__standardized</td><td>vw_837__claims_meta_data__history</td><td>837</td></tr><tr><td>ridgeview_medical_center_health_system_tqal__claims__standardized</td><td>vw_837__claims_meta_data__latest</td><td>837</td></tr><tr><td>ridgeview_medical_center_health_system_tqal__claims__standardized</td><td>vw_837__claims_physician__history</td><td>837</td></tr><tr><td>ridgeview_medical_center_health_system_tqal__claims__standardized</td><td>vw_837__claims_physician__latest</td><td>837</td></tr><tr><td>ridgeview_medical_center_health_system_tqal__claims__standardized</td><td>vw_837__claims_service_line__history</td><td>837</td></tr><tr><td>ridgeview_medical_center_health_system_tqal__claims__standardized</td><td>vw_837__claims_service_line__latest</td><td>837</td></tr><tr><td>ridgeview_medical_center_health_system_tqal__claims__standardized</td><td>vw_837__claims_subscriber__history</td><td>837</td></tr><tr><td>ridgeview_medical_center_health_system_tqal__claims__standardized</td><td>vw_837__claims_subscriber__latest</td><td>837</td></tr><tr><td>rwjbarnabas_health_3iak__claims__standardized</td><td>837__claims_account_crosswalk__history</td><td>837</td></tr><tr><td>rwjbarnabas_health_3iak__claims__standardized</td><td>837__claims_account_crosswalk__latest</td><td>837</td></tr><tr><td>rwjbarnabas_health_3iak__claims__standardized</td><td>837__claims_billing_provider__history</td><td>837</td></tr><tr><td>rwjbarnabas_health_3iak__claims__standardized</td><td>837__claims_billing_provider__latest</td><td>837</td></tr><tr><td>rwjbarnabas_health_3iak__claims__standardized</td><td>837__claims_claim__history</td><td>837</td></tr><tr><td>rwjbarnabas_health_3iak__claims__standardized</td><td>837__claims_claim__latest</td><td>837</td></tr><tr><td>rwjbarnabas_health_3iak__claims__standardized</td><td>837__claims_meta_data__history</td><td>837</td></tr><tr><td>rwjbarnabas_health_3iak__claims__standardized</td><td>837__claims_meta_data__latest</td><td>837</td></tr><tr><td>rwjbarnabas_health_3iak__claims__standardized</td><td>837__claims_physician__history</td><td>837</td></tr><tr><td>rwjbarnabas_health_3iak__claims__standardized</td><td>837__claims_physician__latest</td><td>837</td></tr><tr><td>rwjbarnabas_health_3iak__claims__standardized</td><td>837__claims_service_line__history</td><td>837</td></tr><tr><td>rwjbarnabas_health_3iak__claims__standardized</td><td>837__claims_service_line__latest</td><td>837</td></tr><tr><td>rwjbarnabas_health_3iak__claims__standardized</td><td>837__claims_subscriber__history</td><td>837</td></tr><tr><td>rwjbarnabas_health_3iak__claims__standardized</td><td>837__claims_subscriber__latest</td><td>837</td></tr><tr><td>rwjbarnabas_health_3iak__claims__standardized</td><td>claims_account_crosswalk_837__history</td><td>837</td></tr><tr><td>rwjbarnabas_health_3iak__claims__standardized</td><td>claims_billing_provider_837__history</td><td>837</td></tr><tr><td>rwjbarnabas_health_3iak__claims__standardized</td><td>claims_claim_837__history</td><td>837</td></tr><tr><td>rwjbarnabas_health_3iak__claims__standardized</td><td>claims_meta_data_837__history</td><td>837</td></tr><tr><td>rwjbarnabas_health_3iak__claims__standardized</td><td>claims_physician_837__history</td><td>837</td></tr><tr><td>rwjbarnabas_health_3iak__claims__standardized</td><td>claims_service_line_837__history</td><td>837</td></tr><tr><td>rwjbarnabas_health_3iak__claims__standardized</td><td>claims_subscriber_837__history</td><td>837</td></tr><tr><td>rwjbarnabas_health_3iak__claims__standardized</td><td>vw_837__claims_billing_provider__history</td><td>837</td></tr><tr><td>rwjbarnabas_health_3iak__claims__standardized</td><td>vw_837__claims_billing_provider__latest</td><td>837</td></tr><tr><td>rwjbarnabas_health_3iak__claims__standardized</td><td>vw_837__claims_claim__history</td><td>837</td></tr><tr><td>rwjbarnabas_health_3iak__claims__standardized</td><td>vw_837__claims_claim__latest</td><td>837</td></tr><tr><td>rwjbarnabas_health_3iak__claims__standardized</td><td>vw_837__claims_meta_data__history</td><td>837</td></tr><tr><td>rwjbarnabas_health_3iak__claims__standardized</td><td>vw_837__claims_meta_data__latest</td><td>837</td></tr><tr><td>rwjbarnabas_health_3iak__claims__standardized</td><td>vw_837__claims_physician__history</td><td>837</td></tr><tr><td>rwjbarnabas_health_3iak__claims__standardized</td><td>vw_837__claims_physician__latest</td><td>837</td></tr><tr><td>rwjbarnabas_health_3iak__claims__standardized</td><td>vw_837__claims_service_line__history</td><td>837</td></tr><tr><td>rwjbarnabas_health_3iak__claims__standardized</td><td>vw_837__claims_service_line__latest</td><td>837</td></tr><tr><td>rwjbarnabas_health_3iak__claims__standardized</td><td>vw_837__claims_subscriber__history</td><td>837</td></tr><tr><td>rwjbarnabas_health_3iak__claims__standardized</td><td>vw_837__claims_subscriber__latest</td><td>837</td></tr><tr><td>rwjbarnabas_health_3iak__claims__standardized</td><td>vw_claims_billing_provider_837__history</td><td>837</td></tr><tr><td>rwjbarnabas_health_3iak__claims__standardized</td><td>vw_claims_billing_provider_837__latest</td><td>837</td></tr><tr><td>rwjbarnabas_health_3iak__claims__standardized</td><td>vw_claims_claim_837__history</td><td>837</td></tr><tr><td>rwjbarnabas_health_3iak__claims__standardized</td><td>vw_claims_claim_837__latest</td><td>837</td></tr><tr><td>rwjbarnabas_health_3iak__claims__standardized</td><td>vw_claims_meta_data_837__history</td><td>837</td></tr><tr><td>rwjbarnabas_health_3iak__claims__standardized</td><td>vw_claims_meta_data_837__latest</td><td>837</td></tr><tr><td>rwjbarnabas_health_3iak__claims__standardized</td><td>vw_claims_physician_837__history</td><td>837</td></tr><tr><td>rwjbarnabas_health_3iak__claims__standardized</td><td>vw_claims_physician_837__latest</td><td>837</td></tr><tr><td>rwjbarnabas_health_3iak__claims__standardized</td><td>vw_claims_service_line_837__history</td><td>837</td></tr><tr><td>rwjbarnabas_health_3iak__claims__standardized</td><td>vw_claims_service_line_837__latest</td><td>837</td></tr><tr><td>rwjbarnabas_health_3iak__claims__standardized</td><td>vw_claims_subscriber_837__history</td><td>837</td></tr><tr><td>rwjbarnabas_health_3iak__claims__standardized</td><td>vw_claims_subscriber_837__latest</td><td>837</td></tr><tr><td>scl_health_siaw__claims__standardized</td><td>837__claims_account_crosswalk__history</td><td>837</td></tr><tr><td>scl_health_siaw__claims__standardized</td><td>837__claims_billing_provider__history</td><td>837</td></tr><tr><td>scl_health_siaw__claims__standardized</td><td>837__claims_claim__history</td><td>837</td></tr><tr><td>scl_health_siaw__claims__standardized</td><td>837__claims_meta_data__history</td><td>837</td></tr><tr><td>scl_health_siaw__claims__standardized</td><td>837__claims_physician__history</td><td>837</td></tr><tr><td>scl_health_siaw__claims__standardized</td><td>837__claims_service_line__history</td><td>837</td></tr><tr><td>scl_health_siaw__claims__standardized</td><td>837__claims_subscriber__history</td><td>837</td></tr><tr><td>scl_health_siaw__claims__standardized</td><td>vw_837__claims_billing_provider__history</td><td>837</td></tr><tr><td>scl_health_siaw__claims__standardized</td><td>vw_837__claims_billing_provider__latest</td><td>837</td></tr><tr><td>scl_health_siaw__claims__standardized</td><td>vw_837__claims_claim__history</td><td>837</td></tr><tr><td>scl_health_siaw__claims__standardized</td><td>vw_837__claims_claim__latest</td><td>837</td></tr><tr><td>scl_health_siaw__claims__standardized</td><td>vw_837__claims_meta_data__history</td><td>837</td></tr><tr><td>scl_health_siaw__claims__standardized</td><td>vw_837__claims_meta_data__latest</td><td>837</td></tr><tr><td>scl_health_siaw__claims__standardized</td><td>vw_837__claims_physician__history</td><td>837</td></tr><tr><td>scl_health_siaw__claims__standardized</td><td>vw_837__claims_physician__latest</td><td>837</td></tr><tr><td>scl_health_siaw__claims__standardized</td><td>vw_837__claims_service_line__history</td><td>837</td></tr><tr><td>scl_health_siaw__claims__standardized</td><td>vw_837__claims_service_line__latest</td><td>837</td></tr><tr><td>scl_health_siaw__claims__standardized</td><td>vw_837__claims_subscriber__history</td><td>837</td></tr><tr><td>scl_health_siaw__claims__standardized</td><td>vw_837__claims_subscriber__latest</td><td>837</td></tr><tr><td>seattle_cancer_care_alliance_miax__claims__standardized</td><td>835__claims_account_crosswalk__history</td><td>835</td></tr><tr><td>seattle_cancer_care_alliance_miax__claims__standardized</td><td>835__claims_advice_billing_provider__history</td><td>835</td></tr><tr><td>seattle_cancer_care_alliance_miax__claims__standardized</td><td>835__claims_advice_claim_line_adjustment__history</td><td>835</td></tr><tr><td>seattle_cancer_care_alliance_miax__claims__standardized</td><td>835__claims_advice_meta_data__history</td><td>835</td></tr><tr><td>seattle_cancer_care_alliance_miax__claims__standardized</td><td>835__claims_advice_payment__history</td><td>835</td></tr><tr><td>seattle_cancer_care_alliance_miax__claims__standardized</td><td>835__claims_advice_payment_overview__history</td><td>835</td></tr><tr><td>seattle_cancer_care_alliance_miax__claims__standardized</td><td>835__claims_advice_subscriber__history</td><td>835</td></tr><tr><td>st_lukes_hospital_health_system_7qad__claims__standardized</td><td>837__claims_account_crosswalk__history</td><td>837</td></tr><tr><td>st_lukes_hospital_health_system_7qad__claims__standardized</td><td>837__claims_billing_provider__history</td><td>837</td></tr><tr><td>st_lukes_hospital_health_system_7qad__claims__standardized</td><td>837__claims_claim__history</td><td>837</td></tr><tr><td>st_lukes_hospital_health_system_7qad__claims__standardized</td><td>837__claims_meta_data__history</td><td>837</td></tr><tr><td>st_lukes_hospital_health_system_7qad__claims__standardized</td><td>837__claims_physician__history</td><td>837</td></tr><tr><td>st_lukes_hospital_health_system_7qad__claims__standardized</td><td>837__claims_service_line__history</td><td>837</td></tr><tr><td>st_lukes_hospital_health_system_7qad__claims__standardized</td><td>837__claims_subscriber__history</td><td>837</td></tr><tr><td>st_lukes_hospital_health_system_7qad__claims__standardized</td><td>claims_account_crosswalk_837__history</td><td>837</td></tr><tr><td>st_lukes_hospital_health_system_7qad__claims__standardized</td><td>claims_billing_provider_837__history</td><td>837</td></tr><tr><td>st_lukes_hospital_health_system_7qad__claims__standardized</td><td>claims_claim_837__history</td><td>837</td></tr><tr><td>st_lukes_hospital_health_system_7qad__claims__standardized</td><td>claims_meta_data_837__history</td><td>837</td></tr><tr><td>st_lukes_hospital_health_system_7qad__claims__standardized</td><td>claims_physician_837__history</td><td>837</td></tr><tr><td>st_lukes_hospital_health_system_7qad__claims__standardized</td><td>claims_service_line_837__history</td><td>837</td></tr><tr><td>st_lukes_hospital_health_system_7qad__claims__standardized</td><td>claims_subscriber_837__history</td><td>837</td></tr><tr><td>st_lukes_hospital_health_system_7qad__claims__standardized</td><td>vw_837__claims_billing_provider__history</td><td>837</td></tr><tr><td>st_lukes_hospital_health_system_7qad__claims__standardized</td><td>vw_837__claims_billing_provider__latest</td><td>837</td></tr><tr><td>st_lukes_hospital_health_system_7qad__claims__standardized</td><td>vw_837__claims_claim__history</td><td>837</td></tr><tr><td>st_lukes_hospital_health_system_7qad__claims__standardized</td><td>vw_837__claims_claim__latest</td><td>837</td></tr><tr><td>st_lukes_hospital_health_system_7qad__claims__standardized</td><td>vw_837__claims_meta_data__history</td><td>837</td></tr><tr><td>st_lukes_hospital_health_system_7qad__claims__standardized</td><td>vw_837__claims_meta_data__latest</td><td>837</td></tr><tr><td>st_lukes_hospital_health_system_7qad__claims__standardized</td><td>vw_837__claims_physician__history</td><td>837</td></tr><tr><td>st_lukes_hospital_health_system_7qad__claims__standardized</td><td>vw_837__claims_physician__latest</td><td>837</td></tr><tr><td>st_lukes_hospital_health_system_7qad__claims__standardized</td><td>vw_837__claims_service_line__history</td><td>837</td></tr><tr><td>st_lukes_hospital_health_system_7qad__claims__standardized</td><td>vw_837__claims_service_line__latest</td><td>837</td></tr><tr><td>st_lukes_hospital_health_system_7qad__claims__standardized</td><td>vw_837__claims_subscriber__history</td><td>837</td></tr><tr><td>st_lukes_hospital_health_system_7qad__claims__standardized</td><td>vw_837__claims_subscriber__latest</td><td>837</td></tr><tr><td>st_lukes_hospital_health_system_7qad__claims__standardized</td><td>vw_claims_billing_provider_837__history</td><td>837</td></tr><tr><td>st_lukes_hospital_health_system_7qad__claims__standardized</td><td>vw_claims_billing_provider_837__latest</td><td>837</td></tr><tr><td>st_lukes_hospital_health_system_7qad__claims__standardized</td><td>vw_claims_claim_837__history</td><td>837</td></tr><tr><td>st_lukes_hospital_health_system_7qad__claims__standardized</td><td>vw_claims_claim_837__latest</td><td>837</td></tr><tr><td>st_lukes_hospital_health_system_7qad__claims__standardized</td><td>vw_claims_meta_data_837__history</td><td>837</td></tr><tr><td>st_lukes_hospital_health_system_7qad__claims__standardized</td><td>vw_claims_meta_data_837__latest</td><td>837</td></tr><tr><td>st_lukes_hospital_health_system_7qad__claims__standardized</td><td>vw_claims_physician_837__history</td><td>837</td></tr><tr><td>st_lukes_hospital_health_system_7qad__claims__standardized</td><td>vw_claims_physician_837__latest</td><td>837</td></tr><tr><td>st_lukes_hospital_health_system_7qad__claims__standardized</td><td>vw_claims_service_line_837__history</td><td>837</td></tr><tr><td>st_lukes_hospital_health_system_7qad__claims__standardized</td><td>vw_claims_service_line_837__latest</td><td>837</td></tr><tr><td>st_lukes_hospital_health_system_7qad__claims__standardized</td><td>vw_claims_subscriber_837__history</td><td>837</td></tr><tr><td>st_lukes_hospital_health_system_7qad__claims__standardized</td><td>vw_claims_subscriber_837__latest</td><td>837</td></tr><tr><td>tampa_general_hospital_biap__claims__standardized</td><td>837__claims_account_crosswalk__history</td><td>837</td></tr><tr><td>tampa_general_hospital_biap__claims__standardized</td><td>837__claims_account_crosswalk__latest</td><td>837</td></tr><tr><td>tampa_general_hospital_biap__claims__standardized</td><td>837__claims_billing_provider__history</td><td>837</td></tr><tr><td>tampa_general_hospital_biap__claims__standardized</td><td>837__claims_billing_provider__latest</td><td>837</td></tr><tr><td>tampa_general_hospital_biap__claims__standardized</td><td>837__claims_claim__history</td><td>837</td></tr><tr><td>tampa_general_hospital_biap__claims__standardized</td><td>837__claims_claim__latest</td><td>837</td></tr><tr><td>tampa_general_hospital_biap__claims__standardized</td><td>837__claims_meta_data__history</td><td>837</td></tr><tr><td>tampa_general_hospital_biap__claims__standardized</td><td>837__claims_meta_data__latest</td><td>837</td></tr><tr><td>tampa_general_hospital_biap__claims__standardized</td><td>837__claims_physician__history</td><td>837</td></tr><tr><td>tampa_general_hospital_biap__claims__standardized</td><td>837__claims_physician__latest</td><td>837</td></tr><tr><td>tampa_general_hospital_biap__claims__standardized</td><td>837__claims_service_line__history</td><td>837</td></tr><tr><td>tampa_general_hospital_biap__claims__standardized</td><td>837__claims_service_line__latest</td><td>837</td></tr><tr><td>tampa_general_hospital_biap__claims__standardized</td><td>837__claims_subscriber__history</td><td>837</td></tr><tr><td>tampa_general_hospital_biap__claims__standardized</td><td>837__claims_subscriber__latest</td><td>837</td></tr><tr><td>tampa_general_hospital_biap__claims__standardized</td><td>claims_account_crosswalk_837__history</td><td>837</td></tr><tr><td>tampa_general_hospital_biap__claims__standardized</td><td>claims_billing_provider_837__history</td><td>837</td></tr><tr><td>tampa_general_hospital_biap__claims__standardized</td><td>claims_claim_837__history</td><td>837</td></tr><tr><td>tampa_general_hospital_biap__claims__standardized</td><td>claims_meta_data_837__history</td><td>837</td></tr><tr><td>tampa_general_hospital_biap__claims__standardized</td><td>claims_physician_837__history</td><td>837</td></tr><tr><td>tampa_general_hospital_biap__claims__standardized</td><td>claims_service_line_837__history</td><td>837</td></tr><tr><td>tampa_general_hospital_biap__claims__standardized</td><td>claims_subscriber_837__history</td><td>837</td></tr><tr><td>tampa_general_hospital_biap__claims__standardized</td><td>vw_837__claims_billing_provider__history</td><td>837</td></tr><tr><td>tampa_general_hospital_biap__claims__standardized</td><td>vw_837__claims_billing_provider__latest</td><td>837</td></tr><tr><td>tampa_general_hospital_biap__claims__standardized</td><td>vw_837__claims_claim__history</td><td>837</td></tr><tr><td>tampa_general_hospital_biap__claims__standardized</td><td>vw_837__claims_claim__latest</td><td>837</td></tr><tr><td>tampa_general_hospital_biap__claims__standardized</td><td>vw_837__claims_meta_data__history</td><td>837</td></tr><tr><td>tampa_general_hospital_biap__claims__standardized</td><td>vw_837__claims_meta_data__latest</td><td>837</td></tr><tr><td>tampa_general_hospital_biap__claims__standardized</td><td>vw_837__claims_physician__history</td><td>837</td></tr><tr><td>tampa_general_hospital_biap__claims__standardized</td><td>vw_837__claims_physician__latest</td><td>837</td></tr><tr><td>tampa_general_hospital_biap__claims__standardized</td><td>vw_837__claims_service_line__history</td><td>837</td></tr><tr><td>tampa_general_hospital_biap__claims__standardized</td><td>vw_837__claims_service_line__latest</td><td>837</td></tr><tr><td>tampa_general_hospital_biap__claims__standardized</td><td>vw_837__claims_subscriber__history</td><td>837</td></tr><tr><td>tampa_general_hospital_biap__claims__standardized</td><td>vw_837__claims_subscriber__latest</td><td>837</td></tr><tr><td>tampa_general_hospital_biap__claims__standardized</td><td>vw_claims_billing_provider_837__history</td><td>837</td></tr><tr><td>tampa_general_hospital_biap__claims__standardized</td><td>vw_claims_billing_provider_837__latest</td><td>837</td></tr><tr><td>tampa_general_hospital_biap__claims__standardized</td><td>vw_claims_claim_837__history</td><td>837</td></tr><tr><td>tampa_general_hospital_biap__claims__standardized</td><td>vw_claims_claim_837__latest</td><td>837</td></tr><tr><td>tampa_general_hospital_biap__claims__standardized</td><td>vw_claims_meta_data_837__history</td><td>837</td></tr><tr><td>tampa_general_hospital_biap__claims__standardized</td><td>vw_claims_meta_data_837__latest</td><td>837</td></tr><tr><td>tampa_general_hospital_biap__claims__standardized</td><td>vw_claims_physician_837__history</td><td>837</td></tr><tr><td>tampa_general_hospital_biap__claims__standardized</td><td>vw_claims_physician_837__latest</td><td>837</td></tr><tr><td>tampa_general_hospital_biap__claims__standardized</td><td>vw_claims_service_line_837__history</td><td>837</td></tr><tr><td>tampa_general_hospital_biap__claims__standardized</td><td>vw_claims_service_line_837__latest</td><td>837</td></tr><tr><td>tampa_general_hospital_biap__claims__standardized</td><td>vw_claims_subscriber_837__history</td><td>837</td></tr><tr><td>tampa_general_hospital_biap__claims__standardized</td><td>vw_claims_subscriber_837__latest</td><td>837</td></tr><tr><td>texas_childrens_hospital_wqal__claims__standardized</td><td>837__claims_account_crosswalk__history</td><td>837</td></tr><tr><td>texas_childrens_hospital_wqal__claims__standardized</td><td>837__claims_account_crosswalk__latest</td><td>837</td></tr><tr><td>texas_childrens_hospital_wqal__claims__standardized</td><td>837__claims_billing_provider__history</td><td>837</td></tr><tr><td>texas_childrens_hospital_wqal__claims__standardized</td><td>837__claims_billing_provider__latest</td><td>837</td></tr><tr><td>texas_childrens_hospital_wqal__claims__standardized</td><td>837__claims_claim__history</td><td>837</td></tr><tr><td>texas_childrens_hospital_wqal__claims__standardized</td><td>837__claims_claim__latest</td><td>837</td></tr><tr><td>texas_childrens_hospital_wqal__claims__standardized</td><td>837__claims_meta_data__history</td><td>837</td></tr><tr><td>texas_childrens_hospital_wqal__claims__standardized</td><td>837__claims_meta_data__latest</td><td>837</td></tr><tr><td>texas_childrens_hospital_wqal__claims__standardized</td><td>837__claims_physician__history</td><td>837</td></tr><tr><td>texas_childrens_hospital_wqal__claims__standardized</td><td>837__claims_physician__latest</td><td>837</td></tr><tr><td>texas_childrens_hospital_wqal__claims__standardized</td><td>837__claims_service_line__history</td><td>837</td></tr><tr><td>texas_childrens_hospital_wqal__claims__standardized</td><td>837__claims_service_line__latest</td><td>837</td></tr><tr><td>texas_childrens_hospital_wqal__claims__standardized</td><td>837__claims_subscriber__history</td><td>837</td></tr><tr><td>texas_childrens_hospital_wqal__claims__standardized</td><td>837__claims_subscriber__latest</td><td>837</td></tr><tr><td>texas_childrens_hospital_wqal__claims__standardized</td><td>claims_account_crosswalk_837__history</td><td>837</td></tr><tr><td>texas_childrens_hospital_wqal__claims__standardized</td><td>claims_billing_provider_837__history</td><td>837</td></tr><tr><td>texas_childrens_hospital_wqal__claims__standardized</td><td>claims_claim_837__history</td><td>837</td></tr><tr><td>texas_childrens_hospital_wqal__claims__standardized</td><td>claims_meta_data_837__history</td><td>837</td></tr><tr><td>texas_childrens_hospital_wqal__claims__standardized</td><td>claims_physician_837__history</td><td>837</td></tr><tr><td>texas_childrens_hospital_wqal__claims__standardized</td><td>claims_service_line_837__history</td><td>837</td></tr><tr><td>texas_childrens_hospital_wqal__claims__standardized</td><td>claims_subscriber_837__history</td><td>837</td></tr><tr><td>texas_childrens_hospital_wqal__claims__standardized</td><td>vw_837__claims_billing_provider__history</td><td>837</td></tr><tr><td>texas_childrens_hospital_wqal__claims__standardized</td><td>vw_837__claims_billing_provider__latest</td><td>837</td></tr><tr><td>texas_childrens_hospital_wqal__claims__standardized</td><td>vw_837__claims_claim__history</td><td>837</td></tr><tr><td>texas_childrens_hospital_wqal__claims__standardized</td><td>vw_837__claims_claim__latest</td><td>837</td></tr><tr><td>texas_childrens_hospital_wqal__claims__standardized</td><td>vw_837__claims_meta_data__history</td><td>837</td></tr><tr><td>texas_childrens_hospital_wqal__claims__standardized</td><td>vw_837__claims_meta_data__latest</td><td>837</td></tr><tr><td>texas_childrens_hospital_wqal__claims__standardized</td><td>vw_837__claims_physician__history</td><td>837</td></tr><tr><td>texas_childrens_hospital_wqal__claims__standardized</td><td>vw_837__claims_physician__latest</td><td>837</td></tr><tr><td>texas_childrens_hospital_wqal__claims__standardized</td><td>vw_837__claims_service_line__history</td><td>837</td></tr><tr><td>texas_childrens_hospital_wqal__claims__standardized</td><td>vw_837__claims_service_line__latest</td><td>837</td></tr><tr><td>texas_childrens_hospital_wqal__claims__standardized</td><td>vw_837__claims_subscriber__history</td><td>837</td></tr><tr><td>texas_childrens_hospital_wqal__claims__standardized</td><td>vw_837__claims_subscriber__latest</td><td>837</td></tr><tr><td>texas_childrens_hospital_wqal__claims__standardized</td><td>vw_claims_billing_provider_837__history</td><td>837</td></tr><tr><td>texas_childrens_hospital_wqal__claims__standardized</td><td>vw_claims_billing_provider_837__latest</td><td>837</td></tr><tr><td>texas_childrens_hospital_wqal__claims__standardized</td><td>vw_claims_claim_837__history</td><td>837</td></tr><tr><td>texas_childrens_hospital_wqal__claims__standardized</td><td>vw_claims_claim_837__latest</td><td>837</td></tr><tr><td>texas_childrens_hospital_wqal__claims__standardized</td><td>vw_claims_meta_data_837__history</td><td>837</td></tr><tr><td>texas_childrens_hospital_wqal__claims__standardized</td><td>vw_claims_meta_data_837__latest</td><td>837</td></tr><tr><td>texas_childrens_hospital_wqal__claims__standardized</td><td>vw_claims_physician_837__history</td><td>837</td></tr><tr><td>texas_childrens_hospital_wqal__claims__standardized</td><td>vw_claims_physician_837__latest</td><td>837</td></tr><tr><td>texas_childrens_hospital_wqal__claims__standardized</td><td>vw_claims_service_line_837__history</td><td>837</td></tr><tr><td>texas_childrens_hospital_wqal__claims__standardized</td><td>vw_claims_service_line_837__latest</td><td>837</td></tr><tr><td>texas_childrens_hospital_wqal__claims__standardized</td><td>vw_claims_subscriber_837__history</td><td>837</td></tr><tr><td>texas_childrens_hospital_wqal__claims__standardized</td><td>vw_claims_subscriber_837__latest</td><td>837</td></tr><tr><td>uchicago_medicine_piaw__claims__standardized</td><td>837__claims_account_crosswalk__history</td><td>837</td></tr><tr><td>uchicago_medicine_piaw__claims__standardized</td><td>837__claims_billing_provider__history</td><td>837</td></tr><tr><td>uchicago_medicine_piaw__claims__standardized</td><td>837__claims_claim__history</td><td>837</td></tr><tr><td>uchicago_medicine_piaw__claims__standardized</td><td>837__claims_meta_data__history</td><td>837</td></tr><tr><td>uchicago_medicine_piaw__claims__standardized</td><td>837__claims_physician__history</td><td>837</td></tr><tr><td>uchicago_medicine_piaw__claims__standardized</td><td>837__claims_service_line__history</td><td>837</td></tr><tr><td>uchicago_medicine_piaw__claims__standardized</td><td>837__claims_subscriber__history</td><td>837</td></tr><tr><td>uchicago_medicine_piaw__claims__standardized</td><td>claims_account_crosswalk_837__history</td><td>837</td></tr><tr><td>uchicago_medicine_piaw__claims__standardized</td><td>claims_billing_provider_837__history</td><td>837</td></tr><tr><td>uchicago_medicine_piaw__claims__standardized</td><td>claims_claim_837__history</td><td>837</td></tr><tr><td>uchicago_medicine_piaw__claims__standardized</td><td>claims_meta_data_837__history</td><td>837</td></tr><tr><td>uchicago_medicine_piaw__claims__standardized</td><td>claims_physician_837__history</td><td>837</td></tr><tr><td>uchicago_medicine_piaw__claims__standardized</td><td>claims_service_line_837__history</td><td>837</td></tr><tr><td>uchicago_medicine_piaw__claims__standardized</td><td>claims_subscriber_837__history</td><td>837</td></tr><tr><td>uchicago_medicine_piaw__claims__standardized</td><td>vw_837__claims_billing_provider__history</td><td>837</td></tr><tr><td>uchicago_medicine_piaw__claims__standardized</td><td>vw_837__claims_billing_provider__latest</td><td>837</td></tr><tr><td>uchicago_medicine_piaw__claims__standardized</td><td>vw_837__claims_claim__history</td><td>837</td></tr><tr><td>uchicago_medicine_piaw__claims__standardized</td><td>vw_837__claims_claim__latest</td><td>837</td></tr><tr><td>uchicago_medicine_piaw__claims__standardized</td><td>vw_837__claims_meta_data__history</td><td>837</td></tr><tr><td>uchicago_medicine_piaw__claims__standardized</td><td>vw_837__claims_meta_data__latest</td><td>837</td></tr><tr><td>uchicago_medicine_piaw__claims__standardized</td><td>vw_837__claims_physician__history</td><td>837</td></tr><tr><td>uchicago_medicine_piaw__claims__standardized</td><td>vw_837__claims_physician__latest</td><td>837</td></tr><tr><td>uchicago_medicine_piaw__claims__standardized</td><td>vw_837__claims_service_line__history</td><td>837</td></tr><tr><td>uchicago_medicine_piaw__claims__standardized</td><td>vw_837__claims_service_line__latest</td><td>837</td></tr><tr><td>uchicago_medicine_piaw__claims__standardized</td><td>vw_837__claims_subscriber__history</td><td>837</td></tr><tr><td>uchicago_medicine_piaw__claims__standardized</td><td>vw_837__claims_subscriber__latest</td><td>837</td></tr><tr><td>uchicago_medicine_piaw__claims__standardized</td><td>vw_claims_billing_provider_837__history</td><td>837</td></tr><tr><td>uchicago_medicine_piaw__claims__standardized</td><td>vw_claims_billing_provider_837__latest</td><td>837</td></tr><tr><td>uchicago_medicine_piaw__claims__standardized</td><td>vw_claims_claim_837__history</td><td>837</td></tr><tr><td>uchicago_medicine_piaw__claims__standardized</td><td>vw_claims_claim_837__latest</td><td>837</td></tr><tr><td>uchicago_medicine_piaw__claims__standardized</td><td>vw_claims_meta_data_837__history</td><td>837</td></tr><tr><td>uchicago_medicine_piaw__claims__standardized</td><td>vw_claims_meta_data_837__latest</td><td>837</td></tr><tr><td>uchicago_medicine_piaw__claims__standardized</td><td>vw_claims_physician_837__history</td><td>837</td></tr><tr><td>uchicago_medicine_piaw__claims__standardized</td><td>vw_claims_physician_837__latest</td><td>837</td></tr><tr><td>uchicago_medicine_piaw__claims__standardized</td><td>vw_claims_service_line_837__history</td><td>837</td></tr><tr><td>uchicago_medicine_piaw__claims__standardized</td><td>vw_claims_service_line_837__latest</td><td>837</td></tr><tr><td>uchicago_medicine_piaw__claims__standardized</td><td>vw_claims_subscriber_837__history</td><td>837</td></tr><tr><td>uchicago_medicine_piaw__claims__standardized</td><td>vw_claims_subscriber_837__latest</td><td>837</td></tr><tr><td>unitypoint_health_kiag__claims__standardized</td><td>837__claims_account_crosswalk__history</td><td>837</td></tr><tr><td>unitypoint_health_kiag__claims__standardized</td><td>837__claims_billing_provider__history</td><td>837</td></tr><tr><td>unitypoint_health_kiag__claims__standardized</td><td>837__claims_claim__history</td><td>837</td></tr><tr><td>unitypoint_health_kiag__claims__standardized</td><td>837__claims_meta_data__history</td><td>837</td></tr><tr><td>unitypoint_health_kiag__claims__standardized</td><td>837__claims_physician__history</td><td>837</td></tr><tr><td>unitypoint_health_kiag__claims__standardized</td><td>837__claims_service_line__history</td><td>837</td></tr><tr><td>unitypoint_health_kiag__claims__standardized</td><td>837__claims_subscriber__history</td><td>837</td></tr><tr><td>unitypoint_health_kiag__claims__standardized</td><td>claims_account_crosswalk_837__history</td><td>837</td></tr><tr><td>unitypoint_health_kiag__claims__standardized</td><td>claims_billing_provider_837__history</td><td>837</td></tr><tr><td>unitypoint_health_kiag__claims__standardized</td><td>claims_claim_837__history</td><td>837</td></tr><tr><td>unitypoint_health_kiag__claims__standardized</td><td>claims_meta_data_837__history</td><td>837</td></tr><tr><td>unitypoint_health_kiag__claims__standardized</td><td>claims_physician_837__history</td><td>837</td></tr><tr><td>unitypoint_health_kiag__claims__standardized</td><td>claims_service_line_837__history</td><td>837</td></tr><tr><td>unitypoint_health_kiag__claims__standardized</td><td>claims_subscriber_837__history</td><td>837</td></tr><tr><td>unitypoint_health_kiag__claims__standardized</td><td>vw_837__claims_billing_provider__history</td><td>837</td></tr><tr><td>unitypoint_health_kiag__claims__standardized</td><td>vw_837__claims_billing_provider__latest</td><td>837</td></tr><tr><td>unitypoint_health_kiag__claims__standardized</td><td>vw_837__claims_claim__history</td><td>837</td></tr><tr><td>unitypoint_health_kiag__claims__standardized</td><td>vw_837__claims_claim__latest</td><td>837</td></tr><tr><td>unitypoint_health_kiag__claims__standardized</td><td>vw_837__claims_meta_data__history</td><td>837</td></tr><tr><td>unitypoint_health_kiag__claims__standardized</td><td>vw_837__claims_meta_data__latest</td><td>837</td></tr><tr><td>unitypoint_health_kiag__claims__standardized</td><td>vw_837__claims_physician__history</td><td>837</td></tr><tr><td>unitypoint_health_kiag__claims__standardized</td><td>vw_837__claims_physician__latest</td><td>837</td></tr><tr><td>unitypoint_health_kiag__claims__standardized</td><td>vw_837__claims_service_line__history</td><td>837</td></tr><tr><td>unitypoint_health_kiag__claims__standardized</td><td>vw_837__claims_service_line__latest</td><td>837</td></tr><tr><td>unitypoint_health_kiag__claims__standardized</td><td>vw_837__claims_subscriber__history</td><td>837</td></tr><tr><td>unitypoint_health_kiag__claims__standardized</td><td>vw_837__claims_subscriber__latest</td><td>837</td></tr><tr><td>unitypoint_health_kiag__claims__standardized</td><td>vw_claims_billing_provider_837__history</td><td>837</td></tr><tr><td>unitypoint_health_kiag__claims__standardized</td><td>vw_claims_billing_provider_837__latest</td><td>837</td></tr><tr><td>unitypoint_health_kiag__claims__standardized</td><td>vw_claims_claim_837__history</td><td>837</td></tr><tr><td>unitypoint_health_kiag__claims__standardized</td><td>vw_claims_claim_837__latest</td><td>837</td></tr><tr><td>unitypoint_health_kiag__claims__standardized</td><td>vw_claims_meta_data_837__history</td><td>837</td></tr><tr><td>unitypoint_health_kiag__claims__standardized</td><td>vw_claims_meta_data_837__latest</td><td>837</td></tr><tr><td>unitypoint_health_kiag__claims__standardized</td><td>vw_claims_physician_837__history</td><td>837</td></tr><tr><td>unitypoint_health_kiag__claims__standardized</td><td>vw_claims_physician_837__latest</td><td>837</td></tr><tr><td>unitypoint_health_kiag__claims__standardized</td><td>vw_claims_service_line_837__history</td><td>837</td></tr><tr><td>unitypoint_health_kiag__claims__standardized</td><td>vw_claims_service_line_837__latest</td><td>837</td></tr><tr><td>unitypoint_health_kiag__claims__standardized</td><td>vw_claims_subscriber_837__history</td><td>837</td></tr><tr><td>unitypoint_health_kiag__claims__standardized</td><td>vw_claims_subscriber_837__latest</td><td>837</td></tr><tr><td>university_of_arkansas_for_medical_sciences_medical_center_tiap__claims__standardized</td><td>837__claims_account_crosswalk__history</td><td>837</td></tr><tr><td>university_of_arkansas_for_medical_sciences_medical_center_tiap__claims__standardized</td><td>837__claims_billing_provider__history</td><td>837</td></tr><tr><td>university_of_arkansas_for_medical_sciences_medical_center_tiap__claims__standardized</td><td>837__claims_claim__history</td><td>837</td></tr><tr><td>university_of_arkansas_for_medical_sciences_medical_center_tiap__claims__standardized</td><td>837__claims_meta_data__history</td><td>837</td></tr><tr><td>university_of_arkansas_for_medical_sciences_medical_center_tiap__claims__standardized</td><td>837__claims_physician__history</td><td>837</td></tr><tr><td>university_of_arkansas_for_medical_sciences_medical_center_tiap__claims__standardized</td><td>837__claims_service_line__history</td><td>837</td></tr><tr><td>university_of_arkansas_for_medical_sciences_medical_center_tiap__claims__standardized</td><td>837__claims_subscriber__history</td><td>837</td></tr><tr><td>university_of_arkansas_for_medical_sciences_medical_center_tiap__claims__standardized</td><td>claims_account_crosswalk_837__history</td><td>837</td></tr><tr><td>university_of_arkansas_for_medical_sciences_medical_center_tiap__claims__standardized</td><td>claims_billing_provider_837__history</td><td>837</td></tr><tr><td>university_of_arkansas_for_medical_sciences_medical_center_tiap__claims__standardized</td><td>claims_claim_837__history</td><td>837</td></tr><tr><td>university_of_arkansas_for_medical_sciences_medical_center_tiap__claims__standardized</td><td>claims_meta_data_837__history</td><td>837</td></tr><tr><td>university_of_arkansas_for_medical_sciences_medical_center_tiap__claims__standardized</td><td>claims_physician_837__history</td><td>837</td></tr><tr><td>university_of_arkansas_for_medical_sciences_medical_center_tiap__claims__standardized</td><td>claims_service_line_837__history</td><td>837</td></tr><tr><td>university_of_arkansas_for_medical_sciences_medical_center_tiap__claims__standardized</td><td>claims_subscriber_837__history</td><td>837</td></tr><tr><td>university_of_arkansas_for_medical_sciences_medical_center_tiap__claims__standardized</td><td>vw_837__claims_billing_provider__history</td><td>837</td></tr><tr><td>university_of_arkansas_for_medical_sciences_medical_center_tiap__claims__standardized</td><td>vw_837__claims_billing_provider__latest</td><td>837</td></tr><tr><td>university_of_arkansas_for_medical_sciences_medical_center_tiap__claims__standardized</td><td>vw_837__claims_claim__history</td><td>837</td></tr><tr><td>university_of_arkansas_for_medical_sciences_medical_center_tiap__claims__standardized</td><td>vw_837__claims_claim__latest</td><td>837</td></tr><tr><td>university_of_arkansas_for_medical_sciences_medical_center_tiap__claims__standardized</td><td>vw_837__claims_meta_data__history</td><td>837</td></tr><tr><td>university_of_arkansas_for_medical_sciences_medical_center_tiap__claims__standardized</td><td>vw_837__claims_meta_data__latest</td><td>837</td></tr><tr><td>university_of_arkansas_for_medical_sciences_medical_center_tiap__claims__standardized</td><td>vw_837__claims_physician__history</td><td>837</td></tr><tr><td>university_of_arkansas_for_medical_sciences_medical_center_tiap__claims__standardized</td><td>vw_837__claims_physician__latest</td><td>837</td></tr><tr><td>university_of_arkansas_for_medical_sciences_medical_center_tiap__claims__standardized</td><td>vw_837__claims_service_line__history</td><td>837</td></tr><tr><td>university_of_arkansas_for_medical_sciences_medical_center_tiap__claims__standardized</td><td>vw_837__claims_service_line__latest</td><td>837</td></tr><tr><td>university_of_arkansas_for_medical_sciences_medical_center_tiap__claims__standardized</td><td>vw_837__claims_subscriber__history</td><td>837</td></tr><tr><td>university_of_arkansas_for_medical_sciences_medical_center_tiap__claims__standardized</td><td>vw_837__claims_subscriber__latest</td><td>837</td></tr><tr><td>university_of_arkansas_for_medical_sciences_medical_center_tiap__claims__standardized</td><td>vw_claims_billing_provider_837__history</td><td>837</td></tr><tr><td>university_of_arkansas_for_medical_sciences_medical_center_tiap__claims__standardized</td><td>vw_claims_billing_provider_837__latest</td><td>837</td></tr><tr><td>university_of_arkansas_for_medical_sciences_medical_center_tiap__claims__standardized</td><td>vw_claims_claim_837__history</td><td>837</td></tr><tr><td>university_of_arkansas_for_medical_sciences_medical_center_tiap__claims__standardized</td><td>vw_claims_claim_837__latest</td><td>837</td></tr><tr><td>university_of_arkansas_for_medical_sciences_medical_center_tiap__claims__standardized</td><td>vw_claims_meta_data_837__history</td><td>837</td></tr><tr><td>university_of_arkansas_for_medical_sciences_medical_center_tiap__claims__standardized</td><td>vw_claims_meta_data_837__latest</td><td>837</td></tr><tr><td>university_of_arkansas_for_medical_sciences_medical_center_tiap__claims__standardized</td><td>vw_claims_physician_837__history</td><td>837</td></tr><tr><td>university_of_arkansas_for_medical_sciences_medical_center_tiap__claims__standardized</td><td>vw_claims_physician_837__latest</td><td>837</td></tr><tr><td>university_of_arkansas_for_medical_sciences_medical_center_tiap__claims__standardized</td><td>vw_claims_service_line_837__history</td><td>837</td></tr><tr><td>university_of_arkansas_for_medical_sciences_medical_center_tiap__claims__standardized</td><td>vw_claims_service_line_837__latest</td><td>837</td></tr><tr><td>university_of_arkansas_for_medical_sciences_medical_center_tiap__claims__standardized</td><td>vw_claims_subscriber_837__history</td><td>837</td></tr><tr><td>university_of_arkansas_for_medical_sciences_medical_center_tiap__claims__standardized</td><td>vw_claims_subscriber_837__latest</td><td>837</td></tr><tr><td>university_of_maryland_medical_system_jiag__claims__standardized</td><td>835__claims_account_crosswalk__history</td><td>835</td></tr><tr><td>university_of_maryland_medical_system_jiag__claims__standardized</td><td>835__claims_advice_billing_provider__history</td><td>835</td></tr><tr><td>university_of_maryland_medical_system_jiag__claims__standardized</td><td>835__claims_advice_claim_line_adjustment__history</td><td>835</td></tr><tr><td>university_of_maryland_medical_system_jiag__claims__standardized</td><td>835__claims_advice_meta_data__history</td><td>835</td></tr><tr><td>university_of_maryland_medical_system_jiag__claims__standardized</td><td>835__claims_advice_payment__history</td><td>835</td></tr><tr><td>university_of_maryland_medical_system_jiag__claims__standardized</td><td>835__claims_advice_payment_overview__history</td><td>835</td></tr><tr><td>university_of_maryland_medical_system_jiag__claims__standardized</td><td>835__claims_advice_subscriber__history</td><td>835</td></tr><tr><td>university_of_texas_system_niag__claims__standardized</td><td>837__claims_account_crosswalk__history</td><td>837</td></tr><tr><td>university_of_texas_system_niag__claims__standardized</td><td>837__claims_account_crosswalk__latest</td><td>837</td></tr><tr><td>university_of_texas_system_niag__claims__standardized</td><td>837__claims_billing_provider__history</td><td>837</td></tr><tr><td>university_of_texas_system_niag__claims__standardized</td><td>837__claims_billing_provider__latest</td><td>837</td></tr><tr><td>university_of_texas_system_niag__claims__standardized</td><td>837__claims_claim__history</td><td>837</td></tr><tr><td>university_of_texas_system_niag__claims__standardized</td><td>837__claims_claim__latest</td><td>837</td></tr><tr><td>university_of_texas_system_niag__claims__standardized</td><td>837__claims_meta_data__history</td><td>837</td></tr><tr><td>university_of_texas_system_niag__claims__standardized</td><td>837__claims_meta_data__latest</td><td>837</td></tr><tr><td>university_of_texas_system_niag__claims__standardized</td><td>837__claims_physician__history</td><td>837</td></tr><tr><td>university_of_texas_system_niag__claims__standardized</td><td>837__claims_physician__latest</td><td>837</td></tr><tr><td>university_of_texas_system_niag__claims__standardized</td><td>837__claims_service_line__history</td><td>837</td></tr><tr><td>university_of_texas_system_niag__claims__standardized</td><td>837__claims_service_line__latest</td><td>837</td></tr><tr><td>university_of_texas_system_niag__claims__standardized</td><td>837__claims_subscriber__history</td><td>837</td></tr><tr><td>university_of_texas_system_niag__claims__standardized</td><td>837__claims_subscriber__latest</td><td>837</td></tr><tr><td>university_of_texas_system_niag__claims__standardized</td><td>claims_account_crosswalk_837__history</td><td>837</td></tr><tr><td>university_of_texas_system_niag__claims__standardized</td><td>claims_billing_provider_837__history</td><td>837</td></tr><tr><td>university_of_texas_system_niag__claims__standardized</td><td>claims_claim_837__history</td><td>837</td></tr><tr><td>university_of_texas_system_niag__claims__standardized</td><td>claims_meta_data_837__history</td><td>837</td></tr><tr><td>university_of_texas_system_niag__claims__standardized</td><td>claims_physician_837__history</td><td>837</td></tr><tr><td>university_of_texas_system_niag__claims__standardized</td><td>claims_service_line_837__history</td><td>837</td></tr><tr><td>university_of_texas_system_niag__claims__standardized</td><td>claims_subscriber_837__history</td><td>837</td></tr><tr><td>university_of_texas_system_niag__claims__standardized</td><td>vw_837__claims_billing_provider__history</td><td>837</td></tr><tr><td>university_of_texas_system_niag__claims__standardized</td><td>vw_837__claims_billing_provider__latest</td><td>837</td></tr><tr><td>university_of_texas_system_niag__claims__standardized</td><td>vw_837__claims_claim__history</td><td>837</td></tr><tr><td>university_of_texas_system_niag__claims__standardized</td><td>vw_837__claims_claim__latest</td><td>837</td></tr><tr><td>university_of_texas_system_niag__claims__standardized</td><td>vw_837__claims_meta_data__history</td><td>837</td></tr><tr><td>university_of_texas_system_niag__claims__standardized</td><td>vw_837__claims_meta_data__latest</td><td>837</td></tr><tr><td>university_of_texas_system_niag__claims__standardized</td><td>vw_837__claims_physician__history</td><td>837</td></tr><tr><td>university_of_texas_system_niag__claims__standardized</td><td>vw_837__claims_physician__latest</td><td>837</td></tr><tr><td>university_of_texas_system_niag__claims__standardized</td><td>vw_837__claims_service_line__history</td><td>837</td></tr><tr><td>university_of_texas_system_niag__claims__standardized</td><td>vw_837__claims_service_line__latest</td><td>837</td></tr><tr><td>university_of_texas_system_niag__claims__standardized</td><td>vw_837__claims_subscriber__history</td><td>837</td></tr><tr><td>university_of_texas_system_niag__claims__standardized</td><td>vw_837__claims_subscriber__latest</td><td>837</td></tr><tr><td>university_of_texas_system_niag__claims__standardized</td><td>vw_claims_billing_provider_837__history</td><td>837</td></tr><tr><td>university_of_texas_system_niag__claims__standardized</td><td>vw_claims_billing_provider_837__latest</td><td>837</td></tr><tr><td>university_of_texas_system_niag__claims__standardized</td><td>vw_claims_claim_837__history</td><td>837</td></tr><tr><td>university_of_texas_system_niag__claims__standardized</td><td>vw_claims_claim_837__latest</td><td>837</td></tr><tr><td>university_of_texas_system_niag__claims__standardized</td><td>vw_claims_meta_data_837__history</td><td>837</td></tr><tr><td>university_of_texas_system_niag__claims__standardized</td><td>vw_claims_meta_data_837__latest</td><td>837</td></tr><tr><td>university_of_texas_system_niag__claims__standardized</td><td>vw_claims_physician_837__history</td><td>837</td></tr><tr><td>university_of_texas_system_niag__claims__standardized</td><td>vw_claims_physician_837__latest</td><td>837</td></tr><tr><td>university_of_texas_system_niag__claims__standardized</td><td>vw_claims_service_line_837__history</td><td>837</td></tr><tr><td>university_of_texas_system_niag__claims__standardized</td><td>vw_claims_service_line_837__latest</td><td>837</td></tr><tr><td>university_of_texas_system_niag__claims__standardized</td><td>vw_claims_subscriber_837__history</td><td>837</td></tr><tr><td>university_of_texas_system_niag__claims__standardized</td><td>vw_claims_subscriber_837__latest</td><td>837</td></tr><tr><td>vanderbilt_health_iiaw__claims__standardized</td><td>837__claims_account_crosswalk__history</td><td>837</td></tr><tr><td>vanderbilt_health_iiaw__claims__standardized</td><td>837__claims_billing_provider__history</td><td>837</td></tr><tr><td>vanderbilt_health_iiaw__claims__standardized</td><td>837__claims_claim__history</td><td>837</td></tr><tr><td>vanderbilt_health_iiaw__claims__standardized</td><td>837__claims_meta_data__history</td><td>837</td></tr><tr><td>vanderbilt_health_iiaw__claims__standardized</td><td>837__claims_physician__history</td><td>837</td></tr><tr><td>vanderbilt_health_iiaw__claims__standardized</td><td>837__claims_service_line__history</td><td>837</td></tr><tr><td>vanderbilt_health_iiaw__claims__standardized</td><td>837__claims_subscriber__history</td><td>837</td></tr><tr><td>vanderbilt_health_iiaw__claims__standardized</td><td>claims_account_crosswalk_837__history</td><td>837</td></tr><tr><td>vanderbilt_health_iiaw__claims__standardized</td><td>claims_billing_provider_837__history</td><td>837</td></tr><tr><td>vanderbilt_health_iiaw__claims__standardized</td><td>claims_claim_837__history</td><td>837</td></tr><tr><td>vanderbilt_health_iiaw__claims__standardized</td><td>claims_meta_data_837__history</td><td>837</td></tr><tr><td>vanderbilt_health_iiaw__claims__standardized</td><td>claims_physician_837__history</td><td>837</td></tr><tr><td>vanderbilt_health_iiaw__claims__standardized</td><td>claims_service_line_837__history</td><td>837</td></tr><tr><td>vanderbilt_health_iiaw__claims__standardized</td><td>claims_subscriber_837__history</td><td>837</td></tr><tr><td>vanderbilt_health_iiaw__claims__standardized</td><td>vw_837__claims_billing_provider__history</td><td>837</td></tr><tr><td>vanderbilt_health_iiaw__claims__standardized</td><td>vw_837__claims_billing_provider__latest</td><td>837</td></tr><tr><td>vanderbilt_health_iiaw__claims__standardized</td><td>vw_837__claims_claim__history</td><td>837</td></tr><tr><td>vanderbilt_health_iiaw__claims__standardized</td><td>vw_837__claims_claim__latest</td><td>837</td></tr><tr><td>vanderbilt_health_iiaw__claims__standardized</td><td>vw_837__claims_meta_data__history</td><td>837</td></tr><tr><td>vanderbilt_health_iiaw__claims__standardized</td><td>vw_837__claims_meta_data__latest</td><td>837</td></tr><tr><td>vanderbilt_health_iiaw__claims__standardized</td><td>vw_837__claims_physician__history</td><td>837</td></tr><tr><td>vanderbilt_health_iiaw__claims__standardized</td><td>vw_837__claims_physician__latest</td><td>837</td></tr><tr><td>vanderbilt_health_iiaw__claims__standardized</td><td>vw_837__claims_service_line__history</td><td>837</td></tr><tr><td>vanderbilt_health_iiaw__claims__standardized</td><td>vw_837__claims_service_line__latest</td><td>837</td></tr><tr><td>vanderbilt_health_iiaw__claims__standardized</td><td>vw_837__claims_subscriber__history</td><td>837</td></tr><tr><td>vanderbilt_health_iiaw__claims__standardized</td><td>vw_837__claims_subscriber__latest</td><td>837</td></tr><tr><td>vanderbilt_health_iiaw__claims__standardized</td><td>vw_claims_billing_provider_837__history</td><td>837</td></tr><tr><td>vanderbilt_health_iiaw__claims__standardized</td><td>vw_claims_billing_provider_837__latest</td><td>837</td></tr><tr><td>vanderbilt_health_iiaw__claims__standardized</td><td>vw_claims_claim_837__history</td><td>837</td></tr><tr><td>vanderbilt_health_iiaw__claims__standardized</td><td>vw_claims_claim_837__latest</td><td>837</td></tr><tr><td>vanderbilt_health_iiaw__claims__standardized</td><td>vw_claims_meta_data_837__history</td><td>837</td></tr><tr><td>vanderbilt_health_iiaw__claims__standardized</td><td>vw_claims_meta_data_837__latest</td><td>837</td></tr><tr><td>vanderbilt_health_iiaw__claims__standardized</td><td>vw_claims_physician_837__history</td><td>837</td></tr><tr><td>vanderbilt_health_iiaw__claims__standardized</td><td>vw_claims_physician_837__latest</td><td>837</td></tr><tr><td>vanderbilt_health_iiaw__claims__standardized</td><td>vw_claims_service_line_837__history</td><td>837</td></tr><tr><td>vanderbilt_health_iiaw__claims__standardized</td><td>vw_claims_service_line_837__latest</td><td>837</td></tr><tr><td>vanderbilt_health_iiaw__claims__standardized</td><td>vw_claims_subscriber_837__history</td><td>837</td></tr><tr><td>vanderbilt_health_iiaw__claims__standardized</td><td>vw_claims_subscriber_837__latest</td><td>837</td></tr><tr><td>yale_new_haven_health_system_giag__claims__standardized</td><td>835__claims_account_crosswalk__history</td><td>835</td></tr><tr><td>yale_new_haven_health_system_giag__claims__standardized</td><td>835__claims_advice_billing_provider__history</td><td>835</td></tr><tr><td>yale_new_haven_health_system_giag__claims__standardized</td><td>835__claims_advice_claim_line_adjustment__history</td><td>835</td></tr><tr><td>yale_new_haven_health_system_giag__claims__standardized</td><td>835__claims_advice_meta_data__history</td><td>835</td></tr><tr><td>yale_new_haven_health_system_giag__claims__standardized</td><td>835__claims_advice_payment__history</td><td>835</td></tr><tr><td>yale_new_haven_health_system_giag__claims__standardized</td><td>835__claims_advice_payment_overview__history</td><td>835</td></tr><tr><td>yale_new_haven_health_system_giag__claims__standardized</td><td>835__claims_advice_subscriber__history</td><td>835</td></tr><tr><td>yale_new_haven_health_system_giag__claims__standardized</td><td>837__claims_account_crosswalk__history</td><td>837</td></tr><tr><td>yale_new_haven_health_system_giag__claims__standardized</td><td>837__claims_billing_provider__history</td><td>837</td></tr><tr><td>yale_new_haven_health_system_giag__claims__standardized</td><td>837__claims_claim__history</td><td>837</td></tr><tr><td>yale_new_haven_health_system_giag__claims__standardized</td><td>837__claims_meta_data__history</td><td>837</td></tr><tr><td>yale_new_haven_health_system_giag__claims__standardized</td><td>837__claims_physician__history</td><td>837</td></tr><tr><td>yale_new_haven_health_system_giag__claims__standardized</td><td>837__claims_service_line__history</td><td>837</td></tr><tr><td>yale_new_haven_health_system_giag__claims__standardized</td><td>837__claims_subscriber__history</td><td>837</td></tr><tr><td>yale_new_haven_health_system_giag__claims__standardized</td><td>vw_837__claims_billing_provider__history</td><td>837</td></tr><tr><td>yale_new_haven_health_system_giag__claims__standardized</td><td>vw_837__claims_billing_provider__latest</td><td>837</td></tr><tr><td>yale_new_haven_health_system_giag__claims__standardized</td><td>vw_837__claims_claim__history</td><td>837</td></tr><tr><td>yale_new_haven_health_system_giag__claims__standardized</td><td>vw_837__claims_claim__latest</td><td>837</td></tr><tr><td>yale_new_haven_health_system_giag__claims__standardized</td><td>vw_837__claims_meta_data__history</td><td>837</td></tr><tr><td>yale_new_haven_health_system_giag__claims__standardized</td><td>vw_837__claims_meta_data__latest</td><td>837</td></tr><tr><td>yale_new_haven_health_system_giag__claims__standardized</td><td>vw_837__claims_physician__history</td><td>837</td></tr><tr><td>yale_new_haven_health_system_giag__claims__standardized</td><td>vw_837__claims_physician__latest</td><td>837</td></tr><tr><td>yale_new_haven_health_system_giag__claims__standardized</td><td>vw_837__claims_service_line__history</td><td>837</td></tr><tr><td>yale_new_haven_health_system_giag__claims__standardized</td><td>vw_837__claims_service_line__latest</td><td>837</td></tr><tr><td>yale_new_haven_health_system_giag__claims__standardized</td><td>vw_837__claims_subscriber__history</td><td>837</td></tr><tr><td>yale_new_haven_health_system_giag__claims__standardized</td><td>vw_837__claims_subscriber__latest</td><td>837</td></tr></tbody></table></div>"
      ]
     },
     "metadata": {
      "application/vnd.databricks.v1+output": {
       "addedWidgets": {},
       "aggData": [],
       "aggError": "",
       "aggOverflow": false,
       "aggSchema": [],
       "aggSeriesLimitReached": false,
       "aggType": "",
       "arguments": {},
       "columnCustomDisplayInfos": {},
       "data": [
        [
         "allina_health_siaw__claims__standardized",
         "837__claims_account_crosswalk__history",
         "837"
        ],
        [
         "allina_health_siaw__claims__standardized",
         "837__claims_billing_provider__history",
         "837"
        ],
        [
         "allina_health_siaw__claims__standardized",
         "837__claims_claim__history",
         "837"
        ],
        [
         "allina_health_siaw__claims__standardized",
         "837__claims_meta_data__history",
         "837"
        ],
        [
         "allina_health_siaw__claims__standardized",
         "837__claims_physician__history",
         "837"
        ],
        [
         "allina_health_siaw__claims__standardized",
         "837__claims_service_line__history",
         "837"
        ],
        [
         "allina_health_siaw__claims__standardized",
         "837__claims_subscriber__history",
         "837"
        ],
        [
         "allina_health_siaw__claims__standardized",
         "claims_account_crosswalk_837__history",
         "837"
        ],
        [
         "allina_health_siaw__claims__standardized",
         "claims_billing_provider_837__history",
         "837"
        ],
        [
         "allina_health_siaw__claims__standardized",
         "claims_claim_837__history",
         "837"
        ],
        [
         "allina_health_siaw__claims__standardized",
         "claims_meta_data_837__history",
         "837"
        ],
        [
         "allina_health_siaw__claims__standardized",
         "claims_physician_837__history",
         "837"
        ],
        [
         "allina_health_siaw__claims__standardized",
         "claims_service_line_837__history",
         "837"
        ],
        [
         "allina_health_siaw__claims__standardized",
         "claims_subscriber_837__history",
         "837"
        ],
        [
         "allina_health_siaw__claims__standardized",
         "vw_837__claims_billing_provider__history",
         "837"
        ],
        [
         "allina_health_siaw__claims__standardized",
         "vw_837__claims_billing_provider__latest",
         "837"
        ],
        [
         "allina_health_siaw__claims__standardized",
         "vw_837__claims_claim__history",
         "837"
        ],
        [
         "allina_health_siaw__claims__standardized",
         "vw_837__claims_claim__latest",
         "837"
        ],
        [
         "allina_health_siaw__claims__standardized",
         "vw_837__claims_meta_data__history",
         "837"
        ],
        [
         "allina_health_siaw__claims__standardized",
         "vw_837__claims_meta_data__latest",
         "837"
        ],
        [
         "allina_health_siaw__claims__standardized",
         "vw_837__claims_physician__history",
         "837"
        ],
        [
         "allina_health_siaw__claims__standardized",
         "vw_837__claims_physician__latest",
         "837"
        ],
        [
         "allina_health_siaw__claims__standardized",
         "vw_837__claims_service_line__history",
         "837"
        ],
        [
         "allina_health_siaw__claims__standardized",
         "vw_837__claims_service_line__latest",
         "837"
        ],
        [
         "allina_health_siaw__claims__standardized",
         "vw_837__claims_subscriber__history",
         "837"
        ],
        [
         "allina_health_siaw__claims__standardized",
         "vw_837__claims_subscriber__latest",
         "837"
        ],
        [
         "allina_health_siaw__claims__standardized",
         "vw_claims_billing_provider_837__history",
         "837"
        ],
        [
         "allina_health_siaw__claims__standardized",
         "vw_claims_billing_provider_837__latest",
         "837"
        ],
        [
         "allina_health_siaw__claims__standardized",
         "vw_claims_claim_837__history",
         "837"
        ],
        [
         "allina_health_siaw__claims__standardized",
         "vw_claims_claim_837__latest",
         "837"
        ],
        [
         "allina_health_siaw__claims__standardized",
         "vw_claims_meta_data_837__history",
         "837"
        ],
        [
         "allina_health_siaw__claims__standardized",
         "vw_claims_meta_data_837__latest",
         "837"
        ],
        [
         "allina_health_siaw__claims__standardized",
         "vw_claims_physician_837__history",
         "837"
        ],
        [
         "allina_health_siaw__claims__standardized",
         "vw_claims_physician_837__latest",
         "837"
        ],
        [
         "allina_health_siaw__claims__standardized",
         "vw_claims_service_line_837__history",
         "837"
        ],
        [
         "allina_health_siaw__claims__standardized",
         "vw_claims_service_line_837__latest",
         "837"
        ],
        [
         "allina_health_siaw__claims__standardized",
         "vw_claims_subscriber_837__history",
         "837"
        ],
        [
         "allina_health_siaw__claims__standardized",
         "vw_claims_subscriber_837__latest",
         "837"
        ],
        [
         "ascension_health_riaw__claims__standardized",
         "835__claims_account_crosswalk__history",
         "835"
        ],
        [
         "ascension_health_riaw__claims__standardized",
         "835__claims_advice_billing_provider__history",
         "835"
        ],
        [
         "ascension_health_riaw__claims__standardized",
         "835__claims_advice_claim_line_adjustment__history",
         "835"
        ],
        [
         "ascension_health_riaw__claims__standardized",
         "835__claims_advice_meta_data__history",
         "835"
        ],
        [
         "ascension_health_riaw__claims__standardized",
         "835__claims_advice_payment__history",
         "835"
        ],
        [
         "ascension_health_riaw__claims__standardized",
         "835__claims_advice_payment_overview__history",
         "835"
        ],
        [
         "ascension_health_riaw__claims__standardized",
         "835__claims_advice_subscriber__history",
         "835"
        ],
        [
         "ascension_health_riaw__claims__standardized",
         "837__claims_account_crosswalk__history",
         "837"
        ],
        [
         "ascension_health_riaw__claims__standardized",
         "837__claims_billing_provider__history",
         "837"
        ],
        [
         "ascension_health_riaw__claims__standardized",
         "837__claims_claim__history",
         "837"
        ],
        [
         "ascension_health_riaw__claims__standardized",
         "837__claims_meta_data__history",
         "837"
        ],
        [
         "ascension_health_riaw__claims__standardized",
         "837__claims_physician__history",
         "837"
        ],
        [
         "ascension_health_riaw__claims__standardized",
         "837__claims_service_line__history",
         "837"
        ],
        [
         "ascension_health_riaw__claims__standardized",
         "837__claims_subscriber__history",
         "837"
        ],
        [
         "ascension_health_riaw__claims__standardized",
         "claims_account_crosswalk_837__history",
         "837"
        ],
        [
         "ascension_health_riaw__claims__standardized",
         "claims_billing_provider_837__history",
         "837"
        ],
        [
         "ascension_health_riaw__claims__standardized",
         "claims_claim_837__history",
         "837"
        ],
        [
         "ascension_health_riaw__claims__standardized",
         "claims_meta_data_837__history",
         "837"
        ],
        [
         "ascension_health_riaw__claims__standardized",
         "claims_physician_837__history",
         "837"
        ],
        [
         "ascension_health_riaw__claims__standardized",
         "claims_service_line_837__history",
         "837"
        ],
        [
         "ascension_health_riaw__claims__standardized",
         "claims_subscriber_837__history",
         "837"
        ],
        [
         "ascension_health_riaw__claims__standardized",
         "vw_837__claims_billing_provider__history",
         "837"
        ],
        [
         "ascension_health_riaw__claims__standardized",
         "vw_837__claims_billing_provider__latest",
         "837"
        ],
        [
         "ascension_health_riaw__claims__standardized",
         "vw_837__claims_claim__history",
         "837"
        ],
        [
         "ascension_health_riaw__claims__standardized",
         "vw_837__claims_claim__latest",
         "837"
        ],
        [
         "ascension_health_riaw__claims__standardized",
         "vw_837__claims_meta_data__history",
         "837"
        ],
        [
         "ascension_health_riaw__claims__standardized",
         "vw_837__claims_meta_data__latest",
         "837"
        ],
        [
         "ascension_health_riaw__claims__standardized",
         "vw_837__claims_physician__history",
         "837"
        ],
        [
         "ascension_health_riaw__claims__standardized",
         "vw_837__claims_physician__latest",
         "837"
        ],
        [
         "ascension_health_riaw__claims__standardized",
         "vw_837__claims_service_line__history",
         "837"
        ],
        [
         "ascension_health_riaw__claims__standardized",
         "vw_837__claims_service_line__latest",
         "837"
        ],
        [
         "ascension_health_riaw__claims__standardized",
         "vw_837__claims_subscriber__history",
         "837"
        ],
        [
         "ascension_health_riaw__claims__standardized",
         "vw_837__claims_subscriber__latest",
         "837"
        ],
        [
         "ascension_health_riaw__claims__standardized",
         "vw_claims_billing_provider_837__history",
         "837"
        ],
        [
         "ascension_health_riaw__claims__standardized",
         "vw_claims_billing_provider_837__latest",
         "837"
        ],
        [
         "ascension_health_riaw__claims__standardized",
         "vw_claims_claim_837__history",
         "837"
        ],
        [
         "ascension_health_riaw__claims__standardized",
         "vw_claims_claim_837__latest",
         "837"
        ],
        [
         "ascension_health_riaw__claims__standardized",
         "vw_claims_meta_data_837__history",
         "837"
        ],
        [
         "ascension_health_riaw__claims__standardized",
         "vw_claims_meta_data_837__latest",
         "837"
        ],
        [
         "ascension_health_riaw__claims__standardized",
         "vw_claims_physician_837__history",
         "837"
        ],
        [
         "ascension_health_riaw__claims__standardized",
         "vw_claims_physician_837__latest",
         "837"
        ],
        [
         "ascension_health_riaw__claims__standardized",
         "vw_claims_service_line_837__history",
         "837"
        ],
        [
         "ascension_health_riaw__claims__standardized",
         "vw_claims_service_line_837__latest",
         "837"
        ],
        [
         "ascension_health_riaw__claims__standardized",
         "vw_claims_subscriber_837__history",
         "837"
        ],
        [
         "ascension_health_riaw__claims__standardized",
         "vw_claims_subscriber_837__latest",
         "837"
        ],
        [
         "aspirus_system_qiag__claims__standardized",
         "837__claims_account_crosswalk__history",
         "837"
        ],
        [
         "aspirus_system_qiag__claims__standardized",
         "837__claims_billing_provider__history",
         "837"
        ],
        [
         "aspirus_system_qiag__claims__standardized",
         "837__claims_claim__history",
         "837"
        ],
        [
         "aspirus_system_qiag__claims__standardized",
         "837__claims_meta_data__history",
         "837"
        ],
        [
         "aspirus_system_qiag__claims__standardized",
         "837__claims_physician__history",
         "837"
        ],
        [
         "aspirus_system_qiag__claims__standardized",
         "837__claims_service_line__history",
         "837"
        ],
        [
         "aspirus_system_qiag__claims__standardized",
         "837__claims_subscriber__history",
         "837"
        ],
        [
         "aspirus_system_qiag__claims__standardized",
         "claims_account_crosswalk_837__history",
         "837"
        ],
        [
         "aspirus_system_qiag__claims__standardized",
         "claims_billing_provider_837__history",
         "837"
        ],
        [
         "aspirus_system_qiag__claims__standardized",
         "claims_claim_837__history",
         "837"
        ],
        [
         "aspirus_system_qiag__claims__standardized",
         "claims_meta_data_837__history",
         "837"
        ],
        [
         "aspirus_system_qiag__claims__standardized",
         "claims_physician_837__history",
         "837"
        ],
        [
         "aspirus_system_qiag__claims__standardized",
         "claims_service_line_837__history",
         "837"
        ],
        [
         "aspirus_system_qiag__claims__standardized",
         "claims_subscriber_837__history",
         "837"
        ],
        [
         "aspirus_system_qiag__claims__standardized",
         "vw_837__claims_billing_provider__history",
         "837"
        ],
        [
         "aspirus_system_qiag__claims__standardized",
         "vw_837__claims_billing_provider__latest",
         "837"
        ],
        [
         "aspirus_system_qiag__claims__standardized",
         "vw_837__claims_claim__history",
         "837"
        ],
        [
         "aspirus_system_qiag__claims__standardized",
         "vw_837__claims_claim__latest",
         "837"
        ],
        [
         "aspirus_system_qiag__claims__standardized",
         "vw_837__claims_meta_data__history",
         "837"
        ],
        [
         "aspirus_system_qiag__claims__standardized",
         "vw_837__claims_meta_data__latest",
         "837"
        ],
        [
         "aspirus_system_qiag__claims__standardized",
         "vw_837__claims_physician__history",
         "837"
        ],
        [
         "aspirus_system_qiag__claims__standardized",
         "vw_837__claims_physician__latest",
         "837"
        ],
        [
         "aspirus_system_qiag__claims__standardized",
         "vw_837__claims_service_line__history",
         "837"
        ],
        [
         "aspirus_system_qiag__claims__standardized",
         "vw_837__claims_service_line__latest",
         "837"
        ],
        [
         "aspirus_system_qiag__claims__standardized",
         "vw_837__claims_subscriber__history",
         "837"
        ],
        [
         "aspirus_system_qiag__claims__standardized",
         "vw_837__claims_subscriber__latest",
         "837"
        ],
        [
         "aspirus_system_qiag__claims__standardized",
         "vw_claims_billing_provider_837__history",
         "837"
        ],
        [
         "aspirus_system_qiag__claims__standardized",
         "vw_claims_billing_provider_837__latest",
         "837"
        ],
        [
         "aspirus_system_qiag__claims__standardized",
         "vw_claims_claim_837__history",
         "837"
        ],
        [
         "aspirus_system_qiag__claims__standardized",
         "vw_claims_claim_837__latest",
         "837"
        ],
        [
         "aspirus_system_qiag__claims__standardized",
         "vw_claims_meta_data_837__history",
         "837"
        ],
        [
         "aspirus_system_qiag__claims__standardized",
         "vw_claims_meta_data_837__latest",
         "837"
        ],
        [
         "aspirus_system_qiag__claims__standardized",
         "vw_claims_physician_837__history",
         "837"
        ],
        [
         "aspirus_system_qiag__claims__standardized",
         "vw_claims_physician_837__latest",
         "837"
        ],
        [
         "aspirus_system_qiag__claims__standardized",
         "vw_claims_service_line_837__history",
         "837"
        ],
        [
         "aspirus_system_qiag__claims__standardized",
         "vw_claims_service_line_837__latest",
         "837"
        ],
        [
         "aspirus_system_qiag__claims__standardized",
         "vw_claims_subscriber_837__history",
         "837"
        ],
        [
         "aspirus_system_qiag__claims__standardized",
         "vw_claims_subscriber_837__latest",
         "837"
        ],
        [
         "avera_health_qiag__claims__standardized",
         "837__claims_account_crosswalk__history",
         "837"
        ],
        [
         "avera_health_qiag__claims__standardized",
         "837__claims_billing_provider__history",
         "837"
        ],
        [
         "avera_health_qiag__claims__standardized",
         "837__claims_claim__history",
         "837"
        ],
        [
         "avera_health_qiag__claims__standardized",
         "837__claims_meta_data__history",
         "837"
        ],
        [
         "avera_health_qiag__claims__standardized",
         "837__claims_physician__history",
         "837"
        ],
        [
         "avera_health_qiag__claims__standardized",
         "837__claims_service_line__history",
         "837"
        ],
        [
         "avera_health_qiag__claims__standardized",
         "837__claims_subscriber__history",
         "837"
        ],
        [
         "avera_health_qiag__claims__standardized",
         "vw_837__claims_billing_provider__history",
         "837"
        ],
        [
         "avera_health_qiag__claims__standardized",
         "vw_837__claims_billing_provider__latest",
         "837"
        ],
        [
         "avera_health_qiag__claims__standardized",
         "vw_837__claims_claim__history",
         "837"
        ],
        [
         "avera_health_qiag__claims__standardized",
         "vw_837__claims_claim__latest",
         "837"
        ],
        [
         "avera_health_qiag__claims__standardized",
         "vw_837__claims_meta_data__history",
         "837"
        ],
        [
         "avera_health_qiag__claims__standardized",
         "vw_837__claims_meta_data__latest",
         "837"
        ],
        [
         "avera_health_qiag__claims__standardized",
         "vw_837__claims_physician__history",
         "837"
        ],
        [
         "avera_health_qiag__claims__standardized",
         "vw_837__claims_physician__latest",
         "837"
        ],
        [
         "avera_health_qiag__claims__standardized",
         "vw_837__claims_service_line__history",
         "837"
        ],
        [
         "avera_health_qiag__claims__standardized",
         "vw_837__claims_service_line__latest",
         "837"
        ],
        [
         "avera_health_qiag__claims__standardized",
         "vw_837__claims_subscriber__history",
         "837"
        ],
        [
         "avera_health_qiag__claims__standardized",
         "vw_837__claims_subscriber__latest",
         "837"
        ],
        [
         "banner_health_riag__claims__standardized",
         "837__claims_account_crosswalk__history",
         "837"
        ],
        [
         "banner_health_riag__claims__standardized",
         "837__claims_account_crosswalk__latest",
         "837"
        ],
        [
         "banner_health_riag__claims__standardized",
         "837__claims_billing_provider__history",
         "837"
        ],
        [
         "banner_health_riag__claims__standardized",
         "837__claims_billing_provider__latest",
         "837"
        ],
        [
         "banner_health_riag__claims__standardized",
         "837__claims_claim__history",
         "837"
        ],
        [
         "banner_health_riag__claims__standardized",
         "837__claims_claim__latest",
         "837"
        ],
        [
         "banner_health_riag__claims__standardized",
         "837__claims_meta_data__history",
         "837"
        ],
        [
         "banner_health_riag__claims__standardized",
         "837__claims_meta_data__latest",
         "837"
        ],
        [
         "banner_health_riag__claims__standardized",
         "837__claims_physician__history",
         "837"
        ],
        [
         "banner_health_riag__claims__standardized",
         "837__claims_physician__latest",
         "837"
        ],
        [
         "banner_health_riag__claims__standardized",
         "837__claims_service_line__history",
         "837"
        ],
        [
         "banner_health_riag__claims__standardized",
         "837__claims_service_line__latest",
         "837"
        ],
        [
         "banner_health_riag__claims__standardized",
         "837__claims_subscriber__history",
         "837"
        ],
        [
         "banner_health_riag__claims__standardized",
         "837__claims_subscriber__latest",
         "837"
        ],
        [
         "banner_health_riag__claims__standardized",
         "claims_account_crosswalk_837__history",
         "837"
        ],
        [
         "banner_health_riag__claims__standardized",
         "claims_billing_provider_837__history",
         "837"
        ],
        [
         "banner_health_riag__claims__standardized",
         "claims_claim_837__history",
         "837"
        ],
        [
         "banner_health_riag__claims__standardized",
         "claims_meta_data_837__history",
         "837"
        ],
        [
         "banner_health_riag__claims__standardized",
         "claims_physician_837__history",
         "837"
        ],
        [
         "banner_health_riag__claims__standardized",
         "claims_service_line_837__history",
         "837"
        ],
        [
         "banner_health_riag__claims__standardized",
         "claims_subscriber_837__history",
         "837"
        ],
        [
         "banner_health_riag__claims__standardized",
         "vw_837__claims_billing_provider__history",
         "837"
        ],
        [
         "banner_health_riag__claims__standardized",
         "vw_837__claims_billing_provider__latest",
         "837"
        ],
        [
         "banner_health_riag__claims__standardized",
         "vw_837__claims_claim__history",
         "837"
        ],
        [
         "banner_health_riag__claims__standardized",
         "vw_837__claims_claim__latest",
         "837"
        ],
        [
         "banner_health_riag__claims__standardized",
         "vw_837__claims_meta_data__history",
         "837"
        ],
        [
         "banner_health_riag__claims__standardized",
         "vw_837__claims_meta_data__latest",
         "837"
        ],
        [
         "banner_health_riag__claims__standardized",
         "vw_837__claims_physician__history",
         "837"
        ],
        [
         "banner_health_riag__claims__standardized",
         "vw_837__claims_physician__latest",
         "837"
        ],
        [
         "banner_health_riag__claims__standardized",
         "vw_837__claims_service_line__history",
         "837"
        ],
        [
         "banner_health_riag__claims__standardized",
         "vw_837__claims_service_line__latest",
         "837"
        ],
        [
         "banner_health_riag__claims__standardized",
         "vw_837__claims_subscriber__history",
         "837"
        ],
        [
         "banner_health_riag__claims__standardized",
         "vw_837__claims_subscriber__latest",
         "837"
        ],
        [
         "banner_health_riag__claims__standardized",
         "vw_claims_billing_provider_837__history",
         "837"
        ],
        [
         "banner_health_riag__claims__standardized",
         "vw_claims_billing_provider_837__latest",
         "837"
        ],
        [
         "banner_health_riag__claims__standardized",
         "vw_claims_claim_837__history",
         "837"
        ],
        [
         "banner_health_riag__claims__standardized",
         "vw_claims_claim_837__latest",
         "837"
        ],
        [
         "banner_health_riag__claims__standardized",
         "vw_claims_meta_data_837__history",
         "837"
        ],
        [
         "banner_health_riag__claims__standardized",
         "vw_claims_meta_data_837__latest",
         "837"
        ],
        [
         "banner_health_riag__claims__standardized",
         "vw_claims_physician_837__history",
         "837"
        ],
        [
         "banner_health_riag__claims__standardized",
         "vw_claims_physician_837__latest",
         "837"
        ],
        [
         "banner_health_riag__claims__standardized",
         "vw_claims_service_line_837__history",
         "837"
        ],
        [
         "banner_health_riag__claims__standardized",
         "vw_claims_service_line_837__latest",
         "837"
        ],
        [
         "banner_health_riag__claims__standardized",
         "vw_claims_subscriber_837__history",
         "837"
        ],
        [
         "banner_health_riag__claims__standardized",
         "vw_claims_subscriber_837__latest",
         "837"
        ],
        [
         "baptist_health_giaw__claims__standardized",
         "837__claims_account_crosswalk__history",
         "837"
        ],
        [
         "baptist_health_giaw__claims__standardized",
         "837__claims_account_crosswalk__latest",
         "837"
        ],
        [
         "baptist_health_giaw__claims__standardized",
         "837__claims_billing_provider__history",
         "837"
        ],
        [
         "baptist_health_giaw__claims__standardized",
         "837__claims_billing_provider__latest",
         "837"
        ],
        [
         "baptist_health_giaw__claims__standardized",
         "837__claims_claim__history",
         "837"
        ],
        [
         "baptist_health_giaw__claims__standardized",
         "837__claims_claim__latest",
         "837"
        ],
        [
         "baptist_health_giaw__claims__standardized",
         "837__claims_meta_data__history",
         "837"
        ],
        [
         "baptist_health_giaw__claims__standardized",
         "837__claims_meta_data__latest",
         "837"
        ],
        [
         "baptist_health_giaw__claims__standardized",
         "837__claims_physician__history",
         "837"
        ],
        [
         "baptist_health_giaw__claims__standardized",
         "837__claims_physician__latest",
         "837"
        ],
        [
         "baptist_health_giaw__claims__standardized",
         "837__claims_service_line__history",
         "837"
        ],
        [
         "baptist_health_giaw__claims__standardized",
         "837__claims_service_line__latest",
         "837"
        ],
        [
         "baptist_health_giaw__claims__standardized",
         "837__claims_subscriber__history",
         "837"
        ],
        [
         "baptist_health_giaw__claims__standardized",
         "837__claims_subscriber__latest",
         "837"
        ],
        [
         "baptist_health_giaw__claims__standardized",
         "claims_account_crosswalk_837__history",
         "837"
        ],
        [
         "baptist_health_giaw__claims__standardized",
         "claims_billing_provider_837__history",
         "837"
        ],
        [
         "baptist_health_giaw__claims__standardized",
         "claims_claim_837__history",
         "837"
        ],
        [
         "baptist_health_giaw__claims__standardized",
         "claims_meta_data_837__history",
         "837"
        ],
        [
         "baptist_health_giaw__claims__standardized",
         "claims_physician_837__history",
         "837"
        ],
        [
         "baptist_health_giaw__claims__standardized",
         "claims_service_line_837__history",
         "837"
        ],
        [
         "baptist_health_giaw__claims__standardized",
         "claims_subscriber_837__history",
         "837"
        ],
        [
         "baptist_health_giaw__claims__standardized",
         "vw_837__claims_billing_provider__history",
         "837"
        ],
        [
         "baptist_health_giaw__claims__standardized",
         "vw_837__claims_billing_provider__latest",
         "837"
        ],
        [
         "baptist_health_giaw__claims__standardized",
         "vw_837__claims_claim__history",
         "837"
        ],
        [
         "baptist_health_giaw__claims__standardized",
         "vw_837__claims_claim__latest",
         "837"
        ],
        [
         "baptist_health_giaw__claims__standardized",
         "vw_837__claims_meta_data__history",
         "837"
        ],
        [
         "baptist_health_giaw__claims__standardized",
         "vw_837__claims_meta_data__latest",
         "837"
        ],
        [
         "baptist_health_giaw__claims__standardized",
         "vw_837__claims_physician__history",
         "837"
        ],
        [
         "baptist_health_giaw__claims__standardized",
         "vw_837__claims_physician__latest",
         "837"
        ],
        [
         "baptist_health_giaw__claims__standardized",
         "vw_837__claims_service_line__history",
         "837"
        ],
        [
         "baptist_health_giaw__claims__standardized",
         "vw_837__claims_service_line__latest",
         "837"
        ],
        [
         "baptist_health_giaw__claims__standardized",
         "vw_837__claims_subscriber__history",
         "837"
        ],
        [
         "baptist_health_giaw__claims__standardized",
         "vw_837__claims_subscriber__latest",
         "837"
        ],
        [
         "baptist_health_giaw__claims__standardized",
         "vw_claims_billing_provider_837__history",
         "837"
        ],
        [
         "baptist_health_giaw__claims__standardized",
         "vw_claims_billing_provider_837__latest",
         "837"
        ],
        [
         "baptist_health_giaw__claims__standardized",
         "vw_claims_claim_837__history",
         "837"
        ],
        [
         "baptist_health_giaw__claims__standardized",
         "vw_claims_claim_837__latest",
         "837"
        ],
        [
         "baptist_health_giaw__claims__standardized",
         "vw_claims_meta_data_837__history",
         "837"
        ],
        [
         "baptist_health_giaw__claims__standardized",
         "vw_claims_meta_data_837__latest",
         "837"
        ],
        [
         "baptist_health_giaw__claims__standardized",
         "vw_claims_physician_837__history",
         "837"
        ],
        [
         "baptist_health_giaw__claims__standardized",
         "vw_claims_physician_837__latest",
         "837"
        ],
        [
         "baptist_health_giaw__claims__standardized",
         "vw_claims_service_line_837__history",
         "837"
        ],
        [
         "baptist_health_giaw__claims__standardized",
         "vw_claims_service_line_837__latest",
         "837"
        ],
        [
         "baptist_health_giaw__claims__standardized",
         "vw_claims_subscriber_837__history",
         "837"
        ],
        [
         "baptist_health_giaw__claims__standardized",
         "vw_claims_subscriber_837__latest",
         "837"
        ],
        [
         "baylor_scott_white_health_uiag__claims__standardized",
         "837__claims_account_crosswalk__history",
         "837"
        ],
        [
         "baylor_scott_white_health_uiag__claims__standardized",
         "837__claims_billing_provider__history",
         "837"
        ],
        [
         "baylor_scott_white_health_uiag__claims__standardized",
         "837__claims_claim__history",
         "837"
        ],
        [
         "baylor_scott_white_health_uiag__claims__standardized",
         "837__claims_meta_data__history",
         "837"
        ],
        [
         "baylor_scott_white_health_uiag__claims__standardized",
         "837__claims_physician__history",
         "837"
        ],
        [
         "baylor_scott_white_health_uiag__claims__standardized",
         "837__claims_service_line__history",
         "837"
        ],
        [
         "baylor_scott_white_health_uiag__claims__standardized",
         "837__claims_subscriber__history",
         "837"
        ],
        [
         "baylor_scott_white_health_uiag__claims__standardized",
         "claims_account_crosswalk_837__history",
         "837"
        ],
        [
         "baylor_scott_white_health_uiag__claims__standardized",
         "claims_billing_provider_837__history",
         "837"
        ],
        [
         "baylor_scott_white_health_uiag__claims__standardized",
         "claims_claim_837__history",
         "837"
        ],
        [
         "baylor_scott_white_health_uiag__claims__standardized",
         "claims_meta_data_837__history",
         "837"
        ],
        [
         "baylor_scott_white_health_uiag__claims__standardized",
         "claims_physician_837__history",
         "837"
        ],
        [
         "baylor_scott_white_health_uiag__claims__standardized",
         "claims_service_line_837__history",
         "837"
        ],
        [
         "baylor_scott_white_health_uiag__claims__standardized",
         "claims_subscriber_837__history",
         "837"
        ],
        [
         "baylor_scott_white_health_uiag__claims__standardized",
         "vw_837__claims_billing_provider__history",
         "837"
        ],
        [
         "baylor_scott_white_health_uiag__claims__standardized",
         "vw_837__claims_billing_provider__latest",
         "837"
        ],
        [
         "baylor_scott_white_health_uiag__claims__standardized",
         "vw_837__claims_claim__history",
         "837"
        ],
        [
         "baylor_scott_white_health_uiag__claims__standardized",
         "vw_837__claims_claim__latest",
         "837"
        ],
        [
         "baylor_scott_white_health_uiag__claims__standardized",
         "vw_837__claims_meta_data__history",
         "837"
        ],
        [
         "baylor_scott_white_health_uiag__claims__standardized",
         "vw_837__claims_meta_data__latest",
         "837"
        ],
        [
         "baylor_scott_white_health_uiag__claims__standardized",
         "vw_837__claims_physician__history",
         "837"
        ],
        [
         "baylor_scott_white_health_uiag__claims__standardized",
         "vw_837__claims_physician__latest",
         "837"
        ],
        [
         "baylor_scott_white_health_uiag__claims__standardized",
         "vw_837__claims_service_line__history",
         "837"
        ],
        [
         "baylor_scott_white_health_uiag__claims__standardized",
         "vw_837__claims_service_line__latest",
         "837"
        ],
        [
         "baylor_scott_white_health_uiag__claims__standardized",
         "vw_837__claims_subscriber__history",
         "837"
        ],
        [
         "baylor_scott_white_health_uiag__claims__standardized",
         "vw_837__claims_subscriber__latest",
         "837"
        ],
        [
         "baylor_scott_white_health_uiag__claims__standardized",
         "vw_claims_billing_provider_837__history",
         "837"
        ],
        [
         "baylor_scott_white_health_uiag__claims__standardized",
         "vw_claims_billing_provider_837__latest",
         "837"
        ],
        [
         "baylor_scott_white_health_uiag__claims__standardized",
         "vw_claims_claim_837__history",
         "837"
        ],
        [
         "baylor_scott_white_health_uiag__claims__standardized",
         "vw_claims_claim_837__latest",
         "837"
        ],
        [
         "baylor_scott_white_health_uiag__claims__standardized",
         "vw_claims_meta_data_837__history",
         "837"
        ],
        [
         "baylor_scott_white_health_uiag__claims__standardized",
         "vw_claims_meta_data_837__latest",
         "837"
        ],
        [
         "baylor_scott_white_health_uiag__claims__standardized",
         "vw_claims_physician_837__history",
         "837"
        ],
        [
         "baylor_scott_white_health_uiag__claims__standardized",
         "vw_claims_physician_837__latest",
         "837"
        ],
        [
         "baylor_scott_white_health_uiag__claims__standardized",
         "vw_claims_service_line_837__history",
         "837"
        ],
        [
         "baylor_scott_white_health_uiag__claims__standardized",
         "vw_claims_service_line_837__latest",
         "837"
        ],
        [
         "baylor_scott_white_health_uiag__claims__standardized",
         "vw_claims_subscriber_837__history",
         "837"
        ],
        [
         "baylor_scott_white_health_uiag__claims__standardized",
         "vw_claims_subscriber_837__latest",
         "837"
        ],
        [
         "blanchard_valley_health_system_nqat__claims__standardized",
         "837__claims_account_crosswalk__history",
         "837"
        ],
        [
         "blanchard_valley_health_system_nqat__claims__standardized",
         "837__claims_billing_provider__history",
         "837"
        ],
        [
         "blanchard_valley_health_system_nqat__claims__standardized",
         "837__claims_claim__history",
         "837"
        ],
        [
         "blanchard_valley_health_system_nqat__claims__standardized",
         "837__claims_meta_data__history",
         "837"
        ],
        [
         "blanchard_valley_health_system_nqat__claims__standardized",
         "837__claims_physician__history",
         "837"
        ],
        [
         "blanchard_valley_health_system_nqat__claims__standardized",
         "837__claims_service_line__history",
         "837"
        ],
        [
         "blanchard_valley_health_system_nqat__claims__standardized",
         "837__claims_subscriber__history",
         "837"
        ],
        [
         "blanchard_valley_health_system_nqat__claims__standardized",
         "claims_account_crosswalk_837__history",
         "837"
        ],
        [
         "blanchard_valley_health_system_nqat__claims__standardized",
         "claims_billing_provider_837__history",
         "837"
        ],
        [
         "blanchard_valley_health_system_nqat__claims__standardized",
         "claims_claim_837__history",
         "837"
        ],
        [
         "blanchard_valley_health_system_nqat__claims__standardized",
         "claims_meta_data_837__history",
         "837"
        ],
        [
         "blanchard_valley_health_system_nqat__claims__standardized",
         "claims_physician_837__history",
         "837"
        ],
        [
         "blanchard_valley_health_system_nqat__claims__standardized",
         "claims_service_line_837__history",
         "837"
        ],
        [
         "blanchard_valley_health_system_nqat__claims__standardized",
         "claims_subscriber_837__history",
         "837"
        ],
        [
         "blanchard_valley_health_system_nqat__claims__standardized",
         "vw_837__claims_billing_provider__history",
         "837"
        ],
        [
         "blanchard_valley_health_system_nqat__claims__standardized",
         "vw_837__claims_billing_provider__latest",
         "837"
        ],
        [
         "blanchard_valley_health_system_nqat__claims__standardized",
         "vw_837__claims_claim__history",
         "837"
        ],
        [
         "blanchard_valley_health_system_nqat__claims__standardized",
         "vw_837__claims_claim__latest",
         "837"
        ],
        [
         "blanchard_valley_health_system_nqat__claims__standardized",
         "vw_837__claims_meta_data__history",
         "837"
        ],
        [
         "blanchard_valley_health_system_nqat__claims__standardized",
         "vw_837__claims_meta_data__latest",
         "837"
        ],
        [
         "blanchard_valley_health_system_nqat__claims__standardized",
         "vw_837__claims_physician__history",
         "837"
        ],
        [
         "blanchard_valley_health_system_nqat__claims__standardized",
         "vw_837__claims_physician__latest",
         "837"
        ],
        [
         "blanchard_valley_health_system_nqat__claims__standardized",
         "vw_837__claims_service_line__history",
         "837"
        ],
        [
         "blanchard_valley_health_system_nqat__claims__standardized",
         "vw_837__claims_service_line__latest",
         "837"
        ],
        [
         "blanchard_valley_health_system_nqat__claims__standardized",
         "vw_837__claims_subscriber__history",
         "837"
        ],
        [
         "blanchard_valley_health_system_nqat__claims__standardized",
         "vw_837__claims_subscriber__latest",
         "837"
        ],
        [
         "blanchard_valley_health_system_nqat__claims__standardized",
         "vw_claims_billing_provider_837__history",
         "837"
        ],
        [
         "blanchard_valley_health_system_nqat__claims__standardized",
         "vw_claims_billing_provider_837__latest",
         "837"
        ],
        [
         "blanchard_valley_health_system_nqat__claims__standardized",
         "vw_claims_claim_837__history",
         "837"
        ],
        [
         "blanchard_valley_health_system_nqat__claims__standardized",
         "vw_claims_claim_837__latest",
         "837"
        ],
        [
         "blanchard_valley_health_system_nqat__claims__standardized",
         "vw_claims_meta_data_837__history",
         "837"
        ],
        [
         "blanchard_valley_health_system_nqat__claims__standardized",
         "vw_claims_meta_data_837__latest",
         "837"
        ],
        [
         "blanchard_valley_health_system_nqat__claims__standardized",
         "vw_claims_physician_837__history",
         "837"
        ],
        [
         "blanchard_valley_health_system_nqat__claims__standardized",
         "vw_claims_physician_837__latest",
         "837"
        ],
        [
         "blanchard_valley_health_system_nqat__claims__standardized",
         "vw_claims_service_line_837__history",
         "837"
        ],
        [
         "blanchard_valley_health_system_nqat__claims__standardized",
         "vw_claims_service_line_837__latest",
         "837"
        ],
        [
         "blanchard_valley_health_system_nqat__claims__standardized",
         "vw_claims_subscriber_837__history",
         "837"
        ],
        [
         "blanchard_valley_health_system_nqat__claims__standardized",
         "vw_claims_subscriber_837__latest",
         "837"
        ],
        [
         "centra_health_wiag__claims__standardized",
         "837__claims_account_crosswalk__history",
         "837"
        ],
        [
         "centra_health_wiag__claims__standardized",
         "837__claims_billing_provider__history",
         "837"
        ],
        [
         "centra_health_wiag__claims__standardized",
         "837__claims_claim__history",
         "837"
        ],
        [
         "centra_health_wiag__claims__standardized",
         "837__claims_meta_data__history",
         "837"
        ],
        [
         "centra_health_wiag__claims__standardized",
         "837__claims_physician__history",
         "837"
        ],
        [
         "centra_health_wiag__claims__standardized",
         "837__claims_service_line__history",
         "837"
        ],
        [
         "centra_health_wiag__claims__standardized",
         "837__claims_subscriber__history",
         "837"
        ],
        [
         "centra_health_wiag__claims__standardized",
         "claims_account_crosswalk_837__history",
         "837"
        ],
        [
         "centra_health_wiag__claims__standardized",
         "claims_billing_provider_837__history",
         "837"
        ],
        [
         "centra_health_wiag__claims__standardized",
         "claims_claim_837__history",
         "837"
        ],
        [
         "centra_health_wiag__claims__standardized",
         "claims_meta_data_837__history",
         "837"
        ],
        [
         "centra_health_wiag__claims__standardized",
         "claims_physician_837__history",
         "837"
        ],
        [
         "centra_health_wiag__claims__standardized",
         "claims_service_line_837__history",
         "837"
        ],
        [
         "centra_health_wiag__claims__standardized",
         "claims_subscriber_837__history",
         "837"
        ],
        [
         "centra_health_wiag__claims__standardized",
         "vw_837__claims_billing_provider__history",
         "837"
        ],
        [
         "centra_health_wiag__claims__standardized",
         "vw_837__claims_billing_provider__latest",
         "837"
        ],
        [
         "centra_health_wiag__claims__standardized",
         "vw_837__claims_claim__history",
         "837"
        ],
        [
         "centra_health_wiag__claims__standardized",
         "vw_837__claims_claim__latest",
         "837"
        ],
        [
         "centra_health_wiag__claims__standardized",
         "vw_837__claims_meta_data__history",
         "837"
        ],
        [
         "centra_health_wiag__claims__standardized",
         "vw_837__claims_meta_data__latest",
         "837"
        ],
        [
         "centra_health_wiag__claims__standardized",
         "vw_837__claims_physician__history",
         "837"
        ],
        [
         "centra_health_wiag__claims__standardized",
         "vw_837__claims_physician__latest",
         "837"
        ],
        [
         "centra_health_wiag__claims__standardized",
         "vw_837__claims_service_line__history",
         "837"
        ],
        [
         "centra_health_wiag__claims__standardized",
         "vw_837__claims_service_line__latest",
         "837"
        ],
        [
         "centra_health_wiag__claims__standardized",
         "vw_837__claims_subscriber__history",
         "837"
        ],
        [
         "centra_health_wiag__claims__standardized",
         "vw_837__claims_subscriber__latest",
         "837"
        ],
        [
         "centra_health_wiag__claims__standardized",
         "vw_claims_billing_provider_837__history",
         "837"
        ],
        [
         "centra_health_wiag__claims__standardized",
         "vw_claims_billing_provider_837__latest",
         "837"
        ],
        [
         "centra_health_wiag__claims__standardized",
         "vw_claims_claim_837__history",
         "837"
        ],
        [
         "centra_health_wiag__claims__standardized",
         "vw_claims_claim_837__latest",
         "837"
        ],
        [
         "centra_health_wiag__claims__standardized",
         "vw_claims_meta_data_837__history",
         "837"
        ],
        [
         "centra_health_wiag__claims__standardized",
         "vw_claims_meta_data_837__latest",
         "837"
        ],
        [
         "centra_health_wiag__claims__standardized",
         "vw_claims_physician_837__history",
         "837"
        ],
        [
         "centra_health_wiag__claims__standardized",
         "vw_claims_physician_837__latest",
         "837"
        ],
        [
         "centra_health_wiag__claims__standardized",
         "vw_claims_service_line_837__history",
         "837"
        ],
        [
         "centra_health_wiag__claims__standardized",
         "vw_claims_service_line_837__latest",
         "837"
        ],
        [
         "centra_health_wiag__claims__standardized",
         "vw_claims_subscriber_837__history",
         "837"
        ],
        [
         "centra_health_wiag__claims__standardized",
         "vw_claims_subscriber_837__latest",
         "837"
        ],
        [
         "christus_health_diax__claims__standardized",
         "837__claims_account_crosswalk__history",
         "837"
        ],
        [
         "christus_health_diax__claims__standardized",
         "837__claims_billing_provider__history",
         "837"
        ],
        [
         "christus_health_diax__claims__standardized",
         "837__claims_claim__history",
         "837"
        ],
        [
         "christus_health_diax__claims__standardized",
         "837__claims_meta_data__history",
         "837"
        ],
        [
         "christus_health_diax__claims__standardized",
         "837__claims_physician__history",
         "837"
        ],
        [
         "christus_health_diax__claims__standardized",
         "837__claims_service_line__history",
         "837"
        ],
        [
         "christus_health_diax__claims__standardized",
         "837__claims_subscriber__history",
         "837"
        ],
        [
         "christus_health_diax__claims__standardized",
         "vw_837__claims_billing_provider__history",
         "837"
        ],
        [
         "christus_health_diax__claims__standardized",
         "vw_837__claims_billing_provider__latest",
         "837"
        ],
        [
         "christus_health_diax__claims__standardized",
         "vw_837__claims_claim__history",
         "837"
        ],
        [
         "christus_health_diax__claims__standardized",
         "vw_837__claims_claim__latest",
         "837"
        ],
        [
         "christus_health_diax__claims__standardized",
         "vw_837__claims_meta_data__history",
         "837"
        ],
        [
         "christus_health_diax__claims__standardized",
         "vw_837__claims_meta_data__latest",
         "837"
        ],
        [
         "christus_health_diax__claims__standardized",
         "vw_837__claims_physician__history",
         "837"
        ],
        [
         "christus_health_diax__claims__standardized",
         "vw_837__claims_physician__latest",
         "837"
        ],
        [
         "christus_health_diax__claims__standardized",
         "vw_837__claims_service_line__history",
         "837"
        ],
        [
         "christus_health_diax__claims__standardized",
         "vw_837__claims_service_line__latest",
         "837"
        ],
        [
         "christus_health_diax__claims__standardized",
         "vw_837__claims_subscriber__history",
         "837"
        ],
        [
         "christus_health_diax__claims__standardized",
         "vw_837__claims_subscriber__latest",
         "837"
        ],
        [
         "commonspirit_health1_abcd__claims__standardized",
         "837__claims_account_crosswalk__history",
         "837"
        ],
        [
         "commonspirit_health1_abcd__claims__standardized",
         "837__claims_billing_provider__history",
         "837"
        ],
        [
         "commonspirit_health1_abcd__claims__standardized",
         "837__claims_claim__history",
         "837"
        ],
        [
         "commonspirit_health1_abcd__claims__standardized",
         "837__claims_meta_data__history",
         "837"
        ],
        [
         "commonspirit_health1_abcd__claims__standardized",
         "837__claims_physician__history",
         "837"
        ],
        [
         "commonspirit_health1_abcd__claims__standardized",
         "837__claims_service_line__history",
         "837"
        ],
        [
         "commonspirit_health1_abcd__claims__standardized",
         "837__claims_subscriber__history",
         "837"
        ],
        [
         "commonspirit_health1_abcd__claims__standardized",
         "vw_837__claims_billing_provider__history",
         "837"
        ],
        [
         "commonspirit_health1_abcd__claims__standardized",
         "vw_837__claims_billing_provider__latest",
         "837"
        ],
        [
         "commonspirit_health1_abcd__claims__standardized",
         "vw_837__claims_claim__history",
         "837"
        ],
        [
         "commonspirit_health1_abcd__claims__standardized",
         "vw_837__claims_claim__latest",
         "837"
        ],
        [
         "commonspirit_health1_abcd__claims__standardized",
         "vw_837__claims_meta_data__history",
         "837"
        ],
        [
         "commonspirit_health1_abcd__claims__standardized",
         "vw_837__claims_meta_data__latest",
         "837"
        ],
        [
         "commonspirit_health1_abcd__claims__standardized",
         "vw_837__claims_physician__history",
         "837"
        ],
        [
         "commonspirit_health1_abcd__claims__standardized",
         "vw_837__claims_physician__latest",
         "837"
        ],
        [
         "commonspirit_health1_abcd__claims__standardized",
         "vw_837__claims_service_line__history",
         "837"
        ],
        [
         "commonspirit_health1_abcd__claims__standardized",
         "vw_837__claims_service_line__latest",
         "837"
        ],
        [
         "commonspirit_health1_abcd__claims__standardized",
         "vw_837__claims_subscriber__history",
         "837"
        ],
        [
         "commonspirit_health1_abcd__claims__standardized",
         "vw_837__claims_subscriber__latest",
         "837"
        ],
        [
         "commonspirit_health_bqa0__claims__standardized",
         "837__claims_account_crosswalk__history",
         "837"
        ],
        [
         "commonspirit_health_bqa0__claims__standardized",
         "837__claims_billing_provider__history",
         "837"
        ],
        [
         "commonspirit_health_bqa0__claims__standardized",
         "837__claims_claim__history",
         "837"
        ],
        [
         "commonspirit_health_bqa0__claims__standardized",
         "837__claims_meta_data__history",
         "837"
        ],
        [
         "commonspirit_health_bqa0__claims__standardized",
         "837__claims_physician__history",
         "837"
        ],
        [
         "commonspirit_health_bqa0__claims__standardized",
         "837__claims_service_line__history",
         "837"
        ],
        [
         "commonspirit_health_bqa0__claims__standardized",
         "837__claims_subscriber__history",
         "837"
        ],
        [
         "commonspirit_health_bqa0__claims__standardized",
         "vw_837__claims_billing_provider__history",
         "837"
        ],
        [
         "commonspirit_health_bqa0__claims__standardized",
         "vw_837__claims_billing_provider__latest",
         "837"
        ],
        [
         "commonspirit_health_bqa0__claims__standardized",
         "vw_837__claims_claim__history",
         "837"
        ],
        [
         "commonspirit_health_bqa0__claims__standardized",
         "vw_837__claims_claim__latest",
         "837"
        ],
        [
         "commonspirit_health_bqa0__claims__standardized",
         "vw_837__claims_meta_data__history",
         "837"
        ],
        [
         "commonspirit_health_bqa0__claims__standardized",
         "vw_837__claims_meta_data__latest",
         "837"
        ],
        [
         "commonspirit_health_bqa0__claims__standardized",
         "vw_837__claims_physician__history",
         "837"
        ],
        [
         "commonspirit_health_bqa0__claims__standardized",
         "vw_837__claims_physician__latest",
         "837"
        ],
        [
         "commonspirit_health_bqa0__claims__standardized",
         "vw_837__claims_service_line__history",
         "837"
        ],
        [
         "commonspirit_health_bqa0__claims__standardized",
         "vw_837__claims_service_line__latest",
         "837"
        ],
        [
         "commonspirit_health_bqa0__claims__standardized",
         "vw_837__claims_subscriber__history",
         "837"
        ],
        [
         "commonspirit_health_bqa0__claims__standardized",
         "vw_837__claims_subscriber__latest",
         "837"
        ],
        [
         "community_hospital_of_the_monterey_peninsula_uia5__claims__standardized",
         "837__claims_account_crosswalk__history",
         "837"
        ],
        [
         "community_hospital_of_the_monterey_peninsula_uia5__claims__standardized",
         "837__claims_billing_provider__history",
         "837"
        ],
        [
         "community_hospital_of_the_monterey_peninsula_uia5__claims__standardized",
         "837__claims_claim__history",
         "837"
        ],
        [
         "community_hospital_of_the_monterey_peninsula_uia5__claims__standardized",
         "837__claims_meta_data__history",
         "837"
        ],
        [
         "community_hospital_of_the_monterey_peninsula_uia5__claims__standardized",
         "837__claims_physician__history",
         "837"
        ],
        [
         "community_hospital_of_the_monterey_peninsula_uia5__claims__standardized",
         "837__claims_service_line__history",
         "837"
        ],
        [
         "community_hospital_of_the_monterey_peninsula_uia5__claims__standardized",
         "837__claims_subscriber__history",
         "837"
        ],
        [
         "community_hospital_of_the_monterey_peninsula_uia5__claims__standardized",
         "vw_837__claims_billing_provider__history",
         "837"
        ],
        [
         "community_hospital_of_the_monterey_peninsula_uia5__claims__standardized",
         "vw_837__claims_billing_provider__latest",
         "837"
        ],
        [
         "community_hospital_of_the_monterey_peninsula_uia5__claims__standardized",
         "vw_837__claims_claim__history",
         "837"
        ],
        [
         "community_hospital_of_the_monterey_peninsula_uia5__claims__standardized",
         "vw_837__claims_claim__latest",
         "837"
        ],
        [
         "community_hospital_of_the_monterey_peninsula_uia5__claims__standardized",
         "vw_837__claims_meta_data__history",
         "837"
        ],
        [
         "community_hospital_of_the_monterey_peninsula_uia5__claims__standardized",
         "vw_837__claims_meta_data__latest",
         "837"
        ],
        [
         "community_hospital_of_the_monterey_peninsula_uia5__claims__standardized",
         "vw_837__claims_physician__history",
         "837"
        ],
        [
         "community_hospital_of_the_monterey_peninsula_uia5__claims__standardized",
         "vw_837__claims_physician__latest",
         "837"
        ],
        [
         "community_hospital_of_the_monterey_peninsula_uia5__claims__standardized",
         "vw_837__claims_service_line__history",
         "837"
        ],
        [
         "community_hospital_of_the_monterey_peninsula_uia5__claims__standardized",
         "vw_837__claims_service_line__latest",
         "837"
        ],
        [
         "community_hospital_of_the_monterey_peninsula_uia5__claims__standardized",
         "vw_837__claims_subscriber__history",
         "837"
        ],
        [
         "community_hospital_of_the_monterey_peninsula_uia5__claims__standardized",
         "vw_837__claims_subscriber__latest",
         "837"
        ],
        [
         "cooper_university_hospital_fiah__claims__standardized",
         "837__claims_account_crosswalk__history",
         "837"
        ],
        [
         "cooper_university_hospital_fiah__claims__standardized",
         "837__claims_account_crosswalk__latest",
         "837"
        ],
        [
         "cooper_university_hospital_fiah__claims__standardized",
         "837__claims_billing_provider__history",
         "837"
        ],
        [
         "cooper_university_hospital_fiah__claims__standardized",
         "837__claims_billing_provider__latest",
         "837"
        ],
        [
         "cooper_university_hospital_fiah__claims__standardized",
         "837__claims_claim__history",
         "837"
        ],
        [
         "cooper_university_hospital_fiah__claims__standardized",
         "837__claims_claim__latest",
         "837"
        ],
        [
         "cooper_university_hospital_fiah__claims__standardized",
         "837__claims_meta_data__history",
         "837"
        ],
        [
         "cooper_university_hospital_fiah__claims__standardized",
         "837__claims_meta_data__latest",
         "837"
        ],
        [
         "cooper_university_hospital_fiah__claims__standardized",
         "837__claims_physician__history",
         "837"
        ],
        [
         "cooper_university_hospital_fiah__claims__standardized",
         "837__claims_physician__latest",
         "837"
        ],
        [
         "cooper_university_hospital_fiah__claims__standardized",
         "837__claims_service_line__history",
         "837"
        ],
        [
         "cooper_university_hospital_fiah__claims__standardized",
         "837__claims_service_line__latest",
         "837"
        ],
        [
         "cooper_university_hospital_fiah__claims__standardized",
         "837__claims_subscriber__history",
         "837"
        ],
        [
         "cooper_university_hospital_fiah__claims__standardized",
         "837__claims_subscriber__latest",
         "837"
        ],
        [
         "cooper_university_hospital_fiah__claims__standardized",
         "claims_account_crosswalk_837__history",
         "837"
        ],
        [
         "cooper_university_hospital_fiah__claims__standardized",
         "claims_billing_provider_837__history",
         "837"
        ],
        [
         "cooper_university_hospital_fiah__claims__standardized",
         "claims_claim_837__history",
         "837"
        ],
        [
         "cooper_university_hospital_fiah__claims__standardized",
         "claims_meta_data_837__history",
         "837"
        ],
        [
         "cooper_university_hospital_fiah__claims__standardized",
         "claims_physician_837__history",
         "837"
        ],
        [
         "cooper_university_hospital_fiah__claims__standardized",
         "claims_service_line_837__history",
         "837"
        ],
        [
         "cooper_university_hospital_fiah__claims__standardized",
         "claims_subscriber_837__history",
         "837"
        ],
        [
         "cooper_university_hospital_fiah__claims__standardized",
         "vw_837__claims_billing_provider__history",
         "837"
        ],
        [
         "cooper_university_hospital_fiah__claims__standardized",
         "vw_837__claims_billing_provider__latest",
         "837"
        ],
        [
         "cooper_university_hospital_fiah__claims__standardized",
         "vw_837__claims_claim__history",
         "837"
        ],
        [
         "cooper_university_hospital_fiah__claims__standardized",
         "vw_837__claims_claim__latest",
         "837"
        ],
        [
         "cooper_university_hospital_fiah__claims__standardized",
         "vw_837__claims_meta_data__history",
         "837"
        ],
        [
         "cooper_university_hospital_fiah__claims__standardized",
         "vw_837__claims_meta_data__latest",
         "837"
        ],
        [
         "cooper_university_hospital_fiah__claims__standardized",
         "vw_837__claims_physician__history",
         "837"
        ],
        [
         "cooper_university_hospital_fiah__claims__standardized",
         "vw_837__claims_physician__latest",
         "837"
        ],
        [
         "cooper_university_hospital_fiah__claims__standardized",
         "vw_837__claims_service_line__history",
         "837"
        ],
        [
         "cooper_university_hospital_fiah__claims__standardized",
         "vw_837__claims_service_line__latest",
         "837"
        ],
        [
         "cooper_university_hospital_fiah__claims__standardized",
         "vw_837__claims_subscriber__history",
         "837"
        ],
        [
         "cooper_university_hospital_fiah__claims__standardized",
         "vw_837__claims_subscriber__latest",
         "837"
        ],
        [
         "cooper_university_hospital_fiah__claims__standardized",
         "vw_claims_billing_provider_837__history",
         "837"
        ],
        [
         "cooper_university_hospital_fiah__claims__standardized",
         "vw_claims_billing_provider_837__latest",
         "837"
        ],
        [
         "cooper_university_hospital_fiah__claims__standardized",
         "vw_claims_claim_837__history",
         "837"
        ],
        [
         "cooper_university_hospital_fiah__claims__standardized",
         "vw_claims_claim_837__latest",
         "837"
        ],
        [
         "cooper_university_hospital_fiah__claims__standardized",
         "vw_claims_meta_data_837__history",
         "837"
        ],
        [
         "cooper_university_hospital_fiah__claims__standardized",
         "vw_claims_meta_data_837__latest",
         "837"
        ],
        [
         "cooper_university_hospital_fiah__claims__standardized",
         "vw_claims_physician_837__history",
         "837"
        ],
        [
         "cooper_university_hospital_fiah__claims__standardized",
         "vw_claims_physician_837__latest",
         "837"
        ],
        [
         "cooper_university_hospital_fiah__claims__standardized",
         "vw_claims_service_line_837__history",
         "837"
        ],
        [
         "cooper_university_hospital_fiah__claims__standardized",
         "vw_claims_service_line_837__latest",
         "837"
        ],
        [
         "cooper_university_hospital_fiah__claims__standardized",
         "vw_claims_subscriber_837__history",
         "837"
        ],
        [
         "cooper_university_hospital_fiah__claims__standardized",
         "vw_claims_subscriber_837__latest",
         "837"
        ],
        [
         "coxhealth_xiaw__claims__standardized",
         "837__claims_account_crosswalk__history",
         "837"
        ],
        [
         "coxhealth_xiaw__claims__standardized",
         "837__claims_billing_provider__history",
         "837"
        ],
        [
         "coxhealth_xiaw__claims__standardized",
         "837__claims_claim__history",
         "837"
        ],
        [
         "coxhealth_xiaw__claims__standardized",
         "837__claims_meta_data__history",
         "837"
        ],
        [
         "coxhealth_xiaw__claims__standardized",
         "837__claims_physician__history",
         "837"
        ],
        [
         "coxhealth_xiaw__claims__standardized",
         "837__claims_service_line__history",
         "837"
        ],
        [
         "coxhealth_xiaw__claims__standardized",
         "837__claims_subscriber__history",
         "837"
        ],
        [
         "coxhealth_xiaw__claims__standardized",
         "vw_837__claims_billing_provider__history",
         "837"
        ],
        [
         "coxhealth_xiaw__claims__standardized",
         "vw_837__claims_billing_provider__latest",
         "837"
        ],
        [
         "coxhealth_xiaw__claims__standardized",
         "vw_837__claims_claim__history",
         "837"
        ],
        [
         "coxhealth_xiaw__claims__standardized",
         "vw_837__claims_claim__latest",
         "837"
        ],
        [
         "coxhealth_xiaw__claims__standardized",
         "vw_837__claims_meta_data__history",
         "837"
        ],
        [
         "coxhealth_xiaw__claims__standardized",
         "vw_837__claims_meta_data__latest",
         "837"
        ],
        [
         "coxhealth_xiaw__claims__standardized",
         "vw_837__claims_physician__history",
         "837"
        ],
        [
         "coxhealth_xiaw__claims__standardized",
         "vw_837__claims_physician__latest",
         "837"
        ],
        [
         "coxhealth_xiaw__claims__standardized",
         "vw_837__claims_service_line__history",
         "837"
        ],
        [
         "coxhealth_xiaw__claims__standardized",
         "vw_837__claims_service_line__latest",
         "837"
        ],
        [
         "coxhealth_xiaw__claims__standardized",
         "vw_837__claims_subscriber__history",
         "837"
        ],
        [
         "coxhealth_xiaw__claims__standardized",
         "vw_837__claims_subscriber__latest",
         "837"
        ],
        [
         "duke_health_xiaw__claims__standardized",
         "837__claims_account_crosswalk__history",
         "837"
        ],
        [
         "duke_health_xiaw__claims__standardized",
         "837__claims_billing_provider__history",
         "837"
        ],
        [
         "duke_health_xiaw__claims__standardized",
         "837__claims_claim__history",
         "837"
        ],
        [
         "duke_health_xiaw__claims__standardized",
         "837__claims_meta_data__history",
         "837"
        ],
        [
         "duke_health_xiaw__claims__standardized",
         "837__claims_physician__history",
         "837"
        ],
        [
         "duke_health_xiaw__claims__standardized",
         "837__claims_service_line__history",
         "837"
        ],
        [
         "duke_health_xiaw__claims__standardized",
         "837__claims_subscriber__history",
         "837"
        ],
        [
         "duke_health_xiaw__claims__standardized",
         "vw_837__claims_billing_provider__history",
         "837"
        ],
        [
         "duke_health_xiaw__claims__standardized",
         "vw_837__claims_billing_provider__latest",
         "837"
        ],
        [
         "duke_health_xiaw__claims__standardized",
         "vw_837__claims_claim__history",
         "837"
        ],
        [
         "duke_health_xiaw__claims__standardized",
         "vw_837__claims_claim__latest",
         "837"
        ],
        [
         "duke_health_xiaw__claims__standardized",
         "vw_837__claims_meta_data__history",
         "837"
        ],
        [
         "duke_health_xiaw__claims__standardized",
         "vw_837__claims_meta_data__latest",
         "837"
        ],
        [
         "duke_health_xiaw__claims__standardized",
         "vw_837__claims_physician__history",
         "837"
        ],
        [
         "duke_health_xiaw__claims__standardized",
         "vw_837__claims_physician__latest",
         "837"
        ],
        [
         "duke_health_xiaw__claims__standardized",
         "vw_837__claims_service_line__history",
         "837"
        ],
        [
         "duke_health_xiaw__claims__standardized",
         "vw_837__claims_service_line__latest",
         "837"
        ],
        [
         "duke_health_xiaw__claims__standardized",
         "vw_837__claims_subscriber__history",
         "837"
        ],
        [
         "duke_health_xiaw__claims__standardized",
         "vw_837__claims_subscriber__latest",
         "837"
        ],
        [
         "emory_healthcare_fiaw__claims__standardized",
         "835__claims_account_crosswalk__history",
         "835"
        ],
        [
         "emory_healthcare_fiaw__claims__standardized",
         "835__claims_advice_billing_provider__history",
         "835"
        ],
        [
         "emory_healthcare_fiaw__claims__standardized",
         "835__claims_advice_claim_line_adjustment__history",
         "835"
        ],
        [
         "emory_healthcare_fiaw__claims__standardized",
         "835__claims_advice_meta_data__history",
         "835"
        ],
        [
         "emory_healthcare_fiaw__claims__standardized",
         "835__claims_advice_payment__history",
         "835"
        ],
        [
         "emory_healthcare_fiaw__claims__standardized",
         "835__claims_advice_payment_overview__history",
         "835"
        ],
        [
         "emory_healthcare_fiaw__claims__standardized",
         "835__claims_advice_subscriber__history",
         "835"
        ],
        [
         "emory_healthcare_fiaw__claims__standardized",
         "837__claims_account_crosswalk__history",
         "837"
        ],
        [
         "emory_healthcare_fiaw__claims__standardized",
         "837__claims_account_crosswalk__latest",
         "837"
        ],
        [
         "emory_healthcare_fiaw__claims__standardized",
         "837__claims_billing_provider__history",
         "837"
        ],
        [
         "emory_healthcare_fiaw__claims__standardized",
         "837__claims_billing_provider__latest",
         "837"
        ],
        [
         "emory_healthcare_fiaw__claims__standardized",
         "837__claims_claim__history",
         "837"
        ],
        [
         "emory_healthcare_fiaw__claims__standardized",
         "837__claims_claim__latest",
         "837"
        ],
        [
         "emory_healthcare_fiaw__claims__standardized",
         "837__claims_meta_data__history",
         "837"
        ],
        [
         "emory_healthcare_fiaw__claims__standardized",
         "837__claims_meta_data__latest",
         "837"
        ],
        [
         "emory_healthcare_fiaw__claims__standardized",
         "837__claims_physician__history",
         "837"
        ],
        [
         "emory_healthcare_fiaw__claims__standardized",
         "837__claims_physician__latest",
         "837"
        ],
        [
         "emory_healthcare_fiaw__claims__standardized",
         "837__claims_service_line__history",
         "837"
        ],
        [
         "emory_healthcare_fiaw__claims__standardized",
         "837__claims_service_line__latest",
         "837"
        ],
        [
         "emory_healthcare_fiaw__claims__standardized",
         "837__claims_subscriber__history",
         "837"
        ],
        [
         "emory_healthcare_fiaw__claims__standardized",
         "837__claims_subscriber__latest",
         "837"
        ],
        [
         "emory_healthcare_fiaw__claims__standardized",
         "claims_account_crosswalk_837__history",
         "837"
        ],
        [
         "emory_healthcare_fiaw__claims__standardized",
         "claims_billing_provider_837__history",
         "837"
        ],
        [
         "emory_healthcare_fiaw__claims__standardized",
         "claims_claim_837__history",
         "837"
        ],
        [
         "emory_healthcare_fiaw__claims__standardized",
         "claims_meta_data_837__history",
         "837"
        ],
        [
         "emory_healthcare_fiaw__claims__standardized",
         "claims_physician_837__history",
         "837"
        ],
        [
         "emory_healthcare_fiaw__claims__standardized",
         "claims_service_line_837__history",
         "837"
        ],
        [
         "emory_healthcare_fiaw__claims__standardized",
         "claims_subscriber_837__history",
         "837"
        ],
        [
         "emory_healthcare_fiaw__claims__standardized",
         "vw_837__claims_billing_provider__history",
         "837"
        ],
        [
         "emory_healthcare_fiaw__claims__standardized",
         "vw_837__claims_billing_provider__latest",
         "837"
        ],
        [
         "emory_healthcare_fiaw__claims__standardized",
         "vw_837__claims_claim__history",
         "837"
        ],
        [
         "emory_healthcare_fiaw__claims__standardized",
         "vw_837__claims_claim__latest",
         "837"
        ],
        [
         "emory_healthcare_fiaw__claims__standardized",
         "vw_837__claims_meta_data__history",
         "837"
        ],
        [
         "emory_healthcare_fiaw__claims__standardized",
         "vw_837__claims_meta_data__latest",
         "837"
        ],
        [
         "emory_healthcare_fiaw__claims__standardized",
         "vw_837__claims_physician__history",
         "837"
        ],
        [
         "emory_healthcare_fiaw__claims__standardized",
         "vw_837__claims_physician__latest",
         "837"
        ],
        [
         "emory_healthcare_fiaw__claims__standardized",
         "vw_837__claims_service_line__history",
         "837"
        ],
        [
         "emory_healthcare_fiaw__claims__standardized",
         "vw_837__claims_service_line__latest",
         "837"
        ],
        [
         "emory_healthcare_fiaw__claims__standardized",
         "vw_837__claims_subscriber__history",
         "837"
        ],
        [
         "emory_healthcare_fiaw__claims__standardized",
         "vw_837__claims_subscriber__latest",
         "837"
        ],
        [
         "emory_healthcare_fiaw__claims__standardized",
         "vw_claims_billing_provider_837__history",
         "837"
        ],
        [
         "emory_healthcare_fiaw__claims__standardized",
         "vw_claims_billing_provider_837__latest",
         "837"
        ],
        [
         "emory_healthcare_fiaw__claims__standardized",
         "vw_claims_claim_837__history",
         "837"
        ],
        [
         "emory_healthcare_fiaw__claims__standardized",
         "vw_claims_claim_837__latest",
         "837"
        ],
        [
         "emory_healthcare_fiaw__claims__standardized",
         "vw_claims_meta_data_837__history",
         "837"
        ],
        [
         "emory_healthcare_fiaw__claims__standardized",
         "vw_claims_meta_data_837__latest",
         "837"
        ],
        [
         "emory_healthcare_fiaw__claims__standardized",
         "vw_claims_physician_837__history",
         "837"
        ],
        [
         "emory_healthcare_fiaw__claims__standardized",
         "vw_claims_physician_837__latest",
         "837"
        ],
        [
         "emory_healthcare_fiaw__claims__standardized",
         "vw_claims_service_line_837__history",
         "837"
        ],
        [
         "emory_healthcare_fiaw__claims__standardized",
         "vw_claims_service_line_837__latest",
         "837"
        ],
        [
         "emory_healthcare_fiaw__claims__standardized",
         "vw_claims_subscriber_837__history",
         "837"
        ],
        [
         "emory_healthcare_fiaw__claims__standardized",
         "vw_claims_subscriber_837__latest",
         "837"
        ],
        [
         "garnet_health_oiaw__claims__standardized",
         "837__claims_account_crosswalk__history",
         "837"
        ],
        [
         "garnet_health_oiaw__claims__standardized",
         "837__claims_billing_provider__history",
         "837"
        ],
        [
         "garnet_health_oiaw__claims__standardized",
         "837__claims_claim__history",
         "837"
        ],
        [
         "garnet_health_oiaw__claims__standardized",
         "837__claims_meta_data__history",
         "837"
        ],
        [
         "garnet_health_oiaw__claims__standardized",
         "837__claims_physician__history",
         "837"
        ],
        [
         "garnet_health_oiaw__claims__standardized",
         "837__claims_service_line__history",
         "837"
        ],
        [
         "garnet_health_oiaw__claims__standardized",
         "837__claims_subscriber__history",
         "837"
        ],
        [
         "garnet_health_oiaw__claims__standardized",
         "vw_837__claims_billing_provider__history",
         "837"
        ],
        [
         "garnet_health_oiaw__claims__standardized",
         "vw_837__claims_billing_provider__latest",
         "837"
        ],
        [
         "garnet_health_oiaw__claims__standardized",
         "vw_837__claims_claim__history",
         "837"
        ],
        [
         "garnet_health_oiaw__claims__standardized",
         "vw_837__claims_claim__latest",
         "837"
        ],
        [
         "garnet_health_oiaw__claims__standardized",
         "vw_837__claims_meta_data__history",
         "837"
        ],
        [
         "garnet_health_oiaw__claims__standardized",
         "vw_837__claims_meta_data__latest",
         "837"
        ],
        [
         "garnet_health_oiaw__claims__standardized",
         "vw_837__claims_physician__history",
         "837"
        ],
        [
         "garnet_health_oiaw__claims__standardized",
         "vw_837__claims_physician__latest",
         "837"
        ],
        [
         "garnet_health_oiaw__claims__standardized",
         "vw_837__claims_service_line__history",
         "837"
        ],
        [
         "garnet_health_oiaw__claims__standardized",
         "vw_837__claims_service_line__latest",
         "837"
        ],
        [
         "garnet_health_oiaw__claims__standardized",
         "vw_837__claims_subscriber__history",
         "837"
        ],
        [
         "garnet_health_oiaw__claims__standardized",
         "vw_837__claims_subscriber__latest",
         "837"
        ],
        [
         "intermountain_healthcare_tiag__claims__standardized",
         "835__claims_account_crosswalk__history",
         "835"
        ],
        [
         "intermountain_healthcare_tiag__claims__standardized",
         "835__claims_advice_billing_provider__history",
         "835"
        ],
        [
         "intermountain_healthcare_tiag__claims__standardized",
         "835__claims_advice_claim_line_adjustment__history",
         "835"
        ],
        [
         "intermountain_healthcare_tiag__claims__standardized",
         "835__claims_advice_meta_data__history",
         "835"
        ],
        [
         "intermountain_healthcare_tiag__claims__standardized",
         "835__claims_advice_payment__history",
         "835"
        ],
        [
         "intermountain_healthcare_tiag__claims__standardized",
         "835__claims_advice_payment_overview__history",
         "835"
        ],
        [
         "intermountain_healthcare_tiag__claims__standardized",
         "835__claims_advice_subscriber__history",
         "835"
        ],
        [
         "intermountain_healthcare_tiag__claims__standardized",
         "837__claims_account_crosswalk__history",
         "837"
        ],
        [
         "intermountain_healthcare_tiag__claims__standardized",
         "837__claims_billing_provider__history",
         "837"
        ],
        [
         "intermountain_healthcare_tiag__claims__standardized",
         "837__claims_claim__history",
         "837"
        ],
        [
         "intermountain_healthcare_tiag__claims__standardized",
         "837__claims_meta_data__history",
         "837"
        ],
        [
         "intermountain_healthcare_tiag__claims__standardized",
         "837__claims_physician__history",
         "837"
        ],
        [
         "intermountain_healthcare_tiag__claims__standardized",
         "837__claims_service_line__history",
         "837"
        ],
        [
         "intermountain_healthcare_tiag__claims__standardized",
         "837__claims_subscriber__history",
         "837"
        ],
        [
         "intermountain_healthcare_tiag__claims__standardized",
         "claims_account_crosswalk_837__history",
         "837"
        ],
        [
         "intermountain_healthcare_tiag__claims__standardized",
         "claims_billing_provider_837__history",
         "837"
        ],
        [
         "intermountain_healthcare_tiag__claims__standardized",
         "claims_claim_837__history",
         "837"
        ],
        [
         "intermountain_healthcare_tiag__claims__standardized",
         "claims_meta_data_837__history",
         "837"
        ],
        [
         "intermountain_healthcare_tiag__claims__standardized",
         "claims_physician_837__history",
         "837"
        ],
        [
         "intermountain_healthcare_tiag__claims__standardized",
         "claims_service_line_837__history",
         "837"
        ],
        [
         "intermountain_healthcare_tiag__claims__standardized",
         "claims_subscriber_837__history",
         "837"
        ],
        [
         "intermountain_healthcare_tiag__claims__standardized",
         "vw_837__claims_billing_provider__history",
         "837"
        ],
        [
         "intermountain_healthcare_tiag__claims__standardized",
         "vw_837__claims_billing_provider__latest",
         "837"
        ],
        [
         "intermountain_healthcare_tiag__claims__standardized",
         "vw_837__claims_claim__history",
         "837"
        ],
        [
         "intermountain_healthcare_tiag__claims__standardized",
         "vw_837__claims_claim__latest",
         "837"
        ],
        [
         "intermountain_healthcare_tiag__claims__standardized",
         "vw_837__claims_meta_data__history",
         "837"
        ],
        [
         "intermountain_healthcare_tiag__claims__standardized",
         "vw_837__claims_meta_data__latest",
         "837"
        ],
        [
         "intermountain_healthcare_tiag__claims__standardized",
         "vw_837__claims_physician__history",
         "837"
        ],
        [
         "intermountain_healthcare_tiag__claims__standardized",
         "vw_837__claims_physician__latest",
         "837"
        ],
        [
         "intermountain_healthcare_tiag__claims__standardized",
         "vw_837__claims_service_line__history",
         "837"
        ],
        [
         "intermountain_healthcare_tiag__claims__standardized",
         "vw_837__claims_service_line__latest",
         "837"
        ],
        [
         "intermountain_healthcare_tiag__claims__standardized",
         "vw_837__claims_subscriber__history",
         "837"
        ],
        [
         "intermountain_healthcare_tiag__claims__standardized",
         "vw_837__claims_subscriber__latest",
         "837"
        ],
        [
         "intermountain_healthcare_tiag__claims__standardized",
         "vw_claims_billing_provider_837__history",
         "837"
        ],
        [
         "intermountain_healthcare_tiag__claims__standardized",
         "vw_claims_billing_provider_837__latest",
         "837"
        ],
        [
         "intermountain_healthcare_tiag__claims__standardized",
         "vw_claims_claim_837__history",
         "837"
        ],
        [
         "intermountain_healthcare_tiag__claims__standardized",
         "vw_claims_claim_837__latest",
         "837"
        ],
        [
         "intermountain_healthcare_tiag__claims__standardized",
         "vw_claims_meta_data_837__history",
         "837"
        ],
        [
         "intermountain_healthcare_tiag__claims__standardized",
         "vw_claims_meta_data_837__latest",
         "837"
        ],
        [
         "intermountain_healthcare_tiag__claims__standardized",
         "vw_claims_physician_837__history",
         "837"
        ],
        [
         "intermountain_healthcare_tiag__claims__standardized",
         "vw_claims_physician_837__latest",
         "837"
        ],
        [
         "intermountain_healthcare_tiag__claims__standardized",
         "vw_claims_service_line_837__history",
         "837"
        ],
        [
         "intermountain_healthcare_tiag__claims__standardized",
         "vw_claims_service_line_837__latest",
         "837"
        ],
        [
         "intermountain_healthcare_tiag__claims__standardized",
         "vw_claims_subscriber_837__history",
         "837"
        ],
        [
         "intermountain_healthcare_tiag__claims__standardized",
         "vw_claims_subscriber_837__latest",
         "837"
        ],
        [
         "lifepoint_health_6iag__claims__standardized",
         "835__claims_account_crosswalk__history",
         "835"
        ],
        [
         "lifepoint_health_6iag__claims__standardized",
         "835__claims_advice_billing_provider__history",
         "835"
        ],
        [
         "lifepoint_health_6iag__claims__standardized",
         "835__claims_advice_claim_line_adjustment__history",
         "835"
        ],
        [
         "lifepoint_health_6iag__claims__standardized",
         "835__claims_advice_meta_data__history",
         "835"
        ],
        [
         "lifepoint_health_6iag__claims__standardized",
         "835__claims_advice_payment__history",
         "835"
        ],
        [
         "lifepoint_health_6iag__claims__standardized",
         "835__claims_advice_payment_overview__history",
         "835"
        ],
        [
         "lifepoint_health_6iag__claims__standardized",
         "835__claims_advice_subscriber__history",
         "835"
        ],
        [
         "lifepoint_health_6iag__claims__standardized",
         "837__claims_account_crosswalk__history",
         "837"
        ],
        [
         "lifepoint_health_6iag__claims__standardized",
         "837__claims_billing_provider__history",
         "837"
        ],
        [
         "lifepoint_health_6iag__claims__standardized",
         "837__claims_claim__history",
         "837"
        ],
        [
         "lifepoint_health_6iag__claims__standardized",
         "837__claims_meta_data__history",
         "837"
        ],
        [
         "lifepoint_health_6iag__claims__standardized",
         "837__claims_physician__history",
         "837"
        ],
        [
         "lifepoint_health_6iag__claims__standardized",
         "837__claims_service_line__history",
         "837"
        ],
        [
         "lifepoint_health_6iag__claims__standardized",
         "837__claims_subscriber__history",
         "837"
        ],
        [
         "lifepoint_health_6iag__claims__standardized",
         "vw_837__claims_billing_provider__history",
         "837"
        ],
        [
         "lifepoint_health_6iag__claims__standardized",
         "vw_837__claims_billing_provider__latest",
         "837"
        ],
        [
         "lifepoint_health_6iag__claims__standardized",
         "vw_837__claims_claim__history",
         "837"
        ],
        [
         "lifepoint_health_6iag__claims__standardized",
         "vw_837__claims_claim__latest",
         "837"
        ],
        [
         "lifepoint_health_6iag__claims__standardized",
         "vw_837__claims_meta_data__history",
         "837"
        ],
        [
         "lifepoint_health_6iag__claims__standardized",
         "vw_837__claims_meta_data__latest",
         "837"
        ],
        [
         "lifepoint_health_6iag__claims__standardized",
         "vw_837__claims_physician__history",
         "837"
        ],
        [
         "lifepoint_health_6iag__claims__standardized",
         "vw_837__claims_physician__latest",
         "837"
        ],
        [
         "lifepoint_health_6iag__claims__standardized",
         "vw_837__claims_service_line__history",
         "837"
        ],
        [
         "lifepoint_health_6iag__claims__standardized",
         "vw_837__claims_service_line__latest",
         "837"
        ],
        [
         "lifepoint_health_6iag__claims__standardized",
         "vw_837__claims_subscriber__history",
         "837"
        ],
        [
         "lifepoint_health_6iag__claims__standardized",
         "vw_837__claims_subscriber__latest",
         "837"
        ],
        [
         "loma_linda_university_health_9iag__claims__standardized",
         "835__claims_account_crosswalk__history",
         "835"
        ],
        [
         "loma_linda_university_health_9iag__claims__standardized",
         "835__claims_advice_billing_provider__history",
         "835"
        ],
        [
         "loma_linda_university_health_9iag__claims__standardized",
         "835__claims_advice_claim_line_adjustment__history",
         "835"
        ],
        [
         "loma_linda_university_health_9iag__claims__standardized",
         "835__claims_advice_meta_data__history",
         "835"
        ],
        [
         "loma_linda_university_health_9iag__claims__standardized",
         "835__claims_advice_payment__history",
         "835"
        ],
        [
         "loma_linda_university_health_9iag__claims__standardized",
         "835__claims_advice_payment_overview__history",
         "835"
        ],
        [
         "loma_linda_university_health_9iag__claims__standardized",
         "835__claims_advice_subscriber__history",
         "835"
        ],
        [
         "loma_linda_university_health_9iag__claims__standardized",
         "837__claims_account_crosswalk__history",
         "837"
        ],
        [
         "loma_linda_university_health_9iag__claims__standardized",
         "837__claims_billing_provider__history",
         "837"
        ],
        [
         "loma_linda_university_health_9iag__claims__standardized",
         "837__claims_claim__history",
         "837"
        ],
        [
         "loma_linda_university_health_9iag__claims__standardized",
         "837__claims_meta_data__history",
         "837"
        ],
        [
         "loma_linda_university_health_9iag__claims__standardized",
         "837__claims_physician__history",
         "837"
        ],
        [
         "loma_linda_university_health_9iag__claims__standardized",
         "837__claims_service_line__history",
         "837"
        ],
        [
         "loma_linda_university_health_9iag__claims__standardized",
         "837__claims_subscriber__history",
         "837"
        ],
        [
         "loma_linda_university_health_9iag__claims__standardized",
         "vw_837__claims_billing_provider__history",
         "837"
        ],
        [
         "loma_linda_university_health_9iag__claims__standardized",
         "vw_837__claims_billing_provider__latest",
         "837"
        ],
        [
         "loma_linda_university_health_9iag__claims__standardized",
         "vw_837__claims_claim__history",
         "837"
        ],
        [
         "loma_linda_university_health_9iag__claims__standardized",
         "vw_837__claims_claim__latest",
         "837"
        ],
        [
         "loma_linda_university_health_9iag__claims__standardized",
         "vw_837__claims_meta_data__history",
         "837"
        ],
        [
         "loma_linda_university_health_9iag__claims__standardized",
         "vw_837__claims_meta_data__latest",
         "837"
        ],
        [
         "loma_linda_university_health_9iag__claims__standardized",
         "vw_837__claims_physician__history",
         "837"
        ],
        [
         "loma_linda_university_health_9iag__claims__standardized",
         "vw_837__claims_physician__latest",
         "837"
        ],
        [
         "loma_linda_university_health_9iag__claims__standardized",
         "vw_837__claims_service_line__history",
         "837"
        ],
        [
         "loma_linda_university_health_9iag__claims__standardized",
         "vw_837__claims_service_line__latest",
         "837"
        ],
        [
         "loma_linda_university_health_9iag__claims__standardized",
         "vw_837__claims_subscriber__history",
         "837"
        ],
        [
         "loma_linda_university_health_9iag__claims__standardized",
         "vw_837__claims_subscriber__latest",
         "837"
        ],
        [
         "mainegeneral_health_sqad__claims__standardized",
         "837__claims_account_crosswalk__history",
         "837"
        ],
        [
         "mainegeneral_health_sqad__claims__standardized",
         "837__claims_billing_provider__history",
         "837"
        ],
        [
         "mainegeneral_health_sqad__claims__standardized",
         "837__claims_claim__history",
         "837"
        ],
        [
         "mainegeneral_health_sqad__claims__standardized",
         "837__claims_meta_data__history",
         "837"
        ],
        [
         "mainegeneral_health_sqad__claims__standardized",
         "837__claims_physician__history",
         "837"
        ],
        [
         "mainegeneral_health_sqad__claims__standardized",
         "837__claims_service_line__history",
         "837"
        ],
        [
         "mainegeneral_health_sqad__claims__standardized",
         "837__claims_subscriber__history",
         "837"
        ],
        [
         "mainegeneral_health_sqad__claims__standardized",
         "claims_account_crosswalk_837__history",
         "837"
        ],
        [
         "mainegeneral_health_sqad__claims__standardized",
         "claims_billing_provider_837__history",
         "837"
        ],
        [
         "mainegeneral_health_sqad__claims__standardized",
         "claims_claim_837__history",
         "837"
        ],
        [
         "mainegeneral_health_sqad__claims__standardized",
         "claims_meta_data_837__history",
         "837"
        ],
        [
         "mainegeneral_health_sqad__claims__standardized",
         "claims_physician_837__history",
         "837"
        ],
        [
         "mainegeneral_health_sqad__claims__standardized",
         "claims_service_line_837__history",
         "837"
        ],
        [
         "mainegeneral_health_sqad__claims__standardized",
         "claims_subscriber_837__history",
         "837"
        ],
        [
         "mainegeneral_health_sqad__claims__standardized",
         "vw_837__claims_billing_provider__history",
         "837"
        ],
        [
         "mainegeneral_health_sqad__claims__standardized",
         "vw_837__claims_billing_provider__latest",
         "837"
        ],
        [
         "mainegeneral_health_sqad__claims__standardized",
         "vw_837__claims_claim__history",
         "837"
        ],
        [
         "mainegeneral_health_sqad__claims__standardized",
         "vw_837__claims_claim__latest",
         "837"
        ],
        [
         "mainegeneral_health_sqad__claims__standardized",
         "vw_837__claims_meta_data__history",
         "837"
        ],
        [
         "mainegeneral_health_sqad__claims__standardized",
         "vw_837__claims_meta_data__latest",
         "837"
        ],
        [
         "mainegeneral_health_sqad__claims__standardized",
         "vw_837__claims_physician__history",
         "837"
        ],
        [
         "mainegeneral_health_sqad__claims__standardized",
         "vw_837__claims_physician__latest",
         "837"
        ],
        [
         "mainegeneral_health_sqad__claims__standardized",
         "vw_837__claims_service_line__history",
         "837"
        ],
        [
         "mainegeneral_health_sqad__claims__standardized",
         "vw_837__claims_service_line__latest",
         "837"
        ],
        [
         "mainegeneral_health_sqad__claims__standardized",
         "vw_837__claims_subscriber__history",
         "837"
        ],
        [
         "mainegeneral_health_sqad__claims__standardized",
         "vw_837__claims_subscriber__latest",
         "837"
        ],
        [
         "mainegeneral_health_sqad__claims__standardized",
         "vw_claims_billing_provider_837__history",
         "837"
        ],
        [
         "mainegeneral_health_sqad__claims__standardized",
         "vw_claims_billing_provider_837__latest",
         "837"
        ],
        [
         "mainegeneral_health_sqad__claims__standardized",
         "vw_claims_claim_837__history",
         "837"
        ],
        [
         "mainegeneral_health_sqad__claims__standardized",
         "vw_claims_claim_837__latest",
         "837"
        ],
        [
         "mainegeneral_health_sqad__claims__standardized",
         "vw_claims_meta_data_837__history",
         "837"
        ],
        [
         "mainegeneral_health_sqad__claims__standardized",
         "vw_claims_meta_data_837__latest",
         "837"
        ],
        [
         "mainegeneral_health_sqad__claims__standardized",
         "vw_claims_physician_837__history",
         "837"
        ],
        [
         "mainegeneral_health_sqad__claims__standardized",
         "vw_claims_physician_837__latest",
         "837"
        ],
        [
         "mainegeneral_health_sqad__claims__standardized",
         "vw_claims_service_line_837__history",
         "837"
        ],
        [
         "mainegeneral_health_sqad__claims__standardized",
         "vw_claims_service_line_837__latest",
         "837"
        ],
        [
         "mainegeneral_health_sqad__claims__standardized",
         "vw_claims_subscriber_837__history",
         "837"
        ],
        [
         "mainegeneral_health_sqad__claims__standardized",
         "vw_claims_subscriber_837__latest",
         "837"
        ],
        [
         "mclaren_health_care_corporation_9iag__claims__standardized",
         "835__claims_account_crosswalk__history",
         "835"
        ],
        [
         "mclaren_health_care_corporation_9iag__claims__standardized",
         "835__claims_advice_billing_provider__history",
         "835"
        ],
        [
         "mclaren_health_care_corporation_9iag__claims__standardized",
         "835__claims_advice_claim_line_adjustment__history",
         "835"
        ],
        [
         "mclaren_health_care_corporation_9iag__claims__standardized",
         "835__claims_advice_meta_data__history",
         "835"
        ],
        [
         "mclaren_health_care_corporation_9iag__claims__standardized",
         "835__claims_advice_payment__history",
         "835"
        ],
        [
         "mclaren_health_care_corporation_9iag__claims__standardized",
         "835__claims_advice_payment_overview__history",
         "835"
        ],
        [
         "mclaren_health_care_corporation_9iag__claims__standardized",
         "835__claims_advice_subscriber__history",
         "835"
        ],
        [
         "mclaren_health_care_corporation_9iag__claims__standardized",
         "837__claims_account_crosswalk__history",
         "837"
        ],
        [
         "mclaren_health_care_corporation_9iag__claims__standardized",
         "837__claims_billing_provider__history",
         "837"
        ],
        [
         "mclaren_health_care_corporation_9iag__claims__standardized",
         "837__claims_claim__history",
         "837"
        ],
        [
         "mclaren_health_care_corporation_9iag__claims__standardized",
         "837__claims_meta_data__history",
         "837"
        ],
        [
         "mclaren_health_care_corporation_9iag__claims__standardized",
         "837__claims_physician__history",
         "837"
        ],
        [
         "mclaren_health_care_corporation_9iag__claims__standardized",
         "837__claims_service_line__history",
         "837"
        ],
        [
         "mclaren_health_care_corporation_9iag__claims__standardized",
         "837__claims_subscriber__history",
         "837"
        ],
        [
         "mclaren_health_care_corporation_9iag__claims__standardized",
         "vw_837__claims_billing_provider__history",
         "837"
        ],
        [
         "mclaren_health_care_corporation_9iag__claims__standardized",
         "vw_837__claims_billing_provider__latest",
         "837"
        ],
        [
         "mclaren_health_care_corporation_9iag__claims__standardized",
         "vw_837__claims_claim__history",
         "837"
        ],
        [
         "mclaren_health_care_corporation_9iag__claims__standardized",
         "vw_837__claims_claim__latest",
         "837"
        ],
        [
         "mclaren_health_care_corporation_9iag__claims__standardized",
         "vw_837__claims_meta_data__history",
         "837"
        ],
        [
         "mclaren_health_care_corporation_9iag__claims__standardized",
         "vw_837__claims_meta_data__latest",
         "837"
        ],
        [
         "mclaren_health_care_corporation_9iag__claims__standardized",
         "vw_837__claims_physician__history",
         "837"
        ],
        [
         "mclaren_health_care_corporation_9iag__claims__standardized",
         "vw_837__claims_physician__latest",
         "837"
        ],
        [
         "mclaren_health_care_corporation_9iag__claims__standardized",
         "vw_837__claims_service_line__history",
         "837"
        ],
        [
         "mclaren_health_care_corporation_9iag__claims__standardized",
         "vw_837__claims_service_line__latest",
         "837"
        ],
        [
         "mclaren_health_care_corporation_9iag__claims__standardized",
         "vw_837__claims_subscriber__history",
         "837"
        ],
        [
         "mclaren_health_care_corporation_9iag__claims__standardized",
         "vw_837__claims_subscriber__latest",
         "837"
        ],
        [
         "mercy_9qal__claims__standardized",
         "837__claims_account_crosswalk__history",
         "837"
        ],
        [
         "mercy_9qal__claims__standardized",
         "837__claims_billing_provider__history",
         "837"
        ],
        [
         "mercy_9qal__claims__standardized",
         "837__claims_claim__history",
         "837"
        ],
        [
         "mercy_9qal__claims__standardized",
         "837__claims_meta_data__history",
         "837"
        ],
        [
         "mercy_9qal__claims__standardized",
         "837__claims_physician__history",
         "837"
        ],
        [
         "mercy_9qal__claims__standardized",
         "837__claims_service_line__history",
         "837"
        ],
        [
         "mercy_9qal__claims__standardized",
         "837__claims_subscriber__history",
         "837"
        ],
        [
         "mercy_9qal__claims__standardized",
         "vw_837__claims_billing_provider__history",
         "837"
        ],
        [
         "mercy_9qal__claims__standardized",
         "vw_837__claims_billing_provider__latest",
         "837"
        ],
        [
         "mercy_9qal__claims__standardized",
         "vw_837__claims_claim__history",
         "837"
        ],
        [
         "mercy_9qal__claims__standardized",
         "vw_837__claims_claim__latest",
         "837"
        ],
        [
         "mercy_9qal__claims__standardized",
         "vw_837__claims_meta_data__history",
         "837"
        ],
        [
         "mercy_9qal__claims__standardized",
         "vw_837__claims_meta_data__latest",
         "837"
        ],
        [
         "mercy_9qal__claims__standardized",
         "vw_837__claims_physician__history",
         "837"
        ],
        [
         "mercy_9qal__claims__standardized",
         "vw_837__claims_physician__latest",
         "837"
        ],
        [
         "mercy_9qal__claims__standardized",
         "vw_837__claims_service_line__history",
         "837"
        ],
        [
         "mercy_9qal__claims__standardized",
         "vw_837__claims_service_line__latest",
         "837"
        ],
        [
         "mercy_9qal__claims__standardized",
         "vw_837__claims_subscriber__history",
         "837"
        ],
        [
         "mercy_9qal__claims__standardized",
         "vw_837__claims_subscriber__latest",
         "837"
        ],
        [
         "montefiore_health_system_xiag__claims__standardized",
         "837__claims_account_crosswalk__history",
         "837"
        ],
        [
         "montefiore_health_system_xiag__claims__standardized",
         "837__claims_billing_provider__history",
         "837"
        ],
        [
         "montefiore_health_system_xiag__claims__standardized",
         "837__claims_claim__history",
         "837"
        ],
        [
         "montefiore_health_system_xiag__claims__standardized",
         "837__claims_meta_data__history",
         "837"
        ],
        [
         "montefiore_health_system_xiag__claims__standardized",
         "837__claims_physician__history",
         "837"
        ],
        [
         "montefiore_health_system_xiag__claims__standardized",
         "837__claims_service_line__history",
         "837"
        ],
        [
         "montefiore_health_system_xiag__claims__standardized",
         "837__claims_subscriber__history",
         "837"
        ],
        [
         "montefiore_health_system_xiag__claims__standardized",
         "claims_account_crosswalk_837__history",
         "837"
        ],
        [
         "montefiore_health_system_xiag__claims__standardized",
         "claims_billing_provider_837__history",
         "837"
        ],
        [
         "montefiore_health_system_xiag__claims__standardized",
         "claims_claim_837__history",
         "837"
        ],
        [
         "montefiore_health_system_xiag__claims__standardized",
         "claims_meta_data_837__history",
         "837"
        ],
        [
         "montefiore_health_system_xiag__claims__standardized",
         "claims_physician_837__history",
         "837"
        ],
        [
         "montefiore_health_system_xiag__claims__standardized",
         "claims_service_line_837__history",
         "837"
        ],
        [
         "montefiore_health_system_xiag__claims__standardized",
         "claims_subscriber_837__history",
         "837"
        ],
        [
         "montefiore_health_system_xiag__claims__standardized",
         "vw_837__claims_billing_provider__history",
         "837"
        ],
        [
         "montefiore_health_system_xiag__claims__standardized",
         "vw_837__claims_billing_provider__latest",
         "837"
        ],
        [
         "montefiore_health_system_xiag__claims__standardized",
         "vw_837__claims_claim__history",
         "837"
        ],
        [
         "montefiore_health_system_xiag__claims__standardized",
         "vw_837__claims_claim__latest",
         "837"
        ],
        [
         "montefiore_health_system_xiag__claims__standardized",
         "vw_837__claims_meta_data__history",
         "837"
        ],
        [
         "montefiore_health_system_xiag__claims__standardized",
         "vw_837__claims_meta_data__latest",
         "837"
        ],
        [
         "montefiore_health_system_xiag__claims__standardized",
         "vw_837__claims_physician__history",
         "837"
        ],
        [
         "montefiore_health_system_xiag__claims__standardized",
         "vw_837__claims_physician__latest",
         "837"
        ],
        [
         "montefiore_health_system_xiag__claims__standardized",
         "vw_837__claims_service_line__history",
         "837"
        ],
        [
         "montefiore_health_system_xiag__claims__standardized",
         "vw_837__claims_service_line__latest",
         "837"
        ],
        [
         "montefiore_health_system_xiag__claims__standardized",
         "vw_837__claims_subscriber__history",
         "837"
        ],
        [
         "montefiore_health_system_xiag__claims__standardized",
         "vw_837__claims_subscriber__latest",
         "837"
        ],
        [
         "montefiore_health_system_xiag__claims__standardized",
         "vw_claims_billing_provider_837__history",
         "837"
        ],
        [
         "montefiore_health_system_xiag__claims__standardized",
         "vw_claims_billing_provider_837__latest",
         "837"
        ],
        [
         "montefiore_health_system_xiag__claims__standardized",
         "vw_claims_claim_837__history",
         "837"
        ],
        [
         "montefiore_health_system_xiag__claims__standardized",
         "vw_claims_claim_837__latest",
         "837"
        ],
        [
         "montefiore_health_system_xiag__claims__standardized",
         "vw_claims_meta_data_837__history",
         "837"
        ],
        [
         "montefiore_health_system_xiag__claims__standardized",
         "vw_claims_meta_data_837__latest",
         "837"
        ],
        [
         "montefiore_health_system_xiag__claims__standardized",
         "vw_claims_physician_837__history",
         "837"
        ],
        [
         "montefiore_health_system_xiag__claims__standardized",
         "vw_claims_physician_837__latest",
         "837"
        ],
        [
         "montefiore_health_system_xiag__claims__standardized",
         "vw_claims_service_line_837__history",
         "837"
        ],
        [
         "montefiore_health_system_xiag__claims__standardized",
         "vw_claims_service_line_837__latest",
         "837"
        ],
        [
         "montefiore_health_system_xiag__claims__standardized",
         "vw_claims_subscriber_837__history",
         "837"
        ],
        [
         "montefiore_health_system_xiag__claims__standardized",
         "vw_claims_subscriber_837__latest",
         "837"
        ],
        [
         "nuvance_health_cqam__claims__standardized",
         "837__claims_account_crosswalk__history",
         "837"
        ],
        [
         "nuvance_health_cqam__claims__standardized",
         "837__claims_billing_provider__history",
         "837"
        ],
        [
         "nuvance_health_cqam__claims__standardized",
         "837__claims_claim__history",
         "837"
        ],
        [
         "nuvance_health_cqam__claims__standardized",
         "837__claims_meta_data__history",
         "837"
        ],
        [
         "nuvance_health_cqam__claims__standardized",
         "837__claims_physician__history",
         "837"
        ],
        [
         "nuvance_health_cqam__claims__standardized",
         "837__claims_service_line__history",
         "837"
        ],
        [
         "nuvance_health_cqam__claims__standardized",
         "837__claims_subscriber__history",
         "837"
        ],
        [
         "nuvance_health_cqam__claims__standardized",
         "vw_837__claims_billing_provider__history",
         "837"
        ],
        [
         "nuvance_health_cqam__claims__standardized",
         "vw_837__claims_billing_provider__latest",
         "837"
        ],
        [
         "nuvance_health_cqam__claims__standardized",
         "vw_837__claims_claim__history",
         "837"
        ],
        [
         "nuvance_health_cqam__claims__standardized",
         "vw_837__claims_claim__latest",
         "837"
        ],
        [
         "nuvance_health_cqam__claims__standardized",
         "vw_837__claims_meta_data__history",
         "837"
        ],
        [
         "nuvance_health_cqam__claims__standardized",
         "vw_837__claims_meta_data__latest",
         "837"
        ],
        [
         "nuvance_health_cqam__claims__standardized",
         "vw_837__claims_physician__history",
         "837"
        ],
        [
         "nuvance_health_cqam__claims__standardized",
         "vw_837__claims_physician__latest",
         "837"
        ],
        [
         "nuvance_health_cqam__claims__standardized",
         "vw_837__claims_service_line__history",
         "837"
        ],
        [
         "nuvance_health_cqam__claims__standardized",
         "vw_837__claims_service_line__latest",
         "837"
        ],
        [
         "nuvance_health_cqam__claims__standardized",
         "vw_837__claims_subscriber__history",
         "837"
        ],
        [
         "nuvance_health_cqam__claims__standardized",
         "vw_837__claims_subscriber__latest",
         "837"
        ],
        [
         "ohsu_partners_miah__claims__standardized",
         "837__claims_account_crosswalk__history",
         "837"
        ],
        [
         "ohsu_partners_miah__claims__standardized",
         "837__claims_account_crosswalk__latest",
         "837"
        ],
        [
         "ohsu_partners_miah__claims__standardized",
         "837__claims_billing_provider__history",
         "837"
        ],
        [
         "ohsu_partners_miah__claims__standardized",
         "837__claims_billing_provider__latest",
         "837"
        ],
        [
         "ohsu_partners_miah__claims__standardized",
         "837__claims_claim__history",
         "837"
        ],
        [
         "ohsu_partners_miah__claims__standardized",
         "837__claims_claim__latest",
         "837"
        ],
        [
         "ohsu_partners_miah__claims__standardized",
         "837__claims_meta_data__history",
         "837"
        ],
        [
         "ohsu_partners_miah__claims__standardized",
         "837__claims_meta_data__latest",
         "837"
        ],
        [
         "ohsu_partners_miah__claims__standardized",
         "837__claims_physician__history",
         "837"
        ],
        [
         "ohsu_partners_miah__claims__standardized",
         "837__claims_physician__latest",
         "837"
        ],
        [
         "ohsu_partners_miah__claims__standardized",
         "837__claims_service_line__history",
         "837"
        ],
        [
         "ohsu_partners_miah__claims__standardized",
         "837__claims_service_line__latest",
         "837"
        ],
        [
         "ohsu_partners_miah__claims__standardized",
         "837__claims_subscriber__history",
         "837"
        ],
        [
         "ohsu_partners_miah__claims__standardized",
         "837__claims_subscriber__latest",
         "837"
        ],
        [
         "ohsu_partners_miah__claims__standardized",
         "claims_account_crosswalk_837__history",
         "837"
        ],
        [
         "ohsu_partners_miah__claims__standardized",
         "claims_billing_provider_837__history",
         "837"
        ],
        [
         "ohsu_partners_miah__claims__standardized",
         "claims_claim_837__history",
         "837"
        ],
        [
         "ohsu_partners_miah__claims__standardized",
         "claims_meta_data_837__history",
         "837"
        ],
        [
         "ohsu_partners_miah__claims__standardized",
         "claims_physician_837__history",
         "837"
        ],
        [
         "ohsu_partners_miah__claims__standardized",
         "claims_service_line_837__history",
         "837"
        ],
        [
         "ohsu_partners_miah__claims__standardized",
         "claims_subscriber_837__history",
         "837"
        ],
        [
         "ohsu_partners_miah__claims__standardized",
         "vw_837__claims_billing_provider__history",
         "837"
        ],
        [
         "ohsu_partners_miah__claims__standardized",
         "vw_837__claims_billing_provider__latest",
         "837"
        ],
        [
         "ohsu_partners_miah__claims__standardized",
         "vw_837__claims_claim__history",
         "837"
        ],
        [
         "ohsu_partners_miah__claims__standardized",
         "vw_837__claims_claim__latest",
         "837"
        ],
        [
         "ohsu_partners_miah__claims__standardized",
         "vw_837__claims_meta_data__history",
         "837"
        ],
        [
         "ohsu_partners_miah__claims__standardized",
         "vw_837__claims_meta_data__latest",
         "837"
        ],
        [
         "ohsu_partners_miah__claims__standardized",
         "vw_837__claims_physician__history",
         "837"
        ],
        [
         "ohsu_partners_miah__claims__standardized",
         "vw_837__claims_physician__latest",
         "837"
        ],
        [
         "ohsu_partners_miah__claims__standardized",
         "vw_837__claims_service_line__history",
         "837"
        ],
        [
         "ohsu_partners_miah__claims__standardized",
         "vw_837__claims_service_line__latest",
         "837"
        ],
        [
         "ohsu_partners_miah__claims__standardized",
         "vw_837__claims_subscriber__history",
         "837"
        ],
        [
         "ohsu_partners_miah__claims__standardized",
         "vw_837__claims_subscriber__latest",
         "837"
        ],
        [
         "ohsu_partners_miah__claims__standardized",
         "vw_claims_billing_provider_837__history",
         "837"
        ],
        [
         "ohsu_partners_miah__claims__standardized",
         "vw_claims_billing_provider_837__latest",
         "837"
        ],
        [
         "ohsu_partners_miah__claims__standardized",
         "vw_claims_claim_837__history",
         "837"
        ],
        [
         "ohsu_partners_miah__claims__standardized",
         "vw_claims_claim_837__latest",
         "837"
        ],
        [
         "ohsu_partners_miah__claims__standardized",
         "vw_claims_meta_data_837__history",
         "837"
        ],
        [
         "ohsu_partners_miah__claims__standardized",
         "vw_claims_meta_data_837__latest",
         "837"
        ],
        [
         "ohsu_partners_miah__claims__standardized",
         "vw_claims_physician_837__history",
         "837"
        ],
        [
         "ohsu_partners_miah__claims__standardized",
         "vw_claims_physician_837__latest",
         "837"
        ],
        [
         "ohsu_partners_miah__claims__standardized",
         "vw_claims_service_line_837__history",
         "837"
        ],
        [
         "ohsu_partners_miah__claims__standardized",
         "vw_claims_service_line_837__latest",
         "837"
        ],
        [
         "ohsu_partners_miah__claims__standardized",
         "vw_claims_subscriber_837__history",
         "837"
        ],
        [
         "ohsu_partners_miah__claims__standardized",
         "vw_claims_subscriber_837__latest",
         "837"
        ],
        [
         "pih_health_vqat__claims__standardized",
         "837__claims_account_crosswalk__history",
         "837"
        ],
        [
         "pih_health_vqat__claims__standardized",
         "837__claims_billing_provider__history",
         "837"
        ],
        [
         "pih_health_vqat__claims__standardized",
         "837__claims_claim__history",
         "837"
        ],
        [
         "pih_health_vqat__claims__standardized",
         "837__claims_meta_data__history",
         "837"
        ],
        [
         "pih_health_vqat__claims__standardized",
         "837__claims_physician__history",
         "837"
        ],
        [
         "pih_health_vqat__claims__standardized",
         "837__claims_service_line__history",
         "837"
        ],
        [
         "pih_health_vqat__claims__standardized",
         "837__claims_subscriber__history",
         "837"
        ],
        [
         "pih_health_vqat__claims__standardized",
         "claims_account_crosswalk_837__history",
         "837"
        ],
        [
         "pih_health_vqat__claims__standardized",
         "claims_billing_provider_837__history",
         "837"
        ],
        [
         "pih_health_vqat__claims__standardized",
         "claims_claim_837__history",
         "837"
        ],
        [
         "pih_health_vqat__claims__standardized",
         "claims_meta_data_837__history",
         "837"
        ],
        [
         "pih_health_vqat__claims__standardized",
         "claims_physician_837__history",
         "837"
        ],
        [
         "pih_health_vqat__claims__standardized",
         "claims_service_line_837__history",
         "837"
        ],
        [
         "pih_health_vqat__claims__standardized",
         "claims_subscriber_837__history",
         "837"
        ],
        [
         "pih_health_vqat__claims__standardized",
         "vw_837__claims_billing_provider__history",
         "837"
        ],
        [
         "pih_health_vqat__claims__standardized",
         "vw_837__claims_billing_provider__latest",
         "837"
        ],
        [
         "pih_health_vqat__claims__standardized",
         "vw_837__claims_claim__history",
         "837"
        ],
        [
         "pih_health_vqat__claims__standardized",
         "vw_837__claims_claim__latest",
         "837"
        ],
        [
         "pih_health_vqat__claims__standardized",
         "vw_837__claims_meta_data__history",
         "837"
        ],
        [
         "pih_health_vqat__claims__standardized",
         "vw_837__claims_meta_data__latest",
         "837"
        ],
        [
         "pih_health_vqat__claims__standardized",
         "vw_837__claims_physician__history",
         "837"
        ],
        [
         "pih_health_vqat__claims__standardized",
         "vw_837__claims_physician__latest",
         "837"
        ],
        [
         "pih_health_vqat__claims__standardized",
         "vw_837__claims_service_line__history",
         "837"
        ],
        [
         "pih_health_vqat__claims__standardized",
         "vw_837__claims_service_line__latest",
         "837"
        ],
        [
         "pih_health_vqat__claims__standardized",
         "vw_837__claims_subscriber__history",
         "837"
        ],
        [
         "pih_health_vqat__claims__standardized",
         "vw_837__claims_subscriber__latest",
         "837"
        ],
        [
         "pih_health_vqat__claims__standardized",
         "vw_claims_billing_provider_837__history",
         "837"
        ],
        [
         "pih_health_vqat__claims__standardized",
         "vw_claims_billing_provider_837__latest",
         "837"
        ],
        [
         "pih_health_vqat__claims__standardized",
         "vw_claims_claim_837__history",
         "837"
        ],
        [
         "pih_health_vqat__claims__standardized",
         "vw_claims_claim_837__latest",
         "837"
        ],
        [
         "pih_health_vqat__claims__standardized",
         "vw_claims_meta_data_837__history",
         "837"
        ],
        [
         "pih_health_vqat__claims__standardized",
         "vw_claims_meta_data_837__latest",
         "837"
        ],
        [
         "pih_health_vqat__claims__standardized",
         "vw_claims_physician_837__history",
         "837"
        ],
        [
         "pih_health_vqat__claims__standardized",
         "vw_claims_physician_837__latest",
         "837"
        ],
        [
         "pih_health_vqat__claims__standardized",
         "vw_claims_service_line_837__history",
         "837"
        ],
        [
         "pih_health_vqat__claims__standardized",
         "vw_claims_service_line_837__latest",
         "837"
        ],
        [
         "pih_health_vqat__claims__standardized",
         "vw_claims_subscriber_837__history",
         "837"
        ],
        [
         "pih_health_vqat__claims__standardized",
         "vw_claims_subscriber_837__latest",
         "837"
        ],
        [
         "providence_st_joseph_health_viaw__claims__standardized",
         "835__claims_account_crosswalk__history",
         "835"
        ],
        [
         "providence_st_joseph_health_viaw__claims__standardized",
         "835__claims_advice_billing_provider__history",
         "835"
        ],
        [
         "providence_st_joseph_health_viaw__claims__standardized",
         "835__claims_advice_claim_line_adjustment__history",
         "835"
        ],
        [
         "providence_st_joseph_health_viaw__claims__standardized",
         "835__claims_advice_meta_data__history",
         "835"
        ],
        [
         "providence_st_joseph_health_viaw__claims__standardized",
         "835__claims_advice_payment__history",
         "835"
        ],
        [
         "providence_st_joseph_health_viaw__claims__standardized",
         "835__claims_advice_payment_overview__history",
         "835"
        ],
        [
         "providence_st_joseph_health_viaw__claims__standardized",
         "835__claims_advice_subscriber__history",
         "835"
        ],
        [
         "providence_st_joseph_health_viaw__claims__standardized",
         "837__claims_account_crosswalk__history",
         "837"
        ],
        [
         "providence_st_joseph_health_viaw__claims__standardized",
         "837__claims_billing_provider__history",
         "837"
        ],
        [
         "providence_st_joseph_health_viaw__claims__standardized",
         "837__claims_claim__history",
         "837"
        ],
        [
         "providence_st_joseph_health_viaw__claims__standardized",
         "837__claims_meta_data__history",
         "837"
        ],
        [
         "providence_st_joseph_health_viaw__claims__standardized",
         "837__claims_physician__history",
         "837"
        ],
        [
         "providence_st_joseph_health_viaw__claims__standardized",
         "837__claims_service_line__history",
         "837"
        ],
        [
         "providence_st_joseph_health_viaw__claims__standardized",
         "837__claims_subscriber__history",
         "837"
        ],
        [
         "providence_st_joseph_health_viaw__claims__standardized",
         "claims_account_crosswalk_837__history",
         "837"
        ],
        [
         "providence_st_joseph_health_viaw__claims__standardized",
         "claims_billing_provider_837__history",
         "837"
        ],
        [
         "providence_st_joseph_health_viaw__claims__standardized",
         "claims_claim_837__history",
         "837"
        ],
        [
         "providence_st_joseph_health_viaw__claims__standardized",
         "claims_meta_data_837__history",
         "837"
        ],
        [
         "providence_st_joseph_health_viaw__claims__standardized",
         "claims_physician_837__history",
         "837"
        ],
        [
         "providence_st_joseph_health_viaw__claims__standardized",
         "claims_service_line_837__history",
         "837"
        ],
        [
         "providence_st_joseph_health_viaw__claims__standardized",
         "claims_subscriber_837__history",
         "837"
        ],
        [
         "providence_st_joseph_health_viaw__claims__standardized",
         "vw_837__claims_billing_provider__history",
         "837"
        ],
        [
         "providence_st_joseph_health_viaw__claims__standardized",
         "vw_837__claims_billing_provider__latest",
         "837"
        ],
        [
         "providence_st_joseph_health_viaw__claims__standardized",
         "vw_837__claims_claim__history",
         "837"
        ],
        [
         "providence_st_joseph_health_viaw__claims__standardized",
         "vw_837__claims_claim__latest",
         "837"
        ],
        [
         "providence_st_joseph_health_viaw__claims__standardized",
         "vw_837__claims_meta_data__history",
         "837"
        ],
        [
         "providence_st_joseph_health_viaw__claims__standardized",
         "vw_837__claims_meta_data__latest",
         "837"
        ],
        [
         "providence_st_joseph_health_viaw__claims__standardized",
         "vw_837__claims_physician__history",
         "837"
        ],
        [
         "providence_st_joseph_health_viaw__claims__standardized",
         "vw_837__claims_physician__latest",
         "837"
        ],
        [
         "providence_st_joseph_health_viaw__claims__standardized",
         "vw_837__claims_service_line__history",
         "837"
        ],
        [
         "providence_st_joseph_health_viaw__claims__standardized",
         "vw_837__claims_service_line__latest",
         "837"
        ],
        [
         "providence_st_joseph_health_viaw__claims__standardized",
         "vw_837__claims_subscriber__history",
         "837"
        ],
        [
         "providence_st_joseph_health_viaw__claims__standardized",
         "vw_837__claims_subscriber__latest",
         "837"
        ],
        [
         "providence_st_joseph_health_viaw__claims__standardized",
         "vw_claims_billing_provider_837__history",
         "837"
        ],
        [
         "providence_st_joseph_health_viaw__claims__standardized",
         "vw_claims_billing_provider_837__latest",
         "837"
        ],
        [
         "providence_st_joseph_health_viaw__claims__standardized",
         "vw_claims_claim_837__history",
         "837"
        ],
        [
         "providence_st_joseph_health_viaw__claims__standardized",
         "vw_claims_claim_837__latest",
         "837"
        ],
        [
         "providence_st_joseph_health_viaw__claims__standardized",
         "vw_claims_meta_data_837__history",
         "837"
        ],
        [
         "providence_st_joseph_health_viaw__claims__standardized",
         "vw_claims_meta_data_837__latest",
         "837"
        ],
        [
         "providence_st_joseph_health_viaw__claims__standardized",
         "vw_claims_physician_837__history",
         "837"
        ],
        [
         "providence_st_joseph_health_viaw__claims__standardized",
         "vw_claims_physician_837__latest",
         "837"
        ],
        [
         "providence_st_joseph_health_viaw__claims__standardized",
         "vw_claims_service_line_837__history",
         "837"
        ],
        [
         "providence_st_joseph_health_viaw__claims__standardized",
         "vw_claims_service_line_837__latest",
         "837"
        ],
        [
         "providence_st_joseph_health_viaw__claims__standardized",
         "vw_claims_subscriber_837__history",
         "837"
        ],
        [
         "providence_st_joseph_health_viaw__claims__standardized",
         "vw_claims_subscriber_837__latest",
         "837"
        ],
        [
         "ridgeview_medical_center_health_system_tqal__claims__standardized",
         "837__claims_account_crosswalk__history",
         "837"
        ],
        [
         "ridgeview_medical_center_health_system_tqal__claims__standardized",
         "837__claims_billing_provider__history",
         "837"
        ],
        [
         "ridgeview_medical_center_health_system_tqal__claims__standardized",
         "837__claims_claim__history",
         "837"
        ],
        [
         "ridgeview_medical_center_health_system_tqal__claims__standardized",
         "837__claims_meta_data__history",
         "837"
        ],
        [
         "ridgeview_medical_center_health_system_tqal__claims__standardized",
         "837__claims_physician__history",
         "837"
        ],
        [
         "ridgeview_medical_center_health_system_tqal__claims__standardized",
         "837__claims_service_line__history",
         "837"
        ],
        [
         "ridgeview_medical_center_health_system_tqal__claims__standardized",
         "837__claims_subscriber__history",
         "837"
        ],
        [
         "ridgeview_medical_center_health_system_tqal__claims__standardized",
         "vw_837__claims_billing_provider__history",
         "837"
        ],
        [
         "ridgeview_medical_center_health_system_tqal__claims__standardized",
         "vw_837__claims_billing_provider__latest",
         "837"
        ],
        [
         "ridgeview_medical_center_health_system_tqal__claims__standardized",
         "vw_837__claims_claim__history",
         "837"
        ],
        [
         "ridgeview_medical_center_health_system_tqal__claims__standardized",
         "vw_837__claims_claim__latest",
         "837"
        ],
        [
         "ridgeview_medical_center_health_system_tqal__claims__standardized",
         "vw_837__claims_meta_data__history",
         "837"
        ],
        [
         "ridgeview_medical_center_health_system_tqal__claims__standardized",
         "vw_837__claims_meta_data__latest",
         "837"
        ],
        [
         "ridgeview_medical_center_health_system_tqal__claims__standardized",
         "vw_837__claims_physician__history",
         "837"
        ],
        [
         "ridgeview_medical_center_health_system_tqal__claims__standardized",
         "vw_837__claims_physician__latest",
         "837"
        ],
        [
         "ridgeview_medical_center_health_system_tqal__claims__standardized",
         "vw_837__claims_service_line__history",
         "837"
        ],
        [
         "ridgeview_medical_center_health_system_tqal__claims__standardized",
         "vw_837__claims_service_line__latest",
         "837"
        ],
        [
         "ridgeview_medical_center_health_system_tqal__claims__standardized",
         "vw_837__claims_subscriber__history",
         "837"
        ],
        [
         "ridgeview_medical_center_health_system_tqal__claims__standardized",
         "vw_837__claims_subscriber__latest",
         "837"
        ],
        [
         "rwjbarnabas_health_3iak__claims__standardized",
         "837__claims_account_crosswalk__history",
         "837"
        ],
        [
         "rwjbarnabas_health_3iak__claims__standardized",
         "837__claims_account_crosswalk__latest",
         "837"
        ],
        [
         "rwjbarnabas_health_3iak__claims__standardized",
         "837__claims_billing_provider__history",
         "837"
        ],
        [
         "rwjbarnabas_health_3iak__claims__standardized",
         "837__claims_billing_provider__latest",
         "837"
        ],
        [
         "rwjbarnabas_health_3iak__claims__standardized",
         "837__claims_claim__history",
         "837"
        ],
        [
         "rwjbarnabas_health_3iak__claims__standardized",
         "837__claims_claim__latest",
         "837"
        ],
        [
         "rwjbarnabas_health_3iak__claims__standardized",
         "837__claims_meta_data__history",
         "837"
        ],
        [
         "rwjbarnabas_health_3iak__claims__standardized",
         "837__claims_meta_data__latest",
         "837"
        ],
        [
         "rwjbarnabas_health_3iak__claims__standardized",
         "837__claims_physician__history",
         "837"
        ],
        [
         "rwjbarnabas_health_3iak__claims__standardized",
         "837__claims_physician__latest",
         "837"
        ],
        [
         "rwjbarnabas_health_3iak__claims__standardized",
         "837__claims_service_line__history",
         "837"
        ],
        [
         "rwjbarnabas_health_3iak__claims__standardized",
         "837__claims_service_line__latest",
         "837"
        ],
        [
         "rwjbarnabas_health_3iak__claims__standardized",
         "837__claims_subscriber__history",
         "837"
        ],
        [
         "rwjbarnabas_health_3iak__claims__standardized",
         "837__claims_subscriber__latest",
         "837"
        ],
        [
         "rwjbarnabas_health_3iak__claims__standardized",
         "claims_account_crosswalk_837__history",
         "837"
        ],
        [
         "rwjbarnabas_health_3iak__claims__standardized",
         "claims_billing_provider_837__history",
         "837"
        ],
        [
         "rwjbarnabas_health_3iak__claims__standardized",
         "claims_claim_837__history",
         "837"
        ],
        [
         "rwjbarnabas_health_3iak__claims__standardized",
         "claims_meta_data_837__history",
         "837"
        ],
        [
         "rwjbarnabas_health_3iak__claims__standardized",
         "claims_physician_837__history",
         "837"
        ],
        [
         "rwjbarnabas_health_3iak__claims__standardized",
         "claims_service_line_837__history",
         "837"
        ],
        [
         "rwjbarnabas_health_3iak__claims__standardized",
         "claims_subscriber_837__history",
         "837"
        ],
        [
         "rwjbarnabas_health_3iak__claims__standardized",
         "vw_837__claims_billing_provider__history",
         "837"
        ],
        [
         "rwjbarnabas_health_3iak__claims__standardized",
         "vw_837__claims_billing_provider__latest",
         "837"
        ],
        [
         "rwjbarnabas_health_3iak__claims__standardized",
         "vw_837__claims_claim__history",
         "837"
        ],
        [
         "rwjbarnabas_health_3iak__claims__standardized",
         "vw_837__claims_claim__latest",
         "837"
        ],
        [
         "rwjbarnabas_health_3iak__claims__standardized",
         "vw_837__claims_meta_data__history",
         "837"
        ],
        [
         "rwjbarnabas_health_3iak__claims__standardized",
         "vw_837__claims_meta_data__latest",
         "837"
        ],
        [
         "rwjbarnabas_health_3iak__claims__standardized",
         "vw_837__claims_physician__history",
         "837"
        ],
        [
         "rwjbarnabas_health_3iak__claims__standardized",
         "vw_837__claims_physician__latest",
         "837"
        ],
        [
         "rwjbarnabas_health_3iak__claims__standardized",
         "vw_837__claims_service_line__history",
         "837"
        ],
        [
         "rwjbarnabas_health_3iak__claims__standardized",
         "vw_837__claims_service_line__latest",
         "837"
        ],
        [
         "rwjbarnabas_health_3iak__claims__standardized",
         "vw_837__claims_subscriber__history",
         "837"
        ],
        [
         "rwjbarnabas_health_3iak__claims__standardized",
         "vw_837__claims_subscriber__latest",
         "837"
        ],
        [
         "rwjbarnabas_health_3iak__claims__standardized",
         "vw_claims_billing_provider_837__history",
         "837"
        ],
        [
         "rwjbarnabas_health_3iak__claims__standardized",
         "vw_claims_billing_provider_837__latest",
         "837"
        ],
        [
         "rwjbarnabas_health_3iak__claims__standardized",
         "vw_claims_claim_837__history",
         "837"
        ],
        [
         "rwjbarnabas_health_3iak__claims__standardized",
         "vw_claims_claim_837__latest",
         "837"
        ],
        [
         "rwjbarnabas_health_3iak__claims__standardized",
         "vw_claims_meta_data_837__history",
         "837"
        ],
        [
         "rwjbarnabas_health_3iak__claims__standardized",
         "vw_claims_meta_data_837__latest",
         "837"
        ],
        [
         "rwjbarnabas_health_3iak__claims__standardized",
         "vw_claims_physician_837__history",
         "837"
        ],
        [
         "rwjbarnabas_health_3iak__claims__standardized",
         "vw_claims_physician_837__latest",
         "837"
        ],
        [
         "rwjbarnabas_health_3iak__claims__standardized",
         "vw_claims_service_line_837__history",
         "837"
        ],
        [
         "rwjbarnabas_health_3iak__claims__standardized",
         "vw_claims_service_line_837__latest",
         "837"
        ],
        [
         "rwjbarnabas_health_3iak__claims__standardized",
         "vw_claims_subscriber_837__history",
         "837"
        ],
        [
         "rwjbarnabas_health_3iak__claims__standardized",
         "vw_claims_subscriber_837__latest",
         "837"
        ],
        [
         "scl_health_siaw__claims__standardized",
         "837__claims_account_crosswalk__history",
         "837"
        ],
        [
         "scl_health_siaw__claims__standardized",
         "837__claims_billing_provider__history",
         "837"
        ],
        [
         "scl_health_siaw__claims__standardized",
         "837__claims_claim__history",
         "837"
        ],
        [
         "scl_health_siaw__claims__standardized",
         "837__claims_meta_data__history",
         "837"
        ],
        [
         "scl_health_siaw__claims__standardized",
         "837__claims_physician__history",
         "837"
        ],
        [
         "scl_health_siaw__claims__standardized",
         "837__claims_service_line__history",
         "837"
        ],
        [
         "scl_health_siaw__claims__standardized",
         "837__claims_subscriber__history",
         "837"
        ],
        [
         "scl_health_siaw__claims__standardized",
         "vw_837__claims_billing_provider__history",
         "837"
        ],
        [
         "scl_health_siaw__claims__standardized",
         "vw_837__claims_billing_provider__latest",
         "837"
        ],
        [
         "scl_health_siaw__claims__standardized",
         "vw_837__claims_claim__history",
         "837"
        ],
        [
         "scl_health_siaw__claims__standardized",
         "vw_837__claims_claim__latest",
         "837"
        ],
        [
         "scl_health_siaw__claims__standardized",
         "vw_837__claims_meta_data__history",
         "837"
        ],
        [
         "scl_health_siaw__claims__standardized",
         "vw_837__claims_meta_data__latest",
         "837"
        ],
        [
         "scl_health_siaw__claims__standardized",
         "vw_837__claims_physician__history",
         "837"
        ],
        [
         "scl_health_siaw__claims__standardized",
         "vw_837__claims_physician__latest",
         "837"
        ],
        [
         "scl_health_siaw__claims__standardized",
         "vw_837__claims_service_line__history",
         "837"
        ],
        [
         "scl_health_siaw__claims__standardized",
         "vw_837__claims_service_line__latest",
         "837"
        ],
        [
         "scl_health_siaw__claims__standardized",
         "vw_837__claims_subscriber__history",
         "837"
        ],
        [
         "scl_health_siaw__claims__standardized",
         "vw_837__claims_subscriber__latest",
         "837"
        ],
        [
         "seattle_cancer_care_alliance_miax__claims__standardized",
         "835__claims_account_crosswalk__history",
         "835"
        ],
        [
         "seattle_cancer_care_alliance_miax__claims__standardized",
         "835__claims_advice_billing_provider__history",
         "835"
        ],
        [
         "seattle_cancer_care_alliance_miax__claims__standardized",
         "835__claims_advice_claim_line_adjustment__history",
         "835"
        ],
        [
         "seattle_cancer_care_alliance_miax__claims__standardized",
         "835__claims_advice_meta_data__history",
         "835"
        ],
        [
         "seattle_cancer_care_alliance_miax__claims__standardized",
         "835__claims_advice_payment__history",
         "835"
        ],
        [
         "seattle_cancer_care_alliance_miax__claims__standardized",
         "835__claims_advice_payment_overview__history",
         "835"
        ],
        [
         "seattle_cancer_care_alliance_miax__claims__standardized",
         "835__claims_advice_subscriber__history",
         "835"
        ],
        [
         "st_lukes_hospital_health_system_7qad__claims__standardized",
         "837__claims_account_crosswalk__history",
         "837"
        ],
        [
         "st_lukes_hospital_health_system_7qad__claims__standardized",
         "837__claims_billing_provider__history",
         "837"
        ],
        [
         "st_lukes_hospital_health_system_7qad__claims__standardized",
         "837__claims_claim__history",
         "837"
        ],
        [
         "st_lukes_hospital_health_system_7qad__claims__standardized",
         "837__claims_meta_data__history",
         "837"
        ],
        [
         "st_lukes_hospital_health_system_7qad__claims__standardized",
         "837__claims_physician__history",
         "837"
        ],
        [
         "st_lukes_hospital_health_system_7qad__claims__standardized",
         "837__claims_service_line__history",
         "837"
        ],
        [
         "st_lukes_hospital_health_system_7qad__claims__standardized",
         "837__claims_subscriber__history",
         "837"
        ],
        [
         "st_lukes_hospital_health_system_7qad__claims__standardized",
         "claims_account_crosswalk_837__history",
         "837"
        ],
        [
         "st_lukes_hospital_health_system_7qad__claims__standardized",
         "claims_billing_provider_837__history",
         "837"
        ],
        [
         "st_lukes_hospital_health_system_7qad__claims__standardized",
         "claims_claim_837__history",
         "837"
        ],
        [
         "st_lukes_hospital_health_system_7qad__claims__standardized",
         "claims_meta_data_837__history",
         "837"
        ],
        [
         "st_lukes_hospital_health_system_7qad__claims__standardized",
         "claims_physician_837__history",
         "837"
        ],
        [
         "st_lukes_hospital_health_system_7qad__claims__standardized",
         "claims_service_line_837__history",
         "837"
        ],
        [
         "st_lukes_hospital_health_system_7qad__claims__standardized",
         "claims_subscriber_837__history",
         "837"
        ],
        [
         "st_lukes_hospital_health_system_7qad__claims__standardized",
         "vw_837__claims_billing_provider__history",
         "837"
        ],
        [
         "st_lukes_hospital_health_system_7qad__claims__standardized",
         "vw_837__claims_billing_provider__latest",
         "837"
        ],
        [
         "st_lukes_hospital_health_system_7qad__claims__standardized",
         "vw_837__claims_claim__history",
         "837"
        ],
        [
         "st_lukes_hospital_health_system_7qad__claims__standardized",
         "vw_837__claims_claim__latest",
         "837"
        ],
        [
         "st_lukes_hospital_health_system_7qad__claims__standardized",
         "vw_837__claims_meta_data__history",
         "837"
        ],
        [
         "st_lukes_hospital_health_system_7qad__claims__standardized",
         "vw_837__claims_meta_data__latest",
         "837"
        ],
        [
         "st_lukes_hospital_health_system_7qad__claims__standardized",
         "vw_837__claims_physician__history",
         "837"
        ],
        [
         "st_lukes_hospital_health_system_7qad__claims__standardized",
         "vw_837__claims_physician__latest",
         "837"
        ],
        [
         "st_lukes_hospital_health_system_7qad__claims__standardized",
         "vw_837__claims_service_line__history",
         "837"
        ],
        [
         "st_lukes_hospital_health_system_7qad__claims__standardized",
         "vw_837__claims_service_line__latest",
         "837"
        ],
        [
         "st_lukes_hospital_health_system_7qad__claims__standardized",
         "vw_837__claims_subscriber__history",
         "837"
        ],
        [
         "st_lukes_hospital_health_system_7qad__claims__standardized",
         "vw_837__claims_subscriber__latest",
         "837"
        ],
        [
         "st_lukes_hospital_health_system_7qad__claims__standardized",
         "vw_claims_billing_provider_837__history",
         "837"
        ],
        [
         "st_lukes_hospital_health_system_7qad__claims__standardized",
         "vw_claims_billing_provider_837__latest",
         "837"
        ],
        [
         "st_lukes_hospital_health_system_7qad__claims__standardized",
         "vw_claims_claim_837__history",
         "837"
        ],
        [
         "st_lukes_hospital_health_system_7qad__claims__standardized",
         "vw_claims_claim_837__latest",
         "837"
        ],
        [
         "st_lukes_hospital_health_system_7qad__claims__standardized",
         "vw_claims_meta_data_837__history",
         "837"
        ],
        [
         "st_lukes_hospital_health_system_7qad__claims__standardized",
         "vw_claims_meta_data_837__latest",
         "837"
        ],
        [
         "st_lukes_hospital_health_system_7qad__claims__standardized",
         "vw_claims_physician_837__history",
         "837"
        ],
        [
         "st_lukes_hospital_health_system_7qad__claims__standardized",
         "vw_claims_physician_837__latest",
         "837"
        ],
        [
         "st_lukes_hospital_health_system_7qad__claims__standardized",
         "vw_claims_service_line_837__history",
         "837"
        ],
        [
         "st_lukes_hospital_health_system_7qad__claims__standardized",
         "vw_claims_service_line_837__latest",
         "837"
        ],
        [
         "st_lukes_hospital_health_system_7qad__claims__standardized",
         "vw_claims_subscriber_837__history",
         "837"
        ],
        [
         "st_lukes_hospital_health_system_7qad__claims__standardized",
         "vw_claims_subscriber_837__latest",
         "837"
        ],
        [
         "tampa_general_hospital_biap__claims__standardized",
         "837__claims_account_crosswalk__history",
         "837"
        ],
        [
         "tampa_general_hospital_biap__claims__standardized",
         "837__claims_account_crosswalk__latest",
         "837"
        ],
        [
         "tampa_general_hospital_biap__claims__standardized",
         "837__claims_billing_provider__history",
         "837"
        ],
        [
         "tampa_general_hospital_biap__claims__standardized",
         "837__claims_billing_provider__latest",
         "837"
        ],
        [
         "tampa_general_hospital_biap__claims__standardized",
         "837__claims_claim__history",
         "837"
        ],
        [
         "tampa_general_hospital_biap__claims__standardized",
         "837__claims_claim__latest",
         "837"
        ],
        [
         "tampa_general_hospital_biap__claims__standardized",
         "837__claims_meta_data__history",
         "837"
        ],
        [
         "tampa_general_hospital_biap__claims__standardized",
         "837__claims_meta_data__latest",
         "837"
        ],
        [
         "tampa_general_hospital_biap__claims__standardized",
         "837__claims_physician__history",
         "837"
        ],
        [
         "tampa_general_hospital_biap__claims__standardized",
         "837__claims_physician__latest",
         "837"
        ],
        [
         "tampa_general_hospital_biap__claims__standardized",
         "837__claims_service_line__history",
         "837"
        ],
        [
         "tampa_general_hospital_biap__claims__standardized",
         "837__claims_service_line__latest",
         "837"
        ],
        [
         "tampa_general_hospital_biap__claims__standardized",
         "837__claims_subscriber__history",
         "837"
        ],
        [
         "tampa_general_hospital_biap__claims__standardized",
         "837__claims_subscriber__latest",
         "837"
        ],
        [
         "tampa_general_hospital_biap__claims__standardized",
         "claims_account_crosswalk_837__history",
         "837"
        ],
        [
         "tampa_general_hospital_biap__claims__standardized",
         "claims_billing_provider_837__history",
         "837"
        ],
        [
         "tampa_general_hospital_biap__claims__standardized",
         "claims_claim_837__history",
         "837"
        ],
        [
         "tampa_general_hospital_biap__claims__standardized",
         "claims_meta_data_837__history",
         "837"
        ],
        [
         "tampa_general_hospital_biap__claims__standardized",
         "claims_physician_837__history",
         "837"
        ],
        [
         "tampa_general_hospital_biap__claims__standardized",
         "claims_service_line_837__history",
         "837"
        ],
        [
         "tampa_general_hospital_biap__claims__standardized",
         "claims_subscriber_837__history",
         "837"
        ],
        [
         "tampa_general_hospital_biap__claims__standardized",
         "vw_837__claims_billing_provider__history",
         "837"
        ],
        [
         "tampa_general_hospital_biap__claims__standardized",
         "vw_837__claims_billing_provider__latest",
         "837"
        ],
        [
         "tampa_general_hospital_biap__claims__standardized",
         "vw_837__claims_claim__history",
         "837"
        ],
        [
         "tampa_general_hospital_biap__claims__standardized",
         "vw_837__claims_claim__latest",
         "837"
        ],
        [
         "tampa_general_hospital_biap__claims__standardized",
         "vw_837__claims_meta_data__history",
         "837"
        ],
        [
         "tampa_general_hospital_biap__claims__standardized",
         "vw_837__claims_meta_data__latest",
         "837"
        ],
        [
         "tampa_general_hospital_biap__claims__standardized",
         "vw_837__claims_physician__history",
         "837"
        ],
        [
         "tampa_general_hospital_biap__claims__standardized",
         "vw_837__claims_physician__latest",
         "837"
        ],
        [
         "tampa_general_hospital_biap__claims__standardized",
         "vw_837__claims_service_line__history",
         "837"
        ],
        [
         "tampa_general_hospital_biap__claims__standardized",
         "vw_837__claims_service_line__latest",
         "837"
        ],
        [
         "tampa_general_hospital_biap__claims__standardized",
         "vw_837__claims_subscriber__history",
         "837"
        ],
        [
         "tampa_general_hospital_biap__claims__standardized",
         "vw_837__claims_subscriber__latest",
         "837"
        ],
        [
         "tampa_general_hospital_biap__claims__standardized",
         "vw_claims_billing_provider_837__history",
         "837"
        ],
        [
         "tampa_general_hospital_biap__claims__standardized",
         "vw_claims_billing_provider_837__latest",
         "837"
        ],
        [
         "tampa_general_hospital_biap__claims__standardized",
         "vw_claims_claim_837__history",
         "837"
        ],
        [
         "tampa_general_hospital_biap__claims__standardized",
         "vw_claims_claim_837__latest",
         "837"
        ],
        [
         "tampa_general_hospital_biap__claims__standardized",
         "vw_claims_meta_data_837__history",
         "837"
        ],
        [
         "tampa_general_hospital_biap__claims__standardized",
         "vw_claims_meta_data_837__latest",
         "837"
        ],
        [
         "tampa_general_hospital_biap__claims__standardized",
         "vw_claims_physician_837__history",
         "837"
        ],
        [
         "tampa_general_hospital_biap__claims__standardized",
         "vw_claims_physician_837__latest",
         "837"
        ],
        [
         "tampa_general_hospital_biap__claims__standardized",
         "vw_claims_service_line_837__history",
         "837"
        ],
        [
         "tampa_general_hospital_biap__claims__standardized",
         "vw_claims_service_line_837__latest",
         "837"
        ],
        [
         "tampa_general_hospital_biap__claims__standardized",
         "vw_claims_subscriber_837__history",
         "837"
        ],
        [
         "tampa_general_hospital_biap__claims__standardized",
         "vw_claims_subscriber_837__latest",
         "837"
        ],
        [
         "texas_childrens_hospital_wqal__claims__standardized",
         "837__claims_account_crosswalk__history",
         "837"
        ],
        [
         "texas_childrens_hospital_wqal__claims__standardized",
         "837__claims_account_crosswalk__latest",
         "837"
        ],
        [
         "texas_childrens_hospital_wqal__claims__standardized",
         "837__claims_billing_provider__history",
         "837"
        ],
        [
         "texas_childrens_hospital_wqal__claims__standardized",
         "837__claims_billing_provider__latest",
         "837"
        ],
        [
         "texas_childrens_hospital_wqal__claims__standardized",
         "837__claims_claim__history",
         "837"
        ],
        [
         "texas_childrens_hospital_wqal__claims__standardized",
         "837__claims_claim__latest",
         "837"
        ],
        [
         "texas_childrens_hospital_wqal__claims__standardized",
         "837__claims_meta_data__history",
         "837"
        ],
        [
         "texas_childrens_hospital_wqal__claims__standardized",
         "837__claims_meta_data__latest",
         "837"
        ],
        [
         "texas_childrens_hospital_wqal__claims__standardized",
         "837__claims_physician__history",
         "837"
        ],
        [
         "texas_childrens_hospital_wqal__claims__standardized",
         "837__claims_physician__latest",
         "837"
        ],
        [
         "texas_childrens_hospital_wqal__claims__standardized",
         "837__claims_service_line__history",
         "837"
        ],
        [
         "texas_childrens_hospital_wqal__claims__standardized",
         "837__claims_service_line__latest",
         "837"
        ],
        [
         "texas_childrens_hospital_wqal__claims__standardized",
         "837__claims_subscriber__history",
         "837"
        ],
        [
         "texas_childrens_hospital_wqal__claims__standardized",
         "837__claims_subscriber__latest",
         "837"
        ],
        [
         "texas_childrens_hospital_wqal__claims__standardized",
         "claims_account_crosswalk_837__history",
         "837"
        ],
        [
         "texas_childrens_hospital_wqal__claims__standardized",
         "claims_billing_provider_837__history",
         "837"
        ],
        [
         "texas_childrens_hospital_wqal__claims__standardized",
         "claims_claim_837__history",
         "837"
        ],
        [
         "texas_childrens_hospital_wqal__claims__standardized",
         "claims_meta_data_837__history",
         "837"
        ],
        [
         "texas_childrens_hospital_wqal__claims__standardized",
         "claims_physician_837__history",
         "837"
        ],
        [
         "texas_childrens_hospital_wqal__claims__standardized",
         "claims_service_line_837__history",
         "837"
        ],
        [
         "texas_childrens_hospital_wqal__claims__standardized",
         "claims_subscriber_837__history",
         "837"
        ],
        [
         "texas_childrens_hospital_wqal__claims__standardized",
         "vw_837__claims_billing_provider__history",
         "837"
        ],
        [
         "texas_childrens_hospital_wqal__claims__standardized",
         "vw_837__claims_billing_provider__latest",
         "837"
        ],
        [
         "texas_childrens_hospital_wqal__claims__standardized",
         "vw_837__claims_claim__history",
         "837"
        ],
        [
         "texas_childrens_hospital_wqal__claims__standardized",
         "vw_837__claims_claim__latest",
         "837"
        ],
        [
         "texas_childrens_hospital_wqal__claims__standardized",
         "vw_837__claims_meta_data__history",
         "837"
        ],
        [
         "texas_childrens_hospital_wqal__claims__standardized",
         "vw_837__claims_meta_data__latest",
         "837"
        ],
        [
         "texas_childrens_hospital_wqal__claims__standardized",
         "vw_837__claims_physician__history",
         "837"
        ],
        [
         "texas_childrens_hospital_wqal__claims__standardized",
         "vw_837__claims_physician__latest",
         "837"
        ],
        [
         "texas_childrens_hospital_wqal__claims__standardized",
         "vw_837__claims_service_line__history",
         "837"
        ],
        [
         "texas_childrens_hospital_wqal__claims__standardized",
         "vw_837__claims_service_line__latest",
         "837"
        ],
        [
         "texas_childrens_hospital_wqal__claims__standardized",
         "vw_837__claims_subscriber__history",
         "837"
        ],
        [
         "texas_childrens_hospital_wqal__claims__standardized",
         "vw_837__claims_subscriber__latest",
         "837"
        ],
        [
         "texas_childrens_hospital_wqal__claims__standardized",
         "vw_claims_billing_provider_837__history",
         "837"
        ],
        [
         "texas_childrens_hospital_wqal__claims__standardized",
         "vw_claims_billing_provider_837__latest",
         "837"
        ],
        [
         "texas_childrens_hospital_wqal__claims__standardized",
         "vw_claims_claim_837__history",
         "837"
        ],
        [
         "texas_childrens_hospital_wqal__claims__standardized",
         "vw_claims_claim_837__latest",
         "837"
        ],
        [
         "texas_childrens_hospital_wqal__claims__standardized",
         "vw_claims_meta_data_837__history",
         "837"
        ],
        [
         "texas_childrens_hospital_wqal__claims__standardized",
         "vw_claims_meta_data_837__latest",
         "837"
        ],
        [
         "texas_childrens_hospital_wqal__claims__standardized",
         "vw_claims_physician_837__history",
         "837"
        ],
        [
         "texas_childrens_hospital_wqal__claims__standardized",
         "vw_claims_physician_837__latest",
         "837"
        ],
        [
         "texas_childrens_hospital_wqal__claims__standardized",
         "vw_claims_service_line_837__history",
         "837"
        ],
        [
         "texas_childrens_hospital_wqal__claims__standardized",
         "vw_claims_service_line_837__latest",
         "837"
        ],
        [
         "texas_childrens_hospital_wqal__claims__standardized",
         "vw_claims_subscriber_837__history",
         "837"
        ],
        [
         "texas_childrens_hospital_wqal__claims__standardized",
         "vw_claims_subscriber_837__latest",
         "837"
        ],
        [
         "uchicago_medicine_piaw__claims__standardized",
         "837__claims_account_crosswalk__history",
         "837"
        ],
        [
         "uchicago_medicine_piaw__claims__standardized",
         "837__claims_billing_provider__history",
         "837"
        ],
        [
         "uchicago_medicine_piaw__claims__standardized",
         "837__claims_claim__history",
         "837"
        ],
        [
         "uchicago_medicine_piaw__claims__standardized",
         "837__claims_meta_data__history",
         "837"
        ],
        [
         "uchicago_medicine_piaw__claims__standardized",
         "837__claims_physician__history",
         "837"
        ],
        [
         "uchicago_medicine_piaw__claims__standardized",
         "837__claims_service_line__history",
         "837"
        ],
        [
         "uchicago_medicine_piaw__claims__standardized",
         "837__claims_subscriber__history",
         "837"
        ],
        [
         "uchicago_medicine_piaw__claims__standardized",
         "claims_account_crosswalk_837__history",
         "837"
        ],
        [
         "uchicago_medicine_piaw__claims__standardized",
         "claims_billing_provider_837__history",
         "837"
        ],
        [
         "uchicago_medicine_piaw__claims__standardized",
         "claims_claim_837__history",
         "837"
        ],
        [
         "uchicago_medicine_piaw__claims__standardized",
         "claims_meta_data_837__history",
         "837"
        ],
        [
         "uchicago_medicine_piaw__claims__standardized",
         "claims_physician_837__history",
         "837"
        ],
        [
         "uchicago_medicine_piaw__claims__standardized",
         "claims_service_line_837__history",
         "837"
        ],
        [
         "uchicago_medicine_piaw__claims__standardized",
         "claims_subscriber_837__history",
         "837"
        ],
        [
         "uchicago_medicine_piaw__claims__standardized",
         "vw_837__claims_billing_provider__history",
         "837"
        ],
        [
         "uchicago_medicine_piaw__claims__standardized",
         "vw_837__claims_billing_provider__latest",
         "837"
        ],
        [
         "uchicago_medicine_piaw__claims__standardized",
         "vw_837__claims_claim__history",
         "837"
        ],
        [
         "uchicago_medicine_piaw__claims__standardized",
         "vw_837__claims_claim__latest",
         "837"
        ],
        [
         "uchicago_medicine_piaw__claims__standardized",
         "vw_837__claims_meta_data__history",
         "837"
        ],
        [
         "uchicago_medicine_piaw__claims__standardized",
         "vw_837__claims_meta_data__latest",
         "837"
        ],
        [
         "uchicago_medicine_piaw__claims__standardized",
         "vw_837__claims_physician__history",
         "837"
        ],
        [
         "uchicago_medicine_piaw__claims__standardized",
         "vw_837__claims_physician__latest",
         "837"
        ],
        [
         "uchicago_medicine_piaw__claims__standardized",
         "vw_837__claims_service_line__history",
         "837"
        ],
        [
         "uchicago_medicine_piaw__claims__standardized",
         "vw_837__claims_service_line__latest",
         "837"
        ],
        [
         "uchicago_medicine_piaw__claims__standardized",
         "vw_837__claims_subscriber__history",
         "837"
        ],
        [
         "uchicago_medicine_piaw__claims__standardized",
         "vw_837__claims_subscriber__latest",
         "837"
        ],
        [
         "uchicago_medicine_piaw__claims__standardized",
         "vw_claims_billing_provider_837__history",
         "837"
        ],
        [
         "uchicago_medicine_piaw__claims__standardized",
         "vw_claims_billing_provider_837__latest",
         "837"
        ],
        [
         "uchicago_medicine_piaw__claims__standardized",
         "vw_claims_claim_837__history",
         "837"
        ],
        [
         "uchicago_medicine_piaw__claims__standardized",
         "vw_claims_claim_837__latest",
         "837"
        ],
        [
         "uchicago_medicine_piaw__claims__standardized",
         "vw_claims_meta_data_837__history",
         "837"
        ],
        [
         "uchicago_medicine_piaw__claims__standardized",
         "vw_claims_meta_data_837__latest",
         "837"
        ],
        [
         "uchicago_medicine_piaw__claims__standardized",
         "vw_claims_physician_837__history",
         "837"
        ],
        [
         "uchicago_medicine_piaw__claims__standardized",
         "vw_claims_physician_837__latest",
         "837"
        ],
        [
         "uchicago_medicine_piaw__claims__standardized",
         "vw_claims_service_line_837__history",
         "837"
        ],
        [
         "uchicago_medicine_piaw__claims__standardized",
         "vw_claims_service_line_837__latest",
         "837"
        ],
        [
         "uchicago_medicine_piaw__claims__standardized",
         "vw_claims_subscriber_837__history",
         "837"
        ],
        [
         "uchicago_medicine_piaw__claims__standardized",
         "vw_claims_subscriber_837__latest",
         "837"
        ],
        [
         "unitypoint_health_kiag__claims__standardized",
         "837__claims_account_crosswalk__history",
         "837"
        ],
        [
         "unitypoint_health_kiag__claims__standardized",
         "837__claims_billing_provider__history",
         "837"
        ],
        [
         "unitypoint_health_kiag__claims__standardized",
         "837__claims_claim__history",
         "837"
        ],
        [
         "unitypoint_health_kiag__claims__standardized",
         "837__claims_meta_data__history",
         "837"
        ],
        [
         "unitypoint_health_kiag__claims__standardized",
         "837__claims_physician__history",
         "837"
        ],
        [
         "unitypoint_health_kiag__claims__standardized",
         "837__claims_service_line__history",
         "837"
        ],
        [
         "unitypoint_health_kiag__claims__standardized",
         "837__claims_subscriber__history",
         "837"
        ],
        [
         "unitypoint_health_kiag__claims__standardized",
         "claims_account_crosswalk_837__history",
         "837"
        ],
        [
         "unitypoint_health_kiag__claims__standardized",
         "claims_billing_provider_837__history",
         "837"
        ],
        [
         "unitypoint_health_kiag__claims__standardized",
         "claims_claim_837__history",
         "837"
        ],
        [
         "unitypoint_health_kiag__claims__standardized",
         "claims_meta_data_837__history",
         "837"
        ],
        [
         "unitypoint_health_kiag__claims__standardized",
         "claims_physician_837__history",
         "837"
        ],
        [
         "unitypoint_health_kiag__claims__standardized",
         "claims_service_line_837__history",
         "837"
        ],
        [
         "unitypoint_health_kiag__claims__standardized",
         "claims_subscriber_837__history",
         "837"
        ],
        [
         "unitypoint_health_kiag__claims__standardized",
         "vw_837__claims_billing_provider__history",
         "837"
        ],
        [
         "unitypoint_health_kiag__claims__standardized",
         "vw_837__claims_billing_provider__latest",
         "837"
        ],
        [
         "unitypoint_health_kiag__claims__standardized",
         "vw_837__claims_claim__history",
         "837"
        ],
        [
         "unitypoint_health_kiag__claims__standardized",
         "vw_837__claims_claim__latest",
         "837"
        ],
        [
         "unitypoint_health_kiag__claims__standardized",
         "vw_837__claims_meta_data__history",
         "837"
        ],
        [
         "unitypoint_health_kiag__claims__standardized",
         "vw_837__claims_meta_data__latest",
         "837"
        ],
        [
         "unitypoint_health_kiag__claims__standardized",
         "vw_837__claims_physician__history",
         "837"
        ],
        [
         "unitypoint_health_kiag__claims__standardized",
         "vw_837__claims_physician__latest",
         "837"
        ],
        [
         "unitypoint_health_kiag__claims__standardized",
         "vw_837__claims_service_line__history",
         "837"
        ],
        [
         "unitypoint_health_kiag__claims__standardized",
         "vw_837__claims_service_line__latest",
         "837"
        ],
        [
         "unitypoint_health_kiag__claims__standardized",
         "vw_837__claims_subscriber__history",
         "837"
        ],
        [
         "unitypoint_health_kiag__claims__standardized",
         "vw_837__claims_subscriber__latest",
         "837"
        ],
        [
         "unitypoint_health_kiag__claims__standardized",
         "vw_claims_billing_provider_837__history",
         "837"
        ],
        [
         "unitypoint_health_kiag__claims__standardized",
         "vw_claims_billing_provider_837__latest",
         "837"
        ],
        [
         "unitypoint_health_kiag__claims__standardized",
         "vw_claims_claim_837__history",
         "837"
        ],
        [
         "unitypoint_health_kiag__claims__standardized",
         "vw_claims_claim_837__latest",
         "837"
        ],
        [
         "unitypoint_health_kiag__claims__standardized",
         "vw_claims_meta_data_837__history",
         "837"
        ],
        [
         "unitypoint_health_kiag__claims__standardized",
         "vw_claims_meta_data_837__latest",
         "837"
        ],
        [
         "unitypoint_health_kiag__claims__standardized",
         "vw_claims_physician_837__history",
         "837"
        ],
        [
         "unitypoint_health_kiag__claims__standardized",
         "vw_claims_physician_837__latest",
         "837"
        ],
        [
         "unitypoint_health_kiag__claims__standardized",
         "vw_claims_service_line_837__history",
         "837"
        ],
        [
         "unitypoint_health_kiag__claims__standardized",
         "vw_claims_service_line_837__latest",
         "837"
        ],
        [
         "unitypoint_health_kiag__claims__standardized",
         "vw_claims_subscriber_837__history",
         "837"
        ],
        [
         "unitypoint_health_kiag__claims__standardized",
         "vw_claims_subscriber_837__latest",
         "837"
        ],
        [
         "university_of_arkansas_for_medical_sciences_medical_center_tiap__claims__standardized",
         "837__claims_account_crosswalk__history",
         "837"
        ],
        [
         "university_of_arkansas_for_medical_sciences_medical_center_tiap__claims__standardized",
         "837__claims_billing_provider__history",
         "837"
        ],
        [
         "university_of_arkansas_for_medical_sciences_medical_center_tiap__claims__standardized",
         "837__claims_claim__history",
         "837"
        ],
        [
         "university_of_arkansas_for_medical_sciences_medical_center_tiap__claims__standardized",
         "837__claims_meta_data__history",
         "837"
        ],
        [
         "university_of_arkansas_for_medical_sciences_medical_center_tiap__claims__standardized",
         "837__claims_physician__history",
         "837"
        ],
        [
         "university_of_arkansas_for_medical_sciences_medical_center_tiap__claims__standardized",
         "837__claims_service_line__history",
         "837"
        ],
        [
         "university_of_arkansas_for_medical_sciences_medical_center_tiap__claims__standardized",
         "837__claims_subscriber__history",
         "837"
        ],
        [
         "university_of_arkansas_for_medical_sciences_medical_center_tiap__claims__standardized",
         "claims_account_crosswalk_837__history",
         "837"
        ],
        [
         "university_of_arkansas_for_medical_sciences_medical_center_tiap__claims__standardized",
         "claims_billing_provider_837__history",
         "837"
        ],
        [
         "university_of_arkansas_for_medical_sciences_medical_center_tiap__claims__standardized",
         "claims_claim_837__history",
         "837"
        ],
        [
         "university_of_arkansas_for_medical_sciences_medical_center_tiap__claims__standardized",
         "claims_meta_data_837__history",
         "837"
        ],
        [
         "university_of_arkansas_for_medical_sciences_medical_center_tiap__claims__standardized",
         "claims_physician_837__history",
         "837"
        ],
        [
         "university_of_arkansas_for_medical_sciences_medical_center_tiap__claims__standardized",
         "claims_service_line_837__history",
         "837"
        ],
        [
         "university_of_arkansas_for_medical_sciences_medical_center_tiap__claims__standardized",
         "claims_subscriber_837__history",
         "837"
        ],
        [
         "university_of_arkansas_for_medical_sciences_medical_center_tiap__claims__standardized",
         "vw_837__claims_billing_provider__history",
         "837"
        ],
        [
         "university_of_arkansas_for_medical_sciences_medical_center_tiap__claims__standardized",
         "vw_837__claims_billing_provider__latest",
         "837"
        ],
        [
         "university_of_arkansas_for_medical_sciences_medical_center_tiap__claims__standardized",
         "vw_837__claims_claim__history",
         "837"
        ],
        [
         "university_of_arkansas_for_medical_sciences_medical_center_tiap__claims__standardized",
         "vw_837__claims_claim__latest",
         "837"
        ],
        [
         "university_of_arkansas_for_medical_sciences_medical_center_tiap__claims__standardized",
         "vw_837__claims_meta_data__history",
         "837"
        ],
        [
         "university_of_arkansas_for_medical_sciences_medical_center_tiap__claims__standardized",
         "vw_837__claims_meta_data__latest",
         "837"
        ],
        [
         "university_of_arkansas_for_medical_sciences_medical_center_tiap__claims__standardized",
         "vw_837__claims_physician__history",
         "837"
        ],
        [
         "university_of_arkansas_for_medical_sciences_medical_center_tiap__claims__standardized",
         "vw_837__claims_physician__latest",
         "837"
        ],
        [
         "university_of_arkansas_for_medical_sciences_medical_center_tiap__claims__standardized",
         "vw_837__claims_service_line__history",
         "837"
        ],
        [
         "university_of_arkansas_for_medical_sciences_medical_center_tiap__claims__standardized",
         "vw_837__claims_service_line__latest",
         "837"
        ],
        [
         "university_of_arkansas_for_medical_sciences_medical_center_tiap__claims__standardized",
         "vw_837__claims_subscriber__history",
         "837"
        ],
        [
         "university_of_arkansas_for_medical_sciences_medical_center_tiap__claims__standardized",
         "vw_837__claims_subscriber__latest",
         "837"
        ],
        [
         "university_of_arkansas_for_medical_sciences_medical_center_tiap__claims__standardized",
         "vw_claims_billing_provider_837__history",
         "837"
        ],
        [
         "university_of_arkansas_for_medical_sciences_medical_center_tiap__claims__standardized",
         "vw_claims_billing_provider_837__latest",
         "837"
        ],
        [
         "university_of_arkansas_for_medical_sciences_medical_center_tiap__claims__standardized",
         "vw_claims_claim_837__history",
         "837"
        ],
        [
         "university_of_arkansas_for_medical_sciences_medical_center_tiap__claims__standardized",
         "vw_claims_claim_837__latest",
         "837"
        ],
        [
         "university_of_arkansas_for_medical_sciences_medical_center_tiap__claims__standardized",
         "vw_claims_meta_data_837__history",
         "837"
        ],
        [
         "university_of_arkansas_for_medical_sciences_medical_center_tiap__claims__standardized",
         "vw_claims_meta_data_837__latest",
         "837"
        ],
        [
         "university_of_arkansas_for_medical_sciences_medical_center_tiap__claims__standardized",
         "vw_claims_physician_837__history",
         "837"
        ],
        [
         "university_of_arkansas_for_medical_sciences_medical_center_tiap__claims__standardized",
         "vw_claims_physician_837__latest",
         "837"
        ],
        [
         "university_of_arkansas_for_medical_sciences_medical_center_tiap__claims__standardized",
         "vw_claims_service_line_837__history",
         "837"
        ],
        [
         "university_of_arkansas_for_medical_sciences_medical_center_tiap__claims__standardized",
         "vw_claims_service_line_837__latest",
         "837"
        ],
        [
         "university_of_arkansas_for_medical_sciences_medical_center_tiap__claims__standardized",
         "vw_claims_subscriber_837__history",
         "837"
        ],
        [
         "university_of_arkansas_for_medical_sciences_medical_center_tiap__claims__standardized",
         "vw_claims_subscriber_837__latest",
         "837"
        ],
        [
         "university_of_maryland_medical_system_jiag__claims__standardized",
         "835__claims_account_crosswalk__history",
         "835"
        ],
        [
         "university_of_maryland_medical_system_jiag__claims__standardized",
         "835__claims_advice_billing_provider__history",
         "835"
        ],
        [
         "university_of_maryland_medical_system_jiag__claims__standardized",
         "835__claims_advice_claim_line_adjustment__history",
         "835"
        ],
        [
         "university_of_maryland_medical_system_jiag__claims__standardized",
         "835__claims_advice_meta_data__history",
         "835"
        ],
        [
         "university_of_maryland_medical_system_jiag__claims__standardized",
         "835__claims_advice_payment__history",
         "835"
        ],
        [
         "university_of_maryland_medical_system_jiag__claims__standardized",
         "835__claims_advice_payment_overview__history",
         "835"
        ],
        [
         "university_of_maryland_medical_system_jiag__claims__standardized",
         "835__claims_advice_subscriber__history",
         "835"
        ],
        [
         "university_of_texas_system_niag__claims__standardized",
         "837__claims_account_crosswalk__history",
         "837"
        ],
        [
         "university_of_texas_system_niag__claims__standardized",
         "837__claims_account_crosswalk__latest",
         "837"
        ],
        [
         "university_of_texas_system_niag__claims__standardized",
         "837__claims_billing_provider__history",
         "837"
        ],
        [
         "university_of_texas_system_niag__claims__standardized",
         "837__claims_billing_provider__latest",
         "837"
        ],
        [
         "university_of_texas_system_niag__claims__standardized",
         "837__claims_claim__history",
         "837"
        ],
        [
         "university_of_texas_system_niag__claims__standardized",
         "837__claims_claim__latest",
         "837"
        ],
        [
         "university_of_texas_system_niag__claims__standardized",
         "837__claims_meta_data__history",
         "837"
        ],
        [
         "university_of_texas_system_niag__claims__standardized",
         "837__claims_meta_data__latest",
         "837"
        ],
        [
         "university_of_texas_system_niag__claims__standardized",
         "837__claims_physician__history",
         "837"
        ],
        [
         "university_of_texas_system_niag__claims__standardized",
         "837__claims_physician__latest",
         "837"
        ],
        [
         "university_of_texas_system_niag__claims__standardized",
         "837__claims_service_line__history",
         "837"
        ],
        [
         "university_of_texas_system_niag__claims__standardized",
         "837__claims_service_line__latest",
         "837"
        ],
        [
         "university_of_texas_system_niag__claims__standardized",
         "837__claims_subscriber__history",
         "837"
        ],
        [
         "university_of_texas_system_niag__claims__standardized",
         "837__claims_subscriber__latest",
         "837"
        ],
        [
         "university_of_texas_system_niag__claims__standardized",
         "claims_account_crosswalk_837__history",
         "837"
        ],
        [
         "university_of_texas_system_niag__claims__standardized",
         "claims_billing_provider_837__history",
         "837"
        ],
        [
         "university_of_texas_system_niag__claims__standardized",
         "claims_claim_837__history",
         "837"
        ],
        [
         "university_of_texas_system_niag__claims__standardized",
         "claims_meta_data_837__history",
         "837"
        ],
        [
         "university_of_texas_system_niag__claims__standardized",
         "claims_physician_837__history",
         "837"
        ],
        [
         "university_of_texas_system_niag__claims__standardized",
         "claims_service_line_837__history",
         "837"
        ],
        [
         "university_of_texas_system_niag__claims__standardized",
         "claims_subscriber_837__history",
         "837"
        ],
        [
         "university_of_texas_system_niag__claims__standardized",
         "vw_837__claims_billing_provider__history",
         "837"
        ],
        [
         "university_of_texas_system_niag__claims__standardized",
         "vw_837__claims_billing_provider__latest",
         "837"
        ],
        [
         "university_of_texas_system_niag__claims__standardized",
         "vw_837__claims_claim__history",
         "837"
        ],
        [
         "university_of_texas_system_niag__claims__standardized",
         "vw_837__claims_claim__latest",
         "837"
        ],
        [
         "university_of_texas_system_niag__claims__standardized",
         "vw_837__claims_meta_data__history",
         "837"
        ],
        [
         "university_of_texas_system_niag__claims__standardized",
         "vw_837__claims_meta_data__latest",
         "837"
        ],
        [
         "university_of_texas_system_niag__claims__standardized",
         "vw_837__claims_physician__history",
         "837"
        ],
        [
         "university_of_texas_system_niag__claims__standardized",
         "vw_837__claims_physician__latest",
         "837"
        ],
        [
         "university_of_texas_system_niag__claims__standardized",
         "vw_837__claims_service_line__history",
         "837"
        ],
        [
         "university_of_texas_system_niag__claims__standardized",
         "vw_837__claims_service_line__latest",
         "837"
        ],
        [
         "university_of_texas_system_niag__claims__standardized",
         "vw_837__claims_subscriber__history",
         "837"
        ],
        [
         "university_of_texas_system_niag__claims__standardized",
         "vw_837__claims_subscriber__latest",
         "837"
        ],
        [
         "university_of_texas_system_niag__claims__standardized",
         "vw_claims_billing_provider_837__history",
         "837"
        ],
        [
         "university_of_texas_system_niag__claims__standardized",
         "vw_claims_billing_provider_837__latest",
         "837"
        ],
        [
         "university_of_texas_system_niag__claims__standardized",
         "vw_claims_claim_837__history",
         "837"
        ],
        [
         "university_of_texas_system_niag__claims__standardized",
         "vw_claims_claim_837__latest",
         "837"
        ],
        [
         "university_of_texas_system_niag__claims__standardized",
         "vw_claims_meta_data_837__history",
         "837"
        ],
        [
         "university_of_texas_system_niag__claims__standardized",
         "vw_claims_meta_data_837__latest",
         "837"
        ],
        [
         "university_of_texas_system_niag__claims__standardized",
         "vw_claims_physician_837__history",
         "837"
        ],
        [
         "university_of_texas_system_niag__claims__standardized",
         "vw_claims_physician_837__latest",
         "837"
        ],
        [
         "university_of_texas_system_niag__claims__standardized",
         "vw_claims_service_line_837__history",
         "837"
        ],
        [
         "university_of_texas_system_niag__claims__standardized",
         "vw_claims_service_line_837__latest",
         "837"
        ],
        [
         "university_of_texas_system_niag__claims__standardized",
         "vw_claims_subscriber_837__history",
         "837"
        ],
        [
         "university_of_texas_system_niag__claims__standardized",
         "vw_claims_subscriber_837__latest",
         "837"
        ],
        [
         "vanderbilt_health_iiaw__claims__standardized",
         "837__claims_account_crosswalk__history",
         "837"
        ],
        [
         "vanderbilt_health_iiaw__claims__standardized",
         "837__claims_billing_provider__history",
         "837"
        ],
        [
         "vanderbilt_health_iiaw__claims__standardized",
         "837__claims_claim__history",
         "837"
        ],
        [
         "vanderbilt_health_iiaw__claims__standardized",
         "837__claims_meta_data__history",
         "837"
        ],
        [
         "vanderbilt_health_iiaw__claims__standardized",
         "837__claims_physician__history",
         "837"
        ],
        [
         "vanderbilt_health_iiaw__claims__standardized",
         "837__claims_service_line__history",
         "837"
        ],
        [
         "vanderbilt_health_iiaw__claims__standardized",
         "837__claims_subscriber__history",
         "837"
        ],
        [
         "vanderbilt_health_iiaw__claims__standardized",
         "claims_account_crosswalk_837__history",
         "837"
        ],
        [
         "vanderbilt_health_iiaw__claims__standardized",
         "claims_billing_provider_837__history",
         "837"
        ],
        [
         "vanderbilt_health_iiaw__claims__standardized",
         "claims_claim_837__history",
         "837"
        ],
        [
         "vanderbilt_health_iiaw__claims__standardized",
         "claims_meta_data_837__history",
         "837"
        ],
        [
         "vanderbilt_health_iiaw__claims__standardized",
         "claims_physician_837__history",
         "837"
        ],
        [
         "vanderbilt_health_iiaw__claims__standardized",
         "claims_service_line_837__history",
         "837"
        ],
        [
         "vanderbilt_health_iiaw__claims__standardized",
         "claims_subscriber_837__history",
         "837"
        ],
        [
         "vanderbilt_health_iiaw__claims__standardized",
         "vw_837__claims_billing_provider__history",
         "837"
        ],
        [
         "vanderbilt_health_iiaw__claims__standardized",
         "vw_837__claims_billing_provider__latest",
         "837"
        ],
        [
         "vanderbilt_health_iiaw__claims__standardized",
         "vw_837__claims_claim__history",
         "837"
        ],
        [
         "vanderbilt_health_iiaw__claims__standardized",
         "vw_837__claims_claim__latest",
         "837"
        ],
        [
         "vanderbilt_health_iiaw__claims__standardized",
         "vw_837__claims_meta_data__history",
         "837"
        ],
        [
         "vanderbilt_health_iiaw__claims__standardized",
         "vw_837__claims_meta_data__latest",
         "837"
        ],
        [
         "vanderbilt_health_iiaw__claims__standardized",
         "vw_837__claims_physician__history",
         "837"
        ],
        [
         "vanderbilt_health_iiaw__claims__standardized",
         "vw_837__claims_physician__latest",
         "837"
        ],
        [
         "vanderbilt_health_iiaw__claims__standardized",
         "vw_837__claims_service_line__history",
         "837"
        ],
        [
         "vanderbilt_health_iiaw__claims__standardized",
         "vw_837__claims_service_line__latest",
         "837"
        ],
        [
         "vanderbilt_health_iiaw__claims__standardized",
         "vw_837__claims_subscriber__history",
         "837"
        ],
        [
         "vanderbilt_health_iiaw__claims__standardized",
         "vw_837__claims_subscriber__latest",
         "837"
        ],
        [
         "vanderbilt_health_iiaw__claims__standardized",
         "vw_claims_billing_provider_837__history",
         "837"
        ],
        [
         "vanderbilt_health_iiaw__claims__standardized",
         "vw_claims_billing_provider_837__latest",
         "837"
        ],
        [
         "vanderbilt_health_iiaw__claims__standardized",
         "vw_claims_claim_837__history",
         "837"
        ],
        [
         "vanderbilt_health_iiaw__claims__standardized",
         "vw_claims_claim_837__latest",
         "837"
        ],
        [
         "vanderbilt_health_iiaw__claims__standardized",
         "vw_claims_meta_data_837__history",
         "837"
        ],
        [
         "vanderbilt_health_iiaw__claims__standardized",
         "vw_claims_meta_data_837__latest",
         "837"
        ],
        [
         "vanderbilt_health_iiaw__claims__standardized",
         "vw_claims_physician_837__history",
         "837"
        ],
        [
         "vanderbilt_health_iiaw__claims__standardized",
         "vw_claims_physician_837__latest",
         "837"
        ],
        [
         "vanderbilt_health_iiaw__claims__standardized",
         "vw_claims_service_line_837__history",
         "837"
        ],
        [
         "vanderbilt_health_iiaw__claims__standardized",
         "vw_claims_service_line_837__latest",
         "837"
        ],
        [
         "vanderbilt_health_iiaw__claims__standardized",
         "vw_claims_subscriber_837__history",
         "837"
        ],
        [
         "vanderbilt_health_iiaw__claims__standardized",
         "vw_claims_subscriber_837__latest",
         "837"
        ],
        [
         "yale_new_haven_health_system_giag__claims__standardized",
         "835__claims_account_crosswalk__history",
         "835"
        ],
        [
         "yale_new_haven_health_system_giag__claims__standardized",
         "835__claims_advice_billing_provider__history",
         "835"
        ],
        [
         "yale_new_haven_health_system_giag__claims__standardized",
         "835__claims_advice_claim_line_adjustment__history",
         "835"
        ],
        [
         "yale_new_haven_health_system_giag__claims__standardized",
         "835__claims_advice_meta_data__history",
         "835"
        ],
        [
         "yale_new_haven_health_system_giag__claims__standardized",
         "835__claims_advice_payment__history",
         "835"
        ],
        [
         "yale_new_haven_health_system_giag__claims__standardized",
         "835__claims_advice_payment_overview__history",
         "835"
        ],
        [
         "yale_new_haven_health_system_giag__claims__standardized",
         "835__claims_advice_subscriber__history",
         "835"
        ],
        [
         "yale_new_haven_health_system_giag__claims__standardized",
         "837__claims_account_crosswalk__history",
         "837"
        ],
        [
         "yale_new_haven_health_system_giag__claims__standardized",
         "837__claims_billing_provider__history",
         "837"
        ],
        [
         "yale_new_haven_health_system_giag__claims__standardized",
         "837__claims_claim__history",
         "837"
        ],
        [
         "yale_new_haven_health_system_giag__claims__standardized",
         "837__claims_meta_data__history",
         "837"
        ],
        [
         "yale_new_haven_health_system_giag__claims__standardized",
         "837__claims_physician__history",
         "837"
        ],
        [
         "yale_new_haven_health_system_giag__claims__standardized",
         "837__claims_service_line__history",
         "837"
        ],
        [
         "yale_new_haven_health_system_giag__claims__standardized",
         "837__claims_subscriber__history",
         "837"
        ],
        [
         "yale_new_haven_health_system_giag__claims__standardized",
         "vw_837__claims_billing_provider__history",
         "837"
        ],
        [
         "yale_new_haven_health_system_giag__claims__standardized",
         "vw_837__claims_billing_provider__latest",
         "837"
        ],
        [
         "yale_new_haven_health_system_giag__claims__standardized",
         "vw_837__claims_claim__history",
         "837"
        ],
        [
         "yale_new_haven_health_system_giag__claims__standardized",
         "vw_837__claims_claim__latest",
         "837"
        ],
        [
         "yale_new_haven_health_system_giag__claims__standardized",
         "vw_837__claims_meta_data__history",
         "837"
        ],
        [
         "yale_new_haven_health_system_giag__claims__standardized",
         "vw_837__claims_meta_data__latest",
         "837"
        ],
        [
         "yale_new_haven_health_system_giag__claims__standardized",
         "vw_837__claims_physician__history",
         "837"
        ],
        [
         "yale_new_haven_health_system_giag__claims__standardized",
         "vw_837__claims_physician__latest",
         "837"
        ],
        [
         "yale_new_haven_health_system_giag__claims__standardized",
         "vw_837__claims_service_line__history",
         "837"
        ],
        [
         "yale_new_haven_health_system_giag__claims__standardized",
         "vw_837__claims_service_line__latest",
         "837"
        ],
        [
         "yale_new_haven_health_system_giag__claims__standardized",
         "vw_837__claims_subscriber__history",
         "837"
        ],
        [
         "yale_new_haven_health_system_giag__claims__standardized",
         "vw_837__claims_subscriber__latest",
         "837"
        ]
       ],
       "datasetInfos": [],
       "dbfsResultPath": null,
       "isJsonSchema": true,
       "metadata": {},
       "overflow": false,
       "plotOptions": {
        "customPlotOptions": {},
        "displayType": "table",
        "pivotAggregation": null,
        "pivotColumns": null,
        "xColumns": null,
        "yColumns": null
       },
       "removedWidgets": [],
       "schema": [
        {
         "metadata": "{}",
         "name": "Schema",
         "type": "\"string\""
        },
        {
         "metadata": "{}",
         "name": "Table",
         "type": "\"string\""
        },
        {
         "metadata": "{}",
         "name": "Table Type Standardized",
         "type": "\"string\""
        }
       ],
       "type": "table"
      }
     },
     "output_type": "display_data"
    }
   ],
   "source": [
    "import pandas as pd\n",
    "\n",
    "# Create a copy of the df so as to not change it with alterations that will be made\n",
    "schema_df = df\n",
    "\n",
    "# Filter Ingested and Standardized DataFrame based on the presence of 3 keywords in the \"Schema\" column\n",
    "# the terms in this are \"Schema\", which is the column name, and we are looking within the dataframe of \n",
    "# schemas to see if the words 'ingested' or 'standardized' appear in them. We then are splitting into\n",
    "# two datframes called \"ingested_df\" and \"standardized_df\"\n",
    "ingested_df = schema_df[schema_df['Schema'].str.contains('ingested', case=False)]\n",
    "standardized_df = schema_df[schema_df['Schema'].str.contains('standardized', case=False)]\n",
    "\n",
    "print(\"Data has been successfully split and tables have been created in Databricks.\")\n",
    "\n",
    "# Function to determine the new column value\n",
    "# This is to simplify the output due to there being a large amount of tables within schemas that \n",
    "# have the names 835 or 837 repeated in them. If there is at least *one* table of the type we can\n",
    "# assume the acquisition and ingestion has been completed so we don't need the specific table names\n",
    "# and we want to simplify the dataframes\n",
    "def determine_value(row):\n",
    "    if '835' in row:\n",
    "        return '835'\n",
    "    elif '837' in row:\n",
    "        return '837'\n",
    "    else:\n",
    "        return None\n",
    "\n",
    "# Applying the function to create the new column and clean table\n",
    "ingested_df['Table Type Ingested'] = ingested_df['Table'].apply(determine_value)\n",
    "ingested_df['Base Schema'] = ingested_df['Schema'].str.split('__').str[0]\n",
    "ingested_df = ingested_df[['Base Schema','Table Type Ingested']]\n",
    "ingested_df = ingested_df.drop_duplicates()\n",
    "\n",
    "# Applying to this table as well to create a new column which we will call \"Table Type Standardized\"\n",
    "# We don't drop the \"Table\" column for this table because we want to see claims_account_crosswalk still for later use\n",
    "standardized_df['Table Type Standardized'] = standardized_df['Table'].apply(determine_value)\n",
    "\n",
    "print(\"New columns identifying table type has been successfully added to the ingested and standardized tables\")\n",
    "\n",
    "display(standardized_df)\n",
    "\n",
    "import warnings\n",
    "\n",
    "# Suppress all warnings\n",
    "warnings.filterwarnings(\"ignore\")"
   ]
  },
  {
   "cell_type": "code",
   "execution_count": 0,
   "metadata": {
    "application/vnd.databricks.v1+cell": {
     "cellMetadata": {
      "byteLimit": 2048000,
      "rowLimit": 10000
     },
     "inputWidgets": {},
     "nuid": "42a3d76f-110e-4205-aa6f-ed52fdd5c793",
     "showTitle": false,
     "title": ""
    }
   },
   "outputs": [
    {
     "output_type": "display_data",
     "data": {
      "text/html": [
       "<style scoped>\n",
       "  .table-result-container {\n",
       "    max-height: 300px;\n",
       "    overflow: auto;\n",
       "  }\n",
       "  table, th, td {\n",
       "    border: 1px solid black;\n",
       "    border-collapse: collapse;\n",
       "  }\n",
       "  th, td {\n",
       "    padding: 5px;\n",
       "  }\n",
       "  th {\n",
       "    text-align: left;\n",
       "  }\n",
       "</style><div class='table-result-container'><table class='table-result'><thead style='background-color: white'><tr><th>Schema</th><th>Table</th><th>Table Type Standardized</th><th>Account Number Populated</th></tr></thead><tbody><tr><td>allina_health_siaw__claims__standardized</td><td>837__claims_account_crosswalk__history</td><td>837</td><td>true</td></tr><tr><td>allina_health_siaw__claims__standardized</td><td>claims_account_crosswalk_837__history</td><td>837</td><td>false</td></tr><tr><td>ascension_health_riaw__claims__standardized</td><td>835__claims_account_crosswalk__history</td><td>835</td><td>false</td></tr><tr><td>ascension_health_riaw__claims__standardized</td><td>837__claims_account_crosswalk__history</td><td>837</td><td>false</td></tr><tr><td>ascension_health_riaw__claims__standardized</td><td>claims_account_crosswalk_837__history</td><td>837</td><td>false</td></tr><tr><td>aspirus_system_qiag__claims__standardized</td><td>837__claims_account_crosswalk__history</td><td>837</td><td>true</td></tr><tr><td>aspirus_system_qiag__claims__standardized</td><td>claims_account_crosswalk_837__history</td><td>837</td><td>true</td></tr><tr><td>avera_health_qiag__claims__standardized</td><td>837__claims_account_crosswalk__history</td><td>837</td><td>true</td></tr><tr><td>banner_health_riag__claims__standardized</td><td>837__claims_account_crosswalk__history</td><td>837</td><td>false</td></tr><tr><td>banner_health_riag__claims__standardized</td><td>837__claims_account_crosswalk__latest</td><td>837</td><td>false</td></tr><tr><td>banner_health_riag__claims__standardized</td><td>claims_account_crosswalk_837__history</td><td>837</td><td>false</td></tr><tr><td>baptist_health_giaw__claims__standardized</td><td>837__claims_account_crosswalk__history</td><td>837</td><td>true</td></tr><tr><td>baptist_health_giaw__claims__standardized</td><td>837__claims_account_crosswalk__latest</td><td>837</td><td>true</td></tr><tr><td>baptist_health_giaw__claims__standardized</td><td>claims_account_crosswalk_837__history</td><td>837</td><td>true</td></tr><tr><td>baylor_scott_white_health_uiag__claims__standardized</td><td>837__claims_account_crosswalk__history</td><td>837</td><td>true</td></tr><tr><td>baylor_scott_white_health_uiag__claims__standardized</td><td>claims_account_crosswalk_837__history</td><td>837</td><td>true</td></tr><tr><td>blanchard_valley_health_system_nqat__claims__standardized</td><td>837__claims_account_crosswalk__history</td><td>837</td><td>false</td></tr><tr><td>blanchard_valley_health_system_nqat__claims__standardized</td><td>claims_account_crosswalk_837__history</td><td>837</td><td>false</td></tr><tr><td>centra_health_wiag__claims__standardized</td><td>837__claims_account_crosswalk__history</td><td>837</td><td>true</td></tr><tr><td>centra_health_wiag__claims__standardized</td><td>claims_account_crosswalk_837__history</td><td>837</td><td>true</td></tr><tr><td>christus_health_diax__claims__standardized</td><td>837__claims_account_crosswalk__history</td><td>837</td><td>false</td></tr><tr><td>commonspirit_health1_abcd__claims__standardized</td><td>837__claims_account_crosswalk__history</td><td>837</td><td>false</td></tr><tr><td>commonspirit_health_bqa0__claims__standardized</td><td>837__claims_account_crosswalk__history</td><td>837</td><td>true</td></tr><tr><td>community_hospital_of_the_monterey_peninsula_uia5__claims__standardized</td><td>837__claims_account_crosswalk__history</td><td>837</td><td>true</td></tr><tr><td>cooper_university_hospital_fiah__claims__standardized</td><td>837__claims_account_crosswalk__history</td><td>837</td><td>true</td></tr><tr><td>cooper_university_hospital_fiah__claims__standardized</td><td>837__claims_account_crosswalk__latest</td><td>837</td><td>true</td></tr><tr><td>cooper_university_hospital_fiah__claims__standardized</td><td>claims_account_crosswalk_837__history</td><td>837</td><td>true</td></tr><tr><td>coxhealth_xiaw__claims__standardized</td><td>837__claims_account_crosswalk__history</td><td>837</td><td>true</td></tr><tr><td>duke_health_xiaw__claims__standardized</td><td>837__claims_account_crosswalk__history</td><td>837</td><td>true</td></tr><tr><td>emory_healthcare_fiaw__claims__standardized</td><td>835__claims_account_crosswalk__history</td><td>835</td><td>true</td></tr><tr><td>emory_healthcare_fiaw__claims__standardized</td><td>837__claims_account_crosswalk__history</td><td>837</td><td>true</td></tr><tr><td>emory_healthcare_fiaw__claims__standardized</td><td>837__claims_account_crosswalk__latest</td><td>837</td><td>true</td></tr><tr><td>emory_healthcare_fiaw__claims__standardized</td><td>claims_account_crosswalk_837__history</td><td>837</td><td>true</td></tr><tr><td>garnet_health_oiaw__claims__standardized</td><td>837__claims_account_crosswalk__history</td><td>837</td><td>true</td></tr><tr><td>intermountain_healthcare_tiag__claims__standardized</td><td>835__claims_account_crosswalk__history</td><td>835</td><td>true</td></tr><tr><td>intermountain_healthcare_tiag__claims__standardized</td><td>837__claims_account_crosswalk__history</td><td>837</td><td>true</td></tr><tr><td>intermountain_healthcare_tiag__claims__standardized</td><td>claims_account_crosswalk_837__history</td><td>837</td><td>false</td></tr><tr><td>lifepoint_health_6iag__claims__standardized</td><td>835__claims_account_crosswalk__history</td><td>835</td><td>false</td></tr><tr><td>lifepoint_health_6iag__claims__standardized</td><td>837__claims_account_crosswalk__history</td><td>837</td><td>false</td></tr><tr><td>loma_linda_university_health_9iag__claims__standardized</td><td>835__claims_account_crosswalk__history</td><td>835</td><td>true</td></tr><tr><td>loma_linda_university_health_9iag__claims__standardized</td><td>837__claims_account_crosswalk__history</td><td>837</td><td>true</td></tr><tr><td>mainegeneral_health_sqad__claims__standardized</td><td>837__claims_account_crosswalk__history</td><td>837</td><td>true</td></tr><tr><td>mainegeneral_health_sqad__claims__standardized</td><td>claims_account_crosswalk_837__history</td><td>837</td><td>true</td></tr><tr><td>mclaren_health_care_corporation_9iag__claims__standardized</td><td>835__claims_account_crosswalk__history</td><td>835</td><td>true</td></tr><tr><td>mclaren_health_care_corporation_9iag__claims__standardized</td><td>837__claims_account_crosswalk__history</td><td>837</td><td>true</td></tr><tr><td>mercy_9qal__claims__standardized</td><td>837__claims_account_crosswalk__history</td><td>837</td><td>true</td></tr><tr><td>montefiore_health_system_xiag__claims__standardized</td><td>837__claims_account_crosswalk__history</td><td>837</td><td>true</td></tr><tr><td>montefiore_health_system_xiag__claims__standardized</td><td>claims_account_crosswalk_837__history</td><td>837</td><td>true</td></tr><tr><td>nuvance_health_cqam__claims__standardized</td><td>837__claims_account_crosswalk__history</td><td>837</td><td>false</td></tr><tr><td>ohsu_partners_miah__claims__standardized</td><td>837__claims_account_crosswalk__history</td><td>837</td><td>true</td></tr><tr><td>ohsu_partners_miah__claims__standardized</td><td>837__claims_account_crosswalk__latest</td><td>837</td><td>true</td></tr><tr><td>ohsu_partners_miah__claims__standardized</td><td>claims_account_crosswalk_837__history</td><td>837</td><td>true</td></tr><tr><td>pih_health_vqat__claims__standardized</td><td>837__claims_account_crosswalk__history</td><td>837</td><td>false</td></tr><tr><td>pih_health_vqat__claims__standardized</td><td>claims_account_crosswalk_837__history</td><td>837</td><td>true</td></tr><tr><td>providence_st_joseph_health_viaw__claims__standardized</td><td>835__claims_account_crosswalk__history</td><td>835</td><td>true</td></tr><tr><td>providence_st_joseph_health_viaw__claims__standardized</td><td>837__claims_account_crosswalk__history</td><td>837</td><td>true</td></tr><tr><td>providence_st_joseph_health_viaw__claims__standardized</td><td>claims_account_crosswalk_837__history</td><td>837</td><td>true</td></tr><tr><td>ridgeview_medical_center_health_system_tqal__claims__standardized</td><td>837__claims_account_crosswalk__history</td><td>837</td><td>false</td></tr><tr><td>rwjbarnabas_health_3iak__claims__standardized</td><td>837__claims_account_crosswalk__history</td><td>837</td><td>true</td></tr><tr><td>rwjbarnabas_health_3iak__claims__standardized</td><td>837__claims_account_crosswalk__latest</td><td>837</td><td>true</td></tr><tr><td>rwjbarnabas_health_3iak__claims__standardized</td><td>claims_account_crosswalk_837__history</td><td>837</td><td>false</td></tr><tr><td>scl_health_siaw__claims__standardized</td><td>837__claims_account_crosswalk__history</td><td>837</td><td>true</td></tr><tr><td>seattle_cancer_care_alliance_miax__claims__standardized</td><td>835__claims_account_crosswalk__history</td><td>835</td><td>true</td></tr><tr><td>st_lukes_hospital_health_system_7qad__claims__standardized</td><td>837__claims_account_crosswalk__history</td><td>837</td><td>true</td></tr><tr><td>st_lukes_hospital_health_system_7qad__claims__standardized</td><td>claims_account_crosswalk_837__history</td><td>837</td><td>true</td></tr><tr><td>tampa_general_hospital_biap__claims__standardized</td><td>837__claims_account_crosswalk__history</td><td>837</td><td>true</td></tr><tr><td>tampa_general_hospital_biap__claims__standardized</td><td>837__claims_account_crosswalk__latest</td><td>837</td><td>true</td></tr><tr><td>tampa_general_hospital_biap__claims__standardized</td><td>claims_account_crosswalk_837__history</td><td>837</td><td>true</td></tr><tr><td>texas_childrens_hospital_wqal__claims__standardized</td><td>837__claims_account_crosswalk__history</td><td>837</td><td>true</td></tr><tr><td>texas_childrens_hospital_wqal__claims__standardized</td><td>837__claims_account_crosswalk__latest</td><td>837</td><td>true</td></tr><tr><td>texas_childrens_hospital_wqal__claims__standardized</td><td>claims_account_crosswalk_837__history</td><td>837</td><td>true</td></tr><tr><td>uchicago_medicine_piaw__claims__standardized</td><td>837__claims_account_crosswalk__history</td><td>837</td><td>true</td></tr><tr><td>uchicago_medicine_piaw__claims__standardized</td><td>claims_account_crosswalk_837__history</td><td>837</td><td>true</td></tr><tr><td>unitypoint_health_kiag__claims__standardized</td><td>837__claims_account_crosswalk__history</td><td>837</td><td>true</td></tr><tr><td>unitypoint_health_kiag__claims__standardized</td><td>claims_account_crosswalk_837__history</td><td>837</td><td>true</td></tr><tr><td>university_of_arkansas_for_medical_sciences_medical_center_tiap__claims__standardized</td><td>837__claims_account_crosswalk__history</td><td>837</td><td>true</td></tr><tr><td>university_of_arkansas_for_medical_sciences_medical_center_tiap__claims__standardized</td><td>claims_account_crosswalk_837__history</td><td>837</td><td>true</td></tr><tr><td>university_of_maryland_medical_system_jiag__claims__standardized</td><td>835__claims_account_crosswalk__history</td><td>835</td><td>true</td></tr><tr><td>university_of_texas_system_niag__claims__standardized</td><td>837__claims_account_crosswalk__history</td><td>837</td><td>true</td></tr><tr><td>university_of_texas_system_niag__claims__standardized</td><td>837__claims_account_crosswalk__latest</td><td>837</td><td>true</td></tr><tr><td>university_of_texas_system_niag__claims__standardized</td><td>claims_account_crosswalk_837__history</td><td>837</td><td>true</td></tr><tr><td>vanderbilt_health_iiaw__claims__standardized</td><td>837__claims_account_crosswalk__history</td><td>837</td><td>true</td></tr><tr><td>vanderbilt_health_iiaw__claims__standardized</td><td>claims_account_crosswalk_837__history</td><td>837</td><td>true</td></tr><tr><td>yale_new_haven_health_system_giag__claims__standardized</td><td>835__claims_account_crosswalk__history</td><td>835</td><td>true</td></tr><tr><td>yale_new_haven_health_system_giag__claims__standardized</td><td>837__claims_account_crosswalk__history</td><td>837</td><td>true</td></tr></tbody></table></div>"
      ]
     },
     "metadata": {
      "application/vnd.databricks.v1+output": {
       "addedWidgets": {},
       "aggData": [],
       "aggError": "",
       "aggOverflow": false,
       "aggSchema": [],
       "aggSeriesLimitReached": false,
       "aggType": "",
       "arguments": {},
       "columnCustomDisplayInfos": {},
       "data": [
        [
         "allina_health_siaw__claims__standardized",
         "837__claims_account_crosswalk__history",
         "837",
         true
        ],
        [
         "allina_health_siaw__claims__standardized",
         "claims_account_crosswalk_837__history",
         "837",
         false
        ],
        [
         "ascension_health_riaw__claims__standardized",
         "835__claims_account_crosswalk__history",
         "835",
         false
        ],
        [
         "ascension_health_riaw__claims__standardized",
         "837__claims_account_crosswalk__history",
         "837",
         false
        ],
        [
         "ascension_health_riaw__claims__standardized",
         "claims_account_crosswalk_837__history",
         "837",
         false
        ],
        [
         "aspirus_system_qiag__claims__standardized",
         "837__claims_account_crosswalk__history",
         "837",
         true
        ],
        [
         "aspirus_system_qiag__claims__standardized",
         "claims_account_crosswalk_837__history",
         "837",
         true
        ],
        [
         "avera_health_qiag__claims__standardized",
         "837__claims_account_crosswalk__history",
         "837",
         true
        ],
        [
         "banner_health_riag__claims__standardized",
         "837__claims_account_crosswalk__history",
         "837",
         false
        ],
        [
         "banner_health_riag__claims__standardized",
         "837__claims_account_crosswalk__latest",
         "837",
         false
        ],
        [
         "banner_health_riag__claims__standardized",
         "claims_account_crosswalk_837__history",
         "837",
         false
        ],
        [
         "baptist_health_giaw__claims__standardized",
         "837__claims_account_crosswalk__history",
         "837",
         true
        ],
        [
         "baptist_health_giaw__claims__standardized",
         "837__claims_account_crosswalk__latest",
         "837",
         true
        ],
        [
         "baptist_health_giaw__claims__standardized",
         "claims_account_crosswalk_837__history",
         "837",
         true
        ],
        [
         "baylor_scott_white_health_uiag__claims__standardized",
         "837__claims_account_crosswalk__history",
         "837",
         true
        ],
        [
         "baylor_scott_white_health_uiag__claims__standardized",
         "claims_account_crosswalk_837__history",
         "837",
         true
        ],
        [
         "blanchard_valley_health_system_nqat__claims__standardized",
         "837__claims_account_crosswalk__history",
         "837",
         false
        ],
        [
         "blanchard_valley_health_system_nqat__claims__standardized",
         "claims_account_crosswalk_837__history",
         "837",
         false
        ],
        [
         "centra_health_wiag__claims__standardized",
         "837__claims_account_crosswalk__history",
         "837",
         true
        ],
        [
         "centra_health_wiag__claims__standardized",
         "claims_account_crosswalk_837__history",
         "837",
         true
        ],
        [
         "christus_health_diax__claims__standardized",
         "837__claims_account_crosswalk__history",
         "837",
         false
        ],
        [
         "commonspirit_health1_abcd__claims__standardized",
         "837__claims_account_crosswalk__history",
         "837",
         false
        ],
        [
         "commonspirit_health_bqa0__claims__standardized",
         "837__claims_account_crosswalk__history",
         "837",
         true
        ],
        [
         "community_hospital_of_the_monterey_peninsula_uia5__claims__standardized",
         "837__claims_account_crosswalk__history",
         "837",
         true
        ],
        [
         "cooper_university_hospital_fiah__claims__standardized",
         "837__claims_account_crosswalk__history",
         "837",
         true
        ],
        [
         "cooper_university_hospital_fiah__claims__standardized",
         "837__claims_account_crosswalk__latest",
         "837",
         true
        ],
        [
         "cooper_university_hospital_fiah__claims__standardized",
         "claims_account_crosswalk_837__history",
         "837",
         true
        ],
        [
         "coxhealth_xiaw__claims__standardized",
         "837__claims_account_crosswalk__history",
         "837",
         true
        ],
        [
         "duke_health_xiaw__claims__standardized",
         "837__claims_account_crosswalk__history",
         "837",
         true
        ],
        [
         "emory_healthcare_fiaw__claims__standardized",
         "835__claims_account_crosswalk__history",
         "835",
         true
        ],
        [
         "emory_healthcare_fiaw__claims__standardized",
         "837__claims_account_crosswalk__history",
         "837",
         true
        ],
        [
         "emory_healthcare_fiaw__claims__standardized",
         "837__claims_account_crosswalk__latest",
         "837",
         true
        ],
        [
         "emory_healthcare_fiaw__claims__standardized",
         "claims_account_crosswalk_837__history",
         "837",
         true
        ],
        [
         "garnet_health_oiaw__claims__standardized",
         "837__claims_account_crosswalk__history",
         "837",
         true
        ],
        [
         "intermountain_healthcare_tiag__claims__standardized",
         "835__claims_account_crosswalk__history",
         "835",
         true
        ],
        [
         "intermountain_healthcare_tiag__claims__standardized",
         "837__claims_account_crosswalk__history",
         "837",
         true
        ],
        [
         "intermountain_healthcare_tiag__claims__standardized",
         "claims_account_crosswalk_837__history",
         "837",
         false
        ],
        [
         "lifepoint_health_6iag__claims__standardized",
         "835__claims_account_crosswalk__history",
         "835",
         false
        ],
        [
         "lifepoint_health_6iag__claims__standardized",
         "837__claims_account_crosswalk__history",
         "837",
         false
        ],
        [
         "loma_linda_university_health_9iag__claims__standardized",
         "835__claims_account_crosswalk__history",
         "835",
         true
        ],
        [
         "loma_linda_university_health_9iag__claims__standardized",
         "837__claims_account_crosswalk__history",
         "837",
         true
        ],
        [
         "mainegeneral_health_sqad__claims__standardized",
         "837__claims_account_crosswalk__history",
         "837",
         true
        ],
        [
         "mainegeneral_health_sqad__claims__standardized",
         "claims_account_crosswalk_837__history",
         "837",
         true
        ],
        [
         "mclaren_health_care_corporation_9iag__claims__standardized",
         "835__claims_account_crosswalk__history",
         "835",
         true
        ],
        [
         "mclaren_health_care_corporation_9iag__claims__standardized",
         "837__claims_account_crosswalk__history",
         "837",
         true
        ],
        [
         "mercy_9qal__claims__standardized",
         "837__claims_account_crosswalk__history",
         "837",
         true
        ],
        [
         "montefiore_health_system_xiag__claims__standardized",
         "837__claims_account_crosswalk__history",
         "837",
         true
        ],
        [
         "montefiore_health_system_xiag__claims__standardized",
         "claims_account_crosswalk_837__history",
         "837",
         true
        ],
        [
         "nuvance_health_cqam__claims__standardized",
         "837__claims_account_crosswalk__history",
         "837",
         false
        ],
        [
         "ohsu_partners_miah__claims__standardized",
         "837__claims_account_crosswalk__history",
         "837",
         true
        ],
        [
         "ohsu_partners_miah__claims__standardized",
         "837__claims_account_crosswalk__latest",
         "837",
         true
        ],
        [
         "ohsu_partners_miah__claims__standardized",
         "claims_account_crosswalk_837__history",
         "837",
         true
        ],
        [
         "pih_health_vqat__claims__standardized",
         "837__claims_account_crosswalk__history",
         "837",
         false
        ],
        [
         "pih_health_vqat__claims__standardized",
         "claims_account_crosswalk_837__history",
         "837",
         true
        ],
        [
         "providence_st_joseph_health_viaw__claims__standardized",
         "835__claims_account_crosswalk__history",
         "835",
         true
        ],
        [
         "providence_st_joseph_health_viaw__claims__standardized",
         "837__claims_account_crosswalk__history",
         "837",
         true
        ],
        [
         "providence_st_joseph_health_viaw__claims__standardized",
         "claims_account_crosswalk_837__history",
         "837",
         true
        ],
        [
         "ridgeview_medical_center_health_system_tqal__claims__standardized",
         "837__claims_account_crosswalk__history",
         "837",
         false
        ],
        [
         "rwjbarnabas_health_3iak__claims__standardized",
         "837__claims_account_crosswalk__history",
         "837",
         true
        ],
        [
         "rwjbarnabas_health_3iak__claims__standardized",
         "837__claims_account_crosswalk__latest",
         "837",
         true
        ],
        [
         "rwjbarnabas_health_3iak__claims__standardized",
         "claims_account_crosswalk_837__history",
         "837",
         false
        ],
        [
         "scl_health_siaw__claims__standardized",
         "837__claims_account_crosswalk__history",
         "837",
         true
        ],
        [
         "seattle_cancer_care_alliance_miax__claims__standardized",
         "835__claims_account_crosswalk__history",
         "835",
         true
        ],
        [
         "st_lukes_hospital_health_system_7qad__claims__standardized",
         "837__claims_account_crosswalk__history",
         "837",
         true
        ],
        [
         "st_lukes_hospital_health_system_7qad__claims__standardized",
         "claims_account_crosswalk_837__history",
         "837",
         true
        ],
        [
         "tampa_general_hospital_biap__claims__standardized",
         "837__claims_account_crosswalk__history",
         "837",
         true
        ],
        [
         "tampa_general_hospital_biap__claims__standardized",
         "837__claims_account_crosswalk__latest",
         "837",
         true
        ],
        [
         "tampa_general_hospital_biap__claims__standardized",
         "claims_account_crosswalk_837__history",
         "837",
         true
        ],
        [
         "texas_childrens_hospital_wqal__claims__standardized",
         "837__claims_account_crosswalk__history",
         "837",
         true
        ],
        [
         "texas_childrens_hospital_wqal__claims__standardized",
         "837__claims_account_crosswalk__latest",
         "837",
         true
        ],
        [
         "texas_childrens_hospital_wqal__claims__standardized",
         "claims_account_crosswalk_837__history",
         "837",
         true
        ],
        [
         "uchicago_medicine_piaw__claims__standardized",
         "837__claims_account_crosswalk__history",
         "837",
         true
        ],
        [
         "uchicago_medicine_piaw__claims__standardized",
         "claims_account_crosswalk_837__history",
         "837",
         true
        ],
        [
         "unitypoint_health_kiag__claims__standardized",
         "837__claims_account_crosswalk__history",
         "837",
         true
        ],
        [
         "unitypoint_health_kiag__claims__standardized",
         "claims_account_crosswalk_837__history",
         "837",
         true
        ],
        [
         "university_of_arkansas_for_medical_sciences_medical_center_tiap__claims__standardized",
         "837__claims_account_crosswalk__history",
         "837",
         true
        ],
        [
         "university_of_arkansas_for_medical_sciences_medical_center_tiap__claims__standardized",
         "claims_account_crosswalk_837__history",
         "837",
         true
        ],
        [
         "university_of_maryland_medical_system_jiag__claims__standardized",
         "835__claims_account_crosswalk__history",
         "835",
         true
        ],
        [
         "university_of_texas_system_niag__claims__standardized",
         "837__claims_account_crosswalk__history",
         "837",
         true
        ],
        [
         "university_of_texas_system_niag__claims__standardized",
         "837__claims_account_crosswalk__latest",
         "837",
         true
        ],
        [
         "university_of_texas_system_niag__claims__standardized",
         "claims_account_crosswalk_837__history",
         "837",
         true
        ],
        [
         "vanderbilt_health_iiaw__claims__standardized",
         "837__claims_account_crosswalk__history",
         "837",
         true
        ],
        [
         "vanderbilt_health_iiaw__claims__standardized",
         "claims_account_crosswalk_837__history",
         "837",
         true
        ],
        [
         "yale_new_haven_health_system_giag__claims__standardized",
         "835__claims_account_crosswalk__history",
         "835",
         true
        ],
        [
         "yale_new_haven_health_system_giag__claims__standardized",
         "837__claims_account_crosswalk__history",
         "837",
         true
        ]
       ],
       "datasetInfos": [],
       "dbfsResultPath": null,
       "isJsonSchema": true,
       "metadata": {},
       "overflow": false,
       "plotOptions": {
        "customPlotOptions": {},
        "displayType": "table",
        "pivotAggregation": null,
        "pivotColumns": null,
        "xColumns": null,
        "yColumns": null
       },
       "removedWidgets": [],
       "schema": [
        {
         "metadata": "{}",
         "name": "Schema",
         "type": "\"string\""
        },
        {
         "metadata": "{}",
         "name": "Table",
         "type": "\"string\""
        },
        {
         "metadata": "{}",
         "name": "Table Type Standardized",
         "type": "\"string\""
        },
        {
         "metadata": "{}",
         "name": "Account Number Populated",
         "type": "\"boolean\""
        }
       ],
       "type": "table"
      }
     },
     "output_type": "display_data"
    },
    {
     "output_type": "stream",
     "name": "stdout",
     "output_type": "stream",
     "text": [
      "Crosswalk table made successfully to verify account linking\n"
     ]
    }
   ],
   "source": [
    "import pandas as pd\n",
    "from pyspark.sql import SparkSession\n",
    "from pyspark.sql.functions import col, isnan, trim\n",
    "\n",
    "# Filter rows where 'Table' contains '835' or '837' and 'crosswalk' in any order\n",
    "# Create a df called crosswalk_tables that looks at the standardized_df in the \"Table\" column and pulls out anything that meets the criteria\n",
    "# of having \"crosswalk\" in its name. \n",
    "crosswalk_tables = standardized_df[standardized_df['Table'].str.contains(r'(835|837).*crosswalk|crosswalk.*(835|837)', regex=True)]\n",
    "\n",
    "# We can check if account linking has been completed by looking into the crosswalk tables in Standardized and seeing if the account_number is populated\n",
    "# This function will then be applied later to the crosswalk_tables\n",
    "def check_account_number_populated(schema, table):\n",
    "    # Construct the full table path using Spark commands\n",
    "    full_table_path = f\"prd_data_platform.{schema}.{table}\"\n",
    "    \n",
    "    # Load the table into a Spark DataFrame\n",
    "    table_df = spark.table(full_table_path)\n",
    "    \n",
    "    # Check if 'account_number' column exists and is populated into the spark dataframe\n",
    "    if 'account_number' in table_df.columns:\n",
    "        # Filter out rows where 'account_number' is null, NaN, or blank\n",
    "        populated_count = table_df.filter(\n",
    "            col('account_number').isNotNull() & \n",
    "            ~isnan('account_number') & \n",
    "            (trim(col('account_number')) != '')\n",
    "        ).count()\n",
    "        \n",
    "        # If there are any populated rows, return True, otherwise False\n",
    "        # Question: Would it be possible for account linking to only half work? Or do we assume that if there is anything at all then it's fully functional?\n",
    "        return populated_count > 0\n",
    "    else:\n",
    "        return False\n",
    "\n",
    "# Apply the check to each row in the crosswalk_tables DataFrame using the function created above and create a new column in the df called \"Account Number Populated\"\n",
    "crosswalk_tables['Account Number Populated'] = crosswalk_tables.apply(\n",
    "    lambda row: check_account_number_populated(row['Schema'], row['Table']), axis=1\n",
    ")\n",
    "display(crosswalk_tables)\n",
    "print(\"Crosswalk table made successfully to verify account linking\")"
   ]
  },
  {
   "cell_type": "code",
   "execution_count": 0,
   "metadata": {
    "application/vnd.databricks.v1+cell": {
     "cellMetadata": {
      "byteLimit": 2048000,
      "rowLimit": 10000
     },
     "inputWidgets": {},
     "nuid": "84f3c5cd-617f-489d-8669-4700858286a6",
     "showTitle": false,
     "title": ""
    }
   },
   "outputs": [
    {
     "output_type": "stream",
     "name": "stdout",
     "output_type": "stream",
     "text": [
      "Conversion to pandas and cleanup of crosswalk_tables completed\n"
     ]
    }
   ],
   "source": [
    "# Convert the result to a Pandas DataFrame\n",
    "crosswalk_tables_pandas = pd.DataFrame(crosswalk_tables, columns=['Schema', 'Table', 'Table Type Standardized', 'Account Number Populated'])\n",
    "# Rename the columns for clarity\n",
    "crosswalk_tables_pandas.rename(columns={'Account Number Populated': 'Account Linking Completed'}, inplace=True)\n",
    "\n",
    "# Copy the table to not mess with the original\n",
    "crosswalk_tables_pandas_copy = crosswalk_tables_pandas.copy()\n",
    "# Drop the Table column in order to simplify the table\n",
    "crosswalk_tables_pandas_copy.drop(columns=['Table'], inplace=True)\n",
    "# Drop duplicates\n",
    "crosswalk_tables_pandas_copy = crosswalk_tables_pandas_copy.drop_duplicates()\n",
    "# Currently the \"Account Linking Completed\" column is a boolean, we want it to be a string for later use. Changing the format to str.\n",
    "crosswalk_tables_pandas_copy['Account Linking Completed'] = crosswalk_tables_pandas_copy['Account Linking Completed'].astype(str)\n",
    "\n",
    "# Display the result\n",
    "#display(crosswalk_tables_pandas_copy)\n",
    "#display(standardized_df)\n",
    "print(\"Conversion to pandas and cleanup of crosswalk_tables completed\")"
   ]
  },
  {
   "cell_type": "code",
   "execution_count": 0,
   "metadata": {
    "application/vnd.databricks.v1+cell": {
     "cellMetadata": {
      "byteLimit": 2048000,
      "rowLimit": 10000
     },
     "inputWidgets": {},
     "nuid": "ce382d28-fa2f-48f2-afed-f0f14cb49da3",
     "showTitle": false,
     "title": ""
    }
   },
   "outputs": [],
   "source": [
    "std_crosswalk = crosswalk_tables_pandas_copy.merge(\n",
    "    standardized_df,\n",
    "    on=['Schema', 'Table Type Standardized'],\n",
    "    how='inner'  \n",
    ")\n",
    "# Merge crosswalk table and standardized table"
   ]
  },
  {
   "cell_type": "code",
   "execution_count": 0,
   "metadata": {
    "application/vnd.databricks.v1+cell": {
     "cellMetadata": {
      "byteLimit": 2048000,
      "rowLimit": 10000
     },
     "inputWidgets": {},
     "nuid": "a1e94a29-5b45-4515-9d1f-74b6af56957b",
     "showTitle": false,
     "title": ""
    }
   },
   "outputs": [
    {
     "output_type": "stream",
     "name": "stdout",
     "output_type": "stream",
     "text": [
      "Shared status copy made and cleaned\nStandardized DF copy made and cleaned\n"
     ]
    }
   ],
   "source": [
    "from pyspark.sql import SparkSession\n",
    "import pandas as pd\n",
    "import re\n",
    "\n",
    "# Now we need to create a separate table for shared using spark. This is necessary because the shared schema does not have any tables title 835 or 837\n",
    "# Initialize Spark session\n",
    "spark = SparkSession.builder.appName(\"CheckTablesInSchemas\").getOrCreate()\n",
    "\n",
    "# List all schemas in the catalog\n",
    "schemas_df = spark.sql(\"SHOW SCHEMAS IN prd_data_platform\")\n",
    "\n",
    "# Convert the Spark DataFrame to a Pandas DataFrame\n",
    "schemas_pd = schemas_df.toPandas()\n",
    "\n",
    "# Inspect the DataFrame to understand its structure\n",
    "# print(schemas_pd.head())\n",
    "\n",
    "# Create an empty list to store results\n",
    "results_v2 = []\n",
    "\n",
    "# Iterate through the shared schemas that exist and check for the existance of ANY tables.\n",
    "# If there are tables in the shared schema then we can assume (if standardized is completed) the Shared portion is completed.\n",
    "for index, row in schemas_pd.iterrows():\n",
    "    schema_name = row['databaseName'] \n",
    "    if 'shared' in schema_name:\n",
    "        tables_df = spark.sql(f\"SHOW TABLES IN prd_data_platform.{schema_name}\")\n",
    "        has_tables = tables_df.count() > 0\n",
    "\n",
    "        results_v2.append({\n",
    "            'Schema': schema_name,  \n",
    "            'Has Shared Tables': has_tables\n",
    "        })\n",
    "\n",
    "# Create a pandas dataframe with the results from the loop\n",
    "shared_status = pd.DataFrame(results_v2)\n",
    "# Create a copy of the dataframe to not mess with the original\n",
    "shared_status_copy = shared_status.copy()\n",
    "# Change the name to the \"base schema,\" that is without the __claims_shared portion\n",
    "# This is necessary to do a merge between all the tables (i.e., \"Base Schema\" is the primary key)\n",
    "shared_status_copy[\"Base Schema\"] = shared_status_copy['Schema'].str.split('__').str[0]\n",
    "# Change the table names and their format\n",
    "shared_status_copy = shared_status_copy[['Base Schema',\"Has Shared Tables\"]]\n",
    "\n",
    "print(\"Shared status copy made and cleaned\")\n",
    "\n",
    "##standardized_df_copy = standardized_df.copy()\n",
    "standardized_df_copy = std_crosswalk.copy()\n",
    "# Also need to change to \"Base Schema\" by removing everything after __\n",
    "standardized_df_copy[\"Base Schema\"] = standardized_df_copy['Schema'].str.split('__').str[0]\n",
    "# Change the table names and their format\n",
    "standardized_df_copy = standardized_df_copy[['Base Schema', 'Table Type Standardized','Account Linking Completed']]\n",
    "\n",
    "print(\"Standardized DF copy made and cleaned\")\n",
    "\n",
    "##display(shared_status_copy)\n",
    "# display(standardized_df_copy)"
   ]
  },
  {
   "cell_type": "code",
   "execution_count": 0,
   "metadata": {
    "application/vnd.databricks.v1+cell": {
     "cellMetadata": {
      "byteLimit": 2048000,
      "rowLimit": 10000
     },
     "inputWidgets": {},
     "nuid": "8189a2e9-d9ab-42f5-b566-57a51366d3e2",
     "showTitle": false,
     "title": ""
    }
   },
   "outputs": [
    {
     "output_type": "stream",
     "name": "stdout",
     "output_type": "stream",
     "text": [
      "Standardized schemas exist table created successfully\n"
     ]
    }
   ],
   "source": [
    "from pyspark.sql import SparkSession\n",
    "import pandas as pd\n",
    "import re\n",
    "\n",
    "# We want to verify if a trading partner has standardized schemas at all, separately from whether there are 837 or 835 tables within said schema\n",
    "# List all schemas in the catalog with spark\n",
    "schemas_std_df = spark.sql(\"SHOW SCHEMAS IN prd_data_platform\")\n",
    "\n",
    "# Convert the Spark DataFrame to a Pandas DataFrame\n",
    "schemas_std_pd = schemas_std_df.toPandas()\n",
    "\n",
    "# Create an empty list to store results\n",
    "results_v3 = []\n",
    "\n",
    "# Iterate through the shared schemas that exist and check for tables\n",
    "for index, row in schemas_std_pd.iterrows():\n",
    "    schema_name = row['databaseName'] \n",
    "    if 'standardized' in schema_name:\n",
    "        tables_df = spark.sql(f\"SHOW TABLES IN prd_data_platform.{schema_name}\")\n",
    "        has_tables = tables_df.count() > 0\n",
    "\n",
    "        results_v3.append({\n",
    "            'Schema Standard': schema_name,  \n",
    "            'Has Tables': has_tables\n",
    "        })\n",
    "\n",
    "standardized_exists = pd.DataFrame(results_v3)\n",
    "print(\"Standardized schemas exist table created successfully\")\n",
    "# display(standardized_exists)"
   ]
  },
  {
   "cell_type": "code",
   "execution_count": 0,
   "metadata": {
    "application/vnd.databricks.v1+cell": {
     "cellMetadata": {
      "byteLimit": 2048000,
      "rowLimit": 10000
     },
     "collapsed": true,
     "inputWidgets": {},
     "nuid": "5ffa0053-f91a-45c5-9870-f8bbaa23e517",
     "showTitle": false,
     "title": ""
    }
   },
   "outputs": [],
   "source": [
    "#display(standardized_exists)"
   ]
  },
  {
   "cell_type": "code",
   "execution_count": 0,
   "metadata": {
    "application/vnd.databricks.v1+cell": {
     "cellMetadata": {
      "byteLimit": 2048000,
      "rowLimit": 10000
     },
     "inputWidgets": {},
     "nuid": "0959ef40-1ccc-4b14-a6be-aa096ab77401",
     "showTitle": false,
     "title": ""
    }
   },
   "outputs": [
    {
     "output_type": "display_data",
     "data": {
      "text/html": [
       "<style scoped>\n",
       "  .table-result-container {\n",
       "    max-height: 300px;\n",
       "    overflow: auto;\n",
       "  }\n",
       "  table, th, td {\n",
       "    border: 1px solid black;\n",
       "    border-collapse: collapse;\n",
       "  }\n",
       "  th, td {\n",
       "    padding: 5px;\n",
       "  }\n",
       "  th {\n",
       "    text-align: left;\n",
       "  }\n",
       "</style><div class='table-result-container'><table class='table-result'><thead style='background-color: white'><tr><th>Trading Partner ID</th><th>Table Type Ingested</th><th>Standardized Completed</th><th>Shared Completed</th><th>Account Linking Completed</th></tr></thead><tbody><tr><td>adventist_health_tiaw</td><td>835</td><td>No Standardized schemas exist</td><td>No Shared schemas exist</td><td>False</td></tr><tr><td>alameda_health_system_ria5</td><td>835</td><td>No Standardized schemas exist</td><td>No Shared schemas exist</td><td>False</td></tr><tr><td>allina_health_siaw</td><td>835</td><td>Table 835 type does not exist - need to investigate</td><td>False</td><td>False</td></tr><tr><td>allina_health_siaw</td><td>837</td><td>True</td><td>True</td><td>False</td></tr><tr><td>ascension_health_riaw</td><td>835</td><td>True</td><td>True</td><td>False</td></tr><tr><td>ascension_health_riaw</td><td>837</td><td>True</td><td>True</td><td>False</td></tr><tr><td>aspirus_system_qiag</td><td>835</td><td>Table 835 type does not exist - need to investigate</td><td>False</td><td>False</td></tr><tr><td>aspirus_system_qiag</td><td>837</td><td>True</td><td>True</td><td>True</td></tr><tr><td>atrium_health_xiaw</td><td>835</td><td>No Standardized schemas exist</td><td>No Shared schemas exist</td><td>False</td></tr><tr><td>augusta_university_health_cia5</td><td>835</td><td>No Standardized schemas exist</td><td>No Shared schemas exist</td><td>False</td></tr><tr><td>augusta_university_health_cia5</td><td>837</td><td>No Standardized schemas exist</td><td>No Shared schemas exist</td><td>False</td></tr><tr><td>avera_health_qiag</td><td>835</td><td>Table 835 type does not exist - need to investigate</td><td>False</td><td>False</td></tr><tr><td>avera_health_qiag</td><td>837</td><td>True</td><td>True</td><td>True</td></tr><tr><td>banner_health_riag</td><td>835</td><td>Table 835 type does not exist - need to investigate</td><td>False</td><td>False</td></tr><tr><td>banner_health_riag</td><td>837</td><td>True</td><td>True</td><td>False</td></tr><tr><td>baptist_health_giaw</td><td>835</td><td>Table 835 type does not exist - need to investigate</td><td>False</td><td>False</td></tr><tr><td>baptist_health_giaw</td><td>837</td><td>True</td><td>True</td><td>True</td></tr><tr><td>baptist_health_mqac</td><td>835</td><td>No Standardized schemas exist</td><td>No Shared schemas exist</td><td>False</td></tr><tr><td>baylor_scott_white_health_uiag</td><td>837</td><td>True</td><td>True</td><td>True</td></tr><tr><td>beth_israel_lahey_health_dqag</td><td>835</td><td>No Standardized schemas exist</td><td>No Shared schemas exist</td><td>False</td></tr><tr><td>bjc_healthcare_diag</td><td>835</td><td>No Standardized schemas exist</td><td>False</td><td>False</td></tr><tr><td>blanchard_valley_health_system_nqat</td><td>835</td><td>Table 835 type does not exist - need to investigate</td><td>False</td><td>False</td></tr><tr><td>blanchard_valley_health_system_nqat</td><td>837</td><td>True</td><td>True</td><td>False</td></tr><tr><td>blount_memorial_hospital_ciah</td><td>835</td><td>No Standardized schemas exist</td><td>No Shared schemas exist</td><td>False</td></tr><tr><td>cambridge_health_alliance_somerville_hospital_campus_baa1</td><td>835</td><td>No Standardized schemas exist</td><td>No Shared schemas exist</td><td>False</td></tr><tr><td>centra_health_wiag</td><td>837</td><td>True</td><td>True</td><td>True</td></tr><tr><td>centracare_health_system_siag</td><td>835</td><td>No Standardized schemas exist</td><td>No Shared schemas exist</td><td>False</td></tr><tr><td>cha_hollywood_presbyterian_medical_center_oia5</td><td>835</td><td>No Standardized schemas exist</td><td>No Shared schemas exist</td><td>False</td></tr><tr><td>christus_health_diax</td><td>835</td><td>Table 835 type does not exist - need to investigate</td><td>False</td><td>False</td></tr><tr><td>christus_health_diax</td><td>837</td><td>True</td><td>True</td><td>False</td></tr><tr><td>city_of_hope_jaav</td><td>835</td><td>No Standardized schemas exist</td><td>No Shared schemas exist</td><td>False</td></tr><tr><td>commonspirit_health1_abcd</td><td>837</td><td>True</td><td>True</td><td>False</td></tr><tr><td>commonspirit_health_bqa0</td><td>835</td><td>Table 835 type does not exist - need to investigate</td><td>False</td><td>False</td></tr><tr><td>commonspirit_health_bqa0</td><td>837</td><td>True</td><td>True</td><td>True</td></tr><tr><td>community_hospital_of_the_monterey_peninsula_uia5</td><td>835</td><td>Table 835 type does not exist - need to investigate</td><td>False</td><td>False</td></tr><tr><td>community_hospital_of_the_monterey_peninsula_uia5</td><td>837</td><td>True</td><td>True</td><td>True</td></tr><tr><td>cooper_university_hospital_fiah</td><td>835</td><td>Table 835 type does not exist - need to investigate</td><td>False</td><td>False</td></tr><tr><td>cooper_university_hospital_fiah</td><td>837</td><td>True</td><td>True</td><td>True</td></tr><tr><td>coxhealth_xiaw</td><td>837</td><td>True</td><td>True</td><td>True</td></tr><tr><td>deaconess_health_system_piaw</td><td>835</td><td>Table 835 type does not exist - need to investigate</td><td>False</td><td>False</td></tr><tr><td>deaconess_health_system_piaw</td><td>837</td><td>Table 837 type does not exist - need to investigate</td><td>False</td><td>False</td></tr><tr><td>duke_health_xiaw</td><td>835</td><td>Table 835 type does not exist - need to investigate</td><td>False</td><td>False</td></tr><tr><td>duke_health_xiaw</td><td>837</td><td>True</td><td>True</td><td>True</td></tr><tr><td>emory_healthcare_fiaw</td><td>835</td><td>True</td><td>True</td><td>True</td></tr><tr><td>emory_healthcare_fiaw</td><td>837</td><td>True</td><td>True</td><td>True</td></tr><tr><td>englewood_hospital_and_medical_center_viax</td><td>835</td><td>No Standardized schemas exist</td><td>No Shared schemas exist</td><td>False</td></tr><tr><td>garnet_health_oiaw</td><td>837</td><td>True</td><td>True</td><td>True</td></tr><tr><td>hartford_healthcare_yia3</td><td>835</td><td>No Standardized schemas exist</td><td>No Shared schemas exist</td><td>False</td></tr><tr><td>huntsville_hospital_health_system_ciaw</td><td>837</td><td>No Standardized schemas exist</td><td>No Shared schemas exist</td><td>False</td></tr><tr><td>inova_wiag</td><td>835</td><td>No Standardized schemas exist</td><td>No Shared schemas exist</td><td>False</td></tr><tr><td>intermountain_healthcare_tiag</td><td>835</td><td>True</td><td>True</td><td>False</td></tr><tr><td>intermountain_healthcare_tiag</td><td>837</td><td>True</td><td>True</td><td>False</td></tr><tr><td>lifepoint_health_6iag</td><td>835</td><td>True</td><td>True</td><td>False</td></tr><tr><td>lifepoint_health_6iag</td><td>837</td><td>True</td><td>True</td><td>False</td></tr><tr><td>loma_linda_university_health_9iag</td><td>835</td><td>True</td><td>True</td><td>True</td></tr><tr><td>loma_linda_university_health_9iag</td><td>837</td><td>True</td><td>True</td><td>True</td></tr><tr><td>main_line_health_diaw</td><td>835</td><td>No Standardized schemas exist</td><td>No Shared schemas exist</td><td>False</td></tr><tr><td>mainegeneral_health_sqad</td><td>835</td><td>Table 835 type does not exist - need to investigate</td><td>False</td><td>False</td></tr><tr><td>mainegeneral_health_sqad</td><td>837</td><td>True</td><td>True</td><td>True</td></tr><tr><td>mainehealth_iqas</td><td>835</td><td>No Standardized schemas exist</td><td>No Shared schemas exist</td><td>False</td></tr><tr><td>mclaren_health_care_corporation_9iag</td><td>835</td><td>True</td><td>True</td><td>True</td></tr><tr><td>mclaren_health_care_corporation_9iag</td><td>837</td><td>True</td><td>True</td><td>True</td></tr><tr><td>medstar_health_diag</td><td>835</td><td>No Standardized schemas exist</td><td>No Shared schemas exist</td><td>False</td></tr><tr><td>memorialcare_health_system_tiaw</td><td>835</td><td>No Standardized schemas exist</td><td>No Shared schemas exist</td><td>False</td></tr><tr><td>mercy_9qal</td><td>837</td><td>True</td><td>True</td><td>True</td></tr><tr><td>montefiore_health_system_xiag</td><td>835</td><td>Table 835 type does not exist - need to investigate</td><td>False</td><td>False</td></tr><tr><td>montefiore_health_system_xiag</td><td>837</td><td>True</td><td>True</td><td>True</td></tr><tr><td>multicare_health_system_liaw</td><td>835</td><td>No Standardized schemas exist</td><td>No Shared schemas exist</td><td>False</td></tr><tr><td>norman_regional_health_system_aiag</td><td>835</td><td>No Standardized schemas exist</td><td>No Shared schemas exist</td><td>False</td></tr><tr><td>nuvance_health_cqam</td><td>835</td><td>Table 835 type does not exist - need to investigate</td><td>False</td><td>False</td></tr><tr><td>nuvance_health_cqam</td><td>837</td><td>True</td><td>True</td><td>False</td></tr><tr><td>nyu_langone_health_miah</td><td>835</td><td>No Standardized schemas exist</td><td>No Shared schemas exist</td><td>False</td></tr><tr><td>ohsu_partners_miah</td><td>835</td><td>Table 835 type does not exist - need to investigate</td><td>False</td><td>False</td></tr><tr><td>ohsu_partners_miah</td><td>837</td><td>True</td><td>True</td><td>True</td></tr><tr><td>oneida_health_hospital_0iap</td><td>835</td><td>No Standardized schemas exist</td><td>No Shared schemas exist</td><td>False</td></tr><tr><td>oneida_health_hospital_0iap</td><td>837</td><td>No Standardized schemas exist</td><td>No Shared schemas exist</td><td>False</td></tr><tr><td>orlando_health_wiaw</td><td>835</td><td>No Standardized schemas exist</td><td>No Shared schemas exist</td><td>False</td></tr><tr><td>parkland_health_and_hospital_system_uiah</td><td>835</td><td>No Standardized schemas exist</td><td>No Shared schemas exist</td><td>False</td></tr><tr><td>penn_state_health_3iag</td><td>835</td><td>No Standardized schemas exist</td><td>No Shared schemas exist</td><td>False</td></tr><tr><td>pih_health_vqat</td><td>835</td><td>Table 835 type does not exist - need to investigate</td><td>False</td><td>False</td></tr><tr><td>pih_health_vqat</td><td>837</td><td>True</td><td>True</td><td>False</td></tr><tr><td>pipeline_health_llc_kqau</td><td>835</td><td>No Standardized schemas exist</td><td>No Shared schemas exist</td><td>False</td></tr><tr><td>premier_inc</td><td>837</td><td>No Standardized schemas exist</td><td>No Shared schemas exist</td><td>False</td></tr><tr><td>presbyterian_healthcare_services_3iag</td><td>835</td><td>No Standardized schemas exist</td><td>No Shared schemas exist</td><td>False</td></tr><tr><td>providence_st_joseph_health_viaw</td><td>835</td><td>True</td><td>True</td><td>True</td></tr><tr><td>providence_st_joseph_health_viaw</td><td>837</td><td>True</td><td>True</td><td>True</td></tr><tr><td>quorum_health_corporation_qqaz</td><td>835</td><td>No Standardized schemas exist</td><td>No Shared schemas exist</td><td>False</td></tr><tr><td>quorum_health_corporation_qqaz</td><td>837</td><td>No Standardized schemas exist</td><td>No Shared schemas exist</td><td>False</td></tr><tr><td>r1_insights</td><td>837</td><td>No Standardized schemas exist</td><td>No Shared schemas exist</td><td>False</td></tr><tr><td>r1_tran</td><td>835</td><td>No Standardized schemas exist</td><td>No Shared schemas exist</td><td>False</td></tr><tr><td>ridgeview_medical_center_health_system_tqal</td><td>837</td><td>True</td><td>True</td><td>False</td></tr><tr><td>riverside_health_system_liag</td><td>835</td><td>No Standardized schemas exist</td><td>No Shared schemas exist</td><td>False</td></tr><tr><td>rush_university_system_for_health_iqa1</td><td>835</td><td>No Standardized schemas exist</td><td>No Shared schemas exist</td><td>False</td></tr><tr><td>rwjbarnabas_health_3iak</td><td>835</td><td>Table 835 type does not exist - need to investigate</td><td>False</td><td>False</td></tr><tr><td>rwjbarnabas_health_3iak</td><td>837</td><td>True</td><td>True</td><td>False</td></tr><tr><td>scl_health_siaw</td><td>837</td><td>True</td><td>True</td><td>True</td></tr><tr><td>seattle_cancer_care_alliance_miax</td><td>835</td><td>True</td><td>True</td><td>True</td></tr><tr><td>seattle_childrens_hospital_riax</td><td>835</td><td>No Standardized schemas exist</td><td>No Shared schemas exist</td><td>False</td></tr><tr><td>sinai_health_system_2iag</td><td>835</td><td>No Standardized schemas exist</td><td>No Shared schemas exist</td><td>False</td></tr><tr><td>st_lukes_health_system_5qad</td><td>835</td><td>Table 835 type does not exist - need to investigate</td><td>False</td><td>False</td></tr><tr><td>st_lukes_hospital_health_system_7qad</td><td>837</td><td>True</td><td>True</td><td>True</td></tr><tr><td>steward_health_care_system_niag</td><td>835</td><td>No Standardized schemas exist</td><td>No Shared schemas exist</td><td>False</td></tr><tr><td>sutter_health_wiaw</td><td>835</td><td>No Standardized schemas exist</td><td>No Shared schemas exist</td><td>False</td></tr><tr><td>sutter_health_wiaw</td><td>837</td><td>No Standardized schemas exist</td><td>No Shared schemas exist</td><td>False</td></tr><tr><td>tampa_general_hospital_biap</td><td>835</td><td>Table 835 type does not exist - need to investigate</td><td>False</td><td>False</td></tr><tr><td>tampa_general_hospital_biap</td><td>837</td><td>True</td><td>True</td><td>True</td></tr><tr><td>texas_childrens_hospital_wqal</td><td>835</td><td>Table 835 type does not exist - need to investigate</td><td>False</td><td>False</td></tr><tr><td>texas_childrens_hospital_wqal</td><td>837</td><td>True</td><td>True</td><td>True</td></tr><tr><td>trinity_health_uiaw</td><td>835</td><td>Table 835 type does not exist - need to investigate</td><td>False</td><td>False</td></tr><tr><td>uchicago_medicine_piaw</td><td>835</td><td>Table 835 type does not exist - need to investigate</td><td>False</td><td>False</td></tr><tr><td>uchicago_medicine_piaw</td><td>837</td><td>True</td><td>True</td><td>True</td></tr><tr><td>umc_health_system_lqa1</td><td>835</td><td>No Standardized schemas exist</td><td>No Shared schemas exist</td><td>False</td></tr><tr><td>unitypoint_health_kiag</td><td>837</td><td>True</td><td>True</td><td>True</td></tr><tr><td>university_of_arkansas_for_medical_sciences_medical_center_tiap</td><td>835</td><td>Table 835 type does not exist - need to investigate</td><td>False</td><td>False</td></tr><tr><td>university_of_arkansas_for_medical_sciences_medical_center_tiap</td><td>837</td><td>True</td><td>True</td><td>True</td></tr><tr><td>university_of_california_health_oqa0</td><td>835</td><td>No Standardized schemas exist</td><td>False</td><td>False</td></tr><tr><td>university_of_maryland_medical_system_jiag</td><td>835</td><td>True</td><td>True</td><td>True</td></tr><tr><td>university_of_pittsburgh_medical_center_yiag</td><td>835</td><td>No Standardized schemas exist</td><td>No Shared schemas exist</td><td>False</td></tr><tr><td>university_of_texas_system_niag</td><td>835</td><td>Table 835 type does not exist - need to investigate</td><td>False</td><td>False</td></tr><tr><td>university_of_texas_system_niag</td><td>837</td><td>True</td><td>True</td><td>True</td></tr><tr><td>uw_medicine_siai</td><td>835</td><td>No Standardized schemas exist</td><td>No Shared schemas exist</td><td>False</td></tr><tr><td>vanderbilt_health_iiaw</td><td>835</td><td>Table 835 type does not exist - need to investigate</td><td>False</td><td>False</td></tr><tr><td>vanderbilt_health_iiaw</td><td>837</td><td>True</td><td>True</td><td>True</td></tr><tr><td>virtua_health_tiaw</td><td>837</td><td>No Standardized schemas exist</td><td>No Shared schemas exist</td><td>False</td></tr><tr><td>yale_new_haven_health_system_giag</td><td>835</td><td>True</td><td>True</td><td>True</td></tr><tr><td>yale_new_haven_health_system_giag</td><td>837</td><td>True</td><td>True</td><td>True</td></tr></tbody></table></div>"
      ]
     },
     "metadata": {
      "application/vnd.databricks.v1+output": {
       "addedWidgets": {},
       "aggData": [],
       "aggError": "",
       "aggOverflow": false,
       "aggSchema": [],
       "aggSeriesLimitReached": false,
       "aggType": "",
       "arguments": {},
       "columnCustomDisplayInfos": {},
       "data": [
        [
         "adventist_health_tiaw",
         "835",
         "No Standardized schemas exist",
         "No Shared schemas exist",
         "False"
        ],
        [
         "alameda_health_system_ria5",
         "835",
         "No Standardized schemas exist",
         "No Shared schemas exist",
         "False"
        ],
        [
         "allina_health_siaw",
         "835",
         "Table 835 type does not exist - need to investigate",
         "False",
         "False"
        ],
        [
         "allina_health_siaw",
         "837",
         "True",
         "True",
         "False"
        ],
        [
         "ascension_health_riaw",
         "835",
         "True",
         "True",
         "False"
        ],
        [
         "ascension_health_riaw",
         "837",
         "True",
         "True",
         "False"
        ],
        [
         "aspirus_system_qiag",
         "835",
         "Table 835 type does not exist - need to investigate",
         "False",
         "False"
        ],
        [
         "aspirus_system_qiag",
         "837",
         "True",
         "True",
         "True"
        ],
        [
         "atrium_health_xiaw",
         "835",
         "No Standardized schemas exist",
         "No Shared schemas exist",
         "False"
        ],
        [
         "augusta_university_health_cia5",
         "835",
         "No Standardized schemas exist",
         "No Shared schemas exist",
         "False"
        ],
        [
         "augusta_university_health_cia5",
         "837",
         "No Standardized schemas exist",
         "No Shared schemas exist",
         "False"
        ],
        [
         "avera_health_qiag",
         "835",
         "Table 835 type does not exist - need to investigate",
         "False",
         "False"
        ],
        [
         "avera_health_qiag",
         "837",
         "True",
         "True",
         "True"
        ],
        [
         "banner_health_riag",
         "835",
         "Table 835 type does not exist - need to investigate",
         "False",
         "False"
        ],
        [
         "banner_health_riag",
         "837",
         "True",
         "True",
         "False"
        ],
        [
         "baptist_health_giaw",
         "835",
         "Table 835 type does not exist - need to investigate",
         "False",
         "False"
        ],
        [
         "baptist_health_giaw",
         "837",
         "True",
         "True",
         "True"
        ],
        [
         "baptist_health_mqac",
         "835",
         "No Standardized schemas exist",
         "No Shared schemas exist",
         "False"
        ],
        [
         "baylor_scott_white_health_uiag",
         "837",
         "True",
         "True",
         "True"
        ],
        [
         "beth_israel_lahey_health_dqag",
         "835",
         "No Standardized schemas exist",
         "No Shared schemas exist",
         "False"
        ],
        [
         "bjc_healthcare_diag",
         "835",
         "No Standardized schemas exist",
         "False",
         "False"
        ],
        [
         "blanchard_valley_health_system_nqat",
         "835",
         "Table 835 type does not exist - need to investigate",
         "False",
         "False"
        ],
        [
         "blanchard_valley_health_system_nqat",
         "837",
         "True",
         "True",
         "False"
        ],
        [
         "blount_memorial_hospital_ciah",
         "835",
         "No Standardized schemas exist",
         "No Shared schemas exist",
         "False"
        ],
        [
         "cambridge_health_alliance_somerville_hospital_campus_baa1",
         "835",
         "No Standardized schemas exist",
         "No Shared schemas exist",
         "False"
        ],
        [
         "centra_health_wiag",
         "837",
         "True",
         "True",
         "True"
        ],
        [
         "centracare_health_system_siag",
         "835",
         "No Standardized schemas exist",
         "No Shared schemas exist",
         "False"
        ],
        [
         "cha_hollywood_presbyterian_medical_center_oia5",
         "835",
         "No Standardized schemas exist",
         "No Shared schemas exist",
         "False"
        ],
        [
         "christus_health_diax",
         "835",
         "Table 835 type does not exist - need to investigate",
         "False",
         "False"
        ],
        [
         "christus_health_diax",
         "837",
         "True",
         "True",
         "False"
        ],
        [
         "city_of_hope_jaav",
         "835",
         "No Standardized schemas exist",
         "No Shared schemas exist",
         "False"
        ],
        [
         "commonspirit_health1_abcd",
         "837",
         "True",
         "True",
         "False"
        ],
        [
         "commonspirit_health_bqa0",
         "835",
         "Table 835 type does not exist - need to investigate",
         "False",
         "False"
        ],
        [
         "commonspirit_health_bqa0",
         "837",
         "True",
         "True",
         "True"
        ],
        [
         "community_hospital_of_the_monterey_peninsula_uia5",
         "835",
         "Table 835 type does not exist - need to investigate",
         "False",
         "False"
        ],
        [
         "community_hospital_of_the_monterey_peninsula_uia5",
         "837",
         "True",
         "True",
         "True"
        ],
        [
         "cooper_university_hospital_fiah",
         "835",
         "Table 835 type does not exist - need to investigate",
         "False",
         "False"
        ],
        [
         "cooper_university_hospital_fiah",
         "837",
         "True",
         "True",
         "True"
        ],
        [
         "coxhealth_xiaw",
         "837",
         "True",
         "True",
         "True"
        ],
        [
         "deaconess_health_system_piaw",
         "835",
         "Table 835 type does not exist - need to investigate",
         "False",
         "False"
        ],
        [
         "deaconess_health_system_piaw",
         "837",
         "Table 837 type does not exist - need to investigate",
         "False",
         "False"
        ],
        [
         "duke_health_xiaw",
         "835",
         "Table 835 type does not exist - need to investigate",
         "False",
         "False"
        ],
        [
         "duke_health_xiaw",
         "837",
         "True",
         "True",
         "True"
        ],
        [
         "emory_healthcare_fiaw",
         "835",
         "True",
         "True",
         "True"
        ],
        [
         "emory_healthcare_fiaw",
         "837",
         "True",
         "True",
         "True"
        ],
        [
         "englewood_hospital_and_medical_center_viax",
         "835",
         "No Standardized schemas exist",
         "No Shared schemas exist",
         "False"
        ],
        [
         "garnet_health_oiaw",
         "837",
         "True",
         "True",
         "True"
        ],
        [
         "hartford_healthcare_yia3",
         "835",
         "No Standardized schemas exist",
         "No Shared schemas exist",
         "False"
        ],
        [
         "huntsville_hospital_health_system_ciaw",
         "837",
         "No Standardized schemas exist",
         "No Shared schemas exist",
         "False"
        ],
        [
         "inova_wiag",
         "835",
         "No Standardized schemas exist",
         "No Shared schemas exist",
         "False"
        ],
        [
         "intermountain_healthcare_tiag",
         "835",
         "True",
         "True",
         "False"
        ],
        [
         "intermountain_healthcare_tiag",
         "837",
         "True",
         "True",
         "False"
        ],
        [
         "lifepoint_health_6iag",
         "835",
         "True",
         "True",
         "False"
        ],
        [
         "lifepoint_health_6iag",
         "837",
         "True",
         "True",
         "False"
        ],
        [
         "loma_linda_university_health_9iag",
         "835",
         "True",
         "True",
         "True"
        ],
        [
         "loma_linda_university_health_9iag",
         "837",
         "True",
         "True",
         "True"
        ],
        [
         "main_line_health_diaw",
         "835",
         "No Standardized schemas exist",
         "No Shared schemas exist",
         "False"
        ],
        [
         "mainegeneral_health_sqad",
         "835",
         "Table 835 type does not exist - need to investigate",
         "False",
         "False"
        ],
        [
         "mainegeneral_health_sqad",
         "837",
         "True",
         "True",
         "True"
        ],
        [
         "mainehealth_iqas",
         "835",
         "No Standardized schemas exist",
         "No Shared schemas exist",
         "False"
        ],
        [
         "mclaren_health_care_corporation_9iag",
         "835",
         "True",
         "True",
         "True"
        ],
        [
         "mclaren_health_care_corporation_9iag",
         "837",
         "True",
         "True",
         "True"
        ],
        [
         "medstar_health_diag",
         "835",
         "No Standardized schemas exist",
         "No Shared schemas exist",
         "False"
        ],
        [
         "memorialcare_health_system_tiaw",
         "835",
         "No Standardized schemas exist",
         "No Shared schemas exist",
         "False"
        ],
        [
         "mercy_9qal",
         "837",
         "True",
         "True",
         "True"
        ],
        [
         "montefiore_health_system_xiag",
         "835",
         "Table 835 type does not exist - need to investigate",
         "False",
         "False"
        ],
        [
         "montefiore_health_system_xiag",
         "837",
         "True",
         "True",
         "True"
        ],
        [
         "multicare_health_system_liaw",
         "835",
         "No Standardized schemas exist",
         "No Shared schemas exist",
         "False"
        ],
        [
         "norman_regional_health_system_aiag",
         "835",
         "No Standardized schemas exist",
         "No Shared schemas exist",
         "False"
        ],
        [
         "nuvance_health_cqam",
         "835",
         "Table 835 type does not exist - need to investigate",
         "False",
         "False"
        ],
        [
         "nuvance_health_cqam",
         "837",
         "True",
         "True",
         "False"
        ],
        [
         "nyu_langone_health_miah",
         "835",
         "No Standardized schemas exist",
         "No Shared schemas exist",
         "False"
        ],
        [
         "ohsu_partners_miah",
         "835",
         "Table 835 type does not exist - need to investigate",
         "False",
         "False"
        ],
        [
         "ohsu_partners_miah",
         "837",
         "True",
         "True",
         "True"
        ],
        [
         "oneida_health_hospital_0iap",
         "835",
         "No Standardized schemas exist",
         "No Shared schemas exist",
         "False"
        ],
        [
         "oneida_health_hospital_0iap",
         "837",
         "No Standardized schemas exist",
         "No Shared schemas exist",
         "False"
        ],
        [
         "orlando_health_wiaw",
         "835",
         "No Standardized schemas exist",
         "No Shared schemas exist",
         "False"
        ],
        [
         "parkland_health_and_hospital_system_uiah",
         "835",
         "No Standardized schemas exist",
         "No Shared schemas exist",
         "False"
        ],
        [
         "penn_state_health_3iag",
         "835",
         "No Standardized schemas exist",
         "No Shared schemas exist",
         "False"
        ],
        [
         "pih_health_vqat",
         "835",
         "Table 835 type does not exist - need to investigate",
         "False",
         "False"
        ],
        [
         "pih_health_vqat",
         "837",
         "True",
         "True",
         "False"
        ],
        [
         "pipeline_health_llc_kqau",
         "835",
         "No Standardized schemas exist",
         "No Shared schemas exist",
         "False"
        ],
        [
         "premier_inc",
         "837",
         "No Standardized schemas exist",
         "No Shared schemas exist",
         "False"
        ],
        [
         "presbyterian_healthcare_services_3iag",
         "835",
         "No Standardized schemas exist",
         "No Shared schemas exist",
         "False"
        ],
        [
         "providence_st_joseph_health_viaw",
         "835",
         "True",
         "True",
         "True"
        ],
        [
         "providence_st_joseph_health_viaw",
         "837",
         "True",
         "True",
         "True"
        ],
        [
         "quorum_health_corporation_qqaz",
         "835",
         "No Standardized schemas exist",
         "No Shared schemas exist",
         "False"
        ],
        [
         "quorum_health_corporation_qqaz",
         "837",
         "No Standardized schemas exist",
         "No Shared schemas exist",
         "False"
        ],
        [
         "r1_insights",
         "837",
         "No Standardized schemas exist",
         "No Shared schemas exist",
         "False"
        ],
        [
         "r1_tran",
         "835",
         "No Standardized schemas exist",
         "No Shared schemas exist",
         "False"
        ],
        [
         "ridgeview_medical_center_health_system_tqal",
         "837",
         "True",
         "True",
         "False"
        ],
        [
         "riverside_health_system_liag",
         "835",
         "No Standardized schemas exist",
         "No Shared schemas exist",
         "False"
        ],
        [
         "rush_university_system_for_health_iqa1",
         "835",
         "No Standardized schemas exist",
         "No Shared schemas exist",
         "False"
        ],
        [
         "rwjbarnabas_health_3iak",
         "835",
         "Table 835 type does not exist - need to investigate",
         "False",
         "False"
        ],
        [
         "rwjbarnabas_health_3iak",
         "837",
         "True",
         "True",
         "False"
        ],
        [
         "scl_health_siaw",
         "837",
         "True",
         "True",
         "True"
        ],
        [
         "seattle_cancer_care_alliance_miax",
         "835",
         "True",
         "True",
         "True"
        ],
        [
         "seattle_childrens_hospital_riax",
         "835",
         "No Standardized schemas exist",
         "No Shared schemas exist",
         "False"
        ],
        [
         "sinai_health_system_2iag",
         "835",
         "No Standardized schemas exist",
         "No Shared schemas exist",
         "False"
        ],
        [
         "st_lukes_health_system_5qad",
         "835",
         "Table 835 type does not exist - need to investigate",
         "False",
         "False"
        ],
        [
         "st_lukes_hospital_health_system_7qad",
         "837",
         "True",
         "True",
         "True"
        ],
        [
         "steward_health_care_system_niag",
         "835",
         "No Standardized schemas exist",
         "No Shared schemas exist",
         "False"
        ],
        [
         "sutter_health_wiaw",
         "835",
         "No Standardized schemas exist",
         "No Shared schemas exist",
         "False"
        ],
        [
         "sutter_health_wiaw",
         "837",
         "No Standardized schemas exist",
         "No Shared schemas exist",
         "False"
        ],
        [
         "tampa_general_hospital_biap",
         "835",
         "Table 835 type does not exist - need to investigate",
         "False",
         "False"
        ],
        [
         "tampa_general_hospital_biap",
         "837",
         "True",
         "True",
         "True"
        ],
        [
         "texas_childrens_hospital_wqal",
         "835",
         "Table 835 type does not exist - need to investigate",
         "False",
         "False"
        ],
        [
         "texas_childrens_hospital_wqal",
         "837",
         "True",
         "True",
         "True"
        ],
        [
         "trinity_health_uiaw",
         "835",
         "Table 835 type does not exist - need to investigate",
         "False",
         "False"
        ],
        [
         "uchicago_medicine_piaw",
         "835",
         "Table 835 type does not exist - need to investigate",
         "False",
         "False"
        ],
        [
         "uchicago_medicine_piaw",
         "837",
         "True",
         "True",
         "True"
        ],
        [
         "umc_health_system_lqa1",
         "835",
         "No Standardized schemas exist",
         "No Shared schemas exist",
         "False"
        ],
        [
         "unitypoint_health_kiag",
         "837",
         "True",
         "True",
         "True"
        ],
        [
         "university_of_arkansas_for_medical_sciences_medical_center_tiap",
         "835",
         "Table 835 type does not exist - need to investigate",
         "False",
         "False"
        ],
        [
         "university_of_arkansas_for_medical_sciences_medical_center_tiap",
         "837",
         "True",
         "True",
         "True"
        ],
        [
         "university_of_california_health_oqa0",
         "835",
         "No Standardized schemas exist",
         "False",
         "False"
        ],
        [
         "university_of_maryland_medical_system_jiag",
         "835",
         "True",
         "True",
         "True"
        ],
        [
         "university_of_pittsburgh_medical_center_yiag",
         "835",
         "No Standardized schemas exist",
         "No Shared schemas exist",
         "False"
        ],
        [
         "university_of_texas_system_niag",
         "835",
         "Table 835 type does not exist - need to investigate",
         "False",
         "False"
        ],
        [
         "university_of_texas_system_niag",
         "837",
         "True",
         "True",
         "True"
        ],
        [
         "uw_medicine_siai",
         "835",
         "No Standardized schemas exist",
         "No Shared schemas exist",
         "False"
        ],
        [
         "vanderbilt_health_iiaw",
         "835",
         "Table 835 type does not exist - need to investigate",
         "False",
         "False"
        ],
        [
         "vanderbilt_health_iiaw",
         "837",
         "True",
         "True",
         "True"
        ],
        [
         "virtua_health_tiaw",
         "837",
         "No Standardized schemas exist",
         "No Shared schemas exist",
         "False"
        ],
        [
         "yale_new_haven_health_system_giag",
         "835",
         "True",
         "True",
         "True"
        ],
        [
         "yale_new_haven_health_system_giag",
         "837",
         "True",
         "True",
         "True"
        ]
       ],
       "datasetInfos": [],
       "dbfsResultPath": null,
       "isJsonSchema": true,
       "metadata": {},
       "overflow": false,
       "plotOptions": {
        "customPlotOptions": {},
        "displayType": "table",
        "pivotAggregation": null,
        "pivotColumns": null,
        "xColumns": null,
        "yColumns": null
       },
       "removedWidgets": [],
       "schema": [
        {
         "metadata": "{}",
         "name": "Trading Partner ID",
         "type": "\"string\""
        },
        {
         "metadata": "{}",
         "name": "Table Type Ingested",
         "type": "\"string\""
        },
        {
         "metadata": "{}",
         "name": "Standardized Completed",
         "type": "\"string\""
        },
        {
         "metadata": "{}",
         "name": "Shared Completed",
         "type": "\"string\""
        },
        {
         "metadata": "{}",
         "name": "Account Linking Completed",
         "type": "\"string\""
        }
       ],
       "type": "table"
      }
     },
     "output_type": "display_data"
    },
    {
     "output_type": "display_data",
     "data": {
      "text/plain": [
       "Databricks visualization. Run in Databricks to view."
      ]
     },
     "metadata": {
      "application/vnd.databricks.v1.subcommand+json": {
       "baseErrorDetails": null,
       "bindings": {},
       "collapsed": false,
       "command": "%python\n__backend_agg_display_orig = display\n__backend_agg_dfs = []\ndef __backend_agg_display_new(df):\n    __backend_agg_df_modules = [\"pandas.core.frame\", \"databricks.koalas.frame\", \"pyspark.sql.dataframe\", \"pyspark.pandas.frame\", \"pyspark.sql.connect.dataframe\"]\n    if (type(df).__module__ in __backend_agg_df_modules and type(df).__name__ == 'DataFrame') or isinstance(df, list):\n        __backend_agg_dfs.append(df)\n\ndisplay = __backend_agg_display_new\n\ndef __backend_agg_user_code_fn():\n    import base64\n    exec(base64.standard_b64decode(\"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\").decode())\n\ntry:\n    # run user code\n    __backend_agg_user_code_fn()\n\n    #reset display function\n    display = __backend_agg_display_orig\n\n    if len(__backend_agg_dfs) > 0:\n        # create a temp view\n        if type(__backend_agg_dfs[0]).__module__ == \"databricks.koalas.frame\":\n            # koalas dataframe\n            __backend_agg_dfs[0].to_spark().createOrReplaceTempView(\"DatabricksView447ad52\")\n        elif type(__backend_agg_dfs[0]).__module__ == \"pandas.core.frame\" or isinstance(__backend_agg_dfs[0], list):\n            # pandas dataframe\n            spark.createDataFrame(__backend_agg_dfs[0]).createOrReplaceTempView(\"DatabricksView447ad52\")\n        else:\n            __backend_agg_dfs[0].createOrReplaceTempView(\"DatabricksView447ad52\")\n        #run backend agg\n        display(spark.sql(\"\"\"WITH q AS (select * from DatabricksView447ad52) SELECT `Table Type Ingested`,`Trading Partner ID` FROM q GROUP BY `Table Type Ingested`,`Trading Partner ID`\"\"\"))\n    else:\n        displayHTML(\"dataframe no longer exists. If you're using dataframe.display(), use display(dataframe) instead.\")\n\n\nfinally:\n    spark.sql(\"drop view if exists DatabricksView447ad52\")\n    display = __backend_agg_display_orig\n    del __backend_agg_display_new\n    del __backend_agg_display_orig\n    del __backend_agg_dfs\n    del __backend_agg_user_code_fn\n\n",
       "commandTitle": "Percentage of ingested tab;e",
       "commandType": "auto",
       "commandVersion": 0,
       "commentThread": [],
       "commentsVisible": false,
       "contentSha256Hex": null,
       "customPlotOptions": {
        "redashChart": [
         {
          "key": "type",
          "value": "CHART"
         },
         {
          "key": "options",
          "value": {
           "alignYAxesAtZero": true,
           "coefficient": 1,
           "columnConfigurationMap": {
            "series": {
             "column": "Trading Partner ID",
             "id": "column_ff02669617"
            },
            "x": {
             "column": "Table Type Ingested",
             "id": "column_ff02669616"
            }
           },
           "dateTimeFormat": "DD/MM/YYYY HH:mm",
           "direction": {
            "type": "counterclockwise"
           },
           "error_y": {
            "type": "data",
            "visible": true
           },
           "globalSeriesType": "column",
           "isAggregationOn": true,
           "legend": {
            "traceorder": "normal"
           },
           "missingValuesAsZero": true,
           "numBins": 10,
           "numberFormat": "0,0.[00000]",
           "percentFormat": "0[.]00%",
           "series": {
            "error_y": {
             "type": "data",
             "visible": true
            },
            "stacking": null
           },
           "seriesOptions": {
            "column_ff0266963": {
             "type": "column",
             "yAxis": 0
            }
           },
           "showDataLabels": false,
           "sizemode": "diameter",
           "sortX": true,
           "sortY": true,
           "swappedAxes": false,
           "textFormat": "",
           "useAggregationsUi": true,
           "valuesOptions": {},
           "version": 2,
           "xAxis": {
            "labels": {
             "enabled": true
            },
            "type": "-"
           },
           "yAxis": [
            {
             "type": "-"
            },
            {
             "opposite": true,
             "type": "-"
            }
           ]
          }
         }
        ]
       },
       "datasetPreviewNameToCmdIdMap": {},
       "diffDeletes": [],
       "diffInserts": [],
       "displayType": "redashChart",
       "error": null,
       "errorDetails": null,
       "errorSummary": null,
       "errorTraceType": null,
       "finishTime": 0,
       "globalVars": {},
       "guid": "",
       "height": "auto",
       "hideCommandCode": false,
       "hideCommandResult": false,
       "iPythonMetadata": null,
       "inputWidgets": {},
       "isLockedInExamMode": false,
       "latestUser": "a user",
       "latestUserId": null,
       "listResultMetadata": null,
       "metadata": {
        "byteLimit": 2048000,
        "rowLimit": 10000
       },
       "nuid": "9df346e1-6a6d-4727-94f1-94f4c3fe260c",
       "origId": 0,
       "parentHierarchy": [],
       "pivotAggregation": null,
       "pivotColumns": null,
       "position": 11.875,
       "resultDbfsErrorMessage": null,
       "resultDbfsStatus": "INLINED_IN_TREE",
       "results": null,
       "showCommandTitle": false,
       "startTime": 0,
       "state": "finished",
       "streamStates": {},
       "subcommandOptions": {
        "queryPlan": {
         "groups": [
          {
           "column": "Table Type Ingested",
           "type": "column"
          },
          {
           "column": "Trading Partner ID",
           "type": "column"
          }
         ],
         "selects": [
          {
           "column": "Table Type Ingested",
           "type": "column"
          },
          {
           "column": "Trading Partner ID",
           "type": "column"
          }
         ]
        }
       },
       "submitTime": 0,
       "subtype": "tableResultSubCmd.visualization",
       "tableResultIndex": 0,
       "useConsistentColors": false,
       "version": "CommandV1",
       "width": "auto",
       "workflows": [],
       "xColumns": null,
       "yColumns": null
      }
     },
     "output_type": "display_data"
    }
   ],
   "source": [
    "import pandas as pd\n",
    "\n",
    "# Incoming chonky boi cell\n",
    "# Ensure 'Account Linking Completed' is of string type in standardized_df_copy - this is necessary to be able to format the table nicely\n",
    "# if it is a boolean (as it currently is prior to this change) then it will be lowercase and will not respond to str commands\n",
    "standardized_df_copy['Account Linking Completed'] = standardized_df_copy['Account Linking Completed'].astype(str)\n",
    "\n",
    "# Merge dataframes\n",
    "# If a base schema does not exist in the shared or standardized schema tables then it will read \"null\"\n",
    "result_df = (\n",
    "    ingested_df\n",
    "    .merge(shared_status_copy, on='Base Schema', how='left')\n",
    "    .merge(standardized_df_copy, on='Base Schema', how='left')\n",
    ")\n",
    "\n",
    "# display(result_df)\n",
    "\n",
    "# Apply fillna after merging to avoid type inconsistencies. This changes the `null` entries to read 'N/A'\n",
    "result_df.fillna('N/A', inplace=True)\n",
    "\n",
    "# Replace 'N/A' in specific columns \n",
    "result_df['Table Type Standardized'] = result_df['Table Type Standardized'].replace('N/A', 'No Standardized schemas exist')\n",
    "result_df['Has Shared Tables'] = result_df['Has Shared Tables'].replace('N/A', 'No Shared schemas exist')\n",
    "\n",
    "# Update 'Table Type Ingested not In Standardized' column\n",
    "# This looks at the \"Table Type Ingested\" and \"Table Type Standardized\" and sees if the two match. If they don't then it returns that\n",
    "# there isn't a match and that that specific table type has not been completed in standardized. This would happen if, say, there are only\n",
    "# 837 table types in standardized but we have 835 ingested for the trading partner ID. \n",
    "result_df['Table Type Ingested not In Standardized'] = result_df.apply(\n",
    "    lambda row: 'Std Schema doesn\\'t have any corresponding table types' \n",
    "                if str(row['Table Type Ingested']) != str(row['Table Type Standardized']) \n",
    "                else 'Std Schema has corresponding Ingested table types',\n",
    "    axis=1\n",
    ")\n",
    "\n",
    "# display(result_df)\n",
    "\n",
    "# Formatting. Remove any leading or trailing whitespace from each string in the Base Schema column\n",
    "result_df['Base Schema'] = result_df['Base Schema'].str.strip()\n",
    "\n",
    "# Remove prefixes and suffixes from 'Schema Standard' in standardized_exists\n",
    "standardized_exists['Schema Standard'] = standardized_exists['Schema Standard'].str.replace(r'^__|__.*$', '', regex=True).str.strip()\n",
    "\n",
    "# Check if 'Base Schema' exists in 'standardized_exists'. If it does not exist then a corresponding standardized schema does not exist for the ingested one\n",
    "# then the cell is correspondingly populated. If it exists then it leave the cell alone.\n",
    "standardized_schemas = set(standardized_exists['Schema Standard'])\n",
    "result_df['Table Type Standardized'] = result_df.apply(\n",
    "    lambda row: 'Schema Exists - no 835/837 tables' \n",
    "                if row['Base Schema'] in standardized_schemas and row['Table Type Standardized'] == 'No Standardized schemas exist' \n",
    "                else row['Table Type Standardized'],\n",
    "    axis=1\n",
    ")\n",
    "\n",
    "# Logic to check if 'Table Type Ingested' exists in 'standardized_df_copy' for the corresponding 'Base Schema'\n",
    "def check_table_type_exists(row):\n",
    "    base_schema = row['Base Schema']\n",
    "    table_type_ingested = row['Table Type Ingested']\n",
    "    \n",
    "    if row['Table Type Standardized'] == 'No Standardized schemas exist':\n",
    "        return 'No Standardized schemas exist'\n",
    "    \n",
    "    # Create a subset of standardized_df_copy that contains only the rows relevant to the current \"Base Schema\" being processed\n",
    "    # This will then be used below for further checks (i.e., verifying if a specific ingested table type actually exists in Standardized Schema)\n",
    "    corresponding_standardized = standardized_df_copy[standardized_df_copy['Base Schema'] == base_schema]\n",
    "    \n",
    "    # We need to see if there are corresponding 835 or 837 tables for each ingested. If there are then we can say that a corresponding table type exists\n",
    "    # We do this by seeing if there is a table type of 835 or 837 for the base schema. For example, if we have a client that we have ingested both\n",
    "    # 835s and 837s for, but we only see tables titled '837' in the standardized schema, then we would say that \"Table type 835 does not exist - need to investigate\"\n",
    "    # If there are no 835 or 837 tables at all then we just say standardization is not completed\n",
    "    if table_type_ingested in corresponding_standardized['Table Type Standardized'].values:\n",
    "        return f\"Table {table_type_ingested} type exists\"\n",
    "    else:\n",
    "        return f\"Table {table_type_ingested} type does not exist - need to investigate\"\n",
    "\n",
    "# Apply the created formula above to the result_df\n",
    "result_df['Table Type Existence Check'] = result_df.apply(check_table_type_exists, axis=1)\n",
    "\n",
    "# Drop the 'Table Type Standardized' column\n",
    "result_df.drop(columns=['Table Type Standardized'], inplace=True)\n",
    "\n",
    "# Rename columns\n",
    "result_df.rename(columns={\n",
    "    'Base Schema': 'Trading Partner ID',\n",
    "    'Table Type Existence Check': 'Standardized Table Type Existence'\n",
    "}, inplace=True)\n",
    "\n",
    "# Reorder columns to match the steps of the process\n",
    "result_df = result_df.reindex(columns=[\n",
    "    'Trading Partner ID', \n",
    "    'Table Type Ingested', \n",
    "    'Standardized Table Type Existence', \n",
    "    'Has Shared Tables',\n",
    "    'Account Linking Completed'\n",
    "])\n",
    "\n",
    "# Formatting the table to make it prettier\n",
    "# Remove duplicates\n",
    "result_df.drop_duplicates(inplace=True)\n",
    "\n",
    "# Rename columns\n",
    "result_df.rename(columns={\n",
    "    'Standardized Table Type Existence': 'Standardized Completed',\n",
    "    'Has Shared Tables': 'Shared Completed'\n",
    "}, inplace=True)\n",
    "\n",
    "# Ensure 'Shared Completed' column is treated as strings\n",
    "result_df['Shared Completed'] = result_df['Shared Completed'].astype(str)\n",
    "\n",
    "# Update the 'Shared Completed' column values\n",
    "result_df['Shared Completed'] = result_df['Shared Completed'].apply(\n",
    "    lambda x: 'True' if x == 'true' else ('False' if x == 'false' else x)\n",
    ")\n",
    "\n",
    "# Update the 'Standardized Completed' column values\n",
    "result_df['Standardized Completed'] = result_df['Standardized Completed'].apply(\n",
    "    lambda x: 'True' if x in ['Table 837 type exists', 'Table 835 type exists'] else x\n",
    ")\n",
    "\n",
    "# Update the 'Account Linking Completed' column values\n",
    "result_df['Account Linking Completed'] = result_df['Account Linking Completed'].apply(\n",
    "    lambda x: 'False' if x == 'N/A' else x\n",
    ")\n",
    "\n",
    "# Keep the row with 'False' in 'Account Linking Completed' if it exists\n",
    "# This is necessary because it was throwing out incorrect False entries which was confirmed by the same trading partner id having account\n",
    "# linking completed in another row - if it's true for one line it is true for all for the trading partner\n",
    "def keep_false_row(group):\n",
    "    false_rows = group[group['Account Linking Completed'] == 'False']\n",
    "    if not false_rows.empty:\n",
    "        return false_rows\n",
    "    else:\n",
    "        return group.head(1)\n",
    "\n",
    "# Apply the function to each group\n",
    "filtered_df = result_df.groupby(['Trading Partner ID', 'Table Type Ingested']).apply(keep_false_row).reset_index(drop=True)\n",
    "# Ensure that the 'Shared Completed' column is set to `'False'` for any row where the 'Standardized Completed' column contains the string `'type does not exist - \n",
    "# need to #investigate'`. For all other rows, the 'Shared Completed' column retains its original value. \n",
    "filtered_df['Shared Completed'] = filtered_df.apply(\n",
    "    lambda row: 'False' if 'type does not exist - need to investigate' in row['Standardized Completed'] else row['Shared Completed'],\n",
    "    axis=1\n",
    ")\n",
    "# ensure that the 'Account Linking Completed' column is set to `'False'` for any row where the 'Standardized Completed' column contains the string \n",
    "# `'type does not exist - need to investigate'`. For all other rows, the 'Account Linking Completed' column retains its original value.\n",
    "filtered_df['Account Linking Completed'] = filtered_df.apply(\n",
    "    lambda row: 'False' if 'type does not exist - need to investigate' in row['Standardized Completed'] else row['Account Linking Completed'],\n",
    "    axis=1\n",
    ")\n",
    "\n",
    "# Display the final DataFrame\n",
    "display(filtered_df)\n",
    "\n",
    "# Dashboard ideas: Total types of feed types ingested. Total type of ingested feeds that have standardization completed. Total feeds that\n",
    "# have shared and standardization completed. Total types that have everything completed. "
   ]
  },
  {
   "cell_type": "code",
   "execution_count": 0,
   "metadata": {
    "application/vnd.databricks.v1+cell": {
     "cellMetadata": {
      "byteLimit": 2048000,
      "rowLimit": 10000
     },
     "inputWidgets": {},
     "nuid": "7efe787f-a481-41f5-8752-bc2bb17c8eaa",
     "showTitle": false,
     "title": ""
    }
   },
   "outputs": [],
   "source": []
  },
  {
   "cell_type": "code",
   "execution_count": 0,
   "metadata": {
    "application/vnd.databricks.v1+cell": {
     "cellMetadata": {
      "byteLimit": 2048000,
      "rowLimit": 10000
     },
     "inputWidgets": {},
     "nuid": "44892f51-2602-4e1c-9ee3-0b2108d1311c",
     "showTitle": false,
     "title": ""
    }
   },
   "outputs": [
    {
     "output_type": "display_data",
     "data": {
      "text/html": [
       "<style scoped>\n",
       "  .table-result-container {\n",
       "    max-height: 300px;\n",
       "    overflow: auto;\n",
       "  }\n",
       "  table, th, td {\n",
       "    border: 1px solid black;\n",
       "    border-collapse: collapse;\n",
       "  }\n",
       "  th, td {\n",
       "    padding: 5px;\n",
       "  }\n",
       "  th {\n",
       "    text-align: left;\n",
       "  }\n",
       "</style><div class='table-result-container'><table class='table-result'><thead style='background-color: white'><tr><th>Data Type</th><th>Total Records</th></tr></thead><tbody><tr><td>835</td><td>76</td></tr><tr><td>837</td><td>50</td></tr></tbody></table></div>"
      ]
     },
     "metadata": {
      "application/vnd.databricks.v1+output": {
       "addedWidgets": {},
       "aggData": [],
       "aggError": "",
       "aggOverflow": false,
       "aggSchema": [],
       "aggSeriesLimitReached": false,
       "aggType": "",
       "arguments": {},
       "columnCustomDisplayInfos": {},
       "data": [
        [
         "835",
         76
        ],
        [
         "837",
         50
        ]
       ],
       "datasetInfos": [],
       "dbfsResultPath": null,
       "isJsonSchema": true,
       "metadata": {},
       "overflow": false,
       "plotOptions": {
        "customPlotOptions": {},
        "displayType": "table",
        "pivotAggregation": null,
        "pivotColumns": null,
        "xColumns": null,
        "yColumns": null
       },
       "removedWidgets": [],
       "schema": [
        {
         "metadata": "{}",
         "name": "Data Type",
         "type": "\"string\""
        },
        {
         "metadata": "{}",
         "name": "Total Records",
         "type": "\"long\""
        }
       ],
       "type": "table"
      }
     },
     "output_type": "display_data"
    },
    {
     "output_type": "display_data",
     "data": {
      "text/plain": [
       "Databricks visualization. Run in Databricks to view."
      ]
     },
     "metadata": {
      "application/vnd.databricks.v1.subcommand+json": {
       "baseErrorDetails": null,
       "bindings": {},
       "collapsed": false,
       "command": "%python\n__backend_agg_display_orig = display\n__backend_agg_dfs = []\ndef __backend_agg_display_new(df):\n    __backend_agg_df_modules = [\"pandas.core.frame\", \"databricks.koalas.frame\", \"pyspark.sql.dataframe\", \"pyspark.pandas.frame\", \"pyspark.sql.connect.dataframe\"]\n    if (type(df).__module__ in __backend_agg_df_modules and type(df).__name__ == 'DataFrame') or isinstance(df, list):\n        __backend_agg_dfs.append(df)\n\ndisplay = __backend_agg_display_new\n\ndef __backend_agg_user_code_fn():\n    import base64\n    exec(base64.standard_b64decode(\"aW1wb3J0IHBhbmRhcyBhcyBwZAppbXBvcnQgbWF0cGxvdGxpYi5weXBsb3QgYXMgcGx0CmltcG9ydCBzZWFib3JuIGFzIHNucwoKZmlsdGVyZWRfZGZfY29weSA9IGZpbHRlcmVkX2RmLmNvcHkoKQoKIyBTdW1tYXJpemUgRGF0YQpzdW1tYXJ5X2RmX2luZyA9IGZpbHRlcmVkX2RmX2NvcHkuZ3JvdXBieSgnVGFibGUgVHlwZSBJbmdlc3RlZCcpLmFnZygKICAgIFRvdGFsX1JlY29yZHM9KCdUcmFkaW5nIFBhcnRuZXIgSUQnLCAnY291bnQnKSwKKS5yZXNldF9pbmRleCgpCnN1bW1hcnlfZGZfaW5nLnJlbmFtZShjb2x1bW5zPXsnVGFibGUgVHlwZSBJbmdlc3RlZCc6J0RhdGEgVHlwZSd9LCBpbnBsYWNlPVRydWUpCnN1bW1hcnlfZGZfaW5nLnJlbmFtZShjb2x1bW5zPXsnVG90YWxfUmVjb3Jkcyc6J1RvdGFsIFJlY29yZHMnfSwgaW5wbGFjZT1UcnVlKQojIERpc3BsYXkgU3VtbWFyeQpkaXNwbGF5KHN1bW1hcnlfZGZfaW5nKQo=\").decode())\n\ntry:\n    # run user code\n    __backend_agg_user_code_fn()\n\n    #reset display function\n    display = __backend_agg_display_orig\n\n    if len(__backend_agg_dfs) > 0:\n        # create a temp view\n        if type(__backend_agg_dfs[0]).__module__ == \"databricks.koalas.frame\":\n            # koalas dataframe\n            __backend_agg_dfs[0].to_spark().createOrReplaceTempView(\"DatabricksView620e769\")\n        elif type(__backend_agg_dfs[0]).__module__ == \"pandas.core.frame\" or isinstance(__backend_agg_dfs[0], list):\n            # pandas dataframe\n            spark.createDataFrame(__backend_agg_dfs[0]).createOrReplaceTempView(\"DatabricksView620e769\")\n        else:\n            __backend_agg_dfs[0].createOrReplaceTempView(\"DatabricksView620e769\")\n        #run backend agg\n        display(spark.sql(\"\"\"WITH q AS (select * from DatabricksView620e769) SELECT `Data Type`,SUM(`Total Records`) `column_2f9558cd8`,`Total Records` FROM q GROUP BY `Data Type`,`Total Records`\"\"\"))\n    else:\n        displayHTML(\"dataframe no longer exists. If you're using dataframe.display(), use display(dataframe) instead.\")\n\n\nfinally:\n    spark.sql(\"drop view if exists DatabricksView620e769\")\n    display = __backend_agg_display_orig\n    del __backend_agg_display_new\n    del __backend_agg_display_orig\n    del __backend_agg_dfs\n    del __backend_agg_user_code_fn\n\n",
       "commandTitle": "Visualization 1",
       "commandType": "auto",
       "commandVersion": 0,
       "commentThread": [],
       "commentsVisible": false,
       "contentSha256Hex": null,
       "customPlotOptions": {
        "redashChart": [
         {
          "key": "type",
          "value": "CHART"
         },
         {
          "key": "options",
          "value": {
           "alignYAxesAtZero": true,
           "coefficient": 1,
           "columnConfigurationMap": {
            "series": {
             "column": "Data Type",
             "id": "column_d52f1ead19"
            },
            "x": {
             "column": "Data Type",
             "id": "column_2f9558cd7"
            },
            "y": [
             {
              "column": "Total Records",
              "id": "column_2f9558cd8",
              "transform": "SUM"
             }
            ]
           },
           "dateTimeFormat": "DD/MM/YYYY HH:mm",
           "direction": {
            "type": "counterclockwise"
           },
           "error_y": {
            "type": "data",
            "visible": true
           },
           "globalSeriesType": "column",
           "hideYAxes": false,
           "isAggregationOn": true,
           "legend": {
            "traceorder": "normal"
           },
           "missingValuesAsZero": true,
           "numberFormat": "0,0.[00000]",
           "percentFormat": "0[.]00%",
           "series": {
            "error_y": {
             "type": "data",
             "visible": true
            },
            "stacking": null
           },
           "seriesOptions": {
            "49": {
             "color": "#8BCAE7"
            },
            "72": {
             "color": "#99DDB4"
            },
            "column_2f9558cd8": {
             "color": "#AB4057",
             "name": "Total Records",
             "yAxis": 0
            }
           },
           "showDataLabels": true,
           "sizemode": "diameter",
           "sortX": true,
           "sortY": true,
           "swappedAxes": false,
           "textFormat": "",
           "useAggregationsUi": true,
           "valuesOptions": {},
           "version": 2,
           "xAxis": {
            "labels": {
             "enabled": true
            },
            "title": {
             "text": "Total AT LEAST Ingested"
            },
            "type": "-"
           },
           "yAxis": [
            {
             "type": "-"
            },
            {
             "opposite": true,
             "type": "-"
            }
           ]
          }
         }
        ]
       },
       "datasetPreviewNameToCmdIdMap": {},
       "diffDeletes": [],
       "diffInserts": [],
       "displayType": "redashChart",
       "error": null,
       "errorDetails": null,
       "errorSummary": null,
       "errorTraceType": null,
       "finishTime": 0,
       "globalVars": {},
       "guid": "",
       "height": "auto",
       "hideCommandCode": false,
       "hideCommandResult": false,
       "iPythonMetadata": null,
       "inputWidgets": {},
       "isLockedInExamMode": false,
       "latestUser": "a user",
       "latestUserId": null,
       "listResultMetadata": null,
       "metadata": {
        "byteLimit": 2048000,
        "rowLimit": 10000
       },
       "nuid": "98874d5b-53b6-4c03-b141-e935531e2b0b",
       "origId": 0,
       "parentHierarchy": [],
       "pivotAggregation": null,
       "pivotColumns": null,
       "position": 11.9375,
       "resultDbfsErrorMessage": null,
       "resultDbfsStatus": "INLINED_IN_TREE",
       "results": null,
       "showCommandTitle": false,
       "startTime": 0,
       "state": "finished",
       "streamStates": {},
       "subcommandOptions": {
        "queryPlan": {
         "groups": [
          {
           "column": "Data Type",
           "type": "column"
          },
          {
           "column": "Data Type",
           "type": "column"
          }
         ],
         "selects": [
          {
           "column": "Data Type",
           "type": "column"
          },
          {
           "alias": "column_2f9558cd8",
           "args": [
            {
             "column": "Total Records",
             "type": "column"
            }
           ],
           "function": "SUM",
           "type": "function"
          },
          {
           "column": "Data Type",
           "type": "column"
          }
         ]
        }
       },
       "submitTime": 0,
       "subtype": "tableResultSubCmd.visualization",
       "tableResultIndex": 0,
       "useConsistentColors": false,
       "version": "CommandV1",
       "width": "auto",
       "workflows": [],
       "xColumns": null,
       "yColumns": null
      }
     },
     "output_type": "display_data"
    }
   ],
   "source": [
    "import pandas as pd\n",
    "import matplotlib.pyplot as plt\n",
    "import seaborn as sns\n",
    "\n",
    "filtered_df_copy = filtered_df.copy()\n",
    "\n",
    "# Summarize Data\n",
    "summary_df_ing = filtered_df_copy.groupby('Table Type Ingested').agg(\n",
    "    Total_Records=('Trading Partner ID', 'count'),\n",
    ").reset_index()\n",
    "summary_df_ing.rename(columns={'Table Type Ingested':'Data Type'}, inplace=True)\n",
    "summary_df_ing.rename(columns={'Total_Records':'Total Records'}, inplace=True)\n",
    "# Display Summary\n",
    "display(summary_df_ing)\n"
   ]
  },
  {
   "cell_type": "code",
   "execution_count": 0,
   "metadata": {
    "application/vnd.databricks.v1+cell": {
     "cellMetadata": {
      "byteLimit": 2048000,
      "rowLimit": 10000
     },
     "inputWidgets": {},
     "nuid": "0d2fa6d1-9e13-44eb-8358-4306fd87a079",
     "showTitle": false,
     "title": ""
    }
   },
   "outputs": [
    {
     "output_type": "display_data",
     "data": {
      "text/html": [
       "<style scoped>\n",
       "  .table-result-container {\n",
       "    max-height: 300px;\n",
       "    overflow: auto;\n",
       "  }\n",
       "  table, th, td {\n",
       "    border: 1px solid black;\n",
       "    border-collapse: collapse;\n",
       "  }\n",
       "  th, td {\n",
       "    padding: 5px;\n",
       "  }\n",
       "  th {\n",
       "    text-align: left;\n",
       "  }\n",
       "</style><div class='table-result-container'><table class='table-result'><thead style='background-color: white'><tr><th>Trading Partner ID</th><th>Table Type Ingested</th><th>Account Linking Completed</th></tr></thead><tbody><tr><td>aspirus_system_qiag</td><td>837</td><td>True</td></tr><tr><td>avera_health_qiag</td><td>837</td><td>True</td></tr><tr><td>baptist_health_giaw</td><td>837</td><td>True</td></tr><tr><td>baylor_scott_white_health_uiag</td><td>837</td><td>True</td></tr><tr><td>centra_health_wiag</td><td>837</td><td>True</td></tr><tr><td>commonspirit_health_bqa0</td><td>837</td><td>True</td></tr><tr><td>community_hospital_of_the_monterey_peninsula_uia5</td><td>837</td><td>True</td></tr><tr><td>cooper_university_hospital_fiah</td><td>837</td><td>True</td></tr><tr><td>coxhealth_xiaw</td><td>837</td><td>True</td></tr><tr><td>duke_health_xiaw</td><td>837</td><td>True</td></tr><tr><td>emory_healthcare_fiaw</td><td>835</td><td>True</td></tr><tr><td>emory_healthcare_fiaw</td><td>837</td><td>True</td></tr><tr><td>garnet_health_oiaw</td><td>837</td><td>True</td></tr><tr><td>loma_linda_university_health_9iag</td><td>835</td><td>True</td></tr><tr><td>loma_linda_university_health_9iag</td><td>837</td><td>True</td></tr><tr><td>mainegeneral_health_sqad</td><td>837</td><td>True</td></tr><tr><td>mclaren_health_care_corporation_9iag</td><td>835</td><td>True</td></tr><tr><td>mclaren_health_care_corporation_9iag</td><td>837</td><td>True</td></tr><tr><td>mercy_9qal</td><td>837</td><td>True</td></tr><tr><td>montefiore_health_system_xiag</td><td>837</td><td>True</td></tr><tr><td>ohsu_partners_miah</td><td>837</td><td>True</td></tr><tr><td>providence_st_joseph_health_viaw</td><td>835</td><td>True</td></tr><tr><td>providence_st_joseph_health_viaw</td><td>837</td><td>True</td></tr><tr><td>scl_health_siaw</td><td>837</td><td>True</td></tr><tr><td>seattle_cancer_care_alliance_miax</td><td>835</td><td>True</td></tr><tr><td>st_lukes_hospital_health_system_7qad</td><td>837</td><td>True</td></tr><tr><td>tampa_general_hospital_biap</td><td>837</td><td>True</td></tr><tr><td>texas_childrens_hospital_wqal</td><td>837</td><td>True</td></tr><tr><td>uchicago_medicine_piaw</td><td>837</td><td>True</td></tr><tr><td>unitypoint_health_kiag</td><td>837</td><td>True</td></tr><tr><td>university_of_arkansas_for_medical_sciences_medical_center_tiap</td><td>837</td><td>True</td></tr><tr><td>university_of_maryland_medical_system_jiag</td><td>835</td><td>True</td></tr><tr><td>university_of_texas_system_niag</td><td>837</td><td>True</td></tr><tr><td>vanderbilt_health_iiaw</td><td>837</td><td>True</td></tr><tr><td>yale_new_haven_health_system_giag</td><td>835</td><td>True</td></tr><tr><td>yale_new_haven_health_system_giag</td><td>837</td><td>True</td></tr></tbody></table></div>"
      ]
     },
     "metadata": {
      "application/vnd.databricks.v1+output": {
       "addedWidgets": {},
       "aggData": [],
       "aggError": "",
       "aggOverflow": false,
       "aggSchema": [],
       "aggSeriesLimitReached": false,
       "aggType": "",
       "arguments": {},
       "columnCustomDisplayInfos": {},
       "data": [
        [
         "aspirus_system_qiag",
         "837",
         "True"
        ],
        [
         "avera_health_qiag",
         "837",
         "True"
        ],
        [
         "baptist_health_giaw",
         "837",
         "True"
        ],
        [
         "baylor_scott_white_health_uiag",
         "837",
         "True"
        ],
        [
         "centra_health_wiag",
         "837",
         "True"
        ],
        [
         "commonspirit_health_bqa0",
         "837",
         "True"
        ],
        [
         "community_hospital_of_the_monterey_peninsula_uia5",
         "837",
         "True"
        ],
        [
         "cooper_university_hospital_fiah",
         "837",
         "True"
        ],
        [
         "coxhealth_xiaw",
         "837",
         "True"
        ],
        [
         "duke_health_xiaw",
         "837",
         "True"
        ],
        [
         "emory_healthcare_fiaw",
         "835",
         "True"
        ],
        [
         "emory_healthcare_fiaw",
         "837",
         "True"
        ],
        [
         "garnet_health_oiaw",
         "837",
         "True"
        ],
        [
         "loma_linda_university_health_9iag",
         "835",
         "True"
        ],
        [
         "loma_linda_university_health_9iag",
         "837",
         "True"
        ],
        [
         "mainegeneral_health_sqad",
         "837",
         "True"
        ],
        [
         "mclaren_health_care_corporation_9iag",
         "835",
         "True"
        ],
        [
         "mclaren_health_care_corporation_9iag",
         "837",
         "True"
        ],
        [
         "mercy_9qal",
         "837",
         "True"
        ],
        [
         "montefiore_health_system_xiag",
         "837",
         "True"
        ],
        [
         "ohsu_partners_miah",
         "837",
         "True"
        ],
        [
         "providence_st_joseph_health_viaw",
         "835",
         "True"
        ],
        [
         "providence_st_joseph_health_viaw",
         "837",
         "True"
        ],
        [
         "scl_health_siaw",
         "837",
         "True"
        ],
        [
         "seattle_cancer_care_alliance_miax",
         "835",
         "True"
        ],
        [
         "st_lukes_hospital_health_system_7qad",
         "837",
         "True"
        ],
        [
         "tampa_general_hospital_biap",
         "837",
         "True"
        ],
        [
         "texas_childrens_hospital_wqal",
         "837",
         "True"
        ],
        [
         "uchicago_medicine_piaw",
         "837",
         "True"
        ],
        [
         "unitypoint_health_kiag",
         "837",
         "True"
        ],
        [
         "university_of_arkansas_for_medical_sciences_medical_center_tiap",
         "837",
         "True"
        ],
        [
         "university_of_maryland_medical_system_jiag",
         "835",
         "True"
        ],
        [
         "university_of_texas_system_niag",
         "837",
         "True"
        ],
        [
         "vanderbilt_health_iiaw",
         "837",
         "True"
        ],
        [
         "yale_new_haven_health_system_giag",
         "835",
         "True"
        ],
        [
         "yale_new_haven_health_system_giag",
         "837",
         "True"
        ]
       ],
       "datasetInfos": [],
       "dbfsResultPath": null,
       "isJsonSchema": true,
       "metadata": {},
       "overflow": false,
       "plotOptions": {
        "customPlotOptions": {},
        "displayType": "table",
        "pivotAggregation": null,
        "pivotColumns": null,
        "xColumns": null,
        "yColumns": null
       },
       "removedWidgets": [],
       "schema": [
        {
         "metadata": "{}",
         "name": "Trading Partner ID",
         "type": "\"string\""
        },
        {
         "metadata": "{}",
         "name": "Table Type Ingested",
         "type": "\"string\""
        },
        {
         "metadata": "{}",
         "name": "Account Linking Completed",
         "type": "\"string\""
        }
       ],
       "type": "table"
      }
     },
     "output_type": "display_data"
    },
    {
     "output_type": "display_data",
     "data": {
      "text/html": [
       "<style scoped>\n",
       "  .table-result-container {\n",
       "    max-height: 300px;\n",
       "    overflow: auto;\n",
       "  }\n",
       "  table, th, td {\n",
       "    border: 1px solid black;\n",
       "    border-collapse: collapse;\n",
       "  }\n",
       "  th, td {\n",
       "    padding: 5px;\n",
       "  }\n",
       "  th {\n",
       "    text-align: left;\n",
       "  }\n",
       "</style><div class='table-result-container'><table class='table-result'><thead style='background-color: white'><tr><th>Table Type Ingested</th><th>Total Account Linked</th></tr></thead><tbody><tr><td>835</td><td>7</td></tr><tr><td>837</td><td>29</td></tr></tbody></table></div>"
      ]
     },
     "metadata": {
      "application/vnd.databricks.v1+output": {
       "addedWidgets": {},
       "aggData": [],
       "aggError": "",
       "aggOverflow": false,
       "aggSchema": [],
       "aggSeriesLimitReached": false,
       "aggType": "",
       "arguments": {},
       "columnCustomDisplayInfos": {},
       "data": [
        [
         "835",
         7
        ],
        [
         "837",
         29
        ]
       ],
       "datasetInfos": [],
       "dbfsResultPath": null,
       "isJsonSchema": true,
       "metadata": {},
       "overflow": false,
       "plotOptions": {
        "customPlotOptions": {},
        "displayType": "table",
        "pivotAggregation": null,
        "pivotColumns": null,
        "xColumns": null,
        "yColumns": null
       },
       "removedWidgets": [],
       "schema": [
        {
         "metadata": "{}",
         "name": "Table Type Ingested",
         "type": "\"string\""
        },
        {
         "metadata": "{}",
         "name": "Total Account Linked",
         "type": "\"long\""
        }
       ],
       "type": "table"
      }
     },
     "output_type": "display_data"
    },
    {
     "output_type": "display_data",
     "data": {
      "text/plain": [
       "Databricks visualization. Run in Databricks to view."
      ]
     },
     "metadata": {
      "application/vnd.databricks.v1.subcommand+json": {
       "baseErrorDetails": null,
       "bindings": {},
       "collapsed": false,
       "command": "%python\n__backend_agg_display_orig = display\n__backend_agg_dfs = []\ndef __backend_agg_display_new(df):\n    __backend_agg_df_modules = [\"pandas.core.frame\", \"databricks.koalas.frame\", \"pyspark.sql.dataframe\", \"pyspark.pandas.frame\", \"pyspark.sql.connect.dataframe\"]\n    if (type(df).__module__ in __backend_agg_df_modules and type(df).__name__ == 'DataFrame') or isinstance(df, list):\n        __backend_agg_dfs.append(df)\n\ndisplay = __backend_agg_display_new\n\ndef __backend_agg_user_code_fn():\n    import base64\n    exec(base64.standard_b64decode(\"aW1wb3J0IHBhbmRhcyBhcyBwZAoKIyBBc3N1bWluZyBmaWx0ZXJlZF9kZl9jb3B5IGlzIHlvdXIgRGF0YUZyYW1lCiMgRmlsdGVyIHJvd3Mgd2hlcmUgJ0FjY291bnQgTGlua2luZyBDb21wbGV0ZWQnIGlzICdUUlVFJwphY2NvdW50X2xpbmtpbmdfc3VtbWFyeSA9IGZpbHRlcmVkX2RmX2NvcHlbZmlsdGVyZWRfZGZfY29weVsnQWNjb3VudCBMaW5raW5nIENvbXBsZXRlZCddID09ICdUcnVlJ10KCiMgU2VsZWN0IG9ubHkgdGhlIHJlbGV2YW50IGNvbHVtbnMKYWNjb3VudF9saW5raW5nX3N1bW1hcnkgPSBhY2NvdW50X2xpbmtpbmdfc3VtbWFyeVtbJ1RyYWRpbmcgUGFydG5lciBJRCcsICdUYWJsZSBUeXBlIEluZ2VzdGVkJywgJ0FjY291bnQgTGlua2luZyBDb21wbGV0ZWQnXV0KCiMgUHJpbnQgdGhlIG5ldyBEYXRhRnJhbWUKZGlzcGxheShhY2NvdW50X2xpbmtpbmdfc3VtbWFyeSkKCmFjY291bnRfbGlua2luZ19zdW1tYXJ5X2dyb3VwZWQgPSBhY2NvdW50X2xpbmtpbmdfc3VtbWFyeS5ncm91cGJ5KCdUYWJsZSBUeXBlIEluZ2VzdGVkJykuc2l6ZSgpLnJlc2V0X2luZGV4KG5hbWU9J1RvdGFsIEFjY291bnQgTGlua2VkJykKZGlzcGxheShhY2NvdW50X2xpbmtpbmdfc3VtbWFyeV9ncm91cGVkKQ==\").decode())\n\ntry:\n    # run user code\n    __backend_agg_user_code_fn()\n\n    #reset display function\n    display = __backend_agg_display_orig\n\n    if len(__backend_agg_dfs) > 1:\n        # create a temp view\n        if type(__backend_agg_dfs[1]).__module__ == \"databricks.koalas.frame\":\n            # koalas dataframe\n            __backend_agg_dfs[1].to_spark().createOrReplaceTempView(\"DatabricksViewafc4d5f\")\n        elif type(__backend_agg_dfs[1]).__module__ == \"pandas.core.frame\" or isinstance(__backend_agg_dfs[1], list):\n            # pandas dataframe\n            spark.createDataFrame(__backend_agg_dfs[1]).createOrReplaceTempView(\"DatabricksViewafc4d5f\")\n        else:\n            __backend_agg_dfs[1].createOrReplaceTempView(\"DatabricksViewafc4d5f\")\n        #run backend agg\n        display(spark.sql(\"\"\"WITH q AS (select * from DatabricksViewafc4d5f) SELECT `Table Type Ingested`,SUM(`Total Account Linked`) `column_2f9558cd13`,`Total Account Linked` FROM q GROUP BY `Table Type Ingested`,`Total Account Linked`\"\"\"))\n    else:\n        displayHTML(\"dataframe no longer exists. If you're using dataframe.display(), use display(dataframe) instead.\")\n\n\nfinally:\n    spark.sql(\"drop view if exists DatabricksViewafc4d5f\")\n    display = __backend_agg_display_orig\n    del __backend_agg_display_new\n    del __backend_agg_display_orig\n    del __backend_agg_dfs\n    del __backend_agg_user_code_fn\n\n",
       "commandTitle": "Visualization 1",
       "commandType": "auto",
       "commandVersion": 0,
       "commentThread": [],
       "commentsVisible": false,
       "contentSha256Hex": null,
       "customPlotOptions": {
        "redashChart": [
         {
          "key": "type",
          "value": "CHART"
         },
         {
          "key": "options",
          "value": {
           "alignYAxesAtZero": true,
           "coefficient": 1,
           "columnConfigurationMap": {
            "series": {
             "column": "Table Type Ingested",
             "id": "column_d52f1ead17"
            },
            "x": {
             "column": "Table Type Ingested",
             "id": "column_2f9558cd12"
            },
            "y": [
             {
              "column": "Total Account Linked",
              "id": "column_2f9558cd13",
              "transform": "SUM"
             }
            ]
           },
           "dateTimeFormat": "DD/MM/YYYY HH:mm",
           "direction": {
            "type": "counterclockwise"
           },
           "error_y": {
            "type": "data",
            "visible": true
           },
           "globalSeriesType": "column",
           "isAggregationOn": true,
           "legend": {
            "traceorder": "normal"
           },
           "missingValuesAsZero": true,
           "numberFormat": "0,0.[00000]",
           "percentFormat": "0[.]00%",
           "series": {
            "error_y": {
             "type": "data",
             "visible": true
            },
            "stacking": null
           },
           "seriesOptions": {
            "27": {
             "color": "#8BCAE7"
            },
            "5": {
             "color": "#99DDB4"
            },
            "column_2f9558cd13": {
             "color": "#99DDB4",
             "name": "Total Account Linked",
             "yAxis": 0
            }
           },
           "showDataLabels": true,
           "sizemode": "diameter",
           "sortX": true,
           "sortY": true,
           "swappedAxes": false,
           "textFormat": "",
           "useAggregationsUi": true,
           "valuesOptions": {},
           "version": 2,
           "xAxis": {
            "labels": {
             "enabled": true
            },
            "title": {
             "text": "Data Type Account Linked"
            },
            "type": "-"
           },
           "yAxis": [
            {
             "type": "-"
            },
            {
             "opposite": true,
             "type": "-"
            }
           ]
          }
         }
        ]
       },
       "datasetPreviewNameToCmdIdMap": {},
       "diffDeletes": [],
       "diffInserts": [],
       "displayType": "redashChart",
       "error": null,
       "errorDetails": null,
       "errorSummary": null,
       "errorTraceType": null,
       "finishTime": 0,
       "globalVars": {},
       "guid": "",
       "height": "auto",
       "hideCommandCode": false,
       "hideCommandResult": false,
       "iPythonMetadata": null,
       "inputWidgets": {},
       "isLockedInExamMode": false,
       "latestUser": "a user",
       "latestUserId": null,
       "listResultMetadata": null,
       "metadata": {
        "byteLimit": 2048000,
        "rowLimit": 10000
       },
       "nuid": "62115a85-c368-4666-8094-2bc60334f951",
       "origId": 0,
       "parentHierarchy": [],
       "pivotAggregation": null,
       "pivotColumns": null,
       "position": 12.9375,
       "resultDbfsErrorMessage": null,
       "resultDbfsStatus": "INLINED_IN_TREE",
       "results": null,
       "showCommandTitle": false,
       "startTime": 0,
       "state": "finished",
       "streamStates": {},
       "subcommandOptions": {
        "queryPlan": {
         "groups": [
          {
           "column": "Table Type Ingested",
           "type": "column"
          },
          {
           "column": "Table Type Ingested",
           "type": "column"
          }
         ],
         "selects": [
          {
           "column": "Table Type Ingested",
           "type": "column"
          },
          {
           "alias": "column_2f9558cd13",
           "args": [
            {
             "column": "Total Account Linked",
             "type": "column"
            }
           ],
           "function": "SUM",
           "type": "function"
          },
          {
           "column": "Table Type Ingested",
           "type": "column"
          }
         ]
        }
       },
       "submitTime": 0,
       "subtype": "tableResultSubCmd.visualization",
       "tableResultIndex": 1,
       "useConsistentColors": false,
       "version": "CommandV1",
       "width": "auto",
       "workflows": [],
       "xColumns": null,
       "yColumns": null
      }
     },
     "output_type": "display_data"
    }
   ],
   "source": [
    "import pandas as pd\n",
    "\n",
    "# Assuming filtered_df_copy is your DataFrame\n",
    "# Filter rows where 'Account Linking Completed' is 'TRUE'\n",
    "account_linking_summary = filtered_df_copy[filtered_df_copy['Account Linking Completed'] == 'True']\n",
    "\n",
    "# Select only the relevant columns\n",
    "account_linking_summary = account_linking_summary[['Trading Partner ID', 'Table Type Ingested', 'Account Linking Completed']]\n",
    "\n",
    "# Print the new DataFrame\n",
    "display(account_linking_summary)\n",
    "\n",
    "account_linking_summary_grouped = account_linking_summary.groupby('Table Type Ingested').size().reset_index(name='Total Account Linked')\n",
    "display(account_linking_summary_grouped)"
   ]
  },
  {
   "cell_type": "code",
   "execution_count": 0,
   "metadata": {
    "application/vnd.databricks.v1+cell": {
     "cellMetadata": {
      "byteLimit": 2048000,
      "rowLimit": 10000
     },
     "inputWidgets": {},
     "nuid": "14ef6d40-80fc-4269-8955-2cf33b0cc2fb",
     "showTitle": false,
     "title": ""
    }
   },
   "outputs": [
    {
     "output_type": "display_data",
     "data": {
      "text/html": [
       "<style scoped>\n",
       "  .table-result-container {\n",
       "    max-height: 300px;\n",
       "    overflow: auto;\n",
       "  }\n",
       "  table, th, td {\n",
       "    border: 1px solid black;\n",
       "    border-collapse: collapse;\n",
       "  }\n",
       "  th, td {\n",
       "    padding: 5px;\n",
       "  }\n",
       "  th {\n",
       "    text-align: left;\n",
       "  }\n",
       "</style><div class='table-result-container'><table class='table-result'><thead style='background-color: white'><tr><th>Trading Partner ID</th><th>Table Type Ingested</th><th>Shared Completed</th></tr></thead><tbody><tr><td>allina_health_siaw</td><td>837</td><td>True</td></tr><tr><td>ascension_health_riaw</td><td>835</td><td>True</td></tr><tr><td>ascension_health_riaw</td><td>837</td><td>True</td></tr><tr><td>banner_health_riag</td><td>837</td><td>True</td></tr><tr><td>blanchard_valley_health_system_nqat</td><td>837</td><td>True</td></tr><tr><td>christus_health_diax</td><td>837</td><td>True</td></tr><tr><td>commonspirit_health1_abcd</td><td>837</td><td>True</td></tr><tr><td>intermountain_healthcare_tiag</td><td>835</td><td>True</td></tr><tr><td>intermountain_healthcare_tiag</td><td>837</td><td>True</td></tr><tr><td>lifepoint_health_6iag</td><td>835</td><td>True</td></tr><tr><td>lifepoint_health_6iag</td><td>837</td><td>True</td></tr><tr><td>nuvance_health_cqam</td><td>837</td><td>True</td></tr><tr><td>pih_health_vqat</td><td>837</td><td>True</td></tr><tr><td>ridgeview_medical_center_health_system_tqal</td><td>837</td><td>True</td></tr><tr><td>rwjbarnabas_health_3iak</td><td>837</td><td>True</td></tr></tbody></table></div>"
      ]
     },
     "metadata": {
      "application/vnd.databricks.v1+output": {
       "addedWidgets": {},
       "aggData": [],
       "aggError": "",
       "aggOverflow": false,
       "aggSchema": [],
       "aggSeriesLimitReached": false,
       "aggType": "",
       "arguments": {},
       "columnCustomDisplayInfos": {},
       "data": [
        [
         "allina_health_siaw",
         "837",
         "True"
        ],
        [
         "ascension_health_riaw",
         "835",
         "True"
        ],
        [
         "ascension_health_riaw",
         "837",
         "True"
        ],
        [
         "banner_health_riag",
         "837",
         "True"
        ],
        [
         "blanchard_valley_health_system_nqat",
         "837",
         "True"
        ],
        [
         "christus_health_diax",
         "837",
         "True"
        ],
        [
         "commonspirit_health1_abcd",
         "837",
         "True"
        ],
        [
         "intermountain_healthcare_tiag",
         "835",
         "True"
        ],
        [
         "intermountain_healthcare_tiag",
         "837",
         "True"
        ],
        [
         "lifepoint_health_6iag",
         "835",
         "True"
        ],
        [
         "lifepoint_health_6iag",
         "837",
         "True"
        ],
        [
         "nuvance_health_cqam",
         "837",
         "True"
        ],
        [
         "pih_health_vqat",
         "837",
         "True"
        ],
        [
         "ridgeview_medical_center_health_system_tqal",
         "837",
         "True"
        ],
        [
         "rwjbarnabas_health_3iak",
         "837",
         "True"
        ]
       ],
       "datasetInfos": [],
       "dbfsResultPath": null,
       "isJsonSchema": true,
       "metadata": {},
       "overflow": false,
       "plotOptions": {
        "customPlotOptions": {},
        "displayType": "table",
        "pivotAggregation": null,
        "pivotColumns": null,
        "xColumns": null,
        "yColumns": null
       },
       "removedWidgets": [],
       "schema": [
        {
         "metadata": "{}",
         "name": "Trading Partner ID",
         "type": "\"string\""
        },
        {
         "metadata": "{}",
         "name": "Table Type Ingested",
         "type": "\"string\""
        },
        {
         "metadata": "{}",
         "name": "Shared Completed",
         "type": "\"string\""
        }
       ],
       "type": "table"
      }
     },
     "output_type": "display_data"
    },
    {
     "output_type": "display_data",
     "data": {
      "text/html": [
       "<style scoped>\n",
       "  .table-result-container {\n",
       "    max-height: 300px;\n",
       "    overflow: auto;\n",
       "  }\n",
       "  table, th, td {\n",
       "    border: 1px solid black;\n",
       "    border-collapse: collapse;\n",
       "  }\n",
       "  th, td {\n",
       "    padding: 5px;\n",
       "  }\n",
       "  th {\n",
       "    text-align: left;\n",
       "  }\n",
       "</style><div class='table-result-container'><table class='table-result'><thead style='background-color: white'><tr><th>Table Type Ingested</th><th>Total Only Shared and Standardized</th></tr></thead><tbody><tr><td>835</td><td>3</td></tr><tr><td>837</td><td>12</td></tr></tbody></table></div>"
      ]
     },
     "metadata": {
      "application/vnd.databricks.v1+output": {
       "addedWidgets": {},
       "aggData": [],
       "aggError": "",
       "aggOverflow": false,
       "aggSchema": [],
       "aggSeriesLimitReached": false,
       "aggType": "",
       "arguments": {},
       "columnCustomDisplayInfos": {},
       "data": [
        [
         "835",
         3
        ],
        [
         "837",
         12
        ]
       ],
       "datasetInfos": [],
       "dbfsResultPath": null,
       "isJsonSchema": true,
       "metadata": {},
       "overflow": false,
       "plotOptions": {
        "customPlotOptions": {},
        "displayType": "table",
        "pivotAggregation": null,
        "pivotColumns": null,
        "xColumns": null,
        "yColumns": null
       },
       "removedWidgets": [],
       "schema": [
        {
         "metadata": "{}",
         "name": "Table Type Ingested",
         "type": "\"string\""
        },
        {
         "metadata": "{}",
         "name": "Total Only Shared and Standardized",
         "type": "\"long\""
        }
       ],
       "type": "table"
      }
     },
     "output_type": "display_data"
    },
    {
     "output_type": "display_data",
     "data": {
      "text/plain": [
       "Databricks visualization. Run in Databricks to view."
      ]
     },
     "metadata": {
      "application/vnd.databricks.v1.subcommand+json": {
       "baseErrorDetails": null,
       "bindings": {},
       "collapsed": false,
       "command": "%python\n__backend_agg_display_orig = display\n__backend_agg_dfs = []\ndef __backend_agg_display_new(df):\n    __backend_agg_df_modules = [\"pandas.core.frame\", \"databricks.koalas.frame\", \"pyspark.sql.dataframe\", \"pyspark.pandas.frame\", \"pyspark.sql.connect.dataframe\"]\n    if (type(df).__module__ in __backend_agg_df_modules and type(df).__name__ == 'DataFrame') or isinstance(df, list):\n        __backend_agg_dfs.append(df)\n\ndisplay = __backend_agg_display_new\n\ndef __backend_agg_user_code_fn():\n    import base64\n    exec(base64.standard_b64decode(\"aW1wb3J0IHBhbmRhcyBhcyBwZAoKIyBGaWx0ZXIgcm93cyB3aGVyZSAnQWNjb3VudCBMaW5raW5nIENvbXBsZXRlZCcgaXMgJ1RSVUUnCnNoYXJlZF9zdW1tYXJ5ID0gZmlsdGVyZWRfZGZfY29weVtmaWx0ZXJlZF9kZl9jb3B5WydTaGFyZWQgQ29tcGxldGVkJ10gPT0gJ1RydWUnXQoKIyBTZWxlY3Qgb25seSB0aGUgcmVsZXZhbnQgY29sdW1ucwpzaGFyZWRfc3VtbWFyeSA9IHNoYXJlZF9zdW1tYXJ5W1snVHJhZGluZyBQYXJ0bmVyIElEJywgJ1RhYmxlIFR5cGUgSW5nZXN0ZWQnLCAnU2hhcmVkIENvbXBsZXRlZCddXQoKIyBkaXNwbGF5KHNoYXJlZF9zdW1tYXJ5KQojIENyZWF0ZSBhIGNvbWJpbmVkIGtleSBpbiBib3RoIERhdGFGcmFtZXMKYWNjb3VudF9saW5raW5nX3N1bW1hcnlbJ0NvbWJpbmVkIEtleSddID0gYWNjb3VudF9saW5raW5nX3N1bW1hcnlbJ1RyYWRpbmcgUGFydG5lciBJRCddICsgJ18nICsgYWNjb3VudF9saW5raW5nX3N1bW1hcnlbJ1RhYmxlIFR5cGUgSW5nZXN0ZWQnXQpzaGFyZWRfc3VtbWFyeVsnQ29tYmluZWQgS2V5J10gPSBzaGFyZWRfc3VtbWFyeVsnVHJhZGluZyBQYXJ0bmVyIElEJ10gKyAnXycgKyBzaGFyZWRfc3VtbWFyeVsnVGFibGUgVHlwZSBJbmdlc3RlZCddCgojIEV4dHJhY3QgdGhlIGNvbWJpbmVkIGtleXMgdGhhdCBhcmUgaW4gdGhlIGFjY291bnRfbGlua2luZ19zdW1tYXJ5CmFjY291bnRfbGlua2luZ19rZXlzID0gYWNjb3VudF9saW5raW5nX3N1bW1hcnlbJ0NvbWJpbmVkIEtleSddLnVuaXF1ZSgpCgojIEV4Y2x1ZGUgcm93cyB3aGVyZSB0aGUgY29tYmluZWQga2V5IGlzIGluIGFjY291bnRfbGlua2luZ19rZXlzCnNoYXJlZF9zdW1tYXJ5X29ubHkgPSBzaGFyZWRfc3VtbWFyeVt+c2hhcmVkX3N1bW1hcnlbJ0NvbWJpbmVkIEtleSddLmlzaW4oYWNjb3VudF9saW5raW5nX2tleXMpXS5jb3B5KCkKCiMgRHJvcCB0aGUgQ29tYmluZWQgS2V5IGNvbHVtbiBhcyBpdCdzIG5vIGxvbmdlciBuZWVkZWQKc2hhcmVkX3N1bW1hcnlfb25seS5kcm9wKGNvbHVtbnM9WydDb21iaW5lZCBLZXknXSwgaW5wbGFjZT1UcnVlKQoKIyBQcmludCB0aGUgbmV3IERhdGFGcmFtZQpkaXNwbGF5KHNoYXJlZF9zdW1tYXJ5X29ubHkpCgpzaGFyZWRfc3VtbWFyeV9vbmx5X2dyb3VwZWQgPSBzaGFyZWRfc3VtbWFyeV9vbmx5Lmdyb3VwYnkoJ1RhYmxlIFR5cGUgSW5nZXN0ZWQnKS5zaXplKCkucmVzZXRfaW5kZXgobmFtZT0nVG90YWwgT25seSBTaGFyZWQgYW5kIFN0YW5kYXJkaXplZCcpCmRpc3BsYXkoc2hhcmVkX3N1bW1hcnlfb25seV9ncm91cGVkKQ==\").decode())\n\ntry:\n    # run user code\n    __backend_agg_user_code_fn()\n\n    #reset display function\n    display = __backend_agg_display_orig\n\n    if len(__backend_agg_dfs) > 1:\n        # create a temp view\n        if type(__backend_agg_dfs[1]).__module__ == \"databricks.koalas.frame\":\n            # koalas dataframe\n            __backend_agg_dfs[1].to_spark().createOrReplaceTempView(\"DatabricksViewdce0aab\")\n        elif type(__backend_agg_dfs[1]).__module__ == \"pandas.core.frame\" or isinstance(__backend_agg_dfs[1], list):\n            # pandas dataframe\n            spark.createDataFrame(__backend_agg_dfs[1]).createOrReplaceTempView(\"DatabricksViewdce0aab\")\n        else:\n            __backend_agg_dfs[1].createOrReplaceTempView(\"DatabricksViewdce0aab\")\n        #run backend agg\n        display(spark.sql(\"\"\"WITH q AS (select * from DatabricksViewdce0aab) SELECT `Table Type Ingested`,SUM(`Total Only Shared and Standardized`) `column_2f9558cd40`,`Total Only Shared and Standardized` FROM q GROUP BY `Table Type Ingested`,`Total Only Shared and Standardized`\"\"\"))\n    else:\n        displayHTML(\"dataframe no longer exists. If you're using dataframe.display(), use display(dataframe) instead.\")\n\n\nfinally:\n    spark.sql(\"drop view if exists DatabricksViewdce0aab\")\n    display = __backend_agg_display_orig\n    del __backend_agg_display_new\n    del __backend_agg_display_orig\n    del __backend_agg_dfs\n    del __backend_agg_user_code_fn\n\n",
       "commandTitle": "Visualization 1",
       "commandType": "auto",
       "commandVersion": 0,
       "commentThread": [],
       "commentsVisible": false,
       "contentSha256Hex": null,
       "customPlotOptions": {
        "redashChart": [
         {
          "key": "type",
          "value": "CHART"
         },
         {
          "key": "options",
          "value": {
           "alignYAxesAtZero": true,
           "coefficient": 1,
           "columnConfigurationMap": {
            "series": {
             "column": "Table Type Ingested",
             "id": "column_d52f1ead15"
            },
            "x": {
             "column": "Table Type Ingested",
             "id": "column_2f9558cd39"
            },
            "y": [
             {
              "column": "Total Only Shared and Standardized",
              "id": "column_2f9558cd40",
              "transform": "SUM"
             }
            ]
           },
           "dateTimeFormat": "DD/MM/YYYY HH:mm",
           "direction": {
            "type": "counterclockwise"
           },
           "error_y": {
            "type": "data",
            "visible": true
           },
           "globalSeriesType": "column",
           "isAggregationOn": true,
           "legend": {
            "traceorder": "normal"
           },
           "missingValuesAsZero": true,
           "numberFormat": "0,0.[00000]",
           "percentFormat": "0[.]00%",
           "series": {
            "error_y": {
             "type": "data",
             "visible": true
            },
            "stacking": null
           },
           "seriesOptions": {
            "1": {
             "color": "#99DDB4"
            },
            "13": {
             "color": "#8BCAE7"
            },
            "column_2f9558cd40": {
             "color": "#8BCAE7",
             "name": "Total Only Shared and Standardized",
             "yAxis": 0
            }
           },
           "showDataLabels": true,
           "sizemode": "diameter",
           "sortX": true,
           "sortY": true,
           "swappedAxes": false,
           "textFormat": "",
           "useAggregationsUi": true,
           "valuesOptions": {},
           "version": 2,
           "xAxis": {
            "labels": {
             "enabled": true
            },
            "title": {
             "text": "Shared and Standardized Only"
            },
            "type": "-"
           },
           "yAxis": [
            {
             "type": "-"
            },
            {
             "opposite": true,
             "type": "-"
            }
           ]
          }
         }
        ]
       },
       "datasetPreviewNameToCmdIdMap": {},
       "diffDeletes": [],
       "diffInserts": [],
       "displayType": "redashChart",
       "error": null,
       "errorDetails": null,
       "errorSummary": null,
       "errorTraceType": null,
       "finishTime": 0,
       "globalVars": {},
       "guid": "",
       "height": "auto",
       "hideCommandCode": false,
       "hideCommandResult": false,
       "iPythonMetadata": null,
       "inputWidgets": {},
       "isLockedInExamMode": false,
       "latestUser": "a user",
       "latestUserId": null,
       "listResultMetadata": null,
       "metadata": {
        "byteLimit": 2048000,
        "rowLimit": 10000
       },
       "nuid": "ea1b80ba-e852-4b23-89a1-0f41ae1a1b7d",
       "origId": 0,
       "parentHierarchy": [],
       "pivotAggregation": null,
       "pivotColumns": null,
       "position": 13.4375,
       "resultDbfsErrorMessage": null,
       "resultDbfsStatus": "INLINED_IN_TREE",
       "results": null,
       "showCommandTitle": false,
       "startTime": 0,
       "state": "finished",
       "streamStates": {},
       "subcommandOptions": {
        "queryPlan": {
         "groups": [
          {
           "column": "Table Type Ingested",
           "type": "column"
          },
          {
           "column": "Table Type Ingested",
           "type": "column"
          }
         ],
         "selects": [
          {
           "column": "Table Type Ingested",
           "type": "column"
          },
          {
           "alias": "column_2f9558cd40",
           "args": [
            {
             "column": "Total Only Shared and Standardized",
             "type": "column"
            }
           ],
           "function": "SUM",
           "type": "function"
          },
          {
           "column": "Table Type Ingested",
           "type": "column"
          }
         ]
        }
       },
       "submitTime": 0,
       "subtype": "tableResultSubCmd.visualization",
       "tableResultIndex": 1,
       "useConsistentColors": false,
       "version": "CommandV1",
       "width": "auto",
       "workflows": [],
       "xColumns": null,
       "yColumns": null
      }
     },
     "output_type": "display_data"
    }
   ],
   "source": [
    "import pandas as pd\n",
    "\n",
    "# Filter rows where 'Account Linking Completed' is 'TRUE'\n",
    "shared_summary = filtered_df_copy[filtered_df_copy['Shared Completed'] == 'True']\n",
    "\n",
    "# Select only the relevant columns\n",
    "shared_summary = shared_summary[['Trading Partner ID', 'Table Type Ingested', 'Shared Completed']]\n",
    "\n",
    "# display(shared_summary)\n",
    "# Create a combined key in both DataFrames\n",
    "account_linking_summary['Combined Key'] = account_linking_summary['Trading Partner ID'] + '_' + account_linking_summary['Table Type Ingested']\n",
    "shared_summary['Combined Key'] = shared_summary['Trading Partner ID'] + '_' + shared_summary['Table Type Ingested']\n",
    "\n",
    "# Extract the combined keys that are in the account_linking_summary\n",
    "account_linking_keys = account_linking_summary['Combined Key'].unique()\n",
    "\n",
    "# Exclude rows where the combined key is in account_linking_keys\n",
    "shared_summary_only = shared_summary[~shared_summary['Combined Key'].isin(account_linking_keys)].copy()\n",
    "\n",
    "# Drop the Combined Key column as it's no longer needed\n",
    "shared_summary_only.drop(columns=['Combined Key'], inplace=True)\n",
    "\n",
    "# Print the new DataFrame\n",
    "display(shared_summary_only)\n",
    "\n",
    "shared_summary_only_grouped = shared_summary_only.groupby('Table Type Ingested').size().reset_index(name='Total Only Shared and Standardized')\n",
    "display(shared_summary_only_grouped)"
   ]
  },
  {
   "cell_type": "code",
   "execution_count": 0,
   "metadata": {
    "application/vnd.databricks.v1+cell": {
     "cellMetadata": {
      "byteLimit": 2048000,
      "rowLimit": 10000
     },
     "inputWidgets": {},
     "nuid": "70f416f4-480c-47a6-99ce-b23ce5bca2b1",
     "showTitle": false,
     "title": ""
    }
   },
   "outputs": [
    {
     "output_type": "display_data",
     "data": {
      "text/html": [
       "<style scoped>\n",
       "  .table-result-container {\n",
       "    max-height: 300px;\n",
       "    overflow: auto;\n",
       "  }\n",
       "  table, th, td {\n",
       "    border: 1px solid black;\n",
       "    border-collapse: collapse;\n",
       "  }\n",
       "  th, td {\n",
       "    padding: 5px;\n",
       "  }\n",
       "  th {\n",
       "    text-align: left;\n",
       "  }\n",
       "</style><div class='table-result-container'><table class='table-result'><thead style='background-color: white'><tr><th>Trading Partner ID</th><th>Table Type Ingested</th><th>Standardized Completed</th></tr></thead><tbody><tr><td>allina_health_siaw</td><td>837</td><td>True</td></tr><tr><td>ascension_health_riaw</td><td>835</td><td>True</td></tr><tr><td>ascension_health_riaw</td><td>837</td><td>True</td></tr><tr><td>aspirus_system_qiag</td><td>837</td><td>True</td></tr><tr><td>avera_health_qiag</td><td>837</td><td>True</td></tr><tr><td>banner_health_riag</td><td>837</td><td>True</td></tr><tr><td>baptist_health_giaw</td><td>837</td><td>True</td></tr><tr><td>baylor_scott_white_health_uiag</td><td>837</td><td>True</td></tr><tr><td>blanchard_valley_health_system_nqat</td><td>837</td><td>True</td></tr><tr><td>centra_health_wiag</td><td>837</td><td>True</td></tr><tr><td>christus_health_diax</td><td>837</td><td>True</td></tr><tr><td>commonspirit_health1_abcd</td><td>837</td><td>True</td></tr><tr><td>commonspirit_health_bqa0</td><td>837</td><td>True</td></tr><tr><td>community_hospital_of_the_monterey_peninsula_uia5</td><td>837</td><td>True</td></tr><tr><td>cooper_university_hospital_fiah</td><td>837</td><td>True</td></tr><tr><td>coxhealth_xiaw</td><td>837</td><td>True</td></tr><tr><td>duke_health_xiaw</td><td>837</td><td>True</td></tr><tr><td>emory_healthcare_fiaw</td><td>835</td><td>True</td></tr><tr><td>emory_healthcare_fiaw</td><td>837</td><td>True</td></tr><tr><td>garnet_health_oiaw</td><td>837</td><td>True</td></tr><tr><td>intermountain_healthcare_tiag</td><td>835</td><td>True</td></tr><tr><td>intermountain_healthcare_tiag</td><td>837</td><td>True</td></tr><tr><td>lifepoint_health_6iag</td><td>835</td><td>True</td></tr><tr><td>lifepoint_health_6iag</td><td>837</td><td>True</td></tr><tr><td>loma_linda_university_health_9iag</td><td>835</td><td>True</td></tr><tr><td>loma_linda_university_health_9iag</td><td>837</td><td>True</td></tr><tr><td>mainegeneral_health_sqad</td><td>837</td><td>True</td></tr><tr><td>mclaren_health_care_corporation_9iag</td><td>835</td><td>True</td></tr><tr><td>mclaren_health_care_corporation_9iag</td><td>837</td><td>True</td></tr><tr><td>mercy_9qal</td><td>837</td><td>True</td></tr><tr><td>montefiore_health_system_xiag</td><td>837</td><td>True</td></tr><tr><td>nuvance_health_cqam</td><td>837</td><td>True</td></tr><tr><td>ohsu_partners_miah</td><td>837</td><td>True</td></tr><tr><td>pih_health_vqat</td><td>837</td><td>True</td></tr><tr><td>providence_st_joseph_health_viaw</td><td>835</td><td>True</td></tr><tr><td>providence_st_joseph_health_viaw</td><td>837</td><td>True</td></tr><tr><td>ridgeview_medical_center_health_system_tqal</td><td>837</td><td>True</td></tr><tr><td>rwjbarnabas_health_3iak</td><td>837</td><td>True</td></tr><tr><td>scl_health_siaw</td><td>837</td><td>True</td></tr><tr><td>seattle_cancer_care_alliance_miax</td><td>835</td><td>True</td></tr><tr><td>st_lukes_hospital_health_system_7qad</td><td>837</td><td>True</td></tr><tr><td>tampa_general_hospital_biap</td><td>837</td><td>True</td></tr><tr><td>texas_childrens_hospital_wqal</td><td>837</td><td>True</td></tr><tr><td>uchicago_medicine_piaw</td><td>837</td><td>True</td></tr><tr><td>unitypoint_health_kiag</td><td>837</td><td>True</td></tr><tr><td>university_of_arkansas_for_medical_sciences_medical_center_tiap</td><td>837</td><td>True</td></tr><tr><td>university_of_maryland_medical_system_jiag</td><td>835</td><td>True</td></tr><tr><td>university_of_texas_system_niag</td><td>837</td><td>True</td></tr><tr><td>vanderbilt_health_iiaw</td><td>837</td><td>True</td></tr><tr><td>yale_new_haven_health_system_giag</td><td>835</td><td>True</td></tr><tr><td>yale_new_haven_health_system_giag</td><td>837</td><td>True</td></tr></tbody></table></div>"
      ]
     },
     "metadata": {
      "application/vnd.databricks.v1+output": {
       "addedWidgets": {},
       "aggData": [],
       "aggError": "",
       "aggOverflow": false,
       "aggSchema": [],
       "aggSeriesLimitReached": false,
       "aggType": "",
       "arguments": {},
       "columnCustomDisplayInfos": {},
       "data": [
        [
         "allina_health_siaw",
         "837",
         "True"
        ],
        [
         "ascension_health_riaw",
         "835",
         "True"
        ],
        [
         "ascension_health_riaw",
         "837",
         "True"
        ],
        [
         "aspirus_system_qiag",
         "837",
         "True"
        ],
        [
         "avera_health_qiag",
         "837",
         "True"
        ],
        [
         "banner_health_riag",
         "837",
         "True"
        ],
        [
         "baptist_health_giaw",
         "837",
         "True"
        ],
        [
         "baylor_scott_white_health_uiag",
         "837",
         "True"
        ],
        [
         "blanchard_valley_health_system_nqat",
         "837",
         "True"
        ],
        [
         "centra_health_wiag",
         "837",
         "True"
        ],
        [
         "christus_health_diax",
         "837",
         "True"
        ],
        [
         "commonspirit_health1_abcd",
         "837",
         "True"
        ],
        [
         "commonspirit_health_bqa0",
         "837",
         "True"
        ],
        [
         "community_hospital_of_the_monterey_peninsula_uia5",
         "837",
         "True"
        ],
        [
         "cooper_university_hospital_fiah",
         "837",
         "True"
        ],
        [
         "coxhealth_xiaw",
         "837",
         "True"
        ],
        [
         "duke_health_xiaw",
         "837",
         "True"
        ],
        [
         "emory_healthcare_fiaw",
         "835",
         "True"
        ],
        [
         "emory_healthcare_fiaw",
         "837",
         "True"
        ],
        [
         "garnet_health_oiaw",
         "837",
         "True"
        ],
        [
         "intermountain_healthcare_tiag",
         "835",
         "True"
        ],
        [
         "intermountain_healthcare_tiag",
         "837",
         "True"
        ],
        [
         "lifepoint_health_6iag",
         "835",
         "True"
        ],
        [
         "lifepoint_health_6iag",
         "837",
         "True"
        ],
        [
         "loma_linda_university_health_9iag",
         "835",
         "True"
        ],
        [
         "loma_linda_university_health_9iag",
         "837",
         "True"
        ],
        [
         "mainegeneral_health_sqad",
         "837",
         "True"
        ],
        [
         "mclaren_health_care_corporation_9iag",
         "835",
         "True"
        ],
        [
         "mclaren_health_care_corporation_9iag",
         "837",
         "True"
        ],
        [
         "mercy_9qal",
         "837",
         "True"
        ],
        [
         "montefiore_health_system_xiag",
         "837",
         "True"
        ],
        [
         "nuvance_health_cqam",
         "837",
         "True"
        ],
        [
         "ohsu_partners_miah",
         "837",
         "True"
        ],
        [
         "pih_health_vqat",
         "837",
         "True"
        ],
        [
         "providence_st_joseph_health_viaw",
         "835",
         "True"
        ],
        [
         "providence_st_joseph_health_viaw",
         "837",
         "True"
        ],
        [
         "ridgeview_medical_center_health_system_tqal",
         "837",
         "True"
        ],
        [
         "rwjbarnabas_health_3iak",
         "837",
         "True"
        ],
        [
         "scl_health_siaw",
         "837",
         "True"
        ],
        [
         "seattle_cancer_care_alliance_miax",
         "835",
         "True"
        ],
        [
         "st_lukes_hospital_health_system_7qad",
         "837",
         "True"
        ],
        [
         "tampa_general_hospital_biap",
         "837",
         "True"
        ],
        [
         "texas_childrens_hospital_wqal",
         "837",
         "True"
        ],
        [
         "uchicago_medicine_piaw",
         "837",
         "True"
        ],
        [
         "unitypoint_health_kiag",
         "837",
         "True"
        ],
        [
         "university_of_arkansas_for_medical_sciences_medical_center_tiap",
         "837",
         "True"
        ],
        [
         "university_of_maryland_medical_system_jiag",
         "835",
         "True"
        ],
        [
         "university_of_texas_system_niag",
         "837",
         "True"
        ],
        [
         "vanderbilt_health_iiaw",
         "837",
         "True"
        ],
        [
         "yale_new_haven_health_system_giag",
         "835",
         "True"
        ],
        [
         "yale_new_haven_health_system_giag",
         "837",
         "True"
        ]
       ],
       "datasetInfos": [],
       "dbfsResultPath": null,
       "isJsonSchema": true,
       "metadata": {},
       "overflow": false,
       "plotOptions": {
        "customPlotOptions": {},
        "displayType": "table",
        "pivotAggregation": null,
        "pivotColumns": null,
        "xColumns": null,
        "yColumns": null
       },
       "removedWidgets": [],
       "schema": [
        {
         "metadata": "{}",
         "name": "Trading Partner ID",
         "type": "\"string\""
        },
        {
         "metadata": "{}",
         "name": "Table Type Ingested",
         "type": "\"string\""
        },
        {
         "metadata": "{}",
         "name": "Standardized Completed",
         "type": "\"string\""
        }
       ],
       "type": "table"
      }
     },
     "output_type": "display_data"
    }
   ],
   "source": [
    "import pandas as pd\n",
    "\n",
    "# Filter rows where 'Account Linking Completed' is 'TRUE'\n",
    "standardized_summary = filtered_df_copy[filtered_df_copy['Standardized Completed'] == 'True']\n",
    "\n",
    "# Select only the relevant columns\n",
    "standardized_summary = standardized_summary[['Trading Partner ID', 'Table Type Ingested', 'Standardized Completed']]\n",
    "\n",
    "display(standardized_summary)\n",
    "\n"
   ]
  },
  {
   "cell_type": "code",
   "execution_count": 0,
   "metadata": {
    "application/vnd.databricks.v1+cell": {
     "cellMetadata": {
      "byteLimit": 2048000,
      "rowLimit": 10000
     },
     "inputWidgets": {},
     "nuid": "fda3da11-3f94-4bcb-bfb1-cf6a63864903",
     "showTitle": false,
     "title": ""
    }
   },
   "outputs": [
    {
     "output_type": "display_data",
     "data": {
      "text/html": [
       "<style scoped>\n",
       "  .table-result-container {\n",
       "    max-height: 300px;\n",
       "    overflow: auto;\n",
       "  }\n",
       "  table, th, td {\n",
       "    border: 1px solid black;\n",
       "    border-collapse: collapse;\n",
       "  }\n",
       "  th, td {\n",
       "    padding: 5px;\n",
       "  }\n",
       "  th {\n",
       "    text-align: left;\n",
       "  }\n",
       "</style><div class='table-result-container'><table class='table-result'><thead style='background-color: white'><tr><th>Trading Partner ID</th><th>Table Type Ingested</th></tr></thead><tbody><tr><td>adventist_health_tiaw</td><td>835</td></tr><tr><td>alameda_health_system_ria5</td><td>835</td></tr><tr><td>allina_health_siaw</td><td>835</td></tr><tr><td>aspirus_system_qiag</td><td>835</td></tr><tr><td>atrium_health_xiaw</td><td>835</td></tr><tr><td>augusta_university_health_cia5</td><td>835</td></tr><tr><td>augusta_university_health_cia5</td><td>837</td></tr><tr><td>avera_health_qiag</td><td>835</td></tr><tr><td>banner_health_riag</td><td>835</td></tr><tr><td>baptist_health_giaw</td><td>835</td></tr><tr><td>baptist_health_mqac</td><td>835</td></tr><tr><td>beth_israel_lahey_health_dqag</td><td>835</td></tr><tr><td>bjc_healthcare_diag</td><td>835</td></tr><tr><td>blanchard_valley_health_system_nqat</td><td>835</td></tr><tr><td>blount_memorial_hospital_ciah</td><td>835</td></tr><tr><td>cambridge_health_alliance_somerville_hospital_campus_baa1</td><td>835</td></tr><tr><td>centracare_health_system_siag</td><td>835</td></tr><tr><td>cha_hollywood_presbyterian_medical_center_oia5</td><td>835</td></tr><tr><td>christus_health_diax</td><td>835</td></tr><tr><td>city_of_hope_jaav</td><td>835</td></tr><tr><td>commonspirit_health_bqa0</td><td>835</td></tr><tr><td>community_hospital_of_the_monterey_peninsula_uia5</td><td>835</td></tr><tr><td>cooper_university_hospital_fiah</td><td>835</td></tr><tr><td>deaconess_health_system_piaw</td><td>835</td></tr><tr><td>deaconess_health_system_piaw</td><td>837</td></tr><tr><td>duke_health_xiaw</td><td>835</td></tr><tr><td>englewood_hospital_and_medical_center_viax</td><td>835</td></tr><tr><td>hartford_healthcare_yia3</td><td>835</td></tr><tr><td>huntsville_hospital_health_system_ciaw</td><td>837</td></tr><tr><td>inova_wiag</td><td>835</td></tr><tr><td>main_line_health_diaw</td><td>835</td></tr><tr><td>mainegeneral_health_sqad</td><td>835</td></tr><tr><td>mainehealth_iqas</td><td>835</td></tr><tr><td>medstar_health_diag</td><td>835</td></tr><tr><td>memorialcare_health_system_tiaw</td><td>835</td></tr><tr><td>montefiore_health_system_xiag</td><td>835</td></tr><tr><td>multicare_health_system_liaw</td><td>835</td></tr><tr><td>norman_regional_health_system_aiag</td><td>835</td></tr><tr><td>nuvance_health_cqam</td><td>835</td></tr><tr><td>nyu_langone_health_miah</td><td>835</td></tr><tr><td>ohsu_partners_miah</td><td>835</td></tr><tr><td>oneida_health_hospital_0iap</td><td>835</td></tr><tr><td>oneida_health_hospital_0iap</td><td>837</td></tr><tr><td>orlando_health_wiaw</td><td>835</td></tr><tr><td>parkland_health_and_hospital_system_uiah</td><td>835</td></tr><tr><td>penn_state_health_3iag</td><td>835</td></tr><tr><td>pih_health_vqat</td><td>835</td></tr><tr><td>pipeline_health_llc_kqau</td><td>835</td></tr><tr><td>premier_inc</td><td>837</td></tr><tr><td>presbyterian_healthcare_services_3iag</td><td>835</td></tr><tr><td>quorum_health_corporation_qqaz</td><td>835</td></tr><tr><td>quorum_health_corporation_qqaz</td><td>837</td></tr><tr><td>r1_insights</td><td>837</td></tr><tr><td>r1_tran</td><td>835</td></tr><tr><td>riverside_health_system_liag</td><td>835</td></tr><tr><td>rush_university_system_for_health_iqa1</td><td>835</td></tr><tr><td>rwjbarnabas_health_3iak</td><td>835</td></tr><tr><td>seattle_childrens_hospital_riax</td><td>835</td></tr><tr><td>sinai_health_system_2iag</td><td>835</td></tr><tr><td>st_lukes_health_system_5qad</td><td>835</td></tr><tr><td>steward_health_care_system_niag</td><td>835</td></tr><tr><td>sutter_health_wiaw</td><td>835</td></tr><tr><td>sutter_health_wiaw</td><td>837</td></tr><tr><td>tampa_general_hospital_biap</td><td>835</td></tr><tr><td>texas_childrens_hospital_wqal</td><td>835</td></tr><tr><td>trinity_health_uiaw</td><td>835</td></tr><tr><td>uchicago_medicine_piaw</td><td>835</td></tr><tr><td>umc_health_system_lqa1</td><td>835</td></tr><tr><td>university_of_arkansas_for_medical_sciences_medical_center_tiap</td><td>835</td></tr><tr><td>university_of_california_health_oqa0</td><td>835</td></tr><tr><td>university_of_pittsburgh_medical_center_yiag</td><td>835</td></tr><tr><td>university_of_texas_system_niag</td><td>835</td></tr><tr><td>uw_medicine_siai</td><td>835</td></tr><tr><td>vanderbilt_health_iiaw</td><td>835</td></tr><tr><td>virtua_health_tiaw</td><td>837</td></tr></tbody></table></div>"
      ]
     },
     "metadata": {
      "application/vnd.databricks.v1+output": {
       "addedWidgets": {},
       "aggData": [],
       "aggError": "",
       "aggOverflow": false,
       "aggSchema": [],
       "aggSeriesLimitReached": false,
       "aggType": "",
       "arguments": {},
       "columnCustomDisplayInfos": {},
       "data": [
        [
         "adventist_health_tiaw",
         "835"
        ],
        [
         "alameda_health_system_ria5",
         "835"
        ],
        [
         "allina_health_siaw",
         "835"
        ],
        [
         "aspirus_system_qiag",
         "835"
        ],
        [
         "atrium_health_xiaw",
         "835"
        ],
        [
         "augusta_university_health_cia5",
         "835"
        ],
        [
         "augusta_university_health_cia5",
         "837"
        ],
        [
         "avera_health_qiag",
         "835"
        ],
        [
         "banner_health_riag",
         "835"
        ],
        [
         "baptist_health_giaw",
         "835"
        ],
        [
         "baptist_health_mqac",
         "835"
        ],
        [
         "beth_israel_lahey_health_dqag",
         "835"
        ],
        [
         "bjc_healthcare_diag",
         "835"
        ],
        [
         "blanchard_valley_health_system_nqat",
         "835"
        ],
        [
         "blount_memorial_hospital_ciah",
         "835"
        ],
        [
         "cambridge_health_alliance_somerville_hospital_campus_baa1",
         "835"
        ],
        [
         "centracare_health_system_siag",
         "835"
        ],
        [
         "cha_hollywood_presbyterian_medical_center_oia5",
         "835"
        ],
        [
         "christus_health_diax",
         "835"
        ],
        [
         "city_of_hope_jaav",
         "835"
        ],
        [
         "commonspirit_health_bqa0",
         "835"
        ],
        [
         "community_hospital_of_the_monterey_peninsula_uia5",
         "835"
        ],
        [
         "cooper_university_hospital_fiah",
         "835"
        ],
        [
         "deaconess_health_system_piaw",
         "835"
        ],
        [
         "deaconess_health_system_piaw",
         "837"
        ],
        [
         "duke_health_xiaw",
         "835"
        ],
        [
         "englewood_hospital_and_medical_center_viax",
         "835"
        ],
        [
         "hartford_healthcare_yia3",
         "835"
        ],
        [
         "huntsville_hospital_health_system_ciaw",
         "837"
        ],
        [
         "inova_wiag",
         "835"
        ],
        [
         "main_line_health_diaw",
         "835"
        ],
        [
         "mainegeneral_health_sqad",
         "835"
        ],
        [
         "mainehealth_iqas",
         "835"
        ],
        [
         "medstar_health_diag",
         "835"
        ],
        [
         "memorialcare_health_system_tiaw",
         "835"
        ],
        [
         "montefiore_health_system_xiag",
         "835"
        ],
        [
         "multicare_health_system_liaw",
         "835"
        ],
        [
         "norman_regional_health_system_aiag",
         "835"
        ],
        [
         "nuvance_health_cqam",
         "835"
        ],
        [
         "nyu_langone_health_miah",
         "835"
        ],
        [
         "ohsu_partners_miah",
         "835"
        ],
        [
         "oneida_health_hospital_0iap",
         "835"
        ],
        [
         "oneida_health_hospital_0iap",
         "837"
        ],
        [
         "orlando_health_wiaw",
         "835"
        ],
        [
         "parkland_health_and_hospital_system_uiah",
         "835"
        ],
        [
         "penn_state_health_3iag",
         "835"
        ],
        [
         "pih_health_vqat",
         "835"
        ],
        [
         "pipeline_health_llc_kqau",
         "835"
        ],
        [
         "premier_inc",
         "837"
        ],
        [
         "presbyterian_healthcare_services_3iag",
         "835"
        ],
        [
         "quorum_health_corporation_qqaz",
         "835"
        ],
        [
         "quorum_health_corporation_qqaz",
         "837"
        ],
        [
         "r1_insights",
         "837"
        ],
        [
         "r1_tran",
         "835"
        ],
        [
         "riverside_health_system_liag",
         "835"
        ],
        [
         "rush_university_system_for_health_iqa1",
         "835"
        ],
        [
         "rwjbarnabas_health_3iak",
         "835"
        ],
        [
         "seattle_childrens_hospital_riax",
         "835"
        ],
        [
         "sinai_health_system_2iag",
         "835"
        ],
        [
         "st_lukes_health_system_5qad",
         "835"
        ],
        [
         "steward_health_care_system_niag",
         "835"
        ],
        [
         "sutter_health_wiaw",
         "835"
        ],
        [
         "sutter_health_wiaw",
         "837"
        ],
        [
         "tampa_general_hospital_biap",
         "835"
        ],
        [
         "texas_childrens_hospital_wqal",
         "835"
        ],
        [
         "trinity_health_uiaw",
         "835"
        ],
        [
         "uchicago_medicine_piaw",
         "835"
        ],
        [
         "umc_health_system_lqa1",
         "835"
        ],
        [
         "university_of_arkansas_for_medical_sciences_medical_center_tiap",
         "835"
        ],
        [
         "university_of_california_health_oqa0",
         "835"
        ],
        [
         "university_of_pittsburgh_medical_center_yiag",
         "835"
        ],
        [
         "university_of_texas_system_niag",
         "835"
        ],
        [
         "uw_medicine_siai",
         "835"
        ],
        [
         "vanderbilt_health_iiaw",
         "835"
        ],
        [
         "virtua_health_tiaw",
         "837"
        ]
       ],
       "datasetInfos": [],
       "dbfsResultPath": null,
       "isJsonSchema": true,
       "metadata": {},
       "overflow": false,
       "plotOptions": {
        "customPlotOptions": {},
        "displayType": "table",
        "pivotAggregation": null,
        "pivotColumns": null,
        "xColumns": null,
        "yColumns": null
       },
       "removedWidgets": [],
       "schema": [
        {
         "metadata": "{}",
         "name": "Trading Partner ID",
         "type": "\"string\""
        },
        {
         "metadata": "{}",
         "name": "Table Type Ingested",
         "type": "\"string\""
        }
       ],
       "type": "table"
      }
     },
     "output_type": "display_data"
    }
   ],
   "source": [
    "import pandas as pd\n",
    "\n",
    "# Filter rows where 'Standardized Completed' is not 'TRUE'\n",
    "ingested_only = filtered_df_copy[filtered_df_copy['Standardized Completed'] != 'True']\n",
    "ingested_only = ingested_only[['Trading Partner ID', 'Table Type Ingested']]\n",
    "\n",
    "# Print the new DataFrame\n",
    "display(ingested_only)\n",
    "\n"
   ]
  },
  {
   "cell_type": "code",
   "execution_count": 0,
   "metadata": {
    "application/vnd.databricks.v1+cell": {
     "cellMetadata": {
      "byteLimit": 2048000,
      "rowLimit": 10000
     },
     "inputWidgets": {},
     "nuid": "2d6669b4-e3ea-4d90-a1a4-639dd1e98a08",
     "showTitle": false,
     "title": ""
    }
   },
   "outputs": [
    {
     "output_type": "display_data",
     "data": {
      "text/html": [
       "<style scoped>\n",
       "  .table-result-container {\n",
       "    max-height: 300px;\n",
       "    overflow: auto;\n",
       "  }\n",
       "  table, th, td {\n",
       "    border: 1px solid black;\n",
       "    border-collapse: collapse;\n",
       "  }\n",
       "  th, td {\n",
       "    padding: 5px;\n",
       "  }\n",
       "  th {\n",
       "    text-align: left;\n",
       "  }\n",
       "</style><div class='table-result-container'><table class='table-result'><thead style='background-color: white'><tr><th>Table Type Ingested</th><th>Total Only Ingested</th></tr></thead><tbody><tr><td>835</td><td>66</td></tr><tr><td>837</td><td>9</td></tr></tbody></table></div>"
      ]
     },
     "metadata": {
      "application/vnd.databricks.v1+output": {
       "addedWidgets": {},
       "aggData": [],
       "aggError": "",
       "aggOverflow": false,
       "aggSchema": [],
       "aggSeriesLimitReached": false,
       "aggType": "",
       "arguments": {},
       "columnCustomDisplayInfos": {},
       "data": [
        [
         "835",
         66
        ],
        [
         "837",
         9
        ]
       ],
       "datasetInfos": [],
       "dbfsResultPath": null,
       "isJsonSchema": true,
       "metadata": {},
       "overflow": false,
       "plotOptions": {
        "customPlotOptions": {},
        "displayType": "table",
        "pivotAggregation": null,
        "pivotColumns": null,
        "xColumns": null,
        "yColumns": null
       },
       "removedWidgets": [],
       "schema": [
        {
         "metadata": "{}",
         "name": "Table Type Ingested",
         "type": "\"string\""
        },
        {
         "metadata": "{}",
         "name": "Total Only Ingested",
         "type": "\"long\""
        }
       ],
       "type": "table"
      }
     },
     "output_type": "display_data"
    },
    {
     "output_type": "display_data",
     "data": {
      "text/html": [
       "<style scoped>\n",
       "  .table-result-container {\n",
       "    max-height: 300px;\n",
       "    overflow: auto;\n",
       "  }\n",
       "  table, th, td {\n",
       "    border: 1px solid black;\n",
       "    border-collapse: collapse;\n",
       "  }\n",
       "  th, td {\n",
       "    padding: 5px;\n",
       "  }\n",
       "  th {\n",
       "    text-align: left;\n",
       "  }\n",
       "</style><div class='table-result-container'><table class='table-result'><thead style='background-color: white'><tr><th>Table Type Ingested</th><th>Total Only Ingested</th></tr></thead><tbody><tr><td>835</td><td>66</td></tr><tr><td>837</td><td>9</td></tr></tbody></table></div>"
      ]
     },
     "metadata": {
      "application/vnd.databricks.v1+output": {
       "addedWidgets": {},
       "aggData": [],
       "aggError": "",
       "aggOverflow": false,
       "aggSchema": [],
       "aggSeriesLimitReached": false,
       "aggType": "",
       "arguments": {},
       "columnCustomDisplayInfos": {},
       "data": [
        [
         "835",
         66
        ],
        [
         "837",
         9
        ]
       ],
       "datasetInfos": [],
       "dbfsResultPath": null,
       "isJsonSchema": true,
       "metadata": {},
       "overflow": false,
       "plotOptions": {
        "customPlotOptions": {},
        "displayType": "table",
        "pivotAggregation": null,
        "pivotColumns": null,
        "xColumns": null,
        "yColumns": null
       },
       "removedWidgets": [],
       "schema": [
        {
         "metadata": "{}",
         "name": "Table Type Ingested",
         "type": "\"string\""
        },
        {
         "metadata": "{}",
         "name": "Total Only Ingested",
         "type": "\"long\""
        }
       ],
       "type": "table"
      }
     },
     "output_type": "display_data"
    },
    {
     "output_type": "display_data",
     "data": {
      "text/plain": [
       "Databricks visualization. Run in Databricks to view."
      ]
     },
     "metadata": {
      "application/vnd.databricks.v1.subcommand+json": {
       "baseErrorDetails": null,
       "bindings": {},
       "collapsed": false,
       "command": "%python\n__backend_agg_display_orig = display\n__backend_agg_dfs = []\ndef __backend_agg_display_new(df):\n    __backend_agg_df_modules = [\"pandas.core.frame\", \"databricks.koalas.frame\", \"pyspark.sql.dataframe\", \"pyspark.pandas.frame\", \"pyspark.sql.connect.dataframe\"]\n    if (type(df).__module__ in __backend_agg_df_modules and type(df).__name__ == 'DataFrame') or isinstance(df, list):\n        __backend_agg_dfs.append(df)\n\ndisplay = __backend_agg_display_new\n\ndef __backend_agg_user_code_fn():\n    import base64\n    exec(base64.standard_b64decode(\"aW5nZXN0ZWRfb25seV9ncm91cGVkID0gaW5nZXN0ZWRfb25seS5ncm91cGJ5KCdUYWJsZSBUeXBlIEluZ2VzdGVkJykuc2l6ZSgpLnJlc2V0X2luZGV4KG5hbWU9J1RvdGFsIE9ubHkgSW5nZXN0ZWQnKQpkaXNwbGF5KGluZ2VzdGVkX29ubHlfZ3JvdXBlZCkKZGlzcGxheShpbmdlc3RlZF9vbmx5X2dyb3VwZWQp\").decode())\n\ntry:\n    # run user code\n    __backend_agg_user_code_fn()\n\n    #reset display function\n    display = __backend_agg_display_orig\n\n    if len(__backend_agg_dfs) > 1:\n        # create a temp view\n        if type(__backend_agg_dfs[1]).__module__ == \"databricks.koalas.frame\":\n            # koalas dataframe\n            __backend_agg_dfs[1].to_spark().createOrReplaceTempView(\"DatabricksViewf43f24e\")\n        elif type(__backend_agg_dfs[1]).__module__ == \"pandas.core.frame\" or isinstance(__backend_agg_dfs[1], list):\n            # pandas dataframe\n            spark.createDataFrame(__backend_agg_dfs[1]).createOrReplaceTempView(\"DatabricksViewf43f24e\")\n        else:\n            __backend_agg_dfs[1].createOrReplaceTempView(\"DatabricksViewf43f24e\")\n        #run backend agg\n        display(spark.sql(\"\"\"WITH q AS (select * from DatabricksViewf43f24e) SELECT `Table Type Ingested`,SUM(`Total Only Ingested`) `column_d52f1ead2`,`Table Type Ingested` FROM q GROUP BY `Table Type Ingested`\"\"\"))\n    else:\n        displayHTML(\"dataframe no longer exists. If you're using dataframe.display(), use display(dataframe) instead.\")\n\n\nfinally:\n    spark.sql(\"drop view if exists DatabricksViewf43f24e\")\n    display = __backend_agg_display_orig\n    del __backend_agg_display_new\n    del __backend_agg_display_orig\n    del __backend_agg_dfs\n    del __backend_agg_user_code_fn\n\n",
       "commandTitle": "Visualization 1",
       "commandType": "auto",
       "commandVersion": 0,
       "commentThread": [],
       "commentsVisible": false,
       "contentSha256Hex": null,
       "customPlotOptions": {
        "redashChart": [
         {
          "key": "type",
          "value": "CHART"
         },
         {
          "key": "options",
          "value": {
           "alignYAxesAtZero": true,
           "coefficient": 1,
           "columnConfigurationMap": {
            "series": {
             "column": "Table Type Ingested",
             "id": "column_d52f1ead13"
            },
            "x": {
             "column": "Table Type Ingested",
             "id": "column_d52f1ead1"
            },
            "y": [
             {
              "column": "Total Only Ingested",
              "id": "column_d52f1ead2",
              "transform": "SUM"
             }
            ]
           },
           "dateTimeFormat": "DD/MM/YYYY HH:mm",
           "direction": {
            "type": "counterclockwise"
           },
           "error_y": {
            "type": "data",
            "visible": true
           },
           "globalSeriesType": "column",
           "hideXAxis": false,
           "isAggregationOn": true,
           "legend": {
            "traceorder": "normal"
           },
           "missingValuesAsZero": true,
           "numberFormat": "0,0.[00000]",
           "percentFormat": "0[.]00%",
           "series": {
            "error_y": {
             "type": "data",
             "visible": true
            },
            "stacking": null
           },
           "seriesOptions": {
            "column_d52f1ead2": {
             "name": "Total Only Ingested",
             "yAxis": 0
            }
           },
           "showDataLabels": true,
           "sizemode": "diameter",
           "sortX": true,
           "sortY": true,
           "swappedAxes": false,
           "textFormat": "",
           "useAggregationsUi": true,
           "valuesOptions": {},
           "version": 2,
           "xAxis": {
            "labels": {
             "enabled": true
            },
            "title": {
             "text": "Table Type Ingested Only"
            },
            "type": "-"
           },
           "yAxis": [
            {
             "type": "-"
            },
            {
             "opposite": true,
             "type": "-"
            }
           ]
          }
         }
        ]
       },
       "datasetPreviewNameToCmdIdMap": {},
       "diffDeletes": [],
       "diffInserts": [],
       "displayType": "redashChart",
       "error": null,
       "errorDetails": null,
       "errorSummary": null,
       "errorTraceType": null,
       "finishTime": 0,
       "globalVars": {},
       "guid": "",
       "height": "auto",
       "hideCommandCode": false,
       "hideCommandResult": false,
       "iPythonMetadata": null,
       "inputWidgets": {},
       "isLockedInExamMode": false,
       "latestUser": "a user",
       "latestUserId": null,
       "listResultMetadata": null,
       "metadata": {},
       "nuid": "ee6f5327-50b9-4e7f-815f-4a09b84ec9de",
       "origId": 0,
       "parentHierarchy": [],
       "pivotAggregation": null,
       "pivotColumns": null,
       "position": 15.9375,
       "resultDbfsErrorMessage": null,
       "resultDbfsStatus": "INLINED_IN_TREE",
       "results": null,
       "showCommandTitle": false,
       "startTime": 0,
       "state": "input",
       "streamStates": {},
       "subcommandOptions": {
        "queryPlan": {
         "groups": [
          {
           "column": "Table Type Ingested",
           "type": "column"
          },
          {
           "column": "Table Type Ingested",
           "type": "column"
          }
         ],
         "selects": [
          {
           "column": "Table Type Ingested",
           "type": "column"
          },
          {
           "alias": "column_d52f1ead2",
           "args": [
            {
             "column": "Total Only Ingested",
             "type": "column"
            }
           ],
           "function": "SUM",
           "type": "function"
          },
          {
           "column": "Table Type Ingested",
           "type": "column"
          }
         ]
        }
       },
       "submitTime": 0,
       "subtype": "tableResultSubCmd.visualization",
       "tableResultIndex": 1,
       "useConsistentColors": false,
       "version": "CommandV1",
       "width": "auto",
       "workflows": [],
       "xColumns": null,
       "yColumns": null
      }
     },
     "output_type": "display_data"
    }
   ],
   "source": [
    "ingested_only_grouped = ingested_only.groupby('Table Type Ingested').size().reset_index(name='Total Only Ingested')\n",
    "display(ingested_only_grouped)\n",
    "display(ingested_only_grouped)"
   ]
  }
 ],
 "metadata": {
  "application/vnd.databricks.v1+notebook": {
   "dashboards": [
    {
     "elements": [],
     "globalVars": {},
     "guid": "",
     "layoutOption": {
      "grid": true,
      "stack": true
     },
     "nuid": "601ba004-08e7-40bc-b3cb-5c02a70cfdaa",
     "origId": 3963854653167517,
     "title": "Untitled",
     "version": "DashboardViewV1",
     "width": 1440
    },
    {
     "elements": [
      {
       "dashboardResultIndex": null,
       "elementNUID": "62115a85-c368-4666-8094-2bc60334f951",
       "elementType": "command",
       "guid": "49ad5e49-65d9-41a6-b196-3b8d7bb455c5",
       "options": {
        "autoScaleImg": false,
        "scale": 0,
        "showTitle": false,
        "titleAlign": "center"
       },
       "position": {
        "height": 5,
        "width": 12,
        "x": 12,
        "y": 5,
        "z": null
       },
       "resultIndex": null
      },
      {
       "dashboardResultIndex": null,
       "elementNUID": "ee6f5327-50b9-4e7f-815f-4a09b84ec9de",
       "elementType": "command",
       "guid": "4f4b31ee-b570-4106-9753-438e7c6d71d5",
       "options": null,
       "position": {
        "height": 5,
        "width": 12,
        "x": 0,
        "y": 5,
        "z": null
       },
       "resultIndex": null
      },
      {
       "dashboardResultIndex": null,
       "elementNUID": "ea1b80ba-e852-4b23-89a1-0f41ae1a1b7d",
       "elementType": "command",
       "guid": "579b4f21-8357-4de1-8843-35cc128500a8",
       "options": null,
       "position": {
        "height": 5,
        "width": 12,
        "x": 12,
        "y": 0,
        "z": null
       },
       "resultIndex": null
      },
      {
       "dashboardResultIndex": 0,
       "elementNUID": "0959ef40-1ccc-4b14-a6be-aa096ab77401",
       "elementType": "command",
       "guid": "9d6cd120-1b96-474c-a8b1-4492a0e684bc",
       "options": null,
       "position": {
        "height": 6,
        "width": 24,
        "x": 0,
        "y": 10,
        "z": null
       },
       "resultIndex": null
      },
      {
       "dashboardResultIndex": null,
       "elementNUID": "98874d5b-53b6-4c03-b141-e935531e2b0b",
       "elementType": "command",
       "guid": "c5e87c43-9cc9-4dae-ae08-a6f7eef83622",
       "options": null,
       "position": {
        "height": 5,
        "width": 12,
        "x": 0,
        "y": 0,
        "z": null
       },
       "resultIndex": null
      }
     ],
     "globalVars": {},
     "guid": "",
     "layoutOption": {
      "grid": true,
      "stack": true
     },
     "nuid": "15c60027-196d-406d-a921-061fcf313de6",
     "origId": 4164437518403503,
     "title": "Client 837 and 835 Statuses",
     "version": "DashboardViewV1",
     "width": 1600
    }
   ],
   "environmentMetadata": null,
   "language": "python",
   "notebookMetadata": {
    "pythonIndentUnit": 4
   },
   "notebookName": "Status of Clients 835 and 837 tables",
   "widgets": {}
  }
 },
 "nbformat": 4,
 "nbformat_minor": 0
}
